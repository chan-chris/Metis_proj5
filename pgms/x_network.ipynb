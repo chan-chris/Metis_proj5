{
 "cells": [
  {
   "cell_type": "markdown",
   "metadata": {},
   "source": [
    "## pitchfork_review_anlaysis\n",
    "**Program:** 01_pitchfork_review_analysis.ipynb <br>\n",
    "**Created by:** Chris Chan<br>\n",
    "**Date:** Mar 16, 2021<br>\n",
    "**Purpose:** <br>\n",
    ". The purpose of the project is to develop a modern jazz artist recommender/discovery based on sub-genres or non-jazz artists somehow linked to the jazz album via pitchfork review text. Upon inspection of reviews (namely jazz reviews) there is high chance of other non-jazz artist referenced to shed light on some similarity. The idea is to take these links as features or search terms in a rec system that would link to the jazz artist. The jazz artists would be cmpared as well given various topics modeled from all of the reviews.\n",
    "\n",
    ". 1. bring in data, count vectorize, etc. <br>\n",
    ". 2. preprocessing - clean, lemmatize <br>\n",
    ". 3. explore:<br>\n",
    "    . Basic EDA\n",
    "    . try topic modeling<br>\n",
    "    . sentiment analysis<br>\n",
    "    . combining the two<br>"
   ]
  },
  {
   "cell_type": "code",
   "execution_count": 1,
   "metadata": {},
   "outputs": [],
   "source": [
    "import pandas as pd\n",
    "from sklearn.feature_extraction.text import CountVectorizer \n",
    "from sklearn.decomposition import NMF"
   ]
  },
  {
   "cell_type": "code",
   "execution_count": 2,
   "metadata": {},
   "outputs": [],
   "source": [
    "import glob\n",
    "import os\n",
    "from collections import defaultdict\n",
    "import re\n",
    "import numpy as np\n",
    "from sklearn.model_selection import train_test_split\n",
    "import pandas as pd"
   ]
  },
  {
   "cell_type": "code",
   "execution_count": 3,
   "metadata": {},
   "outputs": [],
   "source": [
    "import nltk\n",
    "import os\n",
    "import spacy\n",
    "import re\n",
    "import string\n",
    "import pickle\n",
    "from itertools import cycle\n",
    "import matplotlib.pyplot as plt\n",
    "from nltk import stem\n",
    "%matplotlib inline\n",
    "%config InlineBackend.figure_formats = ['retina']\n",
    "from nltk.tokenize import word_tokenize, sent_tokenize, MWETokenizer\n",
    "from gensim import corpora, models, similarities, matutils\n",
    "from sklearn.decomposition import TruncatedSVD, NMF\n",
    "from corextopic import corextopic, vis_topic\n",
    "from sklearn.feature_extraction.text import CountVectorizer\n",
    "from sklearn.feature_extraction.text import TfidfVectorizer\n",
    "from sklearn.manifold import TSNE\n",
    "import plotly.graph_objects as go\n",
    "import scattertext as st"
   ]
  },
  {
   "cell_type": "code",
   "execution_count": 4,
   "metadata": {},
   "outputs": [],
   "source": [
    "from nltk.sentiment.vader import SentimentIntensityAnalyzer\n",
    "from textblob import TextBlob"
   ]
  },
  {
   "cell_type": "markdown",
   "metadata": {},
   "source": [
    "## Testing"
   ]
  },
  {
   "cell_type": "code",
   "execution_count": 2,
   "metadata": {},
   "outputs": [
    {
     "data": {
      "text/html": [
       "<div>\n",
       "<style scoped>\n",
       "    .dataframe tbody tr th:only-of-type {\n",
       "        vertical-align: middle;\n",
       "    }\n",
       "\n",
       "    .dataframe tbody tr th {\n",
       "        vertical-align: top;\n",
       "    }\n",
       "\n",
       "    .dataframe thead th {\n",
       "        text-align: right;\n",
       "    }\n",
       "</style>\n",
       "<table border=\"1\" class=\"dataframe\">\n",
       "  <thead>\n",
       "    <tr style=\"text-align: right;\">\n",
       "      <th></th>\n",
       "      <th>from</th>\n",
       "      <th>to</th>\n",
       "    </tr>\n",
       "  </thead>\n",
       "  <tbody>\n",
       "    <tr>\n",
       "      <th>0</th>\n",
       "      <td>A</td>\n",
       "      <td>D</td>\n",
       "    </tr>\n",
       "    <tr>\n",
       "      <th>1</th>\n",
       "      <td>B</td>\n",
       "      <td>A</td>\n",
       "    </tr>\n",
       "    <tr>\n",
       "      <th>2</th>\n",
       "      <td>C</td>\n",
       "      <td>E</td>\n",
       "    </tr>\n",
       "    <tr>\n",
       "      <th>3</th>\n",
       "      <td>A</td>\n",
       "      <td>C</td>\n",
       "    </tr>\n",
       "  </tbody>\n",
       "</table>\n",
       "</div>"
      ],
      "text/plain": [
       "  from to\n",
       "0    A  D\n",
       "1    B  A\n",
       "2    C  E\n",
       "3    A  C"
      ]
     },
     "execution_count": 2,
     "metadata": {},
     "output_type": "execute_result"
    }
   ],
   "source": [
    "# libraries\n",
    "import pandas as pd\n",
    "import numpy as np\n",
    "import networkx as nx\n",
    "import matplotlib.pyplot as plt\n",
    " \n",
    "# Build a dataframe with 4 connections\n",
    "df = pd.DataFrame({ 'from':['A', 'B', 'C','A'], 'to':['D', 'A', 'E','C']})\n",
    "df"
   ]
  },
  {
   "cell_type": "code",
   "execution_count": 3,
   "metadata": {},
   "outputs": [
    {
     "data": {
      "text/plain": [
       "<networkx.classes.graph.Graph at 0x7faa84e665e0>"
      ]
     },
     "execution_count": 3,
     "metadata": {},
     "output_type": "execute_result"
    }
   ],
   "source": [
    "# Build your graph\n",
    "G=nx.from_pandas_edgelist(df, 'from', 'to')"
   ]
  },
  {
   "cell_type": "code",
   "execution_count": 4,
   "metadata": {},
   "outputs": [
    {
     "data": {
      "image/png": "[encoded data removed]",
      "text/plain": [
       "<Figure size 432x288 with 1 Axes>"
      ]
     },
     "metadata": {},
     "output_type": "display_data"
    }
   ],
   "source": [
    "# Plot it\n",
    "nx.draw(G, with_labels=True)\n",
    "plt.show()"
   ]
  },
  {
   "cell_type": "code",
   "execution_count": null,
   "metadata": {},
   "outputs": [],
   "source": []
  },
  {
   "cell_type": "code",
   "execution_count": null,
   "metadata": {},
   "outputs": [],
   "source": []
  },
  {
   "cell_type": "code",
   "execution_count": null,
   "metadata": {},
   "outputs": [],
   "source": []
  },
  {
   "cell_type": "code",
   "execution_count": null,
   "metadata": {},
   "outputs": [],
   "source": []
  },
  {
   "cell_type": "code",
   "execution_count": null,
   "metadata": {},
   "outputs": [],
   "source": []
  },
  {
   "cell_type": "code",
   "execution_count": null,
   "metadata": {},
   "outputs": [],
   "source": []
  },
  {
   "cell_type": "code",
   "execution_count": null,
   "metadata": {},
   "outputs": [],
   "source": []
  },
  {
   "cell_type": "code",
   "execution_count": null,
   "metadata": {},
   "outputs": [],
   "source": []
  },
  {
   "cell_type": "code",
   "execution_count": null,
   "metadata": {},
   "outputs": [],
   "source": []
  },
  {
   "cell_type": "code",
   "execution_count": null,
   "metadata": {},
   "outputs": [],
   "source": []
  },
  {
   "cell_type": "code",
   "execution_count": null,
   "metadata": {},
   "outputs": [],
   "source": []
  },
  {
   "cell_type": "code",
   "execution_count": null,
   "metadata": {},
   "outputs": [],
   "source": []
  },
  {
   "cell_type": "code",
   "execution_count": null,
   "metadata": {},
   "outputs": [],
   "source": []
  },
  {
   "cell_type": "code",
   "execution_count": null,
   "metadata": {},
   "outputs": [],
   "source": []
  },
  {
   "cell_type": "code",
   "execution_count": null,
   "metadata": {},
   "outputs": [],
   "source": []
  },
  {
   "cell_type": "code",
   "execution_count": null,
   "metadata": {},
   "outputs": [],
   "source": []
  },
  {
   "cell_type": "code",
   "execution_count": null,
   "metadata": {},
   "outputs": [],
   "source": []
  },
  {
   "cell_type": "code",
   "execution_count": null,
   "metadata": {},
   "outputs": [],
   "source": []
  },
  {
   "cell_type": "markdown",
   "metadata": {},
   "source": [
    "## Read in data"
   ]
  },
  {
   "cell_type": "markdown",
   "metadata": {},
   "source": [
    "**We read through all the docments and build a list-of-list of words:**"
   ]
  },
  {
   "cell_type": "code",
   "execution_count": 121,
   "metadata": {},
   "outputs": [],
   "source": [
    "df = pd.read_csv('/Users/chrischan/Documents/02_Class/Metis/bootcamp/githubrepo/Metis_proj5/data/pitchfork_jazz_clean.csv')"
   ]
  },
  {
   "cell_type": "code",
   "execution_count": 122,
   "metadata": {},
   "outputs": [
    {
     "data": {
      "text/html": [
       "<div>\n",
       "<style scoped>\n",
       "    .dataframe tbody tr th:only-of-type {\n",
       "        vertical-align: middle;\n",
       "    }\n",
       "\n",
       "    .dataframe tbody tr th {\n",
       "        vertical-align: top;\n",
       "    }\n",
       "\n",
       "    .dataframe thead th {\n",
       "        text-align: right;\n",
       "    }\n",
       "</style>\n",
       "<table border=\"1\" class=\"dataframe\">\n",
       "  <thead>\n",
       "    <tr style=\"text-align: right;\">\n",
       "      <th></th>\n",
       "      <th>Unnamed: 0</th>\n",
       "      <th>artist</th>\n",
       "      <th>album</th>\n",
       "      <th>score</th>\n",
       "      <th>genre</th>\n",
       "      <th>review</th>\n",
       "      <th>othercat</th>\n",
       "      <th>othercat2</th>\n",
       "      <th>best</th>\n",
       "      <th>date</th>\n",
       "      <th>testing_formula</th>\n",
       "    </tr>\n",
       "  </thead>\n",
       "  <tbody>\n",
       "    <tr>\n",
       "      <th>0</th>\n",
       "      <td>0</td>\n",
       "      <td>Sam Gendel</td>\n",
       "      <td>Fresh Bread</td>\n",
       "      <td>6.5</td>\n",
       "      <td>Jazz</td>\n",
       "      <td>Fifty-two tracks deep, this archival compendiu...</td>\n",
       "      <td>['Skip to content', 'All Results', 'Home', 'Ne...</td>\n",
       "      <td>Sam Gendel, Jay Balfour,    Sam Gendel, cover...</td>\n",
       "      <td>0</td>\n",
       "      <td>March 4 2021</td>\n",
       "      <td>Skip to content, All Results, Home, News, Revi...</td>\n",
       "    </tr>\n",
       "    <tr>\n",
       "      <th>1</th>\n",
       "      <td>1</td>\n",
       "      <td>Femi Kuti / Made Kuti</td>\n",
       "      <td>Legacy +</td>\n",
       "      <td>7.8</td>\n",
       "      <td>Global</td>\n",
       "      <td>On the duo’s generation-spanning double album,...</td>\n",
       "      <td>['Skip to content', 'All Results', 'Home', 'Ne...</td>\n",
       "      <td>Femi Kuti, Made Kuti, Joey Akan, Global,    F...</td>\n",
       "      <td>0</td>\n",
       "      <td>February 20 2021</td>\n",
       "      <td>Skip to content, All Results, Home, News, Revi...</td>\n",
       "    </tr>\n",
       "    <tr>\n",
       "      <th>2</th>\n",
       "      <td>2</td>\n",
       "      <td>Archie Shepp / Jason Moran</td>\n",
       "      <td>Let My People Go</td>\n",
       "      <td>7.5</td>\n",
       "      <td>Jazz</td>\n",
       "      <td>These live sets between the saxophonist and pi...</td>\n",
       "      <td>['Skip to content', 'All Results', 'Home', 'Ne...</td>\n",
       "      <td>Archie Shepp, Jason Moran, Madison Bloom,    ...</td>\n",
       "      <td>0</td>\n",
       "      <td>February 15 2021</td>\n",
       "      <td>Skip to content, All Results, Home, News, Revi...</td>\n",
       "    </tr>\n",
       "    <tr>\n",
       "      <th>3</th>\n",
       "      <td>3</td>\n",
       "      <td>Patricia Brennan</td>\n",
       "      <td>Maquishti</td>\n",
       "      <td>7.4</td>\n",
       "      <td>Experimental</td>\n",
       "      <td>Challenging but never chaotic, contemplative y...</td>\n",
       "      <td>['Skip to content', 'All Results', 'Home', 'Ne...</td>\n",
       "      <td>Patricia Brennan, Daniel Felsenthal, Experime...</td>\n",
       "      <td>0</td>\n",
       "      <td>January 19 2021</td>\n",
       "      <td>Skip to content, All Results, Home, News, Revi...</td>\n",
       "    </tr>\n",
       "    <tr>\n",
       "      <th>4</th>\n",
       "      <td>4</td>\n",
       "      <td>Baldi/Gerycz Duo</td>\n",
       "      <td>After Commodore Perry Service Plaza</td>\n",
       "      <td>7.1</td>\n",
       "      <td>Jazz</td>\n",
       "      <td>The second album of improvisational jazz from ...</td>\n",
       "      <td>['Skip to content', 'All Results', 'Home', 'Ne...</td>\n",
       "      <td>Baldi/Gerycz Duo, Fred Thomas,  Experimental,...</td>\n",
       "      <td>0</td>\n",
       "      <td>January 6 2021</td>\n",
       "      <td>Skip to content, All Results, Home, News, Revi...</td>\n",
       "    </tr>\n",
       "  </tbody>\n",
       "</table>\n",
       "</div>"
      ],
      "text/plain": [
       "   Unnamed: 0                      artist  \\\n",
       "0           0                  Sam Gendel   \n",
       "1           1       Femi Kuti / Made Kuti   \n",
       "2           2  Archie Shepp / Jason Moran   \n",
       "3           3            Patricia Brennan   \n",
       "4           4            Baldi/Gerycz Duo   \n",
       "\n",
       "                                 album  score         genre  \\\n",
       "0                          Fresh Bread    6.5          Jazz   \n",
       "1                             Legacy +    7.8        Global   \n",
       "2                     Let My People Go    7.5          Jazz   \n",
       "3                            Maquishti    7.4  Experimental   \n",
       "4  After Commodore Perry Service Plaza    7.1          Jazz   \n",
       "\n",
       "                                              review  \\\n",
       "0  Fifty-two tracks deep, this archival compendiu...   \n",
       "1  On the duo’s generation-spanning double album,...   \n",
       "2  These live sets between the saxophonist and pi...   \n",
       "3  Challenging but never chaotic, contemplative y...   \n",
       "4  The second album of improvisational jazz from ...   \n",
       "\n",
       "                                            othercat  \\\n",
       "0  ['Skip to content', 'All Results', 'Home', 'Ne...   \n",
       "1  ['Skip to content', 'All Results', 'Home', 'Ne...   \n",
       "2  ['Skip to content', 'All Results', 'Home', 'Ne...   \n",
       "3  ['Skip to content', 'All Results', 'Home', 'Ne...   \n",
       "4  ['Skip to content', 'All Results', 'Home', 'Ne...   \n",
       "\n",
       "                                           othercat2  best              date  \\\n",
       "0   Sam Gendel, Jay Balfour,    Sam Gendel, cover...     0      March 4 2021   \n",
       "1   Femi Kuti, Made Kuti, Joey Akan, Global,    F...     0  February 20 2021   \n",
       "2   Archie Shepp, Jason Moran, Madison Bloom,    ...     0  February 15 2021   \n",
       "3   Patricia Brennan, Daniel Felsenthal, Experime...     0   January 19 2021   \n",
       "4   Baldi/Gerycz Duo, Fred Thomas,  Experimental,...     0    January 6 2021   \n",
       "\n",
       "                                     testing_formula  \n",
       "0  Skip to content, All Results, Home, News, Revi...  \n",
       "1  Skip to content, All Results, Home, News, Revi...  \n",
       "2  Skip to content, All Results, Home, News, Revi...  \n",
       "3  Skip to content, All Results, Home, News, Revi...  \n",
       "4  Skip to content, All Results, Home, News, Revi...  "
      ]
     },
     "execution_count": 122,
     "metadata": {},
     "output_type": "execute_result"
    }
   ],
   "source": [
    "df.head()"
   ]
  },
  {
   "cell_type": "code",
   "execution_count": 123,
   "metadata": {},
   "outputs": [],
   "source": [
    "nonwords=['Skip to content', 'All Results', 'Home', 'News', 'Reviews', 'Albums', 'Tracks', 'Sunday Reviews', '8.0+ Reviews',\n",
    "          'Best New Music', 'Features', 'Lists & Guides', 'Longform', 'Rising', 'Photo Galleries', 'The Pitch', 'Video',\n",
    "          'Over/Under', 'Liner Notes', 'Under the Influences', 'On the Records', 'Critical Breakthroughs', 'Podcast', 'GRAMMYS 2021',\n",
    "          'Newsletter', 'Advertising', 'Masthead', 'Careers', 'Contact', 'Accessibility Help', 'More Pitchfork', 'Pitchfork Music Festival Chicago',\n",
    "          'Pitchfork Music Festival Paris', 'Pitchfork Music Festival Berlin', 'Pitchfork Radio', 'Home     ', \n",
    "          'Staff Picks', 'Jazz', 'Bandcamp', 'Buy','8.0+ ','8.0+','Back to home']"
   ]
  },
  {
   "cell_type": "code",
   "execution_count": 124,
   "metadata": {},
   "outputs": [
    {
     "name": "stdout",
     "output_type": "stream",
     "text": [
      "<class 'pandas.core.frame.DataFrame'>\n",
      "RangeIndex: 624 entries, 0 to 623\n",
      "Data columns (total 11 columns):\n",
      " #   Column           Non-Null Count  Dtype  \n",
      "---  ------           --------------  -----  \n",
      " 0   Unnamed: 0       624 non-null    int64  \n",
      " 1   artist           624 non-null    object \n",
      " 2   album            623 non-null    object \n",
      " 3   score            615 non-null    float64\n",
      " 4   genre            615 non-null    object \n",
      " 5   review           624 non-null    object \n",
      " 6   othercat         624 non-null    object \n",
      " 7   othercat2        615 non-null    object \n",
      " 8   best             624 non-null    int64  \n",
      " 9   date             615 non-null    object \n",
      " 10  testing_formula  615 non-null    object \n",
      "dtypes: float64(1), int64(2), object(8)\n",
      "memory usage: 53.8+ KB\n"
     ]
    }
   ],
   "source": [
    "df.info()"
   ]
  },
  {
   "cell_type": "code",
   "execution_count": 125,
   "metadata": {},
   "outputs": [
    {
     "data": {
      "text/plain": [
       " Miles Davis, Dominique Leone                                                                                                                                                                                                        5\n",
       " NOMO, Joe Tangari, Global,  Pop/R&B                                                                                                                                                                                                 4\n",
       " Capillary Action, Joe Tangari,  Rock                                                                                                                                                                                                3\n",
       " John Zorn, Dominique Leone, Experimental                                                                                                                                                                                            3\n",
       " Alog, Mark Richardson, Electronic,  Rock                                                                                                                                                                                            3\n",
       "                                                                                                                                                                                                                                    ..\n",
       " Mungolian Jet Set, Tim Finney,  Pop/R&B, Mungolian Jet Set, We Gave It All Away… Now We Are Taking It Back, \"We Are the Shining\"                                                                                                    1\n",
       " Angel Bat Dawid, Tha Brothahood, Andy Cush,  Angel Bat Dawid, The Oracle, interview, an incendiary early 2020 performance of “Black Family,”, Sun Ra, Rashaan Roland Kirk, protesting, told a Guardian interviewer                  1\n",
       " José James, Seth Colter Walls,  SoundCloud, José James, Billie Holiday, most soulful tribute, interviews, striking quote, Jamie xx, Miles Davis, Louis Armstrong, wrote, Always There, Closer, the Weeknd, Prince, newly drilled    1\n",
       " Phonophani, Mark Richardson, Electronic                                                                                                                                                                                             1\n",
       " Fred Lonberg-Holm, Jim O’Rourke, Weasel Walter, David M. Pecoraro,  Experimental, Folk/Country                                                                                                                                      1\n",
       "Name: othercat2, Length: 583, dtype: int64"
      ]
     },
     "execution_count": 125,
     "metadata": {},
     "output_type": "execute_result"
    }
   ],
   "source": [
    "df.othercat2.value_counts()"
   ]
  },
  {
   "cell_type": "code",
   "execution_count": null,
   "metadata": {},
   "outputs": [],
   "source": [
    "# pat = r'\\b(?:{})\\b'.format('|'.join(nonwords))\n",
    "# print(pat)\n",
    "# #df['test'] = df['othercat'].replace(\"'\",\"\")\n",
    "# df['othercat2'] = df['othercat'].str.replace(pat,'')\n",
    "# df.head()"
   ]
  },
  {
   "cell_type": "code",
   "execution_count": null,
   "metadata": {},
   "outputs": [],
   "source": [
    "# import re\n",
    "# test=[re.sub('[^,a-zA-Z0-9]+', ' ', _) for _ in df['othercat2']]\n",
    "# test"
   ]
  },
  {
   "cell_type": "markdown",
   "metadata": {},
   "source": [
    "## Data Cleaning"
   ]
  },
  {
   "cell_type": "code",
   "execution_count": 126,
   "metadata": {},
   "outputs": [],
   "source": [
    "breaks = lambda x: re.sub(\"\\n\", \" \", x)\n",
    "alphanumeric = lambda x: re.sub(\"\\w*\\d\\w*\", \"\", x)\n",
    "punc_lower = lambda x: re.sub(\"[%s]\" % re.escape(string.punctuation), \"\", x.lower())"
   ]
  },
  {
   "cell_type": "code",
   "execution_count": 130,
   "metadata": {},
   "outputs": [],
   "source": [
    "df[\"review_clean\"] = df[\"review\"].map(breaks).map(alphanumeric).map(punc_lower)\n",
    "df[\"othercat_clean\"] = df[\"othercat2\"].str.lower()\n",
    "df[\"artist_clean\"] = df[\"artist\"].str.lower()\n",
    "df[\"album_clean\"] = df[\"album\"].str.lower()"
   ]
  },
  {
   "cell_type": "code",
   "execution_count": 131,
   "metadata": {},
   "outputs": [
    {
     "data": {
      "text/html": [
       "<div>\n",
       "<style scoped>\n",
       "    .dataframe tbody tr th:only-of-type {\n",
       "        vertical-align: middle;\n",
       "    }\n",
       "\n",
       "    .dataframe tbody tr th {\n",
       "        vertical-align: top;\n",
       "    }\n",
       "\n",
       "    .dataframe thead th {\n",
       "        text-align: right;\n",
       "    }\n",
       "</style>\n",
       "<table border=\"1\" class=\"dataframe\">\n",
       "  <thead>\n",
       "    <tr style=\"text-align: right;\">\n",
       "      <th></th>\n",
       "      <th>Unnamed: 0</th>\n",
       "      <th>artist</th>\n",
       "      <th>album</th>\n",
       "      <th>score</th>\n",
       "      <th>genre</th>\n",
       "      <th>review</th>\n",
       "      <th>othercat</th>\n",
       "      <th>othercat2</th>\n",
       "      <th>best</th>\n",
       "      <th>date</th>\n",
       "      <th>testing_formula</th>\n",
       "      <th>review_clean</th>\n",
       "      <th>othercat_clean</th>\n",
       "      <th>artist_clean</th>\n",
       "      <th>album_clean</th>\n",
       "    </tr>\n",
       "  </thead>\n",
       "  <tbody>\n",
       "    <tr>\n",
       "      <th>0</th>\n",
       "      <td>0</td>\n",
       "      <td>Sam Gendel</td>\n",
       "      <td>Fresh Bread</td>\n",
       "      <td>6.5</td>\n",
       "      <td>Jazz</td>\n",
       "      <td>Fifty-two tracks deep, this archival compendiu...</td>\n",
       "      <td>['Skip to content', 'All Results', 'Home', 'Ne...</td>\n",
       "      <td>Sam Gendel, Jay Balfour,    Sam Gendel, cover...</td>\n",
       "      <td>0</td>\n",
       "      <td>March 4 2021</td>\n",
       "      <td>Skip to content, All Results, Home, News, Revi...</td>\n",
       "      <td>fiftytwo tracks deep this archival compendium ...</td>\n",
       "      <td>sam gendel, jay balfour,    sam gendel, cover...</td>\n",
       "      <td>sam gendel</td>\n",
       "      <td>fresh bread</td>\n",
       "    </tr>\n",
       "    <tr>\n",
       "      <th>1</th>\n",
       "      <td>1</td>\n",
       "      <td>Femi Kuti / Made Kuti</td>\n",
       "      <td>Legacy +</td>\n",
       "      <td>7.8</td>\n",
       "      <td>Global</td>\n",
       "      <td>On the duo’s generation-spanning double album,...</td>\n",
       "      <td>['Skip to content', 'All Results', 'Home', 'Ne...</td>\n",
       "      <td>Femi Kuti, Made Kuti, Joey Akan, Global,    F...</td>\n",
       "      <td>0</td>\n",
       "      <td>February 20 2021</td>\n",
       "      <td>Skip to content, All Results, Home, News, Revi...</td>\n",
       "      <td>on the duo’s generationspanning double album f...</td>\n",
       "      <td>femi kuti, made kuti, joey akan, global,    f...</td>\n",
       "      <td>femi kuti / made kuti</td>\n",
       "      <td>legacy +</td>\n",
       "    </tr>\n",
       "    <tr>\n",
       "      <th>2</th>\n",
       "      <td>2</td>\n",
       "      <td>Archie Shepp / Jason Moran</td>\n",
       "      <td>Let My People Go</td>\n",
       "      <td>7.5</td>\n",
       "      <td>Jazz</td>\n",
       "      <td>These live sets between the saxophonist and pi...</td>\n",
       "      <td>['Skip to content', 'All Results', 'Home', 'Ne...</td>\n",
       "      <td>Archie Shepp, Jason Moran, Madison Bloom,    ...</td>\n",
       "      <td>0</td>\n",
       "      <td>February 15 2021</td>\n",
       "      <td>Skip to content, All Results, Home, News, Revi...</td>\n",
       "      <td>these live sets between the saxophonist and pi...</td>\n",
       "      <td>archie shepp, jason moran, madison bloom,    ...</td>\n",
       "      <td>archie shepp / jason moran</td>\n",
       "      <td>let my people go</td>\n",
       "    </tr>\n",
       "  </tbody>\n",
       "</table>\n",
       "</div>"
      ],
      "text/plain": [
       "   Unnamed: 0                      artist             album  score   genre  \\\n",
       "0           0                  Sam Gendel       Fresh Bread    6.5    Jazz   \n",
       "1           1       Femi Kuti / Made Kuti          Legacy +    7.8  Global   \n",
       "2           2  Archie Shepp / Jason Moran  Let My People Go    7.5    Jazz   \n",
       "\n",
       "                                              review  \\\n",
       "0  Fifty-two tracks deep, this archival compendiu...   \n",
       "1  On the duo’s generation-spanning double album,...   \n",
       "2  These live sets between the saxophonist and pi...   \n",
       "\n",
       "                                            othercat  \\\n",
       "0  ['Skip to content', 'All Results', 'Home', 'Ne...   \n",
       "1  ['Skip to content', 'All Results', 'Home', 'Ne...   \n",
       "2  ['Skip to content', 'All Results', 'Home', 'Ne...   \n",
       "\n",
       "                                           othercat2  best              date  \\\n",
       "0   Sam Gendel, Jay Balfour,    Sam Gendel, cover...     0      March 4 2021   \n",
       "1   Femi Kuti, Made Kuti, Joey Akan, Global,    F...     0  February 20 2021   \n",
       "2   Archie Shepp, Jason Moran, Madison Bloom,    ...     0  February 15 2021   \n",
       "\n",
       "                                     testing_formula  \\\n",
       "0  Skip to content, All Results, Home, News, Revi...   \n",
       "1  Skip to content, All Results, Home, News, Revi...   \n",
       "2  Skip to content, All Results, Home, News, Revi...   \n",
       "\n",
       "                                        review_clean  \\\n",
       "0  fiftytwo tracks deep this archival compendium ...   \n",
       "1  on the duo’s generationspanning double album f...   \n",
       "2  these live sets between the saxophonist and pi...   \n",
       "\n",
       "                                      othercat_clean  \\\n",
       "0   sam gendel, jay balfour,    sam gendel, cover...   \n",
       "1   femi kuti, made kuti, joey akan, global,    f...   \n",
       "2   archie shepp, jason moran, madison bloom,    ...   \n",
       "\n",
       "                 artist_clean       album_clean  \n",
       "0                  sam gendel       fresh bread  \n",
       "1       femi kuti / made kuti          legacy +  \n",
       "2  archie shepp / jason moran  let my people go  "
      ]
     },
     "execution_count": 131,
     "metadata": {},
     "output_type": "execute_result"
    }
   ],
   "source": [
    "df.head(3)"
   ]
  },
  {
   "cell_type": "markdown",
   "metadata": {},
   "source": [
    "## Some EDA"
   ]
  },
  {
   "cell_type": "code",
   "execution_count": 132,
   "metadata": {},
   "outputs": [
    {
     "data": {
      "text/html": [
       "<div>\n",
       "<style scoped>\n",
       "    .dataframe tbody tr th:only-of-type {\n",
       "        vertical-align: middle;\n",
       "    }\n",
       "\n",
       "    .dataframe tbody tr th {\n",
       "        vertical-align: top;\n",
       "    }\n",
       "\n",
       "    .dataframe thead th {\n",
       "        text-align: right;\n",
       "    }\n",
       "</style>\n",
       "<table border=\"1\" class=\"dataframe\">\n",
       "  <thead>\n",
       "    <tr style=\"text-align: right;\">\n",
       "      <th></th>\n",
       "      <th>Unnamed: 0</th>\n",
       "      <th>score</th>\n",
       "      <th>best</th>\n",
       "    </tr>\n",
       "  </thead>\n",
       "  <tbody>\n",
       "    <tr>\n",
       "      <th>count</th>\n",
       "      <td>624.000000</td>\n",
       "      <td>615.000000</td>\n",
       "      <td>624.000000</td>\n",
       "    </tr>\n",
       "    <tr>\n",
       "      <th>mean</th>\n",
       "      <td>311.500000</td>\n",
       "      <td>7.428618</td>\n",
       "      <td>0.070513</td>\n",
       "    </tr>\n",
       "    <tr>\n",
       "      <th>std</th>\n",
       "      <td>180.277564</td>\n",
       "      <td>1.157300</td>\n",
       "      <td>0.256215</td>\n",
       "    </tr>\n",
       "    <tr>\n",
       "      <th>min</th>\n",
       "      <td>0.000000</td>\n",
       "      <td>1.000000</td>\n",
       "      <td>0.000000</td>\n",
       "    </tr>\n",
       "    <tr>\n",
       "      <th>25%</th>\n",
       "      <td>155.750000</td>\n",
       "      <td>7.000000</td>\n",
       "      <td>0.000000</td>\n",
       "    </tr>\n",
       "    <tr>\n",
       "      <th>50%</th>\n",
       "      <td>311.500000</td>\n",
       "      <td>7.600000</td>\n",
       "      <td>0.000000</td>\n",
       "    </tr>\n",
       "    <tr>\n",
       "      <th>75%</th>\n",
       "      <td>467.250000</td>\n",
       "      <td>8.000000</td>\n",
       "      <td>0.000000</td>\n",
       "    </tr>\n",
       "    <tr>\n",
       "      <th>max</th>\n",
       "      <td>623.000000</td>\n",
       "      <td>10.000000</td>\n",
       "      <td>1.000000</td>\n",
       "    </tr>\n",
       "  </tbody>\n",
       "</table>\n",
       "</div>"
      ],
      "text/plain": [
       "       Unnamed: 0       score        best\n",
       "count  624.000000  615.000000  624.000000\n",
       "mean   311.500000    7.428618    0.070513\n",
       "std    180.277564    1.157300    0.256215\n",
       "min      0.000000    1.000000    0.000000\n",
       "25%    155.750000    7.000000    0.000000\n",
       "50%    311.500000    7.600000    0.000000\n",
       "75%    467.250000    8.000000    0.000000\n",
       "max    623.000000   10.000000    1.000000"
      ]
     },
     "execution_count": 132,
     "metadata": {},
     "output_type": "execute_result"
    }
   ],
   "source": [
    "df.describe()"
   ]
  },
  {
   "cell_type": "code",
   "execution_count": 134,
   "metadata": {},
   "outputs": [],
   "source": [
    "df['revdate'] = pd.to_datetime(df['date'])"
   ]
  },
  {
   "cell_type": "code",
   "execution_count": 136,
   "metadata": {},
   "outputs": [
    {
     "data": {
      "text/html": [
       "<div>\n",
       "<style scoped>\n",
       "    .dataframe tbody tr th:only-of-type {\n",
       "        vertical-align: middle;\n",
       "    }\n",
       "\n",
       "    .dataframe tbody tr th {\n",
       "        vertical-align: top;\n",
       "    }\n",
       "\n",
       "    .dataframe thead th {\n",
       "        text-align: right;\n",
       "    }\n",
       "</style>\n",
       "<table border=\"1\" class=\"dataframe\">\n",
       "  <thead>\n",
       "    <tr style=\"text-align: right;\">\n",
       "      <th></th>\n",
       "      <th>Unnamed: 0</th>\n",
       "      <th>artist</th>\n",
       "      <th>album</th>\n",
       "      <th>score</th>\n",
       "      <th>genre</th>\n",
       "      <th>review</th>\n",
       "      <th>othercat</th>\n",
       "      <th>othercat2</th>\n",
       "      <th>best</th>\n",
       "      <th>date</th>\n",
       "      <th>testing_formula</th>\n",
       "      <th>review_clean</th>\n",
       "      <th>othercat_clean</th>\n",
       "      <th>artist_clean</th>\n",
       "      <th>album_clean</th>\n",
       "      <th>revdate</th>\n",
       "    </tr>\n",
       "  </thead>\n",
       "  <tbody>\n",
       "    <tr>\n",
       "      <th>0</th>\n",
       "      <td>0</td>\n",
       "      <td>Sam Gendel</td>\n",
       "      <td>Fresh Bread</td>\n",
       "      <td>6.5</td>\n",
       "      <td>Jazz</td>\n",
       "      <td>Fifty-two tracks deep, this archival compendiu...</td>\n",
       "      <td>['Skip to content', 'All Results', 'Home', 'Ne...</td>\n",
       "      <td>Sam Gendel, Jay Balfour,    Sam Gendel, cover...</td>\n",
       "      <td>0</td>\n",
       "      <td>March 4 2021</td>\n",
       "      <td>Skip to content, All Results, Home, News, Revi...</td>\n",
       "      <td>fiftytwo tracks deep this archival compendium ...</td>\n",
       "      <td>sam gendel, jay balfour,    sam gendel, cover...</td>\n",
       "      <td>sam gendel</td>\n",
       "      <td>fresh bread</td>\n",
       "      <td>2021-03-04</td>\n",
       "    </tr>\n",
       "    <tr>\n",
       "      <th>1</th>\n",
       "      <td>1</td>\n",
       "      <td>Femi Kuti / Made Kuti</td>\n",
       "      <td>Legacy +</td>\n",
       "      <td>7.8</td>\n",
       "      <td>Global</td>\n",
       "      <td>On the duo’s generation-spanning double album,...</td>\n",
       "      <td>['Skip to content', 'All Results', 'Home', 'Ne...</td>\n",
       "      <td>Femi Kuti, Made Kuti, Joey Akan, Global,    F...</td>\n",
       "      <td>0</td>\n",
       "      <td>February 20 2021</td>\n",
       "      <td>Skip to content, All Results, Home, News, Revi...</td>\n",
       "      <td>on the duo’s generationspanning double album f...</td>\n",
       "      <td>femi kuti, made kuti, joey akan, global,    f...</td>\n",
       "      <td>femi kuti / made kuti</td>\n",
       "      <td>legacy +</td>\n",
       "      <td>2021-02-20</td>\n",
       "    </tr>\n",
       "  </tbody>\n",
       "</table>\n",
       "</div>"
      ],
      "text/plain": [
       "   Unnamed: 0                 artist        album  score   genre  \\\n",
       "0           0             Sam Gendel  Fresh Bread    6.5    Jazz   \n",
       "1           1  Femi Kuti / Made Kuti     Legacy +    7.8  Global   \n",
       "\n",
       "                                              review  \\\n",
       "0  Fifty-two tracks deep, this archival compendiu...   \n",
       "1  On the duo’s generation-spanning double album,...   \n",
       "\n",
       "                                            othercat  \\\n",
       "0  ['Skip to content', 'All Results', 'Home', 'Ne...   \n",
       "1  ['Skip to content', 'All Results', 'Home', 'Ne...   \n",
       "\n",
       "                                           othercat2  best              date  \\\n",
       "0   Sam Gendel, Jay Balfour,    Sam Gendel, cover...     0      March 4 2021   \n",
       "1   Femi Kuti, Made Kuti, Joey Akan, Global,    F...     0  February 20 2021   \n",
       "\n",
       "                                     testing_formula  \\\n",
       "0  Skip to content, All Results, Home, News, Revi...   \n",
       "1  Skip to content, All Results, Home, News, Revi...   \n",
       "\n",
       "                                        review_clean  \\\n",
       "0  fiftytwo tracks deep this archival compendium ...   \n",
       "1  on the duo’s generationspanning double album f...   \n",
       "\n",
       "                                      othercat_clean           artist_clean  \\\n",
       "0   sam gendel, jay balfour,    sam gendel, cover...             sam gendel   \n",
       "1   femi kuti, made kuti, joey akan, global,    f...  femi kuti / made kuti   \n",
       "\n",
       "   album_clean    revdate  \n",
       "0  fresh bread 2021-03-04  \n",
       "1     legacy + 2021-02-20  "
      ]
     },
     "execution_count": 136,
     "metadata": {},
     "output_type": "execute_result"
    }
   ],
   "source": [
    "df.head(2)"
   ]
  },
  {
   "cell_type": "markdown",
   "metadata": {},
   "source": [
    "### Scores over time"
   ]
  },
  {
   "cell_type": "code",
   "execution_count": 142,
   "metadata": {},
   "outputs": [
    {
     "data": {
      "image/png": "[encoded data removed]",
      "text/plain": [
       "<Figure size 432x288 with 1 Axes>"
      ]
     },
     "metadata": {
      "image/png": {
       "height": 248,
       "width": 369
      },
      "needs_background": "light"
     },
     "output_type": "display_data"
    }
   ],
   "source": [
    "%matplotlib inline\n",
    "plt.scatter(y='score',x='revdate',data=df,c='best')\n",
    "plt.show()"
   ]
  },
  {
   "cell_type": "markdown",
   "metadata": {},
   "source": [
    "### Stop Words"
   ]
  },
  {
   "cell_type": "code",
   "execution_count": 144,
   "metadata": {},
   "outputs": [],
   "source": [
    "from sklearn.feature_extraction import text \n",
    "\n",
    "my_stop_words = nltk.corpus.stopwords.words('english')"
   ]
  },
  {
   "cell_type": "markdown",
   "metadata": {},
   "source": [
    "### Lemmatize"
   ]
  },
  {
   "cell_type": "code",
   "execution_count": 145,
   "metadata": {},
   "outputs": [],
   "source": [
    "nlp = spacy.load(\"en_core_web_sm\", disable=[\"parser\", \"ner\"])\n",
    "spacy_lemmatize = lambda x: \" \".join([token.lemma_ for token in nlp(x)])"
   ]
  },
  {
   "cell_type": "code",
   "execution_count": 146,
   "metadata": {},
   "outputs": [
    {
     "data": {
      "text/html": [
       "<div>\n",
       "<style scoped>\n",
       "    .dataframe tbody tr th:only-of-type {\n",
       "        vertical-align: middle;\n",
       "    }\n",
       "\n",
       "    .dataframe tbody tr th {\n",
       "        vertical-align: top;\n",
       "    }\n",
       "\n",
       "    .dataframe thead th {\n",
       "        text-align: right;\n",
       "    }\n",
       "</style>\n",
       "<table border=\"1\" class=\"dataframe\">\n",
       "  <thead>\n",
       "    <tr style=\"text-align: right;\">\n",
       "      <th></th>\n",
       "      <th>Unnamed: 0</th>\n",
       "      <th>artist</th>\n",
       "      <th>album</th>\n",
       "      <th>score</th>\n",
       "      <th>genre</th>\n",
       "      <th>review</th>\n",
       "      <th>othercat</th>\n",
       "      <th>othercat2</th>\n",
       "      <th>best</th>\n",
       "      <th>date</th>\n",
       "      <th>testing_formula</th>\n",
       "      <th>review_clean</th>\n",
       "      <th>othercat_clean</th>\n",
       "      <th>artist_clean</th>\n",
       "      <th>album_clean</th>\n",
       "      <th>revdate</th>\n",
       "      <th>review_lem</th>\n",
       "    </tr>\n",
       "  </thead>\n",
       "  <tbody>\n",
       "    <tr>\n",
       "      <th>0</th>\n",
       "      <td>0</td>\n",
       "      <td>Sam Gendel</td>\n",
       "      <td>Fresh Bread</td>\n",
       "      <td>6.5</td>\n",
       "      <td>Jazz</td>\n",
       "      <td>Fifty-two tracks deep, this archival compendiu...</td>\n",
       "      <td>['Skip to content', 'All Results', 'Home', 'Ne...</td>\n",
       "      <td>Sam Gendel, Jay Balfour,    Sam Gendel, cover...</td>\n",
       "      <td>0</td>\n",
       "      <td>March 4 2021</td>\n",
       "      <td>Skip to content, All Results, Home, News, Revi...</td>\n",
       "      <td>fiftytwo tracks deep this archival compendium ...</td>\n",
       "      <td>sam gendel, jay balfour,    sam gendel, cover...</td>\n",
       "      <td>sam gendel</td>\n",
       "      <td>fresh bread</td>\n",
       "      <td>2021-03-04</td>\n",
       "      <td>fifty - two track deep , this archival compend...</td>\n",
       "    </tr>\n",
       "    <tr>\n",
       "      <th>1</th>\n",
       "      <td>1</td>\n",
       "      <td>Femi Kuti / Made Kuti</td>\n",
       "      <td>Legacy +</td>\n",
       "      <td>7.8</td>\n",
       "      <td>Global</td>\n",
       "      <td>On the duo’s generation-spanning double album,...</td>\n",
       "      <td>['Skip to content', 'All Results', 'Home', 'Ne...</td>\n",
       "      <td>Femi Kuti, Made Kuti, Joey Akan, Global,    F...</td>\n",
       "      <td>0</td>\n",
       "      <td>February 20 2021</td>\n",
       "      <td>Skip to content, All Results, Home, News, Revi...</td>\n",
       "      <td>on the duo’s generationspanning double album f...</td>\n",
       "      <td>femi kuti, made kuti, joey akan, global,    f...</td>\n",
       "      <td>femi kuti / made kuti</td>\n",
       "      <td>legacy +</td>\n",
       "      <td>2021-02-20</td>\n",
       "      <td>on the duo ’s generation - span double album ,...</td>\n",
       "    </tr>\n",
       "  </tbody>\n",
       "</table>\n",
       "</div>"
      ],
      "text/plain": [
       "   Unnamed: 0                 artist        album  score   genre  \\\n",
       "0           0             Sam Gendel  Fresh Bread    6.5    Jazz   \n",
       "1           1  Femi Kuti / Made Kuti     Legacy +    7.8  Global   \n",
       "\n",
       "                                              review  \\\n",
       "0  Fifty-two tracks deep, this archival compendiu...   \n",
       "1  On the duo’s generation-spanning double album,...   \n",
       "\n",
       "                                            othercat  \\\n",
       "0  ['Skip to content', 'All Results', 'Home', 'Ne...   \n",
       "1  ['Skip to content', 'All Results', 'Home', 'Ne...   \n",
       "\n",
       "                                           othercat2  best              date  \\\n",
       "0   Sam Gendel, Jay Balfour,    Sam Gendel, cover...     0      March 4 2021   \n",
       "1   Femi Kuti, Made Kuti, Joey Akan, Global,    F...     0  February 20 2021   \n",
       "\n",
       "                                     testing_formula  \\\n",
       "0  Skip to content, All Results, Home, News, Revi...   \n",
       "1  Skip to content, All Results, Home, News, Revi...   \n",
       "\n",
       "                                        review_clean  \\\n",
       "0  fiftytwo tracks deep this archival compendium ...   \n",
       "1  on the duo’s generationspanning double album f...   \n",
       "\n",
       "                                      othercat_clean           artist_clean  \\\n",
       "0   sam gendel, jay balfour,    sam gendel, cover...             sam gendel   \n",
       "1   femi kuti, made kuti, joey akan, global,    f...  femi kuti / made kuti   \n",
       "\n",
       "   album_clean    revdate                                         review_lem  \n",
       "0  fresh bread 2021-03-04  fifty - two track deep , this archival compend...  \n",
       "1     legacy + 2021-02-20  on the duo ’s generation - span double album ,...  "
      ]
     },
     "execution_count": 146,
     "metadata": {},
     "output_type": "execute_result"
    }
   ],
   "source": [
    "df[\"review_lem\"] = df[\"review\"].apply(spacy_lemmatize)\n",
    "df.head(2)"
   ]
  },
  {
   "cell_type": "code",
   "execution_count": 148,
   "metadata": {},
   "outputs": [
    {
     "data": {
      "text/plain": [
       "'the Minneapolis synth - pop band team up with a Berlin - base orchestra in an attempt to reckon with the trial of our time . you have to admire Poliça ’s willingness to break their own mold . in 2016 , with two album \\' worth of hazy breakup song under their belt , the Minneapolis five - piece abruptly pivot into political consciousness and trade some of their rock instinct in for a smattering of pop motif . the result album , United Crushers , falter at time , but it be a good - faith effort to engage with the national mood . Poliça read the room and respond accordingly . Poliça ’s late album be the product of another reinvention . in merge with s t a r g a z e , the Berlin - base orchestral collective lead by conductor André de Ridder , they ’ve more than double their lineup . with all those extra body in the room , the deep , dark chasm that fracture their early work , separate singer Channy Leaneagh ’s voice from producer Ryan Olson ’s rumble synth , begin to fill in . the result sound feel new , to be sure , but mostly in the sense that it ’ not fully ripe . though challenge and , in its good moment , quite exciting , Music for the Long Emergency ultimately resemble a first draft . its most compelling idea be knot up with its bad , and the whole thing could use a thorough edit . like its predecessor , Music for the Long Emergency posture as a political album . its title nod to the turmoil of the Trump era , and its lead single , \" how be this Happening , \" be a ten - minute dirge that Leaneagh write the day after the 2016 election . on the album , it ’ sequence towards the end , and it deliver some vivid moment , largely courtesy of s t a r g a z e ’s string section . they brood , first hover on single , sustained note as if unsure how to proceed , then sink into snarl cluster chord as panic set in . Leaneagh , meanwhile , repeat the titular question that occupy many mind that November , and issue an elegant call for resistance . the song ’s lengthy outro heave and shudder in time with militant percussion . it ’ an effective portrait of dystopian paranoia . its close thematic analog on the record be \" cursed , \" the song that immediately precede it , and easily the most jarring track of the bunch . with its thrashing percussion and invective against unnamed political overlord , deliver via a guest turn from Minnesota rapper Crescent Moon , \" Cursed \" steer far into rage against the Machine territory — just with dramatic guitar sub out for dramatic string . the song feel outdated and clumsy , and some of Leaneagh ’s lyric be so vague as to be meaningless ( \" curse with a cure / cure with a curse \" ) . this be reinvention in the extreme . the song be unrecognizable as Poliça ’s , to the extent that you might wonder if it ’ there by accident . what ’ even more perturbing be that \" how be this Happening \" and \" Cursed \" constitute a blip in an album that ’ actually , by and large , devoid of politic . Opener and standout \" fake like \" be an airy ode to a crush who play hard to get , embellish with chirping pizzicato string . \" Marrow \" could be a stormy come - on or a conflict kiss - off — it ’ hard to tell — and it contain one of Leaneagh ’s most forceful vocal performance , though it ’ undermine by the laughable literality of the lyric ( \" Marrow / I can feel you in my bone \" ) . on \" speak of ghost , \" Leaneagh reach for bygone love in a brass - infuse séance . nowhere in this sequence do Poliça ’s claim that the album reflect on \" the strange and sudden darkening of our time \" feel particularly true . in the same statement , Leaneagh seem interested in explore the implication of this personal / political contrast : \" you can be go through tragedy , never - end war , but you still also be deal with human relationship and love and romantic trouble . \" she be n’t wrong , and if Poliça have spend more time think through that conflict , Long Emergency might have be a more coherent album . but as the group continuously ping - pong between sound and idea , it become difficult to tell which of the tension that manifest — between electronic and acoustic , between varied vocal style , between the depth of the sound and shallowness of the lyric — be intentional piece of a conceptual framework , and which be the unexpected byproduct of Poliça and s t a r g a z e ’ experimental mode of writing . one of the most tangled song on the record be its close and title track , another epic that stretch toward the ten - minute mark . for a song that purport to respond to emergency , it land remarkably lightly . leaneagh sing about be \" seep in deep / my madness , \" but her delivery be carefree , and the song ’s grandiose piano chord suggest triumph , not crisis . this uncertain resolution raise all sort of question : what , actually , be the long emergency ? be it over ? be these song mean to be curative ? moment later , Leaneagh begin repeat the word \" lose as I be / lose as I can be . \" as a last word for this album , it ’ all too apt .'"
      ]
     },
     "execution_count": 148,
     "metadata": {},
     "output_type": "execute_result"
    }
   ],
   "source": [
    "df.review_lem[135]"
   ]
  },
  {
   "cell_type": "code",
   "execution_count": null,
   "metadata": {},
   "outputs": [],
   "source": []
  }
 ],
 "metadata": {
  "kernelspec": {
   "display_name": "Python 3",
   "language": "python",
   "name": "python3"
  },
  "language_info": {
   "codemirror_mode": {
    "name": "ipython",
    "version": 3
   },
   "file_extension": ".py",
   "mimetype": "text/x-python",
   "name": "python",
   "nbconvert_exporter": "python",
   "pygments_lexer": "ipython3",
   "version": "3.8.5"
  }
 },
 "nbformat": 4,
 "nbformat_minor": 4
}
