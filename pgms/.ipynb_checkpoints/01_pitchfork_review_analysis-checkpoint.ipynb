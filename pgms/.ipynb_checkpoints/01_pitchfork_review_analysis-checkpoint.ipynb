{
 "cells": [
  {
   "cell_type": "markdown",
   "metadata": {},
   "source": [
    "## pitchfork_review_anlaysis\n",
    "**Program:** 01_pitchfork_review_analysis.ipynb <br>\n",
    "**Created by:** Chris Chan<br>\n",
    "**Date:** Mar 16, 2021<br>\n",
    "**Purpose:** <br>\n",
    ". The purpose of the project is to develop a modern jazz artist recommender/discovery based on sub-genres or non-jazz artists somehow linked to the jazz album via pitchfork review text. Upon inspection of reviews (namely jazz reviews) there is high chance of other non-jazz artist referenced to shed light on some similarity. The idea is to take these links as features or search terms in a rec system that would link to the jazz artist. The jazz artists would be cmpared as well given various topics modeled from all of the reviews.\n",
    "\n",
    ". 1. bring in data, count vectorize, etc. <br>\n",
    ". 2. preprocessing - clean, lemmatize <br>\n",
    ". 3. explore:<br>\n",
    "    . Basic EDA\n",
    "    . try topic modeling<br>\n",
    "    . sentiment analysis<br>\n",
    "    . combining the two<br>"
   ]
  },
  {
   "cell_type": "code",
   "execution_count": 1,
   "metadata": {},
   "outputs": [],
   "source": [
    "import pandas as pd\n",
    "from sklearn.feature_extraction.text import CountVectorizer \n",
    "from sklearn.decomposition import NMF"
   ]
  },
  {
   "cell_type": "code",
   "execution_count": 2,
   "metadata": {},
   "outputs": [],
   "source": [
    "import glob\n",
    "import os\n",
    "from collections import defaultdict\n",
    "import re\n",
    "import numpy as np\n",
    "from sklearn.model_selection import train_test_split\n",
    "import pandas as pd"
   ]
  },
  {
   "cell_type": "code",
   "execution_count": 3,
   "metadata": {},
   "outputs": [],
   "source": [
    "import nltk\n",
    "import os\n",
    "import spacy\n",
    "import re\n",
    "import string\n",
    "import pickle\n",
    "from itertools import cycle\n",
    "import matplotlib.pyplot as plt\n",
    "from nltk import stem\n",
    "%matplotlib inline\n",
    "%config InlineBackend.figure_formats = ['retina']\n",
    "from nltk.tokenize import word_tokenize, sent_tokenize, MWETokenizer\n",
    "from gensim import corpora, models, similarities, matutils\n",
    "from sklearn.decomposition import TruncatedSVD, NMF\n",
    "from corextopic import corextopic, vis_topic\n",
    "from sklearn.feature_extraction.text import CountVectorizer\n",
    "from sklearn.feature_extraction.text import TfidfVectorizer\n",
    "from sklearn.manifold import TSNE\n",
    "import plotly.graph_objects as go\n",
    "import scattertext as st"
   ]
  },
  {
   "cell_type": "code",
   "execution_count": 4,
   "metadata": {},
   "outputs": [],
   "source": [
    "from nltk.sentiment.vader import SentimentIntensityAnalyzer\n",
    "from textblob import TextBlob"
   ]
  },
  {
   "cell_type": "markdown",
   "metadata": {},
   "source": [
    "### Read in data"
   ]
  },
  {
   "cell_type": "markdown",
   "metadata": {},
   "source": [
    "**We read through all the docments and build a list-of-list of words:**"
   ]
  },
  {
   "cell_type": "code",
   "execution_count": 121,
   "metadata": {},
   "outputs": [],
   "source": [
    "df = pd.read_csv('/Users/chrischan/Documents/02_Class/Metis/bootcamp/githubrepo/Metis_proj5/data/pitchfork_jazz_clean.csv')"
   ]
  },
  {
   "cell_type": "code",
   "execution_count": 122,
   "metadata": {},
   "outputs": [
    {
     "data": {
      "text/html": [
       "<div>\n",
       "<style scoped>\n",
       "    .dataframe tbody tr th:only-of-type {\n",
       "        vertical-align: middle;\n",
       "    }\n",
       "\n",
       "    .dataframe tbody tr th {\n",
       "        vertical-align: top;\n",
       "    }\n",
       "\n",
       "    .dataframe thead th {\n",
       "        text-align: right;\n",
       "    }\n",
       "</style>\n",
       "<table border=\"1\" class=\"dataframe\">\n",
       "  <thead>\n",
       "    <tr style=\"text-align: right;\">\n",
       "      <th></th>\n",
       "      <th>Unnamed: 0</th>\n",
       "      <th>artist</th>\n",
       "      <th>album</th>\n",
       "      <th>score</th>\n",
       "      <th>genre</th>\n",
       "      <th>review</th>\n",
       "      <th>othercat</th>\n",
       "      <th>othercat2</th>\n",
       "      <th>best</th>\n",
       "      <th>date</th>\n",
       "      <th>testing_formula</th>\n",
       "    </tr>\n",
       "  </thead>\n",
       "  <tbody>\n",
       "    <tr>\n",
       "      <th>0</th>\n",
       "      <td>0</td>\n",
       "      <td>Sam Gendel</td>\n",
       "      <td>Fresh Bread</td>\n",
       "      <td>6.5</td>\n",
       "      <td>Jazz</td>\n",
       "      <td>Fifty-two tracks deep, this archival compendiu...</td>\n",
       "      <td>['Skip to content', 'All Results', 'Home', 'Ne...</td>\n",
       "      <td>Sam Gendel, Jay Balfour,    Sam Gendel, cover...</td>\n",
       "      <td>0</td>\n",
       "      <td>March 4 2021</td>\n",
       "      <td>Skip to content, All Results, Home, News, Revi...</td>\n",
       "    </tr>\n",
       "    <tr>\n",
       "      <th>1</th>\n",
       "      <td>1</td>\n",
       "      <td>Femi Kuti / Made Kuti</td>\n",
       "      <td>Legacy +</td>\n",
       "      <td>7.8</td>\n",
       "      <td>Global</td>\n",
       "      <td>On the duo’s generation-spanning double album,...</td>\n",
       "      <td>['Skip to content', 'All Results', 'Home', 'Ne...</td>\n",
       "      <td>Femi Kuti, Made Kuti, Joey Akan, Global,    F...</td>\n",
       "      <td>0</td>\n",
       "      <td>February 20 2021</td>\n",
       "      <td>Skip to content, All Results, Home, News, Revi...</td>\n",
       "    </tr>\n",
       "    <tr>\n",
       "      <th>2</th>\n",
       "      <td>2</td>\n",
       "      <td>Archie Shepp / Jason Moran</td>\n",
       "      <td>Let My People Go</td>\n",
       "      <td>7.5</td>\n",
       "      <td>Jazz</td>\n",
       "      <td>These live sets between the saxophonist and pi...</td>\n",
       "      <td>['Skip to content', 'All Results', 'Home', 'Ne...</td>\n",
       "      <td>Archie Shepp, Jason Moran, Madison Bloom,    ...</td>\n",
       "      <td>0</td>\n",
       "      <td>February 15 2021</td>\n",
       "      <td>Skip to content, All Results, Home, News, Revi...</td>\n",
       "    </tr>\n",
       "    <tr>\n",
       "      <th>3</th>\n",
       "      <td>3</td>\n",
       "      <td>Patricia Brennan</td>\n",
       "      <td>Maquishti</td>\n",
       "      <td>7.4</td>\n",
       "      <td>Experimental</td>\n",
       "      <td>Challenging but never chaotic, contemplative y...</td>\n",
       "      <td>['Skip to content', 'All Results', 'Home', 'Ne...</td>\n",
       "      <td>Patricia Brennan, Daniel Felsenthal, Experime...</td>\n",
       "      <td>0</td>\n",
       "      <td>January 19 2021</td>\n",
       "      <td>Skip to content, All Results, Home, News, Revi...</td>\n",
       "    </tr>\n",
       "    <tr>\n",
       "      <th>4</th>\n",
       "      <td>4</td>\n",
       "      <td>Baldi/Gerycz Duo</td>\n",
       "      <td>After Commodore Perry Service Plaza</td>\n",
       "      <td>7.1</td>\n",
       "      <td>Jazz</td>\n",
       "      <td>The second album of improvisational jazz from ...</td>\n",
       "      <td>['Skip to content', 'All Results', 'Home', 'Ne...</td>\n",
       "      <td>Baldi/Gerycz Duo, Fred Thomas,  Experimental,...</td>\n",
       "      <td>0</td>\n",
       "      <td>January 6 2021</td>\n",
       "      <td>Skip to content, All Results, Home, News, Revi...</td>\n",
       "    </tr>\n",
       "  </tbody>\n",
       "</table>\n",
       "</div>"
      ],
      "text/plain": [
       "   Unnamed: 0                      artist  \\\n",
       "0           0                  Sam Gendel   \n",
       "1           1       Femi Kuti / Made Kuti   \n",
       "2           2  Archie Shepp / Jason Moran   \n",
       "3           3            Patricia Brennan   \n",
       "4           4            Baldi/Gerycz Duo   \n",
       "\n",
       "                                 album  score         genre  \\\n",
       "0                          Fresh Bread    6.5          Jazz   \n",
       "1                             Legacy +    7.8        Global   \n",
       "2                     Let My People Go    7.5          Jazz   \n",
       "3                            Maquishti    7.4  Experimental   \n",
       "4  After Commodore Perry Service Plaza    7.1          Jazz   \n",
       "\n",
       "                                              review  \\\n",
       "0  Fifty-two tracks deep, this archival compendiu...   \n",
       "1  On the duo’s generation-spanning double album,...   \n",
       "2  These live sets between the saxophonist and pi...   \n",
       "3  Challenging but never chaotic, contemplative y...   \n",
       "4  The second album of improvisational jazz from ...   \n",
       "\n",
       "                                            othercat  \\\n",
       "0  ['Skip to content', 'All Results', 'Home', 'Ne...   \n",
       "1  ['Skip to content', 'All Results', 'Home', 'Ne...   \n",
       "2  ['Skip to content', 'All Results', 'Home', 'Ne...   \n",
       "3  ['Skip to content', 'All Results', 'Home', 'Ne...   \n",
       "4  ['Skip to content', 'All Results', 'Home', 'Ne...   \n",
       "\n",
       "                                           othercat2  best              date  \\\n",
       "0   Sam Gendel, Jay Balfour,    Sam Gendel, cover...     0      March 4 2021   \n",
       "1   Femi Kuti, Made Kuti, Joey Akan, Global,    F...     0  February 20 2021   \n",
       "2   Archie Shepp, Jason Moran, Madison Bloom,    ...     0  February 15 2021   \n",
       "3   Patricia Brennan, Daniel Felsenthal, Experime...     0   January 19 2021   \n",
       "4   Baldi/Gerycz Duo, Fred Thomas,  Experimental,...     0    January 6 2021   \n",
       "\n",
       "                                     testing_formula  \n",
       "0  Skip to content, All Results, Home, News, Revi...  \n",
       "1  Skip to content, All Results, Home, News, Revi...  \n",
       "2  Skip to content, All Results, Home, News, Revi...  \n",
       "3  Skip to content, All Results, Home, News, Revi...  \n",
       "4  Skip to content, All Results, Home, News, Revi...  "
      ]
     },
     "execution_count": 122,
     "metadata": {},
     "output_type": "execute_result"
    }
   ],
   "source": [
    "df.head()"
   ]
  },
  {
   "cell_type": "code",
   "execution_count": 123,
   "metadata": {},
   "outputs": [],
   "source": [
    "nonwords=['Skip to content', 'All Results', 'Home', 'News', 'Reviews', 'Albums', 'Tracks', 'Sunday Reviews', '8.0+ Reviews',\n",
    "          'Best New Music', 'Features', 'Lists & Guides', 'Longform', 'Rising', 'Photo Galleries', 'The Pitch', 'Video',\n",
    "          'Over/Under', 'Liner Notes', 'Under the Influences', 'On the Records', 'Critical Breakthroughs', 'Podcast', 'GRAMMYS 2021',\n",
    "          'Newsletter', 'Advertising', 'Masthead', 'Careers', 'Contact', 'Accessibility Help', 'More Pitchfork', 'Pitchfork Music Festival Chicago',\n",
    "          'Pitchfork Music Festival Paris', 'Pitchfork Music Festival Berlin', 'Pitchfork Radio', 'Home     ', \n",
    "          'Staff Picks', 'Jazz', 'Bandcamp', 'Buy','8.0+ ','8.0+','Back to home']"
   ]
  },
  {
   "cell_type": "code",
   "execution_count": 124,
   "metadata": {},
   "outputs": [
    {
     "name": "stdout",
     "output_type": "stream",
     "text": [
      "<class 'pandas.core.frame.DataFrame'>\n",
      "RangeIndex: 624 entries, 0 to 623\n",
      "Data columns (total 11 columns):\n",
      " #   Column           Non-Null Count  Dtype  \n",
      "---  ------           --------------  -----  \n",
      " 0   Unnamed: 0       624 non-null    int64  \n",
      " 1   artist           624 non-null    object \n",
      " 2   album            623 non-null    object \n",
      " 3   score            615 non-null    float64\n",
      " 4   genre            615 non-null    object \n",
      " 5   review           624 non-null    object \n",
      " 6   othercat         624 non-null    object \n",
      " 7   othercat2        615 non-null    object \n",
      " 8   best             624 non-null    int64  \n",
      " 9   date             615 non-null    object \n",
      " 10  testing_formula  615 non-null    object \n",
      "dtypes: float64(1), int64(2), object(8)\n",
      "memory usage: 53.8+ KB\n"
     ]
    }
   ],
   "source": [
    "df.info()"
   ]
  },
  {
   "cell_type": "code",
   "execution_count": 125,
   "metadata": {},
   "outputs": [
    {
     "data": {
      "text/plain": [
       " Miles Davis, Dominique Leone                                                                                                                                                                                                        5\n",
       " NOMO, Joe Tangari, Global,  Pop/R&B                                                                                                                                                                                                 4\n",
       " Capillary Action, Joe Tangari,  Rock                                                                                                                                                                                                3\n",
       " John Zorn, Dominique Leone, Experimental                                                                                                                                                                                            3\n",
       " Alog, Mark Richardson, Electronic,  Rock                                                                                                                                                                                            3\n",
       "                                                                                                                                                                                                                                    ..\n",
       " Mungolian Jet Set, Tim Finney,  Pop/R&B, Mungolian Jet Set, We Gave It All Away… Now We Are Taking It Back, \"We Are the Shining\"                                                                                                    1\n",
       " Angel Bat Dawid, Tha Brothahood, Andy Cush,  Angel Bat Dawid, The Oracle, interview, an incendiary early 2020 performance of “Black Family,”, Sun Ra, Rashaan Roland Kirk, protesting, told a Guardian interviewer                  1\n",
       " José James, Seth Colter Walls,  SoundCloud, José James, Billie Holiday, most soulful tribute, interviews, striking quote, Jamie xx, Miles Davis, Louis Armstrong, wrote, Always There, Closer, the Weeknd, Prince, newly drilled    1\n",
       " Phonophani, Mark Richardson, Electronic                                                                                                                                                                                             1\n",
       " Fred Lonberg-Holm, Jim O’Rourke, Weasel Walter, David M. Pecoraro,  Experimental, Folk/Country                                                                                                                                      1\n",
       "Name: othercat2, Length: 583, dtype: int64"
      ]
     },
     "execution_count": 125,
     "metadata": {},
     "output_type": "execute_result"
    }
   ],
   "source": [
    "df.othercat2.value_counts()"
   ]
  },
  {
   "cell_type": "code",
   "execution_count": null,
   "metadata": {},
   "outputs": [],
   "source": [
    "# pat = r'\\b(?:{})\\b'.format('|'.join(nonwords))\n",
    "# print(pat)\n",
    "# #df['test'] = df['othercat'].replace(\"'\",\"\")\n",
    "# df['othercat2'] = df['othercat'].str.replace(pat,'')\n",
    "# df.head()"
   ]
  },
  {
   "cell_type": "code",
   "execution_count": null,
   "metadata": {},
   "outputs": [],
   "source": [
    "# import re\n",
    "# test=[re.sub('[^,a-zA-Z0-9]+', ' ', _) for _ in df['othercat2']]\n",
    "# test"
   ]
  },
  {
   "cell_type": "markdown",
   "metadata": {},
   "source": [
    "### Data Cleaning"
   ]
  },
  {
   "cell_type": "code",
   "execution_count": 126,
   "metadata": {},
   "outputs": [],
   "source": [
    "breaks = lambda x: re.sub(\"\\n\", \" \", x)\n",
    "alphanumeric = lambda x: re.sub(\"\\w*\\d\\w*\", \"\", x)\n",
    "punc_lower = lambda x: re.sub(\"[%s]\" % re.escape(string.punctuation), \"\", x.lower())"
   ]
  },
  {
   "cell_type": "code",
   "execution_count": 130,
   "metadata": {},
   "outputs": [],
   "source": [
    "df[\"review_clean\"] = df[\"review\"].map(breaks).map(alphanumeric).map(punc_lower)\n",
    "df[\"othercat_clean\"] = df[\"othercat2\"].str.lower()\n",
    "df[\"artist_clean\"] = df[\"artist\"].str.lower()\n",
    "df[\"album_clean\"] = df[\"album\"].str.lower()"
   ]
  },
  {
   "cell_type": "code",
   "execution_count": 131,
   "metadata": {},
   "outputs": [
    {
     "data": {
      "text/html": [
       "<div>\n",
       "<style scoped>\n",
       "    .dataframe tbody tr th:only-of-type {\n",
       "        vertical-align: middle;\n",
       "    }\n",
       "\n",
       "    .dataframe tbody tr th {\n",
       "        vertical-align: top;\n",
       "    }\n",
       "\n",
       "    .dataframe thead th {\n",
       "        text-align: right;\n",
       "    }\n",
       "</style>\n",
       "<table border=\"1\" class=\"dataframe\">\n",
       "  <thead>\n",
       "    <tr style=\"text-align: right;\">\n",
       "      <th></th>\n",
       "      <th>Unnamed: 0</th>\n",
       "      <th>artist</th>\n",
       "      <th>album</th>\n",
       "      <th>score</th>\n",
       "      <th>genre</th>\n",
       "      <th>review</th>\n",
       "      <th>othercat</th>\n",
       "      <th>othercat2</th>\n",
       "      <th>best</th>\n",
       "      <th>date</th>\n",
       "      <th>testing_formula</th>\n",
       "      <th>review_clean</th>\n",
       "      <th>othercat_clean</th>\n",
       "      <th>artist_clean</th>\n",
       "      <th>album_clean</th>\n",
       "    </tr>\n",
       "  </thead>\n",
       "  <tbody>\n",
       "    <tr>\n",
       "      <th>0</th>\n",
       "      <td>0</td>\n",
       "      <td>Sam Gendel</td>\n",
       "      <td>Fresh Bread</td>\n",
       "      <td>6.5</td>\n",
       "      <td>Jazz</td>\n",
       "      <td>Fifty-two tracks deep, this archival compendiu...</td>\n",
       "      <td>['Skip to content', 'All Results', 'Home', 'Ne...</td>\n",
       "      <td>Sam Gendel, Jay Balfour,    Sam Gendel, cover...</td>\n",
       "      <td>0</td>\n",
       "      <td>March 4 2021</td>\n",
       "      <td>Skip to content, All Results, Home, News, Revi...</td>\n",
       "      <td>fiftytwo tracks deep this archival compendium ...</td>\n",
       "      <td>sam gendel, jay balfour,    sam gendel, cover...</td>\n",
       "      <td>sam gendel</td>\n",
       "      <td>fresh bread</td>\n",
       "    </tr>\n",
       "    <tr>\n",
       "      <th>1</th>\n",
       "      <td>1</td>\n",
       "      <td>Femi Kuti / Made Kuti</td>\n",
       "      <td>Legacy +</td>\n",
       "      <td>7.8</td>\n",
       "      <td>Global</td>\n",
       "      <td>On the duo’s generation-spanning double album,...</td>\n",
       "      <td>['Skip to content', 'All Results', 'Home', 'Ne...</td>\n",
       "      <td>Femi Kuti, Made Kuti, Joey Akan, Global,    F...</td>\n",
       "      <td>0</td>\n",
       "      <td>February 20 2021</td>\n",
       "      <td>Skip to content, All Results, Home, News, Revi...</td>\n",
       "      <td>on the duo’s generationspanning double album f...</td>\n",
       "      <td>femi kuti, made kuti, joey akan, global,    f...</td>\n",
       "      <td>femi kuti / made kuti</td>\n",
       "      <td>legacy +</td>\n",
       "    </tr>\n",
       "    <tr>\n",
       "      <th>2</th>\n",
       "      <td>2</td>\n",
       "      <td>Archie Shepp / Jason Moran</td>\n",
       "      <td>Let My People Go</td>\n",
       "      <td>7.5</td>\n",
       "      <td>Jazz</td>\n",
       "      <td>These live sets between the saxophonist and pi...</td>\n",
       "      <td>['Skip to content', 'All Results', 'Home', 'Ne...</td>\n",
       "      <td>Archie Shepp, Jason Moran, Madison Bloom,    ...</td>\n",
       "      <td>0</td>\n",
       "      <td>February 15 2021</td>\n",
       "      <td>Skip to content, All Results, Home, News, Revi...</td>\n",
       "      <td>these live sets between the saxophonist and pi...</td>\n",
       "      <td>archie shepp, jason moran, madison bloom,    ...</td>\n",
       "      <td>archie shepp / jason moran</td>\n",
       "      <td>let my people go</td>\n",
       "    </tr>\n",
       "  </tbody>\n",
       "</table>\n",
       "</div>"
      ],
      "text/plain": [
       "   Unnamed: 0                      artist             album  score   genre  \\\n",
       "0           0                  Sam Gendel       Fresh Bread    6.5    Jazz   \n",
       "1           1       Femi Kuti / Made Kuti          Legacy +    7.8  Global   \n",
       "2           2  Archie Shepp / Jason Moran  Let My People Go    7.5    Jazz   \n",
       "\n",
       "                                              review  \\\n",
       "0  Fifty-two tracks deep, this archival compendiu...   \n",
       "1  On the duo’s generation-spanning double album,...   \n",
       "2  These live sets between the saxophonist and pi...   \n",
       "\n",
       "                                            othercat  \\\n",
       "0  ['Skip to content', 'All Results', 'Home', 'Ne...   \n",
       "1  ['Skip to content', 'All Results', 'Home', 'Ne...   \n",
       "2  ['Skip to content', 'All Results', 'Home', 'Ne...   \n",
       "\n",
       "                                           othercat2  best              date  \\\n",
       "0   Sam Gendel, Jay Balfour,    Sam Gendel, cover...     0      March 4 2021   \n",
       "1   Femi Kuti, Made Kuti, Joey Akan, Global,    F...     0  February 20 2021   \n",
       "2   Archie Shepp, Jason Moran, Madison Bloom,    ...     0  February 15 2021   \n",
       "\n",
       "                                     testing_formula  \\\n",
       "0  Skip to content, All Results, Home, News, Revi...   \n",
       "1  Skip to content, All Results, Home, News, Revi...   \n",
       "2  Skip to content, All Results, Home, News, Revi...   \n",
       "\n",
       "                                        review_clean  \\\n",
       "0  fiftytwo tracks deep this archival compendium ...   \n",
       "1  on the duo’s generationspanning double album f...   \n",
       "2  these live sets between the saxophonist and pi...   \n",
       "\n",
       "                                      othercat_clean  \\\n",
       "0   sam gendel, jay balfour,    sam gendel, cover...   \n",
       "1   femi kuti, made kuti, joey akan, global,    f...   \n",
       "2   archie shepp, jason moran, madison bloom,    ...   \n",
       "\n",
       "                 artist_clean       album_clean  \n",
       "0                  sam gendel       fresh bread  \n",
       "1       femi kuti / made kuti          legacy +  \n",
       "2  archie shepp / jason moran  let my people go  "
      ]
     },
     "execution_count": 131,
     "metadata": {},
     "output_type": "execute_result"
    }
   ],
   "source": [
    "df.head(3)"
   ]
  },
  {
   "cell_type": "markdown",
   "metadata": {},
   "source": [
    "### Some EDA"
   ]
  },
  {
   "cell_type": "code",
   "execution_count": 132,
   "metadata": {},
   "outputs": [
    {
     "data": {
      "text/html": [
       "<div>\n",
       "<style scoped>\n",
       "    .dataframe tbody tr th:only-of-type {\n",
       "        vertical-align: middle;\n",
       "    }\n",
       "\n",
       "    .dataframe tbody tr th {\n",
       "        vertical-align: top;\n",
       "    }\n",
       "\n",
       "    .dataframe thead th {\n",
       "        text-align: right;\n",
       "    }\n",
       "</style>\n",
       "<table border=\"1\" class=\"dataframe\">\n",
       "  <thead>\n",
       "    <tr style=\"text-align: right;\">\n",
       "      <th></th>\n",
       "      <th>Unnamed: 0</th>\n",
       "      <th>score</th>\n",
       "      <th>best</th>\n",
       "    </tr>\n",
       "  </thead>\n",
       "  <tbody>\n",
       "    <tr>\n",
       "      <th>count</th>\n",
       "      <td>624.000000</td>\n",
       "      <td>615.000000</td>\n",
       "      <td>624.000000</td>\n",
       "    </tr>\n",
       "    <tr>\n",
       "      <th>mean</th>\n",
       "      <td>311.500000</td>\n",
       "      <td>7.428618</td>\n",
       "      <td>0.070513</td>\n",
       "    </tr>\n",
       "    <tr>\n",
       "      <th>std</th>\n",
       "      <td>180.277564</td>\n",
       "      <td>1.157300</td>\n",
       "      <td>0.256215</td>\n",
       "    </tr>\n",
       "    <tr>\n",
       "      <th>min</th>\n",
       "      <td>0.000000</td>\n",
       "      <td>1.000000</td>\n",
       "      <td>0.000000</td>\n",
       "    </tr>\n",
       "    <tr>\n",
       "      <th>25%</th>\n",
       "      <td>155.750000</td>\n",
       "      <td>7.000000</td>\n",
       "      <td>0.000000</td>\n",
       "    </tr>\n",
       "    <tr>\n",
       "      <th>50%</th>\n",
       "      <td>311.500000</td>\n",
       "      <td>7.600000</td>\n",
       "      <td>0.000000</td>\n",
       "    </tr>\n",
       "    <tr>\n",
       "      <th>75%</th>\n",
       "      <td>467.250000</td>\n",
       "      <td>8.000000</td>\n",
       "      <td>0.000000</td>\n",
       "    </tr>\n",
       "    <tr>\n",
       "      <th>max</th>\n",
       "      <td>623.000000</td>\n",
       "      <td>10.000000</td>\n",
       "      <td>1.000000</td>\n",
       "    </tr>\n",
       "  </tbody>\n",
       "</table>\n",
       "</div>"
      ],
      "text/plain": [
       "       Unnamed: 0       score        best\n",
       "count  624.000000  615.000000  624.000000\n",
       "mean   311.500000    7.428618    0.070513\n",
       "std    180.277564    1.157300    0.256215\n",
       "min      0.000000    1.000000    0.000000\n",
       "25%    155.750000    7.000000    0.000000\n",
       "50%    311.500000    7.600000    0.000000\n",
       "75%    467.250000    8.000000    0.000000\n",
       "max    623.000000   10.000000    1.000000"
      ]
     },
     "execution_count": 132,
     "metadata": {},
     "output_type": "execute_result"
    }
   ],
   "source": [
    "df.describe()"
   ]
  },
  {
   "cell_type": "code",
   "execution_count": 134,
   "metadata": {},
   "outputs": [],
   "source": [
    "df['revdate'] = pd.to_datetime(df['date'])"
   ]
  },
  {
   "cell_type": "code",
   "execution_count": 136,
   "metadata": {},
   "outputs": [
    {
     "data": {
      "text/html": [
       "<div>\n",
       "<style scoped>\n",
       "    .dataframe tbody tr th:only-of-type {\n",
       "        vertical-align: middle;\n",
       "    }\n",
       "\n",
       "    .dataframe tbody tr th {\n",
       "        vertical-align: top;\n",
       "    }\n",
       "\n",
       "    .dataframe thead th {\n",
       "        text-align: right;\n",
       "    }\n",
       "</style>\n",
       "<table border=\"1\" class=\"dataframe\">\n",
       "  <thead>\n",
       "    <tr style=\"text-align: right;\">\n",
       "      <th></th>\n",
       "      <th>Unnamed: 0</th>\n",
       "      <th>artist</th>\n",
       "      <th>album</th>\n",
       "      <th>score</th>\n",
       "      <th>genre</th>\n",
       "      <th>review</th>\n",
       "      <th>othercat</th>\n",
       "      <th>othercat2</th>\n",
       "      <th>best</th>\n",
       "      <th>date</th>\n",
       "      <th>testing_formula</th>\n",
       "      <th>review_clean</th>\n",
       "      <th>othercat_clean</th>\n",
       "      <th>artist_clean</th>\n",
       "      <th>album_clean</th>\n",
       "      <th>revdate</th>\n",
       "    </tr>\n",
       "  </thead>\n",
       "  <tbody>\n",
       "    <tr>\n",
       "      <th>0</th>\n",
       "      <td>0</td>\n",
       "      <td>Sam Gendel</td>\n",
       "      <td>Fresh Bread</td>\n",
       "      <td>6.5</td>\n",
       "      <td>Jazz</td>\n",
       "      <td>Fifty-two tracks deep, this archival compendiu...</td>\n",
       "      <td>['Skip to content', 'All Results', 'Home', 'Ne...</td>\n",
       "      <td>Sam Gendel, Jay Balfour,    Sam Gendel, cover...</td>\n",
       "      <td>0</td>\n",
       "      <td>March 4 2021</td>\n",
       "      <td>Skip to content, All Results, Home, News, Revi...</td>\n",
       "      <td>fiftytwo tracks deep this archival compendium ...</td>\n",
       "      <td>sam gendel, jay balfour,    sam gendel, cover...</td>\n",
       "      <td>sam gendel</td>\n",
       "      <td>fresh bread</td>\n",
       "      <td>2021-03-04</td>\n",
       "    </tr>\n",
       "    <tr>\n",
       "      <th>1</th>\n",
       "      <td>1</td>\n",
       "      <td>Femi Kuti / Made Kuti</td>\n",
       "      <td>Legacy +</td>\n",
       "      <td>7.8</td>\n",
       "      <td>Global</td>\n",
       "      <td>On the duo’s generation-spanning double album,...</td>\n",
       "      <td>['Skip to content', 'All Results', 'Home', 'Ne...</td>\n",
       "      <td>Femi Kuti, Made Kuti, Joey Akan, Global,    F...</td>\n",
       "      <td>0</td>\n",
       "      <td>February 20 2021</td>\n",
       "      <td>Skip to content, All Results, Home, News, Revi...</td>\n",
       "      <td>on the duo’s generationspanning double album f...</td>\n",
       "      <td>femi kuti, made kuti, joey akan, global,    f...</td>\n",
       "      <td>femi kuti / made kuti</td>\n",
       "      <td>legacy +</td>\n",
       "      <td>2021-02-20</td>\n",
       "    </tr>\n",
       "  </tbody>\n",
       "</table>\n",
       "</div>"
      ],
      "text/plain": [
       "   Unnamed: 0                 artist        album  score   genre  \\\n",
       "0           0             Sam Gendel  Fresh Bread    6.5    Jazz   \n",
       "1           1  Femi Kuti / Made Kuti     Legacy +    7.8  Global   \n",
       "\n",
       "                                              review  \\\n",
       "0  Fifty-two tracks deep, this archival compendiu...   \n",
       "1  On the duo’s generation-spanning double album,...   \n",
       "\n",
       "                                            othercat  \\\n",
       "0  ['Skip to content', 'All Results', 'Home', 'Ne...   \n",
       "1  ['Skip to content', 'All Results', 'Home', 'Ne...   \n",
       "\n",
       "                                           othercat2  best              date  \\\n",
       "0   Sam Gendel, Jay Balfour,    Sam Gendel, cover...     0      March 4 2021   \n",
       "1   Femi Kuti, Made Kuti, Joey Akan, Global,    F...     0  February 20 2021   \n",
       "\n",
       "                                     testing_formula  \\\n",
       "0  Skip to content, All Results, Home, News, Revi...   \n",
       "1  Skip to content, All Results, Home, News, Revi...   \n",
       "\n",
       "                                        review_clean  \\\n",
       "0  fiftytwo tracks deep this archival compendium ...   \n",
       "1  on the duo’s generationspanning double album f...   \n",
       "\n",
       "                                      othercat_clean           artist_clean  \\\n",
       "0   sam gendel, jay balfour,    sam gendel, cover...             sam gendel   \n",
       "1   femi kuti, made kuti, joey akan, global,    f...  femi kuti / made kuti   \n",
       "\n",
       "   album_clean    revdate  \n",
       "0  fresh bread 2021-03-04  \n",
       "1     legacy + 2021-02-20  "
      ]
     },
     "execution_count": 136,
     "metadata": {},
     "output_type": "execute_result"
    }
   ],
   "source": [
    "df.head(2)"
   ]
  },
  {
   "cell_type": "markdown",
   "metadata": {},
   "source": [
    "### Scores over time"
   ]
  },
  {
   "cell_type": "code",
   "execution_count": 142,
   "metadata": {},
   "outputs": [
    {
     "data": {
      "image/png": "[encoded data removed]",
      "text/plain": [
       "<Figure size 432x288 with 1 Axes>"
      ]
     },
     "metadata": {
      "image/png": {
       "height": 248,
       "width": 369
      },
      "needs_background": "light"
     },
     "output_type": "display_data"
    }
   ],
   "source": [
    "%matplotlib inline\n",
    "plt.scatter(y='score',x='revdate',data=df,c='best')\n",
    "plt.show()"
   ]
  },
  {
   "cell_type": "markdown",
   "metadata": {},
   "source": [
    "### Stop Words"
   ]
  },
  {
   "cell_type": "code",
   "execution_count": 144,
   "metadata": {},
   "outputs": [],
   "source": [
    "from sklearn.feature_extraction import text \n",
    "\n",
    "my_stop_words = nltk.corpus.stopwords.words('english')"
   ]
  },
  {
   "cell_type": "markdown",
   "metadata": {},
   "source": [
    "### Lemmatize"
   ]
  },
  {
   "cell_type": "code",
   "execution_count": 145,
   "metadata": {},
   "outputs": [],
   "source": [
    "nlp = spacy.load(\"en_core_web_sm\", disable=[\"parser\", \"ner\"])\n",
    "spacy_lemmatize = lambda x: \" \".join([token.lemma_ for token in nlp(x)])"
   ]
  },
  {
   "cell_type": "code",
   "execution_count": 146,
   "metadata": {},
   "outputs": [
    {
     "data": {
      "text/html": [
       "<div>\n",
       "<style scoped>\n",
       "    .dataframe tbody tr th:only-of-type {\n",
       "        vertical-align: middle;\n",
       "    }\n",
       "\n",
       "    .dataframe tbody tr th {\n",
       "        vertical-align: top;\n",
       "    }\n",
       "\n",
       "    .dataframe thead th {\n",
       "        text-align: right;\n",
       "    }\n",
       "</style>\n",
       "<table border=\"1\" class=\"dataframe\">\n",
       "  <thead>\n",
       "    <tr style=\"text-align: right;\">\n",
       "      <th></th>\n",
       "      <th>Unnamed: 0</th>\n",
       "      <th>artist</th>\n",
       "      <th>album</th>\n",
       "      <th>score</th>\n",
       "      <th>genre</th>\n",
       "      <th>review</th>\n",
       "      <th>othercat</th>\n",
       "      <th>othercat2</th>\n",
       "      <th>best</th>\n",
       "      <th>date</th>\n",
       "      <th>testing_formula</th>\n",
       "      <th>review_clean</th>\n",
       "      <th>othercat_clean</th>\n",
       "      <th>artist_clean</th>\n",
       "      <th>album_clean</th>\n",
       "      <th>revdate</th>\n",
       "      <th>review_lem</th>\n",
       "    </tr>\n",
       "  </thead>\n",
       "  <tbody>\n",
       "    <tr>\n",
       "      <th>0</th>\n",
       "      <td>0</td>\n",
       "      <td>Sam Gendel</td>\n",
       "      <td>Fresh Bread</td>\n",
       "      <td>6.5</td>\n",
       "      <td>Jazz</td>\n",
       "      <td>Fifty-two tracks deep, this archival compendiu...</td>\n",
       "      <td>['Skip to content', 'All Results', 'Home', 'Ne...</td>\n",
       "      <td>Sam Gendel, Jay Balfour,    Sam Gendel, cover...</td>\n",
       "      <td>0</td>\n",
       "      <td>March 4 2021</td>\n",
       "      <td>Skip to content, All Results, Home, News, Revi...</td>\n",
       "      <td>fiftytwo tracks deep this archival compendium ...</td>\n",
       "      <td>sam gendel, jay balfour,    sam gendel, cover...</td>\n",
       "      <td>sam gendel</td>\n",
       "      <td>fresh bread</td>\n",
       "      <td>2021-03-04</td>\n",
       "      <td>fifty - two track deep , this archival compend...</td>\n",
       "    </tr>\n",
       "    <tr>\n",
       "      <th>1</th>\n",
       "      <td>1</td>\n",
       "      <td>Femi Kuti / Made Kuti</td>\n",
       "      <td>Legacy +</td>\n",
       "      <td>7.8</td>\n",
       "      <td>Global</td>\n",
       "      <td>On the duo’s generation-spanning double album,...</td>\n",
       "      <td>['Skip to content', 'All Results', 'Home', 'Ne...</td>\n",
       "      <td>Femi Kuti, Made Kuti, Joey Akan, Global,    F...</td>\n",
       "      <td>0</td>\n",
       "      <td>February 20 2021</td>\n",
       "      <td>Skip to content, All Results, Home, News, Revi...</td>\n",
       "      <td>on the duo’s generationspanning double album f...</td>\n",
       "      <td>femi kuti, made kuti, joey akan, global,    f...</td>\n",
       "      <td>femi kuti / made kuti</td>\n",
       "      <td>legacy +</td>\n",
       "      <td>2021-02-20</td>\n",
       "      <td>on the duo ’s generation - span double album ,...</td>\n",
       "    </tr>\n",
       "  </tbody>\n",
       "</table>\n",
       "</div>"
      ],
      "text/plain": [
       "   Unnamed: 0                 artist        album  score   genre  \\\n",
       "0           0             Sam Gendel  Fresh Bread    6.5    Jazz   \n",
       "1           1  Femi Kuti / Made Kuti     Legacy +    7.8  Global   \n",
       "\n",
       "                                              review  \\\n",
       "0  Fifty-two tracks deep, this archival compendiu...   \n",
       "1  On the duo’s generation-spanning double album,...   \n",
       "\n",
       "                                            othercat  \\\n",
       "0  ['Skip to content', 'All Results', 'Home', 'Ne...   \n",
       "1  ['Skip to content', 'All Results', 'Home', 'Ne...   \n",
       "\n",
       "                                           othercat2  best              date  \\\n",
       "0   Sam Gendel, Jay Balfour,    Sam Gendel, cover...     0      March 4 2021   \n",
       "1   Femi Kuti, Made Kuti, Joey Akan, Global,    F...     0  February 20 2021   \n",
       "\n",
       "                                     testing_formula  \\\n",
       "0  Skip to content, All Results, Home, News, Revi...   \n",
       "1  Skip to content, All Results, Home, News, Revi...   \n",
       "\n",
       "                                        review_clean  \\\n",
       "0  fiftytwo tracks deep this archival compendium ...   \n",
       "1  on the duo’s generationspanning double album f...   \n",
       "\n",
       "                                      othercat_clean           artist_clean  \\\n",
       "0   sam gendel, jay balfour,    sam gendel, cover...             sam gendel   \n",
       "1   femi kuti, made kuti, joey akan, global,    f...  femi kuti / made kuti   \n",
       "\n",
       "   album_clean    revdate                                         review_lem  \n",
       "0  fresh bread 2021-03-04  fifty - two track deep , this archival compend...  \n",
       "1     legacy + 2021-02-20  on the duo ’s generation - span double album ,...  "
      ]
     },
     "execution_count": 146,
     "metadata": {},
     "output_type": "execute_result"
    }
   ],
   "source": [
    "df[\"review_lem\"] = df[\"review\"].apply(spacy_lemmatize)\n",
    "df.head(2)"
   ]
  },
  {
   "cell_type": "code",
   "execution_count": 148,
   "metadata": {},
   "outputs": [
    {
     "data": {
      "text/plain": [
       "'the Minneapolis synth - pop band team up with a Berlin - base orchestra in an attempt to reckon with the trial of our time . you have to admire Poliça ’s willingness to break their own mold . in 2016 , with two album \\' worth of hazy breakup song under their belt , the Minneapolis five - piece abruptly pivot into political consciousness and trade some of their rock instinct in for a smattering of pop motif . the result album , United Crushers , falter at time , but it be a good - faith effort to engage with the national mood . Poliça read the room and respond accordingly . Poliça ’s late album be the product of another reinvention . in merge with s t a r g a z e , the Berlin - base orchestral collective lead by conductor André de Ridder , they ’ve more than double their lineup . with all those extra body in the room , the deep , dark chasm that fracture their early work , separate singer Channy Leaneagh ’s voice from producer Ryan Olson ’s rumble synth , begin to fill in . the result sound feel new , to be sure , but mostly in the sense that it ’ not fully ripe . though challenge and , in its good moment , quite exciting , Music for the Long Emergency ultimately resemble a first draft . its most compelling idea be knot up with its bad , and the whole thing could use a thorough edit . like its predecessor , Music for the Long Emergency posture as a political album . its title nod to the turmoil of the Trump era , and its lead single , \" how be this Happening , \" be a ten - minute dirge that Leaneagh write the day after the 2016 election . on the album , it ’ sequence towards the end , and it deliver some vivid moment , largely courtesy of s t a r g a z e ’s string section . they brood , first hover on single , sustained note as if unsure how to proceed , then sink into snarl cluster chord as panic set in . Leaneagh , meanwhile , repeat the titular question that occupy many mind that November , and issue an elegant call for resistance . the song ’s lengthy outro heave and shudder in time with militant percussion . it ’ an effective portrait of dystopian paranoia . its close thematic analog on the record be \" cursed , \" the song that immediately precede it , and easily the most jarring track of the bunch . with its thrashing percussion and invective against unnamed political overlord , deliver via a guest turn from Minnesota rapper Crescent Moon , \" Cursed \" steer far into rage against the Machine territory — just with dramatic guitar sub out for dramatic string . the song feel outdated and clumsy , and some of Leaneagh ’s lyric be so vague as to be meaningless ( \" curse with a cure / cure with a curse \" ) . this be reinvention in the extreme . the song be unrecognizable as Poliça ’s , to the extent that you might wonder if it ’ there by accident . what ’ even more perturbing be that \" how be this Happening \" and \" Cursed \" constitute a blip in an album that ’ actually , by and large , devoid of politic . Opener and standout \" fake like \" be an airy ode to a crush who play hard to get , embellish with chirping pizzicato string . \" Marrow \" could be a stormy come - on or a conflict kiss - off — it ’ hard to tell — and it contain one of Leaneagh ’s most forceful vocal performance , though it ’ undermine by the laughable literality of the lyric ( \" Marrow / I can feel you in my bone \" ) . on \" speak of ghost , \" Leaneagh reach for bygone love in a brass - infuse séance . nowhere in this sequence do Poliça ’s claim that the album reflect on \" the strange and sudden darkening of our time \" feel particularly true . in the same statement , Leaneagh seem interested in explore the implication of this personal / political contrast : \" you can be go through tragedy , never - end war , but you still also be deal with human relationship and love and romantic trouble . \" she be n’t wrong , and if Poliça have spend more time think through that conflict , Long Emergency might have be a more coherent album . but as the group continuously ping - pong between sound and idea , it become difficult to tell which of the tension that manifest — between electronic and acoustic , between varied vocal style , between the depth of the sound and shallowness of the lyric — be intentional piece of a conceptual framework , and which be the unexpected byproduct of Poliça and s t a r g a z e ’ experimental mode of writing . one of the most tangled song on the record be its close and title track , another epic that stretch toward the ten - minute mark . for a song that purport to respond to emergency , it land remarkably lightly . leaneagh sing about be \" seep in deep / my madness , \" but her delivery be carefree , and the song ’s grandiose piano chord suggest triumph , not crisis . this uncertain resolution raise all sort of question : what , actually , be the long emergency ? be it over ? be these song mean to be curative ? moment later , Leaneagh begin repeat the word \" lose as I be / lose as I can be . \" as a last word for this album , it ’ all too apt .'"
      ]
     },
     "execution_count": 148,
     "metadata": {},
     "output_type": "execute_result"
    }
   ],
   "source": [
    "df.review_lem[135]"
   ]
  },
  {
   "cell_type": "markdown",
   "metadata": {},
   "source": [
    "### Lets start with a basic approach:\n",
    "**1. TFIDF**<br>\n",
    "**2. Cosine Similarity**<br>\n",
    "**3. Check recommendations**"
   ]
  },
  {
   "cell_type": "code",
   "execution_count": 149,
   "metadata": {},
   "outputs": [],
   "source": [
    "from sklearn.feature_extraction.text import TfidfVectorizer\n",
    "from sklearn.metrics.pairwise import cosine_similarity"
   ]
  },
  {
   "cell_type": "code",
   "execution_count": 150,
   "metadata": {},
   "outputs": [],
   "source": [
    "tfidf = TfidfVectorizer(analyzer='word', stop_words=my_stop_words)"
   ]
  },
  {
   "cell_type": "code",
   "execution_count": 151,
   "metadata": {},
   "outputs": [],
   "source": [
    "rev_matrix= tfidf.fit_transform(df['review_lem'])"
   ]
  },
  {
   "cell_type": "code",
   "execution_count": 155,
   "metadata": {},
   "outputs": [
    {
     "data": {
      "text/plain": [
       "(624, 23904)"
      ]
     },
     "execution_count": 155,
     "metadata": {},
     "output_type": "execute_result"
    }
   ],
   "source": [
    "rev_matrix.shape"
   ]
  },
  {
   "cell_type": "code",
   "execution_count": 157,
   "metadata": {},
   "outputs": [
    {
     "data": {
      "text/plain": [
       "<1x23904 sparse matrix of type '<class 'numpy.float64'>'\n",
       "\twith 260 stored elements in Compressed Sparse Row format>"
      ]
     },
     "execution_count": 157,
     "metadata": {},
     "output_type": "execute_result"
    }
   ],
   "source": [
    "rev_matrix"
   ]
  },
  {
   "cell_type": "code",
   "execution_count": 158,
   "metadata": {},
   "outputs": [
    {
     "name": "stdout",
     "output_type": "stream",
     "text": [
      "Sparse Matrix\n",
      "<class 'scipy.sparse.csr.csr_matrix'>\n",
      "  (0, 14356)\t0.040884219262168044\n",
      "  (0, 19050)\t0.0316649675791374\n",
      "  (0, 23179)\t0.03486293968831656\n",
      "  (0, 17669)\t0.03404620134916437\n",
      "  (0, 8)\t0.06164413225990065\n",
      "  (0, 18301)\t0.03896425542153354\n",
      "  (0, 19677)\t0.02393579774823869\n",
      "  (0, 14231)\t0.0473174867737046\n",
      "  (0, 8557)\t0.05307294527244341\n",
      "  (0, 1413)\t0.02747906788617537\n",
      "  (0, 7335)\t0.05518613740362799\n",
      "  (0, 6442)\t0.06675523491579571\n",
      "  (0, 9447)\t0.022529625872916303\n",
      "  (0, 1255)\t0.029415894254627935\n",
      "  (0, 19124)\t0.04216222753071269\n",
      "  (0, 7399)\t0.03538522753660039\n",
      "  (0, 21247)\t0.05518613740362799\n",
      "  (0, 6284)\t0.0578326407760974\n",
      "  (0, 22256)\t0.05945594707339957\n",
      "  (0, 1835)\t0.061375910914034076\n",
      "  (0, 9357)\t0.025489132715865278\n",
      "  (0, 15395)\t0.020653631392078358\n",
      "  (0, 13070)\t0.022635462405711827\n",
      "  (0, 5938)\t0.0578326407760974\n",
      "  (0, 10380)\t0.04848876460457884\n",
      "  :\t:\n",
      "  (623, 17669)\t0.029901926829124723\n",
      "  (623, 8739)\t0.02917008588201549\n",
      "  (623, 13956)\t0.014879530439551555\n",
      "  (623, 910)\t0.03747810402920811\n",
      "  (623, 8961)\t0.02890844635058391\n",
      "  (623, 12321)\t0.019424462067435245\n",
      "  (623, 22811)\t0.036175686903847495\n",
      "  (623, 5303)\t0.0211821379572222\n",
      "  (623, 21596)\t0.041557764777776555\n",
      "  (623, 929)\t0.015240099165352683\n",
      "  (623, 7697)\t0.029435479336609515\n",
      "  (623, 14046)\t0.01118402880382127\n",
      "  (623, 8313)\t0.01907540919977706\n",
      "  (623, 23134)\t0.01479828127950953\n",
      "  (623, 19554)\t0.03574514681219626\n",
      "  (623, 2062)\t0.018414499302301154\n",
      "  (623, 19995)\t0.02696916870911914\n",
      "  (623, 11920)\t0.01802419652703771\n",
      "  (623, 3020)\t0.02112852155641123\n",
      "  (623, 9584)\t0.016037139721406857\n",
      "  (623, 10204)\t0.020710425366447033\n",
      "  (623, 7227)\t0.013422784851194209\n",
      "  (623, 15933)\t0.027126551406007116\n",
      "  (623, 12227)\t0.03005994999885943\n",
      "  (623, 21592)\t0.011826040169532306\n"
     ]
    }
   ],
   "source": [
    "# take a peek at the each review and words\n",
    "\n",
    "print('Sparse Matrix')\n",
    "# A compressed version; the \"sparse\" matrix.\n",
    "print(type(rev_matrix))\n",
    "print(rev_matrix)"
   ]
  },
  {
   "cell_type": "code",
   "execution_count": 159,
   "metadata": {},
   "outputs": [
    {
     "name": "stdout",
     "output_type": "stream",
     "text": [
      "Matrix\n",
      "<class 'numpy.ndarray'>\n",
      "[[0. 0. 0. ... 0. 0. 0.]\n",
      " [0. 0. 0. ... 0. 0. 0.]\n",
      " [0. 0. 0. ... 0. 0. 0.]\n",
      " ...\n",
      " [0. 0. 0. ... 0. 0. 0.]\n",
      " [0. 0. 0. ... 0. 0. 0.]\n",
      " [0. 0. 0. ... 0. 0. 0.]]\n"
     ]
    }
   ],
   "source": [
    "# change to array for dataframe \n",
    "\n",
    "print ('Matrix')\n",
    "rev_matrix_arr = rev_matrix.toarray()\n",
    "print(type(rev_matrix_arr))\n",
    "print(rev_matrix_arr)"
   ]
  },
  {
   "cell_type": "markdown",
   "metadata": {},
   "source": [
    "### doc word dataframe"
   ]
  },
  {
   "cell_type": "code",
   "execution_count": 160,
   "metadata": {},
   "outputs": [
    {
     "data": {
      "text/html": [
       "<div>\n",
       "<style scoped>\n",
       "    .dataframe tbody tr th:only-of-type {\n",
       "        vertical-align: middle;\n",
       "    }\n",
       "\n",
       "    .dataframe tbody tr th {\n",
       "        vertical-align: top;\n",
       "    }\n",
       "\n",
       "    .dataframe thead th {\n",
       "        text-align: right;\n",
       "    }\n",
       "</style>\n",
       "<table border=\"1\" class=\"dataframe\">\n",
       "  <thead>\n",
       "    <tr style=\"text-align: right;\">\n",
       "      <th></th>\n",
       "      <th>00</th>\n",
       "      <th>000</th>\n",
       "      <th>001</th>\n",
       "      <th>002</th>\n",
       "      <th>01</th>\n",
       "      <th>03</th>\n",
       "      <th>08</th>\n",
       "      <th>0s</th>\n",
       "      <th>10</th>\n",
       "      <th>100</th>\n",
       "      <th>...</th>\n",
       "      <th>ísimo</th>\n",
       "      <th>ólafur</th>\n",
       "      <th>órgãos</th>\n",
       "      <th>öyster</th>\n",
       "      <th>ørne</th>\n",
       "      <th>øya</th>\n",
       "      <th>über</th>\n",
       "      <th>überhip</th>\n",
       "      <th>風物詩</th>\n",
       "      <th>옛날이야기</th>\n",
       "    </tr>\n",
       "  </thead>\n",
       "  <tbody>\n",
       "    <tr>\n",
       "      <th>0</th>\n",
       "      <td>0.0</td>\n",
       "      <td>0.0</td>\n",
       "      <td>0.0</td>\n",
       "      <td>0.0</td>\n",
       "      <td>0.0</td>\n",
       "      <td>0.0</td>\n",
       "      <td>0.0</td>\n",
       "      <td>0.0</td>\n",
       "      <td>0.061644</td>\n",
       "      <td>0.0</td>\n",
       "      <td>...</td>\n",
       "      <td>0.0</td>\n",
       "      <td>0.0</td>\n",
       "      <td>0.0</td>\n",
       "      <td>0.0</td>\n",
       "      <td>0.0</td>\n",
       "      <td>0.0</td>\n",
       "      <td>0.0</td>\n",
       "      <td>0.0</td>\n",
       "      <td>0.0</td>\n",
       "      <td>0.0</td>\n",
       "    </tr>\n",
       "    <tr>\n",
       "      <th>1</th>\n",
       "      <td>0.0</td>\n",
       "      <td>0.0</td>\n",
       "      <td>0.0</td>\n",
       "      <td>0.0</td>\n",
       "      <td>0.0</td>\n",
       "      <td>0.0</td>\n",
       "      <td>0.0</td>\n",
       "      <td>0.0</td>\n",
       "      <td>0.055546</td>\n",
       "      <td>0.0</td>\n",
       "      <td>...</td>\n",
       "      <td>0.0</td>\n",
       "      <td>0.0</td>\n",
       "      <td>0.0</td>\n",
       "      <td>0.0</td>\n",
       "      <td>0.0</td>\n",
       "      <td>0.0</td>\n",
       "      <td>0.0</td>\n",
       "      <td>0.0</td>\n",
       "      <td>0.0</td>\n",
       "      <td>0.0</td>\n",
       "    </tr>\n",
       "    <tr>\n",
       "      <th>2</th>\n",
       "      <td>0.0</td>\n",
       "      <td>0.0</td>\n",
       "      <td>0.0</td>\n",
       "      <td>0.0</td>\n",
       "      <td>0.0</td>\n",
       "      <td>0.0</td>\n",
       "      <td>0.0</td>\n",
       "      <td>0.0</td>\n",
       "      <td>0.041801</td>\n",
       "      <td>0.0</td>\n",
       "      <td>...</td>\n",
       "      <td>0.0</td>\n",
       "      <td>0.0</td>\n",
       "      <td>0.0</td>\n",
       "      <td>0.0</td>\n",
       "      <td>0.0</td>\n",
       "      <td>0.0</td>\n",
       "      <td>0.0</td>\n",
       "      <td>0.0</td>\n",
       "      <td>0.0</td>\n",
       "      <td>0.0</td>\n",
       "    </tr>\n",
       "    <tr>\n",
       "      <th>3</th>\n",
       "      <td>0.0</td>\n",
       "      <td>0.0</td>\n",
       "      <td>0.0</td>\n",
       "      <td>0.0</td>\n",
       "      <td>0.0</td>\n",
       "      <td>0.0</td>\n",
       "      <td>0.0</td>\n",
       "      <td>0.0</td>\n",
       "      <td>0.052037</td>\n",
       "      <td>0.0</td>\n",
       "      <td>...</td>\n",
       "      <td>0.0</td>\n",
       "      <td>0.0</td>\n",
       "      <td>0.0</td>\n",
       "      <td>0.0</td>\n",
       "      <td>0.0</td>\n",
       "      <td>0.0</td>\n",
       "      <td>0.0</td>\n",
       "      <td>0.0</td>\n",
       "      <td>0.0</td>\n",
       "      <td>0.0</td>\n",
       "    </tr>\n",
       "    <tr>\n",
       "      <th>4</th>\n",
       "      <td>0.0</td>\n",
       "      <td>0.0</td>\n",
       "      <td>0.0</td>\n",
       "      <td>0.0</td>\n",
       "      <td>0.0</td>\n",
       "      <td>0.0</td>\n",
       "      <td>0.0</td>\n",
       "      <td>0.0</td>\n",
       "      <td>0.051405</td>\n",
       "      <td>0.0</td>\n",
       "      <td>...</td>\n",
       "      <td>0.0</td>\n",
       "      <td>0.0</td>\n",
       "      <td>0.0</td>\n",
       "      <td>0.0</td>\n",
       "      <td>0.0</td>\n",
       "      <td>0.0</td>\n",
       "      <td>0.0</td>\n",
       "      <td>0.0</td>\n",
       "      <td>0.0</td>\n",
       "      <td>0.0</td>\n",
       "    </tr>\n",
       "    <tr>\n",
       "      <th>...</th>\n",
       "      <td>...</td>\n",
       "      <td>...</td>\n",
       "      <td>...</td>\n",
       "      <td>...</td>\n",
       "      <td>...</td>\n",
       "      <td>...</td>\n",
       "      <td>...</td>\n",
       "      <td>...</td>\n",
       "      <td>...</td>\n",
       "      <td>...</td>\n",
       "      <td>...</td>\n",
       "      <td>...</td>\n",
       "      <td>...</td>\n",
       "      <td>...</td>\n",
       "      <td>...</td>\n",
       "      <td>...</td>\n",
       "      <td>...</td>\n",
       "      <td>...</td>\n",
       "      <td>...</td>\n",
       "      <td>...</td>\n",
       "      <td>...</td>\n",
       "    </tr>\n",
       "    <tr>\n",
       "      <th>619</th>\n",
       "      <td>0.0</td>\n",
       "      <td>0.0</td>\n",
       "      <td>0.0</td>\n",
       "      <td>0.0</td>\n",
       "      <td>0.0</td>\n",
       "      <td>0.0</td>\n",
       "      <td>0.0</td>\n",
       "      <td>0.0</td>\n",
       "      <td>0.000000</td>\n",
       "      <td>0.0</td>\n",
       "      <td>...</td>\n",
       "      <td>0.0</td>\n",
       "      <td>0.0</td>\n",
       "      <td>0.0</td>\n",
       "      <td>0.0</td>\n",
       "      <td>0.0</td>\n",
       "      <td>0.0</td>\n",
       "      <td>0.0</td>\n",
       "      <td>0.0</td>\n",
       "      <td>0.0</td>\n",
       "      <td>0.0</td>\n",
       "    </tr>\n",
       "    <tr>\n",
       "      <th>620</th>\n",
       "      <td>0.0</td>\n",
       "      <td>0.0</td>\n",
       "      <td>0.0</td>\n",
       "      <td>0.0</td>\n",
       "      <td>0.0</td>\n",
       "      <td>0.0</td>\n",
       "      <td>0.0</td>\n",
       "      <td>0.0</td>\n",
       "      <td>0.000000</td>\n",
       "      <td>0.0</td>\n",
       "      <td>...</td>\n",
       "      <td>0.0</td>\n",
       "      <td>0.0</td>\n",
       "      <td>0.0</td>\n",
       "      <td>0.0</td>\n",
       "      <td>0.0</td>\n",
       "      <td>0.0</td>\n",
       "      <td>0.0</td>\n",
       "      <td>0.0</td>\n",
       "      <td>0.0</td>\n",
       "      <td>0.0</td>\n",
       "    </tr>\n",
       "    <tr>\n",
       "      <th>621</th>\n",
       "      <td>0.0</td>\n",
       "      <td>0.0</td>\n",
       "      <td>0.0</td>\n",
       "      <td>0.0</td>\n",
       "      <td>0.0</td>\n",
       "      <td>0.0</td>\n",
       "      <td>0.0</td>\n",
       "      <td>0.0</td>\n",
       "      <td>0.000000</td>\n",
       "      <td>0.0</td>\n",
       "      <td>...</td>\n",
       "      <td>0.0</td>\n",
       "      <td>0.0</td>\n",
       "      <td>0.0</td>\n",
       "      <td>0.0</td>\n",
       "      <td>0.0</td>\n",
       "      <td>0.0</td>\n",
       "      <td>0.0</td>\n",
       "      <td>0.0</td>\n",
       "      <td>0.0</td>\n",
       "      <td>0.0</td>\n",
       "    </tr>\n",
       "    <tr>\n",
       "      <th>622</th>\n",
       "      <td>0.0</td>\n",
       "      <td>0.0</td>\n",
       "      <td>0.0</td>\n",
       "      <td>0.0</td>\n",
       "      <td>0.0</td>\n",
       "      <td>0.0</td>\n",
       "      <td>0.0</td>\n",
       "      <td>0.0</td>\n",
       "      <td>0.000000</td>\n",
       "      <td>0.0</td>\n",
       "      <td>...</td>\n",
       "      <td>0.0</td>\n",
       "      <td>0.0</td>\n",
       "      <td>0.0</td>\n",
       "      <td>0.0</td>\n",
       "      <td>0.0</td>\n",
       "      <td>0.0</td>\n",
       "      <td>0.0</td>\n",
       "      <td>0.0</td>\n",
       "      <td>0.0</td>\n",
       "      <td>0.0</td>\n",
       "    </tr>\n",
       "    <tr>\n",
       "      <th>623</th>\n",
       "      <td>0.0</td>\n",
       "      <td>0.0</td>\n",
       "      <td>0.0</td>\n",
       "      <td>0.0</td>\n",
       "      <td>0.0</td>\n",
       "      <td>0.0</td>\n",
       "      <td>0.0</td>\n",
       "      <td>0.0</td>\n",
       "      <td>0.000000</td>\n",
       "      <td>0.0</td>\n",
       "      <td>...</td>\n",
       "      <td>0.0</td>\n",
       "      <td>0.0</td>\n",
       "      <td>0.0</td>\n",
       "      <td>0.0</td>\n",
       "      <td>0.0</td>\n",
       "      <td>0.0</td>\n",
       "      <td>0.0</td>\n",
       "      <td>0.0</td>\n",
       "      <td>0.0</td>\n",
       "      <td>0.0</td>\n",
       "    </tr>\n",
       "  </tbody>\n",
       "</table>\n",
       "<p>624 rows × 23904 columns</p>\n",
       "</div>"
      ],
      "text/plain": [
       "      00  000  001  002   01   03   08   0s        10  100  ...  ísimo  \\\n",
       "0    0.0  0.0  0.0  0.0  0.0  0.0  0.0  0.0  0.061644  0.0  ...    0.0   \n",
       "1    0.0  0.0  0.0  0.0  0.0  0.0  0.0  0.0  0.055546  0.0  ...    0.0   \n",
       "2    0.0  0.0  0.0  0.0  0.0  0.0  0.0  0.0  0.041801  0.0  ...    0.0   \n",
       "3    0.0  0.0  0.0  0.0  0.0  0.0  0.0  0.0  0.052037  0.0  ...    0.0   \n",
       "4    0.0  0.0  0.0  0.0  0.0  0.0  0.0  0.0  0.051405  0.0  ...    0.0   \n",
       "..   ...  ...  ...  ...  ...  ...  ...  ...       ...  ...  ...    ...   \n",
       "619  0.0  0.0  0.0  0.0  0.0  0.0  0.0  0.0  0.000000  0.0  ...    0.0   \n",
       "620  0.0  0.0  0.0  0.0  0.0  0.0  0.0  0.0  0.000000  0.0  ...    0.0   \n",
       "621  0.0  0.0  0.0  0.0  0.0  0.0  0.0  0.0  0.000000  0.0  ...    0.0   \n",
       "622  0.0  0.0  0.0  0.0  0.0  0.0  0.0  0.0  0.000000  0.0  ...    0.0   \n",
       "623  0.0  0.0  0.0  0.0  0.0  0.0  0.0  0.0  0.000000  0.0  ...    0.0   \n",
       "\n",
       "     ólafur  órgãos  öyster  ørne  øya  über  überhip  風物詩  옛날이야기  \n",
       "0       0.0     0.0     0.0   0.0  0.0   0.0      0.0  0.0    0.0  \n",
       "1       0.0     0.0     0.0   0.0  0.0   0.0      0.0  0.0    0.0  \n",
       "2       0.0     0.0     0.0   0.0  0.0   0.0      0.0  0.0    0.0  \n",
       "3       0.0     0.0     0.0   0.0  0.0   0.0      0.0  0.0    0.0  \n",
       "4       0.0     0.0     0.0   0.0  0.0   0.0      0.0  0.0    0.0  \n",
       "..      ...     ...     ...   ...  ...   ...      ...  ...    ...  \n",
       "619     0.0     0.0     0.0   0.0  0.0   0.0      0.0  0.0    0.0  \n",
       "620     0.0     0.0     0.0   0.0  0.0   0.0      0.0  0.0    0.0  \n",
       "621     0.0     0.0     0.0   0.0  0.0   0.0      0.0  0.0    0.0  \n",
       "622     0.0     0.0     0.0   0.0  0.0   0.0      0.0  0.0    0.0  \n",
       "623     0.0     0.0     0.0   0.0  0.0   0.0      0.0  0.0    0.0  \n",
       "\n",
       "[624 rows x 23904 columns]"
      ]
     },
     "execution_count": 160,
     "metadata": {},
     "output_type": "execute_result"
    }
   ],
   "source": [
    "pd.DataFrame(rev_matrix_arr, columns=tfidf.get_feature_names())"
   ]
  },
  {
   "cell_type": "markdown",
   "metadata": {},
   "source": [
    "### cosine similarity"
   ]
  },
  {
   "cell_type": "code",
   "execution_count": 164,
   "metadata": {},
   "outputs": [],
   "source": [
    "cosine_similarities = cosine_similarity(rev_matrix)"
   ]
  },
  {
   "cell_type": "code",
   "execution_count": 185,
   "metadata": {},
   "outputs": [
    {
     "data": {
      "text/plain": [
       "624"
      ]
     },
     "execution_count": 185,
     "metadata": {},
     "output_type": "execute_result"
    }
   ],
   "source": [
    "len(cosine_similarities)"
   ]
  },
  {
   "cell_type": "code",
   "execution_count": 191,
   "metadata": {},
   "outputs": [],
   "source": [
    "similarities = {}"
   ]
  },
  {
   "cell_type": "code",
   "execution_count": 217,
   "metadata": {},
   "outputs": [],
   "source": [
    "for i in range(len(cosine_similarities)):\n",
    "    # Now we'll sort each element in cosine_similarities and get the indexes of the artists\n",
    "    similar_indices = cosine_similarities[i].argsort()[:-50:-1] \n",
    "    # After that, we'll store in similarities each name of the 10 most similar artists\n",
    "    # Except the first one that is the same artist\n",
    "    similarities[df['album_clean'].iloc[i]] = [(cosine_similarities[i][x], df['album_clean'][x], df['artist_clean'][x]) for x in similar_indices][1:]"
   ]
  },
  {
   "cell_type": "code",
   "execution_count": 218,
   "metadata": {},
   "outputs": [
    {
     "name": "stdout",
     "output_type": "stream",
     "text": [
      "Dictionary limited by K is : {'Fresh Bread': [(0.5033435218305348, '4444', 'sam gendel'), (0.3576256635139531, 'Satin Doll', 'sam gendel'), (0.2594550644748845, 'WILKES', 'sam wilkes'), (0.09662349241793174, 'Unemployed', 'alog'), (0.09616128862326336, 'Offering: Live at Temple University', 'john coltrane'), (0.09528506075020876, 'Actual Presence', 'carlos niño & friends'), (0.09378942748653298, 'The North Borders', 'bonobo'), (0.0922297896412552, 'Suite for Max Brown', 'jeff parker'), (0.09205163388723932, 'Cannonball!', 'sen morimoto'), (0.09060350495107489, 'Innercity Griots', 'freestyle fellowship'), (0.0892705478325018, 'Way Out West', 'sonny rollins'), (0.08914485170568812, 'Both Directions at Once: The Lost Album', 'john coltrane'), (0.08821962101745653, 'Exposure', 'esperanza spalding'), (0.08809768857308699, 'A Jackson in Your House/Message to Our Folks', 'art ensemble of chicago'), (0.08594317002292227, 'Bitches Brew [Legacy Edition]', 'miles davis'), (0.0853729932474535, 'Incommunicado', 'kammerflimmer kollektief'), (0.08498318627245577, 'LIVE', 'angel bat dawid / tha brothahood'), (0.08438293195743629, 'Sketches of Spain: Legacy Edition', 'miles davis'), (0.08381796658464497, 'Music to Draw to: Satellite', 'kid koala / emiliana torrini'), (0.08363273438781307, 'So Glossy and So Thin', 'jackson / baker / kirshner'), (0.08346979129103337, 'Blobscape', 'geoff farina'), (0.08342816434815599, '12 (+1) Imaginary Views', 'ellery eskelin'), (0.08308970510325213, 'Sen Morimoto', 'sen morimoto'), (0.08261956517999808, 'Report from Iron Mountain', 'date course pentagon royal garden'), (0.0819785127295837, 'Twilight & Ghost Stories / Between Them, A Forest Grew, Trackless and Quiet', 'chris schlarb / i heart lung'), (0.08172991111702874, 'Sweet and Vicious Like Frankenstein', 'rob mazurek'), (0.08146338895177917, 'Sound of the Police', 'cut chemist'), (0.08087090917527788, '3 Compositions (EEMHM) 2011/Trillium J: The Non-Unconfessionables No. 380/Quintet (Tristano) 2014', 'anthony braxton'), (0.08030124504391245, 'To Be Free: The Nina Simone Story', 'nina simone'), (0.08026904776238318, 'I Plan to Stay a Believer: The Inside Songs of Curtis Mayfield', 'william parker'), (0.07995065257616399, 'Life and the Afterbirth', 'skeletons'), (0.07939000300246365, 'Sélébéyone', 'steve lehman / sélébéyone'), (0.07920118350622102, 'Aytche', 'joseph shabason'), (0.07901578521613575, 'Master Sessions, Vol. 2', 'up, bustle and out'), (0.07824253261591917, 'David Axelrod', 'david axelrod'), (0.07789082745892396, 'Fragments', 'capillary action'), (0.07767362197375273, 'Universal Beings', 'makaya mccraven'), (0.07765395270696018, 'Some Other Time: the Lost Session from the Black Forest', 'bill evans'), (0.07719654578982318, 'The Complete Jack Johnson Sessions', 'miles davis'), (0.07716789553445869, 'Home Boy, Sister Out', 'don cherry'), (0.07686242557414052, 'The Complete On the Corner Sessions', 'miles davis'), (0.07650244506443457, 'Hello, Summer', 'pat van dyke'), (0.07642421293877695, 'Wildling', 'kammerflimmer kollektief'), (0.0763864787631489, 'Communion', 'park jiha'), (0.07618629638357251, 'Unsolved', 'karate'), (0.07589317001677803, 'The Centennial Trilogy', 'christian scott atunde adjuah'), (0.07579608973694107, 'Interpretations: The British Rock Songbook', 'bettye lavette'), (0.07572290340583249, 'The Complete In a Silent Way Sessions', 'miles davis')]}\n"
     ]
    }
   ],
   "source": [
    "import itertools\n",
    "\n",
    "# Initialize limit  \n",
    "N = 1\n",
    "    \n",
    "# Using islice() + items()  \n",
    "# Get first N items in dictionary  \n",
    "out = dict(itertools.islice(similarities.items(), N))  \n",
    "        \n",
    "# printing result   \n",
    "print(\"Dictionary limited by K is : \" + str(out))"
   ]
  },
  {
   "cell_type": "markdown",
   "metadata": {},
   "source": [
    "### content based recommendation"
   ]
  },
  {
   "cell_type": "code",
   "execution_count": 505,
   "metadata": {},
   "outputs": [],
   "source": [
    "class ContentBasedRecommender:\n",
    "    def __init__(self, matrix):\n",
    "        self.matrix_similar = matrix\n",
    "\n",
    "    def _print_message(self, album, recom_album,artist):\n",
    "        rec_items = len(recom_album)        \n",
    "        \n",
    "        #print(f'The {rec_items} recommended albums for {album} are:')\n",
    "        print(f'The {rec_items} recommended albums are:') # if can add artist search title\n",
    "        #print(f\"{album} by {artist} \") # with {album[0][0]} similarity score\")  # if can add artist sim score\n",
    "        for i in range(rec_items):\n",
    "            if i==0:\n",
    "                print(f\"Number {i+1}:\")\n",
    "                print(f\"{album} by {artist} ) with {recom_album[i][0]} similarity score\")  # if can add artist sim score\n",
    "                print(\"--------------------\")\n",
    "            else:    \n",
    "                print(f\"Number {i+1}:\")            \n",
    "                print(f\"{recom_album[i][1]} by {recom_album[i][2]} with {round(recom_album[i][0], 3)} similarity score\") \n",
    "                print(\"--------------------\")\n",
    "        \n",
    "    def recommend(self, recommendation):\n",
    "        artist = recommendation['artist']        \n",
    "        # Get album to find recommendations for\n",
    "        album = recommendation['album']\n",
    "        # Get number of albums to recommend\n",
    "        number_albums = recommendation['number_albums']\n",
    "        # Get the number of albums most similars from matrix similarities\n",
    "        recom_album = self.matrix_similar[album][:number_albums]\n",
    "        # print each item\n",
    "        self._print_message(album=album, recom_album=recom_album,artist=artist)"
   ]
  },
  {
   "cell_type": "code",
   "execution_count": 506,
   "metadata": {},
   "outputs": [],
   "source": [
    "recommedations = ContentBasedRecommender(similarities)"
   ]
  },
  {
   "cell_type": "code",
   "execution_count": 507,
   "metadata": {},
   "outputs": [],
   "source": [
    "# def checkart(val):\n",
    "#     a = df.index[df['othercat_clean'].str.contains(val,na=False)] # can we replace with the other artist column????\n",
    "#     if a.empty:\n",
    "#         return 'not found'\n",
    "#     elif len(a) > 1:\n",
    "#         return a.tolist()\n",
    "#     else:\n",
    "#         #only one value - return scalar  \n",
    "#         return a.item()"
   ]
  },
  {
   "cell_type": "code",
   "execution_count": 508,
   "metadata": {},
   "outputs": [],
   "source": [
    "# checkart('gendel')"
   ]
  },
  {
   "cell_type": "code",
   "execution_count": 509,
   "metadata": {},
   "outputs": [],
   "source": [
    "def artsimrec(art,albnum):\n",
    "    a= df.index[df['othercat_clean'].str.contains(art,na=False)]\n",
    "    \n",
    "    if a.empty:\n",
    "        return 'not found'\n",
    "    \n",
    "    elif len(a)>1:\n",
    "        for j in a:\n",
    "            recommendation = {\n",
    "               \"artist\": df['artist'].iloc[j],\n",
    "               \"album\": df['album'].iloc[j],\n",
    "               \"number_albums\": albnum\n",
    "            }\n",
    "            recommedations.recommend(recommendation)\n",
    "            \n",
    "    else:\n",
    "        for j in a:\n",
    "            recommendation = {\n",
    "                \"artist\": df['artist'].iloc[j],\n",
    "                \"album\": df['album'].iloc[j],\n",
    "                \"number_albums\": albnum\n",
    "            }\n",
    "            recommedations.recommend(recommendation)"
   ]
  },
  {
   "cell_type": "code",
   "execution_count": 510,
   "metadata": {},
   "outputs": [
    {
     "name": "stdout",
     "output_type": "stream",
     "text": [
      "rec items 3\n",
      "The 3 recommended albums are:\n",
      "Number 1:\n",
      "The Conny Plank Session by Duke Ellington ) with 0.13815615642325477 similarity score\n",
      "--------------------\n",
      "Number 2:\n",
      "Miles Davis at Newport 1955-1975: The Bootleg Series Vol. 4 by miles davis with 0.134 similarity score\n",
      "--------------------\n",
      "Number 3:\n",
      "Sketches of Spain: Legacy Edition by miles davis with 0.123 similarity score\n",
      "--------------------\n"
     ]
    }
   ],
   "source": [
    "artsimrec('kraftwerk',3)"
   ]
  },
  {
   "cell_type": "code",
   "execution_count": null,
   "metadata": {},
   "outputs": [],
   "source": []
  },
  {
   "cell_type": "code",
   "execution_count": null,
   "metadata": {},
   "outputs": [],
   "source": []
  },
  {
   "cell_type": "code",
   "execution_count": null,
   "metadata": {},
   "outputs": [],
   "source": []
  },
  {
   "cell_type": "code",
   "execution_count": null,
   "metadata": {},
   "outputs": [],
   "source": []
  },
  {
   "cell_type": "code",
   "execution_count": null,
   "metadata": {},
   "outputs": [],
   "source": []
  },
  {
   "cell_type": "code",
   "execution_count": 268,
   "metadata": {},
   "outputs": [],
   "source": [
    "def artsimrec(art,albnum):\n",
    "    recommendation = {\n",
    "        \"album\": df['album'].iloc[checkart(art)],\n",
    "        \"number_albums\": albnum\n",
    "    }\n",
    "    recommedations.recommend(recommendation)"
   ]
  },
  {
   "cell_type": "markdown",
   "metadata": {},
   "source": [
    "### enter artist and number of similar albums"
   ]
  },
  {
   "cell_type": "code",
   "execution_count": 269,
   "metadata": {},
   "outputs": [
    {
     "ename": "TypeError",
     "evalue": "'Series' objects are mutable, thus they cannot be hashed",
     "output_type": "error",
     "traceback": [
      "\u001b[0;31m---------------------------------------------------------------------------\u001b[0m",
      "\u001b[0;31mTypeError\u001b[0m                                 Traceback (most recent call last)",
      "\u001b[0;32m<ipython-input-269-5b70695aa500>\u001b[0m in \u001b[0;36m<module>\u001b[0;34m\u001b[0m\n\u001b[0;32m----> 1\u001b[0;31m \u001b[0martsimrec\u001b[0m\u001b[0;34m(\u001b[0m\u001b[0;34m'gendel'\u001b[0m\u001b[0;34m,\u001b[0m\u001b[0;36m7\u001b[0m\u001b[0;34m)\u001b[0m\u001b[0;34m\u001b[0m\u001b[0;34m\u001b[0m\u001b[0m\n\u001b[0m",
      "\u001b[0;32m<ipython-input-268-555dd35eaa5c>\u001b[0m in \u001b[0;36martsimrec\u001b[0;34m(art, albnum)\u001b[0m\n\u001b[1;32m      4\u001b[0m         \u001b[0;34m\"number_albums\"\u001b[0m\u001b[0;34m:\u001b[0m \u001b[0malbnum\u001b[0m\u001b[0;34m\u001b[0m\u001b[0;34m\u001b[0m\u001b[0m\n\u001b[1;32m      5\u001b[0m     }\n\u001b[0;32m----> 6\u001b[0;31m     \u001b[0mrecommedations\u001b[0m\u001b[0;34m.\u001b[0m\u001b[0mrecommend\u001b[0m\u001b[0;34m(\u001b[0m\u001b[0mrecommendation\u001b[0m\u001b[0;34m)\u001b[0m\u001b[0;34m\u001b[0m\u001b[0;34m\u001b[0m\u001b[0m\n\u001b[0m",
      "\u001b[0;32m<ipython-input-195-db8fc631fb1c>\u001b[0m in \u001b[0;36mrecommend\u001b[0;34m(self, recommendation)\u001b[0m\n\u001b[1;32m     18\u001b[0m         \u001b[0mnumber_albums\u001b[0m \u001b[0;34m=\u001b[0m \u001b[0mrecommendation\u001b[0m\u001b[0;34m[\u001b[0m\u001b[0;34m'number_albums'\u001b[0m\u001b[0;34m]\u001b[0m\u001b[0;34m\u001b[0m\u001b[0;34m\u001b[0m\u001b[0m\n\u001b[1;32m     19\u001b[0m         \u001b[0;31m# Get the number of albums most similars from matrix similarities\u001b[0m\u001b[0;34m\u001b[0m\u001b[0;34m\u001b[0m\u001b[0;34m\u001b[0m\u001b[0m\n\u001b[0;32m---> 20\u001b[0;31m         \u001b[0mrecom_album\u001b[0m \u001b[0;34m=\u001b[0m \u001b[0mself\u001b[0m\u001b[0;34m.\u001b[0m\u001b[0mmatrix_similar\u001b[0m\u001b[0;34m[\u001b[0m\u001b[0malbum\u001b[0m\u001b[0;34m]\u001b[0m\u001b[0;34m[\u001b[0m\u001b[0;34m:\u001b[0m\u001b[0mnumber_albums\u001b[0m\u001b[0;34m]\u001b[0m\u001b[0;34m\u001b[0m\u001b[0;34m\u001b[0m\u001b[0m\n\u001b[0m\u001b[1;32m     21\u001b[0m         \u001b[0;31m# print each item\u001b[0m\u001b[0;34m\u001b[0m\u001b[0;34m\u001b[0m\u001b[0;34m\u001b[0m\u001b[0m\n\u001b[1;32m     22\u001b[0m         \u001b[0mself\u001b[0m\u001b[0;34m.\u001b[0m\u001b[0m_print_message\u001b[0m\u001b[0;34m(\u001b[0m\u001b[0malbum\u001b[0m\u001b[0;34m=\u001b[0m\u001b[0malbum\u001b[0m\u001b[0;34m,\u001b[0m \u001b[0mrecom_album\u001b[0m\u001b[0;34m=\u001b[0m\u001b[0mrecom_album\u001b[0m\u001b[0;34m)\u001b[0m\u001b[0;34m\u001b[0m\u001b[0;34m\u001b[0m\u001b[0m\n",
      "\u001b[0;32m/opt/anaconda3/lib/python3.8/site-packages/pandas/core/generic.py\u001b[0m in \u001b[0;36m__hash__\u001b[0;34m(self)\u001b[0m\n\u001b[1;32m   1666\u001b[0m \u001b[0;34m\u001b[0m\u001b[0m\n\u001b[1;32m   1667\u001b[0m     \u001b[0;32mdef\u001b[0m \u001b[0m__hash__\u001b[0m\u001b[0;34m(\u001b[0m\u001b[0mself\u001b[0m\u001b[0;34m)\u001b[0m\u001b[0;34m:\u001b[0m\u001b[0;34m\u001b[0m\u001b[0;34m\u001b[0m\u001b[0m\n\u001b[0;32m-> 1668\u001b[0;31m         raise TypeError(\n\u001b[0m\u001b[1;32m   1669\u001b[0m             \u001b[0;34mf\"{repr(type(self).__name__)} objects are mutable, \"\u001b[0m\u001b[0;34m\u001b[0m\u001b[0;34m\u001b[0m\u001b[0m\n\u001b[1;32m   1670\u001b[0m             \u001b[0;34mf\"thus they cannot be hashed\"\u001b[0m\u001b[0;34m\u001b[0m\u001b[0;34m\u001b[0m\u001b[0m\n",
      "\u001b[0;31mTypeError\u001b[0m: 'Series' objects are mutable, thus they cannot be hashed"
     ]
    }
   ],
   "source": [
    "artsimrec('gendel',7)"
   ]
  },
  {
   "cell_type": "code",
   "execution_count": 203,
   "metadata": {},
   "outputs": [],
   "source": [
    "# recommendation = {\n",
    "#     \"album\": df['album'].iloc[7],\n",
    "#     \"number_albums\": 5\n",
    "# }"
   ]
  },
  {
   "cell_type": "code",
   "execution_count": 223,
   "metadata": {},
   "outputs": [
    {
     "name": "stdout",
     "output_type": "stream",
     "text": [
      "The 5 recommended albums for Legacy + are:\n",
      "Number 1:\n",
      "Black Times by seun kuti & egypt 80 with 0.353 similarity score\n",
      "--------------------\n",
      "Number 2:\n",
      "Mishaps Happening by quantic with 0.218 similarity score\n",
      "--------------------\n",
      "Number 3:\n",
      "Rejoice by tony allen / hugh masekela with 0.164 similarity score\n",
      "--------------------\n",
      "Number 4:\n",
      "Gilles Peterson in Africa by gilles peterson with 0.156 similarity score\n",
      "--------------------\n",
      "Number 5:\n",
      "Ghost Rock by nomo with 0.146 similarity score\n",
      "--------------------\n"
     ]
    }
   ],
   "source": [
    "recommedations.recommend(recommendation)"
   ]
  },
  {
   "cell_type": "code",
   "execution_count": null,
   "metadata": {},
   "outputs": [],
   "source": []
  },
  {
   "cell_type": "code",
   "execution_count": null,
   "metadata": {},
   "outputs": [],
   "source": [
    "import pandas as pd\n",
    "import numpy as np\n",
    "from sklearn.feature_extraction.text import CountVectorizer\n",
    "from sklearn.metrics.pairwise import cosine_similarity\n",
    "\n",
    "df = pd.read_csv(\"movie_dataset.csv\")\n",
    "\n",
    "features = ['keywords','cast','genres','director']\n",
    "\n",
    "def combine_features(row):\n",
    "    return row['keywords'] +\" \"+row['cast']+\" \"+row[\"genres\"]+\" \"+row[\"director\"]\n",
    "\n",
    "for feature in features:\n",
    "    df[feature] = df[feature].fillna('')\n",
    "df[\"combined_features\"] = df.apply(combine_features,axis=1)\n",
    "cv = CountVectorizer()\n",
    "count_matrix = cv.fit_transform(df[\"combined_features\"])\n",
    "cosine_sim = cosine_similarity(count_matrix)\n",
    "\n",
    "def get_title_from_index(index):\n",
    "    return df[df.index == index][\"title\"].values[0]\n",
    "\n",
    "def get_index_from_title(title):\n",
    "    return df[df.title == title][\"index\"].values[0]\n",
    "\n",
    "movie_user_likes = \"Avatar\"\n",
    "movie_index = get_index_from_title(movie_user_likes)\n",
    "similar_movies =  list(enumerate(cosine_sim[movie_index]))\n",
    "\n",
    "sorted_similar_movies = sorted(similar_movies,key=lambda x:x[1],reverse=True)[1:]\n",
    "\n",
    "i=0\n",
    "print(\"Top 5 similar movies to \"+movie_user_likes+\" are:\\n\")\n",
    "for element in sorted_similar_movies:\n",
    "    print(get_title_from_index(element[0]))\n",
    "    i=i+1\n",
    "    if i>=5:\n",
    "        break"
   ]
  },
  {
   "cell_type": "code",
   "execution_count": null,
   "metadata": {},
   "outputs": [],
   "source": []
  },
  {
   "cell_type": "code",
   "execution_count": null,
   "metadata": {},
   "outputs": [],
   "source": []
  },
  {
   "cell_type": "code",
   "execution_count": null,
   "metadata": {},
   "outputs": [],
   "source": []
  },
  {
   "cell_type": "code",
   "execution_count": null,
   "metadata": {},
   "outputs": [],
   "source": []
  },
  {
   "cell_type": "code",
   "execution_count": null,
   "metadata": {},
   "outputs": [],
   "source": []
  },
  {
   "cell_type": "code",
   "execution_count": null,
   "metadata": {},
   "outputs": [],
   "source": []
  },
  {
   "cell_type": "code",
   "execution_count": null,
   "metadata": {},
   "outputs": [],
   "source": []
  },
  {
   "cell_type": "code",
   "execution_count": null,
   "metadata": {},
   "outputs": [],
   "source": []
  },
  {
   "cell_type": "code",
   "execution_count": null,
   "metadata": {},
   "outputs": [],
   "source": []
  },
  {
   "cell_type": "code",
   "execution_count": null,
   "metadata": {},
   "outputs": [],
   "source": []
  },
  {
   "cell_type": "code",
   "execution_count": null,
   "metadata": {},
   "outputs": [],
   "source": []
  },
  {
   "cell_type": "code",
   "execution_count": null,
   "metadata": {},
   "outputs": [],
   "source": []
  },
  {
   "cell_type": "code",
   "execution_count": null,
   "metadata": {},
   "outputs": [],
   "source": []
  },
  {
   "cell_type": "code",
   "execution_count": null,
   "metadata": {},
   "outputs": [],
   "source": []
  },
  {
   "cell_type": "code",
   "execution_count": null,
   "metadata": {},
   "outputs": [],
   "source": []
  },
  {
   "cell_type": "code",
   "execution_count": null,
   "metadata": {},
   "outputs": [],
   "source": [
    "lsi = models.LsiModel(corpus_tfidf, id2word=dictionary, num_topics=500)\n",
    "In [234]:\n",
    "index = similarities.MatrixSimilarity(lsi[corpus])\n",
    "In [276]:\n",
    "text_input = 'Franconia Amber'\n",
    "In [251]:\n",
    "def get_beer_keywords(text_input):\n",
    "    input_beer_keywords = []\n",
    "    for item in sorted(corpus_tfidf[beers[beers.name == text_input].index[0]], key = lambda x: -x[1])[:5]:\n",
    "        input_beer_keywords.append(dictionary[item[0]])\n",
    "    return input_beer_keywords\n",
    "\n",
    "beers['keywords'] = beers.name.map(get_beer_keywords)\n",
    "get_beer_keywords(text_input)\n",
    "Out[251]:\n",
    "[u'dipa', u'grapefruit', u'hype', u'citrus', u'resinous']\n",
    "In [267]:\n",
    "def get_similar_beers(text_input):\n",
    "    try:\n",
    "        doc = documents[beers[beers.name == text_input].index[0]]\n",
    "        beer_name_inputted = 1\n",
    "    except IndexError:\n",
    "        doc = text_input\n",
    "        beer_name_inputted = 0\n",
    "    vec_bow = dictionary.doc2bow(doc.lower().split())\n",
    "    vec_lsi = lsi[vec_bow]\n",
    "\n",
    "    sims = index[vec_lsi]\n",
    "    similar_beers = []\n",
    "    for beer in sorted(enumerate(sims), key = lambda x: -x[1])[beer_name_inputted:beer_name_inputted+5]:\n",
    "        similar_beers.append((beer[0],beer[1]))\n",
    "\n",
    "    return similar_beers\n",
    "\n",
    "beers['similar_beers'] = beers.name.map(get_similar_beers)\n",
    "get_similar_beers(text_input)\n",
    "Out[267]:\n",
    "[(9383, 0.67443031),\n",
    " (3847, 0.66239333),\n",
    " (17265, 0.65351772),\n",
    " (19644, 0.64691734),\n",
    " (2230, 0.64626372)]\n",
    "In [269]:\n",
    "similar_beers = beers.similar_beers.iloc[0]\n",
    "In [287]:\n",
    "def get_recs_from_input(text_input):\n",
    "    beer_name_inputted = True\n",
    "\n",
    "    similar_beer_ids = list(beers[beers.name == text_input].similar_beers)\n",
    "    similar_beers = [beer[0] for beer in similar_beer_ids[0]]\n",
    "    similar_beers = beers.iloc[similar_beers]\n",
    "    return (similar_beers ,beer_name_inputted)\n",
    "\n",
    "\n",
    "get_recs_from_input(text_input)[0]"
   ]
  },
  {
   "cell_type": "code",
   "execution_count": null,
   "metadata": {},
   "outputs": [],
   "source": []
  },
  {
   "cell_type": "code",
   "execution_count": null,
   "metadata": {},
   "outputs": [],
   "source": []
  },
  {
   "cell_type": "code",
   "execution_count": null,
   "metadata": {},
   "outputs": [],
   "source": []
  },
  {
   "cell_type": "code",
   "execution_count": null,
   "metadata": {},
   "outputs": [],
   "source": []
  },
  {
   "cell_type": "code",
   "execution_count": null,
   "metadata": {},
   "outputs": [],
   "source": []
  },
  {
   "cell_type": "code",
   "execution_count": null,
   "metadata": {},
   "outputs": [],
   "source": []
  },
  {
   "cell_type": "code",
   "execution_count": null,
   "metadata": {},
   "outputs": [],
   "source": []
  },
  {
   "cell_type": "code",
   "execution_count": null,
   "metadata": {},
   "outputs": [],
   "source": []
  },
  {
   "cell_type": "code",
   "execution_count": null,
   "metadata": {},
   "outputs": [],
   "source": []
  },
  {
   "cell_type": "code",
   "execution_count": null,
   "metadata": {},
   "outputs": [],
   "source": []
  },
  {
   "cell_type": "code",
   "execution_count": null,
   "metadata": {},
   "outputs": [],
   "source": []
  },
  {
   "cell_type": "code",
   "execution_count": null,
   "metadata": {},
   "outputs": [],
   "source": []
  },
  {
   "cell_type": "code",
   "execution_count": null,
   "metadata": {},
   "outputs": [],
   "source": []
  },
  {
   "cell_type": "code",
   "execution_count": null,
   "metadata": {},
   "outputs": [],
   "source": []
  },
  {
   "cell_type": "code",
   "execution_count": null,
   "metadata": {},
   "outputs": [],
   "source": []
  },
  {
   "cell_type": "code",
   "execution_count": null,
   "metadata": {},
   "outputs": [],
   "source": []
  },
  {
   "cell_type": "code",
   "execution_count": null,
   "metadata": {},
   "outputs": [],
   "source": []
  },
  {
   "cell_type": "code",
   "execution_count": null,
   "metadata": {},
   "outputs": [],
   "source": []
  },
  {
   "cell_type": "code",
   "execution_count": null,
   "metadata": {},
   "outputs": [],
   "source": []
  },
  {
   "cell_type": "code",
   "execution_count": null,
   "metadata": {},
   "outputs": [],
   "source": []
  },
  {
   "cell_type": "code",
   "execution_count": null,
   "metadata": {},
   "outputs": [],
   "source": []
  },
  {
   "cell_type": "code",
   "execution_count": null,
   "metadata": {},
   "outputs": [],
   "source": []
  },
  {
   "cell_type": "code",
   "execution_count": null,
   "metadata": {},
   "outputs": [],
   "source": []
  },
  {
   "cell_type": "code",
   "execution_count": null,
   "metadata": {},
   "outputs": [],
   "source": []
  },
  {
   "cell_type": "code",
   "execution_count": null,
   "metadata": {},
   "outputs": [],
   "source": []
  },
  {
   "cell_type": "code",
   "execution_count": null,
   "metadata": {},
   "outputs": [],
   "source": []
  },
  {
   "cell_type": "code",
   "execution_count": null,
   "metadata": {},
   "outputs": [],
   "source": []
  },
  {
   "cell_type": "code",
   "execution_count": null,
   "metadata": {},
   "outputs": [],
   "source": []
  },
  {
   "cell_type": "code",
   "execution_count": null,
   "metadata": {},
   "outputs": [],
   "source": []
  },
  {
   "cell_type": "code",
   "execution_count": null,
   "metadata": {},
   "outputs": [],
   "source": []
  },
  {
   "cell_type": "code",
   "execution_count": null,
   "metadata": {},
   "outputs": [],
   "source": []
  },
  {
   "cell_type": "code",
   "execution_count": null,
   "metadata": {},
   "outputs": [],
   "source": []
  },
  {
   "cell_type": "code",
   "execution_count": null,
   "metadata": {},
   "outputs": [],
   "source": []
  },
  {
   "cell_type": "code",
   "execution_count": null,
   "metadata": {},
   "outputs": [],
   "source": []
  },
  {
   "cell_type": "markdown",
   "metadata": {},
   "source": [
    "### Topic Modeling"
   ]
  },
  {
   "cell_type": "code",
   "execution_count": 805,
   "metadata": {},
   "outputs": [],
   "source": [
    "def lsa(doc_word, feature_names, num_topics):\n",
    "    model = TruncatedSVD(num_topics)\n",
    "    doc_topic = model.fit_transform(doc_word)\n",
    "    for ix, topic in enumerate(model.components_):\n",
    "        print(\"\\nTopic \", ix)\n",
    "        print(\", \".join([feature_names[i] for i in topic.argsort()[:-21:-1]]))\n",
    "\n",
    "def nmf(doc_word, feature_names, num_topics):\n",
    "    model = NMF(num_topics)\n",
    "    doc_topic = model.fit_transform(doc_word)\n",
    "    for ix, topic in enumerate(model.components_):\n",
    "        print(\"\\nTopic \", ix)\n",
    "        print(\", \".join([feature_names[i] for i in topic.argsort()[:-75:-1]]))\n",
    "\n",
    "def lda(doc_word, feature_names, id2word, num_topics):\n",
    "    corpus = matutils.Sparse2Corpus(doc_word.transpose())\n",
    "    model = models.LdaModel(corpus=corpus, num_topics=num_topics, id2word=id2word, passes=5, random_state=42)\n",
    "    topics = model.print_topics(num_words=50)\n",
    "    for n, topic in topics:\n",
    "        print(\"\\nTopic \", n)\n",
    "        print(topic)\n",
    "        \n",
    "\n",
    "def corex(doc_word, feature_names, num_topics):\n",
    "    words = list(np.asarray(feature_names))\n",
    "    model = corextopic.Corex(n_hidden=num_topics, words=words, seed=1, max_iter=200)\n",
    "    model.fit(doc_word, words=words, docs=data) # where data = df[\"Lemmatized\"]\n",
    "    topics = model.get_topics()\n",
    "    for n,topic in enumerate(topics):\n",
    "        topic_words,_ = zip(*topic)\n",
    "        print('{}: '.format(n) + ','.join(topic_words))\n",
    "        \n",
    "def vectorize_2(data, min_df,max_df):\n",
    "    vec = CountVectorizer(stop_words=my_stop_words,  min_df=min_df , max_df=max_df) #ngram_range=(1, 3)\n",
    "    doc_word = vec.fit_transform(data)\n",
    "    feature_names = vec.get_feature_names()\n",
    "    id2word = dict((v, k) for k, v in vec.vocabulary_.items())\n",
    "    \n",
    "    return doc_word, feature_names, id2word        "
   ]
  },
  {
   "cell_type": "markdown",
   "metadata": {},
   "source": [
    "### NMF with min/max df"
   ]
  },
  {
   "cell_type": "code",
   "execution_count": 843,
   "metadata": {},
   "outputs": [
    {
     "name": "stderr",
     "output_type": "stream",
     "text": [
      "/opt/anaconda3/lib/python3.8/site-packages/ipykernel/ipkernel.py:287: DeprecationWarning: `should_run_async` will not call `transform_cell` automatically in the future. Please pass the result to `transformed_cell` argument and any exception that happen during thetransform in `preprocessing_exc_tuple` in IPython 7.17 and above.\n",
      "  and should_run_async(code)\n"
     ]
    }
   ],
   "source": [
    "data_grg = df_sent_grg[\"lemmatized\"]\n",
    "#data_pos = df_sent_grg_pos[\"lemmatized\"]"
   ]
  },
  {
   "cell_type": "code",
   "execution_count": 871,
   "metadata": {},
   "outputs": [
    {
     "name": "stdout",
     "output_type": "stream",
     "text": [
      "\n",
      "Topic  0\n",
      "hand, kramer, parent, leave, big, move, point, thank, happen, mean, maybe, walk, life, salad, much, even, laugh, apartment, eat, stop, need, play, door, man, kid, face, sorry, sit, check, father, hear, work, turn, table, god, dinner, hold, arm, use, dad, year, lunch, mother, find, please, ever, nice, money, wear, job, buy, kind, break, fine, mind, try, room, another, chuckle, anymore, clothe, shirt, shake, whole, place, pick, raise, head, heh, plan, live, may, help, people\n",
      "\n",
      "Topic  1\n",
      "car, bar, first, space, candy, move, dollar, park, big, people, maybe, pull, lot, even, pay, parking, walk, great, front, head, spot, door, sorry, start, leave, buy, kramer, need, help, turn, mean, hat, away, window, day, wait, stop, try, drive, name, nobody, anything, hear, sure, stand, coat, believe, kid, please, open, run, hospital, twenty, pick, wrong, might, change, excuse, fine, another, minute, doubt, ask, store, susan, father, chair, heh, bother, nice, listen, fall, much, elaine\n",
      "\n",
      "Topic  2\n",
      "show, nothing, idea, name, funny, kramer, tv, happen, life, susan, story, need, maybe, last, read, people, forget, water, mean, fine, meet, plane, kind, minute, nice, wait, toilet, eat, whole, always, write, day, might, store, start, god, bring, shop, jacket, nbc, great, else, old, paper, son, real, hear, money, nervous, meeting, ahead, lot, thank, actually, remember, business, many, sir, big, new, help, die, suit, pay, table, crazy, kill, married, anything, sport, soda, second, involve, writer\n",
      "\n",
      "Topic  3\n",
      "elaine, funny, laugh, friend, susan, love, work, try, sit, bald, mean, man, ever, fix, coffee, ask, day, every, woman, meet, bad, please, anything, door, start, nose, chuckle, kramer, great, stuff, course, people, find, speak, anyone, last, cup, boy, sex, everything, bathroom, happen, opposite, point, hear, world, open, always, whisper, turn, feel, lot, walk, new, stop, anyway, shout, live, sleep, lie, hair, cousin, phone, eye, wow, key, toast, nice, move, rest, together, suppose, movie, wear\n",
      "\n",
      "Topic  4\n",
      "woman, wait, coffee, ask, anything, believe, love, night, work, leave, minute, even, phone, sure, try, keep, great, happen, feel, day, listen, much, office, people, bad, second, maybe, man, thank, bathroom, god, hear, course, long, machine, pay, stand, start, hell, need, problem, must, boy, dollar, room, home, suppose, remember, ever, date, dead, find, always, nice, friend, break, away, mean, easy, first, change, pick, excuse, care, use, smile, ticket, meet, tomorrow, whole, buy, everything, ten, please\n"
     ]
    },
    {
     "name": "stderr",
     "output_type": "stream",
     "text": [
      "/opt/anaconda3/lib/python3.8/site-packages/ipykernel/ipkernel.py:287: DeprecationWarning: `should_run_async` will not call `transform_cell` automatically in the future. Please pass the result to `transformed_cell` argument and any exception that happen during thetransform in `preprocessing_exc_tuple` in IPython 7.17 and above.\n",
      "  and should_run_async(code)\n",
      "/opt/anaconda3/lib/python3.8/site-packages/sklearn/decomposition/_nmf.py:1076: ConvergenceWarning: Maximum number of iterations 200 reached. Increase it to improve convergence.\n",
      "  warnings.warn(\"Maximum number of iterations %d reached. Increase it to\"\n"
     ]
    }
   ],
   "source": [
    "doc_word, feature_names, id2word= vectorize_2(data_grg,.03,.55)\n",
    "nmf(doc_word, feature_names, 5)"
   ]
  },
  {
   "cell_type": "markdown",
   "metadata": {},
   "source": [
    "## LDA with min/max df"
   ]
  },
  {
   "cell_type": "code",
   "execution_count": 845,
   "metadata": {},
   "outputs": [
    {
     "name": "stderr",
     "output_type": "stream",
     "text": [
      "/opt/anaconda3/lib/python3.8/site-packages/ipykernel/ipkernel.py:287: DeprecationWarning: `should_run_async` will not call `transform_cell` automatically in the future. Please pass the result to `transformed_cell` argument and any exception that happen during thetransform in `preprocessing_exc_tuple` in IPython 7.17 and above.\n",
      "  and should_run_async(code)\n"
     ]
    }
   ],
   "source": [
    "from gensim.corpora.dictionary import Dictionary\n",
    "\n",
    "def vectorize_vis(data, min_df,max_df):\n",
    "    vec = CountVectorizer(stop_words=my_stop_words, min_df=min_df, max_df=max_df) #, ngram_range=(1, 3)\n",
    "    doc_word = vec.fit_transform(data)\n",
    "    feature_names = vec.get_feature_names()\n",
    "    id2word = dict((v, k) for k, v in vec.vocabulary_.items())\n",
    "    dictionary = Dictionary([feature_names])\n",
    "    \n",
    "    return doc_word, feature_names, id2word, dictionary"
   ]
  },
  {
   "cell_type": "code",
   "execution_count": 846,
   "metadata": {},
   "outputs": [
    {
     "name": "stderr",
     "output_type": "stream",
     "text": [
      "/opt/anaconda3/lib/python3.8/site-packages/ipykernel/ipkernel.py:287: DeprecationWarning: `should_run_async` will not call `transform_cell` automatically in the future. Please pass the result to `transformed_cell` argument and any exception that happen during thetransform in `preprocessing_exc_tuple` in IPython 7.17 and above.\n",
      "  and should_run_async(code)\n"
     ]
    }
   ],
   "source": [
    "import pyLDAvis.gensim\n",
    "pyLDAvis.enable_notebook()\n",
    "\n",
    "def lda_vis(doc_word, feature_names, id2word, dictionary, num_topics):\n",
    "    corpus = matutils.Sparse2Corpus(doc_word.transpose())\n",
    "    model = models.LdaModel(corpus=corpus, num_topics=num_topics, id2word=id2word, passes=5, random_state=42)    \n",
    "    topics = model.print_topics(num_words=50)\n",
    "    for n, topic in topics:\n",
    "        print(\"\\nTopic \", n)\n",
    "        print(topic)\n",
    "\n",
    "    vis_data = pyLDAvis.gensim.prepare(model, corpus, dictionary)\n",
    "    return vis_data"
   ]
  },
  {
   "cell_type": "code",
   "execution_count": 868,
   "metadata": {},
   "outputs": [
    {
     "name": "stderr",
     "output_type": "stream",
     "text": [
      "/opt/anaconda3/lib/python3.8/site-packages/ipykernel/ipkernel.py:287: DeprecationWarning: `should_run_async` will not call `transform_cell` automatically in the future. Please pass the result to `transformed_cell` argument and any exception that happen during thetransform in `preprocessing_exc_tuple` in IPython 7.17 and above.\n",
      "  and should_run_async(code)\n"
     ]
    },
    {
     "name": "stdout",
     "output_type": "stream",
     "text": [
      "\n",
      "Topic  0\n",
      "0.010*\"elaine\" + 0.010*\"kramer\" + 0.010*\"something\" + 0.009*\"talk\" + 0.008*\"call\" + 0.008*\"woman\" + 0.008*\"happen\" + 0.008*\"time\" + 0.007*\"little\" + 0.007*\"even\" + 0.007*\"give\" + 0.007*\"george\" + 0.007*\"anything\" + 0.007*\"people\" + 0.007*\"show\" + 0.007*\"never\" + 0.007*\"stop\" + 0.007*\"need\" + 0.007*\"great\" + 0.006*\"mean\" + 0.006*\"yes\" + 0.006*\"day\" + 0.006*\"try\" + 0.006*\"nothing\" + 0.006*\"leave\" + 0.005*\"maybe\" + 0.005*\"buy\" + 0.005*\"ask\" + 0.005*\"nice\" + 0.005*\"name\" + 0.005*\"big\" + 0.005*\"start\" + 0.005*\"hear\" + 0.005*\"care\" + 0.005*\"laugh\" + 0.005*\"sorry\" + 0.005*\"friend\" + 0.005*\"point\" + 0.005*\"believe\" + 0.005*\"excuse\" + 0.004*\"live\" + 0.004*\"funny\" + 0.004*\"meet\" + 0.004*\"lot\" + 0.004*\"minute\" + 0.004*\"phone\" + 0.004*\"wait\" + 0.004*\"first\" + 0.004*\"always\" + 0.004*\"guy\"\n",
      "\n",
      "Topic  1\n",
      "0.012*\"call\" + 0.010*\"yes\" + 0.009*\"something\" + 0.009*\"george\" + 0.008*\"guy\" + 0.008*\"big\" + 0.008*\"little\" + 0.008*\"try\" + 0.008*\"wait\" + 0.007*\"give\" + 0.007*\"talk\" + 0.007*\"happen\" + 0.006*\"maybe\" + 0.006*\"leave\" + 0.006*\"parent\" + 0.006*\"door\" + 0.006*\"great\" + 0.006*\"nothing\" + 0.006*\"never\" + 0.006*\"read\" + 0.006*\"work\" + 0.006*\"need\" + 0.006*\"buy\" + 0.006*\"feel\" + 0.006*\"salad\" + 0.006*\"find\" + 0.005*\"man\" + 0.005*\"time\" + 0.005*\"ask\" + 0.005*\"coffee\" + 0.005*\"kramer\" + 0.005*\"night\" + 0.005*\"elaine\" + 0.005*\"day\" + 0.005*\"sure\" + 0.005*\"kid\" + 0.005*\"thank\" + 0.005*\"head\" + 0.004*\"break\" + 0.004*\"believe\" + 0.004*\"sit\" + 0.004*\"woman\" + 0.004*\"anything\" + 0.004*\"book\" + 0.004*\"live\" + 0.004*\"play\" + 0.004*\"use\" + 0.004*\"stop\" + 0.004*\"lunch\" + 0.004*\"hear\"\n",
      "\n",
      "Topic  2\n",
      "0.016*\"car\" + 0.012*\"something\" + 0.010*\"yes\" + 0.010*\"guy\" + 0.009*\"mean\" + 0.008*\"happen\" + 0.008*\"time\" + 0.007*\"george\" + 0.007*\"eat\" + 0.007*\"big\" + 0.007*\"people\" + 0.007*\"little\" + 0.007*\"give\" + 0.007*\"maybe\" + 0.007*\"walk\" + 0.007*\"never\" + 0.006*\"love\" + 0.006*\"much\" + 0.006*\"move\" + 0.006*\"day\" + 0.005*\"kramer\" + 0.005*\"feel\" + 0.005*\"leave\" + 0.005*\"need\" + 0.005*\"work\" + 0.005*\"ask\" + 0.005*\"pick\" + 0.005*\"anything\" + 0.005*\"call\" + 0.005*\"start\" + 0.005*\"change\" + 0.005*\"even\" + 0.005*\"find\" + 0.005*\"great\" + 0.005*\"elaine\" + 0.005*\"believe\" + 0.004*\"sit\" + 0.004*\"hear\" + 0.004*\"chair\" + 0.004*\"bar\" + 0.004*\"talk\" + 0.004*\"might\" + 0.004*\"whole\" + 0.004*\"bad\" + 0.004*\"thank\" + 0.004*\"pay\" + 0.004*\"nothing\" + 0.004*\"sorry\" + 0.004*\"stand\" + 0.004*\"use\"\n",
      "\n",
      "Topic  3\n",
      "0.017*\"elaine\" + 0.013*\"george\" + 0.011*\"time\" + 0.011*\"guy\" + 0.011*\"never\" + 0.010*\"work\" + 0.010*\"give\" + 0.009*\"kramer\" + 0.008*\"woman\" + 0.008*\"call\" + 0.007*\"leave\" + 0.007*\"something\" + 0.007*\"yes\" + 0.007*\"talk\" + 0.007*\"love\" + 0.007*\"little\" + 0.006*\"ask\" + 0.006*\"hear\" + 0.006*\"wait\" + 0.006*\"susan\" + 0.006*\"laugh\" + 0.006*\"try\" + 0.005*\"course\" + 0.005*\"start\" + 0.005*\"funny\" + 0.005*\"anything\" + 0.005*\"mean\" + 0.005*\"minute\" + 0.005*\"apartment\" + 0.005*\"nothing\" + 0.005*\"place\" + 0.005*\"ever\" + 0.004*\"key\" + 0.004*\"please\" + 0.004*\"happen\" + 0.004*\"need\" + 0.004*\"friend\" + 0.004*\"meet\" + 0.004*\"second\" + 0.004*\"phone\" + 0.004*\"life\" + 0.004*\"hand\" + 0.004*\"even\" + 0.004*\"speak\" + 0.004*\"sit\" + 0.004*\"people\" + 0.004*\"new\" + 0.004*\"god\" + 0.004*\"sure\" + 0.004*\"maybe\"\n",
      "\n",
      "Topic  4\n",
      "0.016*\"guy\" + 0.013*\"yes\" + 0.012*\"talk\" + 0.009*\"hand\" + 0.008*\"something\" + 0.008*\"never\" + 0.008*\"george\" + 0.007*\"man\" + 0.007*\"susan\" + 0.007*\"thank\" + 0.007*\"give\" + 0.007*\"time\" + 0.007*\"sure\" + 0.007*\"nothing\" + 0.006*\"maybe\" + 0.006*\"show\" + 0.006*\"friend\" + 0.006*\"call\" + 0.006*\"little\" + 0.006*\"leave\" + 0.006*\"god\" + 0.006*\"woman\" + 0.006*\"wait\" + 0.006*\"much\" + 0.006*\"mean\" + 0.005*\"believe\" + 0.005*\"listen\" + 0.005*\"fine\" + 0.005*\"dollar\" + 0.005*\"elaine\" + 0.005*\"kramer\" + 0.005*\"day\" + 0.005*\"feel\" + 0.005*\"people\" + 0.005*\"first\" + 0.005*\"even\" + 0.004*\"move\" + 0.004*\"nice\" + 0.004*\"bad\" + 0.004*\"mother\" + 0.004*\"life\" + 0.004*\"happen\" + 0.004*\"minute\" + 0.004*\"try\" + 0.004*\"ask\" + 0.004*\"smile\" + 0.004*\"story\" + 0.004*\"ever\" + 0.004*\"walk\" + 0.004*\"laugh\"\n"
     ]
    }
   ],
   "source": [
    "doc_word, feature_names, id2word, dictionary = vectorize_vis(data_grg, 0.03,.65)\n",
    "\n",
    "vis_data = lda_vis(doc_word, feature_names, id2word, dictionary, 5)"
   ]
  },
  {
   "cell_type": "code",
   "execution_count": 869,
   "metadata": {},
   "outputs": [
    {
     "name": "stderr",
     "output_type": "stream",
     "text": [
      "/opt/anaconda3/lib/python3.8/site-packages/ipykernel/ipkernel.py:287: DeprecationWarning: `should_run_async` will not call `transform_cell` automatically in the future. Please pass the result to `transformed_cell` argument and any exception that happen during thetransform in `preprocessing_exc_tuple` in IPython 7.17 and above.\n",
      "  and should_run_async(code)\n"
     ]
    },
    {
     "data": {
      "text/html": [
       "\n",
       "<link rel=\"stylesheet\" type=\"text/css\" href=\"https://cdn.jsdelivr.net/gh/bmabey/pyLDAvis@3.2.2/pyLDAvis/js/ldavis.v1.0.0.css\">\n",
       "\n",
       "\n",
       "<div id=\"ldavis_el290611402825844125607313560287\"></div>\n",
       "<script type=\"text/javascript\">\n",
       "\n",
       "var ldavis_el290611402825844125607313560287_data = {\"mdsDat\": {\"x\": [-0.002029291038582472, 0.028472976065565602, 0.03513619583132491, -0.013338705424711073, -0.04824117543359697], \"y\": [-0.007178604301415315, -0.040218551285440045, 0.02838053592106512, 0.030106017941625065, -0.01108939827583483], \"topics\": [1, 2, 3, 4, 5], \"cluster\": [1, 1, 1, 1, 1], \"Freq\": [24.494846778546535, 22.96870339782518, 20.182368001435282, 17.54271074154857, 14.811371080644435]}, \"tinfo\": {\"Term\": [\"car\", \"salad\", \"elaine\", \"bar\", \"read\", \"susan\", \"parent\", \"buy\", \"big\", \"chair\", \"call\", \"dad\", \"lunch\", \"ball\", \"candy\", \"key\", \"book\", \"machine\", \"tape\", \"plan\", \"soda\", \"yknow\", \"card\", \"kid\", \"plane\", \"night\", \"stop\", \"jerk\", \"talk\", \"eat\", \"dunno\", \"vandelay\", \"control\", \"interview\", \"key\", \"fight\", \"plenty\", \"camera\", \"superman\", \"sort\", \"age\", \"throat\", \"aware\", \"ignore\", \"bald\", \"plead\", \"sweater\", \"message\", \"quiet\", \"rest\", \"thinkin\", \"boss\", \"player\", \"photo\", \"woah\", \"baseball\", \"nod\", \"alone\", \"super\", \"vacation\", \"speak\", \"chinese\", \"elaine\", \"anyone\", \"truth\", \"work\", \"apartment\", \"someone\", \"place\", \"george\", \"time\", \"never\", \"susan\", \"kramer\", \"woman\", \"course\", \"give\", \"love\", \"funny\", \"hear\", \"guy\", \"laugh\", \"leave\", \"ask\", \"second\", \"call\", \"start\", \"wait\", \"try\", \"little\", \"something\", \"talk\", \"yes\", \"minute\", \"anything\", \"mean\", \"nothing\", \"jerk\", \"animate\", \"yknow\", \"married\", \"belong\", \"laughter\", \"doubt\", \"marry\", \"naked\", \"queen\", \"pack\", \"frustrated\", \"heart\", \"shout\", \"luck\", \"smile\", \"system\", \"indicate\", \"lock\", \"hot\", \"except\", \"remove\", \"pop\", \"mutter\", \"busy\", \"glass\", \"dog\", \"cry\", \"angry\", \"learn\", \"step\", \"ready\", \"fine\", \"susan\", \"hand\", \"guy\", \"talk\", \"story\", \"man\", \"yes\", \"sure\", \"idea\", \"mother\", \"god\", \"dollar\", \"thank\", \"friend\", \"show\", \"much\", \"nothing\", \"wear\", \"maybe\", \"never\", \"first\", \"listen\", \"something\", \"believe\", \"george\", \"wait\", \"give\", \"time\", \"leave\", \"woman\", \"little\", \"mean\", \"call\", \"feel\", \"day\", \"elaine\", \"candy\", \"bar\", \"car\", \"left\", \"funeral\", \"chair\", \"bout\", \"seventyfive\", \"switch\", \"note\", \"fabulous\", \"chip\", \"boyfriend\", \"police\", \"top\", \"shoot\", \"agree\", \"hip\", \"flip\", \"spot\", \"stomach\", \"disgusting\", \"white\", \"newspaper\", \"possible\", \"free\", \"death\", \"fair\", \"gun\", \"scared\", \"middle\", \"couch\", \"bite\", \"eat\", \"finger\", \"question\", \"park\", \"pull\", \"change\", \"might\", \"walk\", \"hospital\", \"yankee\", \"mean\", \"something\", \"move\", \"doctor\", \"big\", \"people\", \"pick\", \"much\", \"yes\", \"happen\", \"love\", \"maybe\", \"guy\", \"feel\", \"little\", \"time\", \"give\", \"day\", \"find\", \"george\", \"start\", \"never\", \"need\", \"leave\", \"anything\", \"kramer\", \"ask\", \"work\", \"call\", \"soda\", \"expensive\", \"less\", \"napkin\", \"exciting\", \"present\", \"exact\", \"christmas\", \"possibly\", \"hurry\", \"plane\", \"letter\", \"seven\", \"early\", \"whisper\", \"expect\", \"nose\", \"sport\", \"group\", \"cleaning\", \"sweetheart\", \"test\", \"low\", \"interrupt\", \"regular\", \"score\", \"crash\", \"traffic\", \"crack\", \"quit\", \"cab\", \"smart\", \"six\", \"conversation\", \"care\", \"shed\", \"stop\", \"sex\", \"excuse\", \"anymore\", \"kramer\", \"buy\", \"even\", \"show\", \"name\", \"woman\", \"live\", \"need\", \"elaine\", \"anything\", \"happen\", \"talk\", \"great\", \"people\", \"sorry\", \"something\", \"call\", \"point\", \"little\", \"day\", \"time\", \"nice\", \"mean\", \"give\", \"try\", \"never\", \"george\", \"nothing\", \"leave\", \"yes\", \"maybe\", \"ask\", \"salad\", \"birthday\", \"kitchen\", \"machine\", \"ball\", \"lovely\", \"instead\", \"hook\", \"clothe\", \"laundry\", \"fun\", \"plan\", \"dad\", \"prove\", \"town\", \"fake\", \"bump\", \"towards\", \"book\", \"bust\", \"card\", \"york\", \"serious\", \"toe\", \"moment\", \"iim\", \"gut\", \"read\", \"fish\", \"damn\", \"tape\", \"voice\", \"parent\", \"lunch\", \"pause\", \"sell\", \"door\", \"call\", \"buy\", \"big\", \"try\", \"kid\", \"night\", \"wait\", \"break\", \"find\", \"yes\", \"little\", \"something\", \"feel\", \"george\", \"great\", \"coffee\", \"happen\", \"guy\", \"maybe\", \"need\", \"nothing\", \"leave\", \"give\", \"talk\", \"work\", \"never\", \"man\", \"ask\", \"time\"], \"Freq\": [112.0, 26.0, 210.0, 26.0, 50.0, 93.0, 58.0, 73.0, 123.0, 32.0, 184.0, 27.0, 36.0, 22.0, 18.0, 36.0, 31.0, 22.0, 23.0, 25.0, 17.0, 21.0, 28.0, 60.0, 27.0, 63.0, 87.0, 14.0, 193.0, 83.0, 9.805786517103186, 14.932660160703135, 5.207785907357239, 9.593336755506456, 26.458574580956327, 12.669066401199968, 4.948991976434918, 6.823482263679512, 6.574852539917687, 14.12983394702243, 5.685731263400373, 6.810511798291631, 9.801020843088823, 4.91006134974517, 19.705233388540602, 5.279908072455608, 7.0299964359829294, 11.101685517951855, 5.256227952257752, 12.186320056903627, 5.184461027423403, 4.611067577410275, 6.353365130344197, 8.649620714673315, 6.824374560090712, 6.0497423955532375, 10.558807766051535, 8.353953124062457, 6.095439020618036, 4.987284149658032, 22.694584406020436, 12.082332560405916, 99.25518150215566, 16.885168342703484, 9.209636012145168, 59.71329820472652, 28.713712503308845, 20.361689424775314, 27.18607866999505, 80.65081811164116, 65.62731574279277, 63.31098139133608, 35.83958884598427, 55.81633488576608, 49.5715578930554, 31.583301398551274, 58.304840487072866, 39.93288534708303, 30.215041774080554, 37.66083854759665, 64.8415802221291, 34.57146781562314, 44.078855308116914, 38.17214117421882, 25.36584713732837, 47.18366640432185, 31.290085525195643, 37.541668026271374, 33.723170848147866, 39.23420327127629, 43.91997899507696, 40.032260314483345, 40.58172749356449, 28.879237683337585, 29.872618131239562, 29.019213536031216, 27.67655079074197, 12.948434366815725, 10.576233536036076, 16.44439900580905, 7.066237086796528, 6.109115369191026, 6.724287529983013, 8.652069016240494, 17.13647498161517, 14.521639044055778, 6.542555948399277, 5.481373987654856, 4.840946011009624, 5.950303263448977, 15.869517726861037, 6.438151122976869, 23.264519753964663, 5.2296607278327345, 6.22896771018802, 7.335542403312459, 11.643117333595116, 3.8104243326846134, 3.6873179677450576, 9.993211459657957, 7.946643837528039, 8.789413416218201, 15.371438625907293, 8.847406844032426, 6.2249258354108, 8.145488470366786, 3.5343670394358737, 15.772445848491461, 9.71040743545808, 28.253226648043093, 40.559311114954006, 50.33912417625076, 89.0242197930315, 70.23237152153297, 23.19398497362138, 42.146508914800464, 73.97994220968552, 38.87901905068973, 19.793626017020696, 23.78777073826492, 34.664363962584346, 27.936743394072355, 39.6711137227189, 35.80687685021156, 35.89543089059345, 33.407710734476744, 38.091488208714, 18.837583618993925, 36.383619070207224, 44.15330367602638, 26.278378697191307, 28.664338557570307, 45.848897685423886, 29.935239328695335, 44.06759809509164, 33.9389825189514, 39.47826042827072, 39.385399601137244, 35.06416072104801, 34.22255636161144, 35.24777881686505, 32.95067462931401, 35.380562665402856, 26.81750866260856, 27.30974133989039, 27.567356431953325, 14.991691593422738, 20.74318074752278, 78.35402418507809, 7.087682635471553, 7.554144530871873, 20.843359478038273, 5.557232830583888, 4.825613735687628, 4.719795097290001, 6.932318254749908, 4.619601098085856, 6.963704916850473, 10.353363592748627, 5.134381767037144, 9.627626688133688, 7.8660959397612364, 4.395189690657631, 4.435732956534348, 4.914620395524817, 11.404210058809939, 3.8001619797403388, 4.797132733846511, 6.413692180965871, 4.19387375930311, 5.5975640633502595, 9.512493285392543, 5.491734189502492, 4.953731285552835, 3.3902253459090934, 4.344877344927863, 7.199140605574383, 9.55438999087851, 8.569885688924536, 36.1884514963615, 16.066648759308926, 16.227993280390038, 13.07447322907075, 14.064050192718987, 23.758381460249165, 19.515154113628288, 33.58303012116439, 8.946330310151941, 14.815068012504218, 42.731779453403895, 59.410525165189924, 30.342836926575586, 13.479829832483126, 35.598568469254765, 35.497578481621424, 24.78107937855814, 30.702491175877437, 51.443782063068866, 37.425849071850216, 32.15464141682347, 33.72333150839749, 48.99679090603947, 26.594727634982952, 35.28196155076866, 37.23433707905303, 35.07591607108186, 27.420124134699194, 23.41742299998133, 36.75537502515009, 24.062033616634647, 32.91265287218855, 25.114750353011676, 26.53497117318882, 24.632810616733003, 26.67005470214122, 24.880707283928274, 25.062855249254405, 24.28619640371745, 12.838024979317161, 4.337770663013541, 8.433967469277562, 4.100109701961373, 6.003458759723433, 7.606757880546712, 4.86347042859573, 11.185826431513991, 4.791420161156878, 3.7114078619160633, 15.21217356725381, 5.764920364489548, 10.467018527257283, 4.668068540747541, 7.266430108773176, 5.048522900139579, 15.620629195215505, 9.432802082151548, 4.4251579991629715, 3.4089457322054537, 5.31026572342229, 8.954761716703398, 4.193104203121372, 5.98530057985668, 3.6841630798369804, 4.60666367340378, 4.6041705984285555, 4.965880319376905, 3.14003744684801, 5.8261449371384355, 7.587379205759384, 7.399863708356124, 9.64411347436654, 10.2607794257914, 20.837507274879254, 6.1487817927960995, 28.88171367277912, 16.625837225553273, 19.746401843717745, 12.030768504304252, 42.846060645352566, 22.615327152972778, 31.46181689721863, 28.94587855141024, 21.769722997997455, 34.877900546475985, 18.97216634207093, 28.47015897933999, 42.92534623906042, 29.415874768555447, 32.64581816827655, 39.54633919216661, 28.200580348290632, 29.13996579044164, 20.509627349330945, 41.44807561404675, 35.27874773831402, 20.158381231327024, 31.66736286574644, 25.6604324315095, 32.37612334731272, 21.82480302728133, 26.67115247132443, 29.8120603408938, 24.868095342497377, 28.937032091715107, 29.61836173709357, 24.488260495709667, 24.061024170365307, 26.035701815968128, 22.617903363835083, 22.142113677161273, 20.511227902615676, 7.95673145799566, 6.955102123378545, 12.98911802120114, 12.157228806796052, 4.664121717540825, 4.585760477666744, 3.503748080013138, 10.262216219813094, 4.764904623212246, 9.456813036830587, 12.750739509969256, 13.68046018684308, 4.151278016388442, 6.00506892092156, 8.841428672214011, 4.117088210795421, 4.6017612745482195, 14.995721377503164, 4.470536219602599, 13.424278299593182, 5.195022923273516, 6.773133810332941, 7.349483435801147, 5.9477542618455175, 2.912023676526144, 3.282194063565139, 21.86652554717301, 6.065112185010054, 3.6175268497408397, 9.679147198365829, 12.557576432053878, 22.890952032052216, 14.230272616901955, 12.081876516754392, 9.322875022058549, 22.796614097340004, 42.700012145977944, 21.093790358309818, 30.349404611405003, 28.787521165003078, 17.31744499673547, 17.635273991063517, 28.646261203168336, 16.053469571572084, 20.488732662159702, 36.11368650813157, 29.218644985399013, 33.96705197136257, 20.789167592363746, 31.425536321903692, 22.571336949459393, 18.23274926894565, 24.225396757844003, 30.858893054417948, 23.395792586285232, 21.25067351834695, 22.06999415141156, 23.177030601279544, 24.364780988726437, 24.245698289512653, 21.858305481863532, 21.87611224062447, 18.732356719872595, 18.266243498024572, 18.508644090595126], \"Total\": [112.0, 26.0, 210.0, 26.0, 50.0, 93.0, 58.0, 73.0, 123.0, 32.0, 184.0, 27.0, 36.0, 22.0, 18.0, 36.0, 31.0, 22.0, 23.0, 25.0, 17.0, 21.0, 28.0, 60.0, 27.0, 63.0, 87.0, 14.0, 193.0, 83.0, 12.830310055438176, 19.732290194990824, 6.922293110423604, 12.833272802064599, 36.54646517917486, 17.71377890746466, 6.935408795772622, 9.851639130900798, 9.8435867026439, 21.694864154494326, 8.851208525049262, 10.801640163495275, 15.709733469278559, 7.895239596868135, 32.55990265228601, 8.79589108390383, 11.803701623242713, 18.67678738424897, 8.85049145543027, 20.659877593941452, 8.798366083300458, 7.834997817615397, 10.807206290870694, 14.82203645132788, 11.71115633347421, 10.672467766179288, 18.655535695876107, 14.769631485974067, 10.7980065667543, 8.83512511288423, 40.33547793266674, 21.634505200353768, 210.09128130270557, 32.138154495055204, 16.69084593571869, 140.56814191387696, 61.76308478937885, 42.7291492995858, 60.689336100953085, 222.51768929088018, 193.13181986089091, 191.1900822718906, 93.04780802428483, 170.84436292478892, 149.76438935242263, 82.20734032640992, 187.03585831604568, 114.93646043321584, 82.09756544731538, 113.30363673183494, 250.92090273034455, 102.74537307846083, 152.9160419739986, 126.75586502588621, 66.93311820494439, 184.82918535773413, 97.75583419822377, 135.38405030939322, 125.14102221861324, 170.64995149005546, 224.5945294311001, 193.6044857491481, 228.15484009041856, 98.63420128935516, 120.35321614571492, 144.87297585054762, 131.00354476404038, 14.549648104238221, 12.584322366493824, 21.437742871435976, 9.684604617550477, 8.664423784286015, 9.722807643607192, 12.586657232217146, 25.05119176479744, 21.298067975245505, 9.618278483281903, 8.758176027370522, 7.753267142589607, 9.669845943446916, 25.898563785917077, 10.67674074956645, 38.73460141401647, 8.792797624787513, 10.606614734572974, 12.522093230447451, 20.34537843324111, 6.7598289418447655, 6.715947380432575, 18.403173881996054, 14.701500949060035, 16.330340571389712, 28.680771644632465, 16.522141203584034, 11.674983531061521, 15.315137465384915, 6.6836117056190085, 30.04350858006181, 18.478359965819976, 60.8169743151044, 93.04780802428483, 119.93870127340644, 250.92090273034455, 193.6044857491481, 52.29313173377513, 108.89343855697027, 228.15484009041856, 102.6909816240352, 44.63196313626196, 56.54358476503906, 92.9429046506083, 70.56559513624934, 111.8758287938029, 102.4593674688938, 104.56069151298807, 105.46913216625923, 131.00354476404038, 46.30556167293249, 137.73894663987375, 191.1900822718906, 80.71504877680412, 93.54539354412657, 224.5945294311001, 102.87190216277337, 222.51768929088018, 135.38405030939322, 187.03585831604568, 193.13181986089091, 152.9160419739986, 149.76438935242263, 170.64995149005546, 144.87297585054762, 184.82918535773413, 96.6870006596657, 117.24647122677739, 210.09128130270557, 18.435154015807257, 26.174733726220353, 112.73326652057382, 10.707595538492114, 11.654645764008153, 32.192737176646894, 8.72300785882256, 7.7845063522885924, 7.718127605268375, 11.571799794990733, 7.757938901602369, 11.710570377368592, 17.5614732422151, 8.725373542072461, 16.561533840563893, 13.674438233872765, 7.648470975454089, 7.7413301621024555, 8.711392902994334, 20.437706817040628, 6.8144238858289015, 8.694203540119542, 11.712673927596418, 7.715326177094777, 10.623426935409627, 18.37305532591262, 10.655006747596719, 9.685932915881931, 6.787610454120404, 8.711453311863739, 14.446007461524529, 19.540953395246888, 17.513998085543324, 83.98151202458979, 35.145584718399775, 35.75323313810135, 28.141858002859756, 31.925293501124493, 61.01602044533458, 48.21154516492216, 95.84303106500451, 18.64030472520697, 35.8204857943591, 144.87297585054762, 224.5945294311001, 96.96007442514397, 32.44752642634212, 123.93735962542839, 125.13418141365172, 76.55172973700692, 105.46913216625923, 228.15484009041856, 144.12181484985337, 114.93646043321584, 137.73894663987375, 250.92090273034455, 96.6870006596657, 170.64995149005546, 193.13181986089091, 187.03585831604568, 117.24647122677739, 88.64418660530475, 222.51768929088018, 97.75583419822377, 191.1900822718906, 113.30640648742258, 152.9160419739986, 120.35321614571492, 170.84436292478892, 126.75586502588621, 140.56814191387696, 184.82918535773413, 17.731275544600038, 6.565115952264684, 13.113814581477316, 6.53683468371939, 10.317566356346155, 13.178346681958836, 8.512381594494919, 19.776855611353625, 8.474504493786862, 6.603918405368566, 27.381366346534644, 10.41969655231488, 18.93956068951014, 8.565721229411967, 13.33504898738266, 9.454256805915023, 29.394704480193745, 17.92180029160834, 8.526511337314616, 6.61091974861964, 10.466885911269294, 17.945754458390315, 8.540412005938474, 12.195723809857304, 7.514852116185136, 9.417144487255126, 9.493449950909543, 10.434134906193831, 6.625257278099517, 12.393011902026362, 16.227813248598757, 16.084247776468512, 21.90667596932313, 23.722662065021407, 55.24167571256044, 13.342663461334357, 87.97513935942425, 45.04369104996453, 58.32082503003013, 31.360192880790223, 170.84436292478892, 73.1623058895637, 117.16268691547273, 104.56069151298807, 73.60046851733559, 149.76438935242263, 62.02838152767578, 113.30640648742258, 210.09128130270557, 120.35321614571492, 144.12181484985337, 193.6044857491481, 116.04844391291549, 125.13418141365172, 71.79637583774637, 224.5945294311001, 184.82918535773413, 74.03749335040682, 170.64995149005546, 117.24647122677739, 193.13181986089091, 92.45990638546795, 144.87297585054762, 187.03585831604568, 125.14102221861324, 191.1900822718906, 222.51768929088018, 131.00354476404038, 152.9160419739986, 228.15484009041856, 137.73894663987375, 126.75586502588621, 26.624937001563733, 11.416326158057238, 11.414322207850672, 22.90229695129613, 22.112524470749946, 8.625682303866991, 8.605697870071769, 6.6735161417739945, 20.06246250796488, 9.414731115867328, 18.98710488336723, 25.60586901618744, 27.900083929302326, 8.570003600764828, 12.418804845269854, 18.32394883901516, 8.643336405599204, 9.683561835594697, 31.70011149121415, 9.523404334152445, 28.61162631143474, 11.43165303162682, 15.136817179835031, 16.460099512296228, 13.410133508205979, 6.614723364393763, 7.541096400282909, 50.40607741248897, 14.358239203516735, 8.667318113197748, 23.34247164442364, 30.652941818568884, 58.511815486453926, 36.57121651097072, 30.582330476639925, 23.05163443873409, 78.9361816057974, 184.82918535773413, 73.1623058895637, 123.93735962542839, 125.14102221861324, 60.994655615557946, 63.1685103280025, 135.38405030939322, 57.6038804609597, 88.64418660530475, 228.15484009041856, 170.64995149005546, 224.5945294311001, 96.6870006596657, 222.51768929088018, 116.04844391291549, 75.54014839088038, 144.12181484985337, 250.92090273034455, 137.73894663987375, 113.30640648742258, 131.00354476404038, 152.9160419739986, 187.03585831604568, 193.6044857491481, 140.56814191387696, 191.1900822718906, 108.89343855697027, 126.75586502588621, 193.13181986089091], \"Category\": [\"Default\", \"Default\", \"Default\", \"Default\", \"Default\", \"Default\", \"Default\", \"Default\", \"Default\", \"Default\", \"Default\", \"Default\", \"Default\", \"Default\", \"Default\", \"Default\", \"Default\", \"Default\", \"Default\", \"Default\", \"Default\", \"Default\", \"Default\", \"Default\", \"Default\", \"Default\", \"Default\", \"Default\", \"Default\", \"Default\", \"Topic1\", \"Topic1\", \"Topic1\", \"Topic1\", \"Topic1\", \"Topic1\", \"Topic1\", \"Topic1\", \"Topic1\", \"Topic1\", \"Topic1\", \"Topic1\", \"Topic1\", \"Topic1\", \"Topic1\", \"Topic1\", \"Topic1\", \"Topic1\", \"Topic1\", \"Topic1\", \"Topic1\", \"Topic1\", \"Topic1\", \"Topic1\", \"Topic1\", \"Topic1\", \"Topic1\", \"Topic1\", \"Topic1\", \"Topic1\", \"Topic1\", \"Topic1\", \"Topic1\", \"Topic1\", \"Topic1\", \"Topic1\", \"Topic1\", \"Topic1\", \"Topic1\", \"Topic1\", \"Topic1\", \"Topic1\", \"Topic1\", \"Topic1\", \"Topic1\", \"Topic1\", \"Topic1\", \"Topic1\", \"Topic1\", \"Topic1\", \"Topic1\", \"Topic1\", \"Topic1\", \"Topic1\", \"Topic1\", \"Topic1\", \"Topic1\", \"Topic1\", \"Topic1\", \"Topic1\", \"Topic1\", \"Topic1\", \"Topic1\", \"Topic1\", \"Topic1\", \"Topic1\", \"Topic1\", \"Topic2\", \"Topic2\", \"Topic2\", \"Topic2\", \"Topic2\", \"Topic2\", \"Topic2\", \"Topic2\", \"Topic2\", \"Topic2\", \"Topic2\", \"Topic2\", \"Topic2\", \"Topic2\", \"Topic2\", \"Topic2\", \"Topic2\", \"Topic2\", \"Topic2\", \"Topic2\", \"Topic2\", \"Topic2\", \"Topic2\", \"Topic2\", \"Topic2\", \"Topic2\", \"Topic2\", \"Topic2\", \"Topic2\", \"Topic2\", \"Topic2\", \"Topic2\", \"Topic2\", \"Topic2\", \"Topic2\", \"Topic2\", \"Topic2\", \"Topic2\", \"Topic2\", \"Topic2\", \"Topic2\", \"Topic2\", \"Topic2\", \"Topic2\", \"Topic2\", \"Topic2\", \"Topic2\", \"Topic2\", \"Topic2\", \"Topic2\", \"Topic2\", \"Topic2\", \"Topic2\", \"Topic2\", \"Topic2\", \"Topic2\", \"Topic2\", \"Topic2\", \"Topic2\", \"Topic2\", \"Topic2\", \"Topic2\", \"Topic2\", \"Topic2\", \"Topic2\", \"Topic2\", \"Topic2\", \"Topic2\", \"Topic2\", \"Topic3\", \"Topic3\", \"Topic3\", \"Topic3\", \"Topic3\", \"Topic3\", \"Topic3\", \"Topic3\", \"Topic3\", \"Topic3\", \"Topic3\", \"Topic3\", \"Topic3\", \"Topic3\", \"Topic3\", \"Topic3\", \"Topic3\", \"Topic3\", \"Topic3\", \"Topic3\", \"Topic3\", \"Topic3\", \"Topic3\", \"Topic3\", \"Topic3\", \"Topic3\", \"Topic3\", \"Topic3\", \"Topic3\", \"Topic3\", \"Topic3\", \"Topic3\", \"Topic3\", \"Topic3\", \"Topic3\", \"Topic3\", \"Topic3\", \"Topic3\", \"Topic3\", \"Topic3\", \"Topic3\", \"Topic3\", \"Topic3\", \"Topic3\", \"Topic3\", \"Topic3\", \"Topic3\", \"Topic3\", \"Topic3\", \"Topic3\", \"Topic3\", \"Topic3\", \"Topic3\", \"Topic3\", \"Topic3\", \"Topic3\", \"Topic3\", \"Topic3\", \"Topic3\", \"Topic3\", \"Topic3\", \"Topic3\", \"Topic3\", \"Topic3\", \"Topic3\", \"Topic3\", \"Topic3\", \"Topic3\", \"Topic3\", \"Topic3\", \"Topic3\", \"Topic3\", \"Topic4\", \"Topic4\", \"Topic4\", \"Topic4\", \"Topic4\", \"Topic4\", \"Topic4\", \"Topic4\", \"Topic4\", \"Topic4\", \"Topic4\", \"Topic4\", \"Topic4\", \"Topic4\", \"Topic4\", \"Topic4\", \"Topic4\", \"Topic4\", \"Topic4\", \"Topic4\", \"Topic4\", \"Topic4\", \"Topic4\", \"Topic4\", \"Topic4\", \"Topic4\", \"Topic4\", \"Topic4\", \"Topic4\", \"Topic4\", \"Topic4\", \"Topic4\", \"Topic4\", \"Topic4\", \"Topic4\", \"Topic4\", \"Topic4\", \"Topic4\", \"Topic4\", \"Topic4\", \"Topic4\", \"Topic4\", \"Topic4\", \"Topic4\", \"Topic4\", \"Topic4\", \"Topic4\", \"Topic4\", \"Topic4\", \"Topic4\", \"Topic4\", \"Topic4\", \"Topic4\", \"Topic4\", \"Topic4\", \"Topic4\", \"Topic4\", \"Topic4\", \"Topic4\", \"Topic4\", \"Topic4\", \"Topic4\", \"Topic4\", \"Topic4\", \"Topic4\", \"Topic4\", \"Topic4\", \"Topic4\", \"Topic4\", \"Topic4\", \"Topic4\", \"Topic4\", \"Topic5\", \"Topic5\", \"Topic5\", \"Topic5\", \"Topic5\", \"Topic5\", \"Topic5\", \"Topic5\", \"Topic5\", \"Topic5\", \"Topic5\", \"Topic5\", \"Topic5\", \"Topic5\", \"Topic5\", \"Topic5\", \"Topic5\", \"Topic5\", \"Topic5\", \"Topic5\", \"Topic5\", \"Topic5\", \"Topic5\", \"Topic5\", \"Topic5\", \"Topic5\", \"Topic5\", \"Topic5\", \"Topic5\", \"Topic5\", \"Topic5\", \"Topic5\", \"Topic5\", \"Topic5\", \"Topic5\", \"Topic5\", \"Topic5\", \"Topic5\", \"Topic5\", \"Topic5\", \"Topic5\", \"Topic5\", \"Topic5\", \"Topic5\", \"Topic5\", \"Topic5\", \"Topic5\", \"Topic5\", \"Topic5\", \"Topic5\", \"Topic5\", \"Topic5\", \"Topic5\", \"Topic5\", \"Topic5\", \"Topic5\", \"Topic5\", \"Topic5\", \"Topic5\", \"Topic5\", \"Topic5\", \"Topic5\", \"Topic5\", \"Topic5\", \"Topic5\", \"Topic5\"], \"logprob\": [30.0, 29.0, 28.0, 27.0, 26.0, 25.0, 24.0, 23.0, 22.0, 21.0, 20.0, 19.0, 18.0, 17.0, 16.0, 15.0, 14.0, 13.0, 12.0, 11.0, 10.0, 9.0, 8.0, 7.0, 6.0, 5.0, 4.0, 3.0, 2.0, 1.0, -6.4177, -5.9971, -7.0505, -6.4396, -5.4251, -6.1615, -7.1015, -6.7803, -6.8174, -6.0524, -6.9627, -6.7822, -6.4182, -7.1094, -5.7198, -7.0368, -6.7505, -6.2936, -7.0412, -6.2003, -7.055, -7.1722, -6.8517, -6.5431, -6.7802, -6.9006, -6.3437, -6.5779, -6.8931, -7.0938, -5.5785, -6.2089, -4.103, -5.8742, -6.4804, -4.6111, -5.3433, -5.687, -5.398, -4.3105, -4.5167, -4.5526, -5.1216, -4.6786, -4.7972, -5.248, -4.635, -5.0135, -5.2923, -5.072, -4.5287, -5.1576, -4.9147, -5.0586, -5.4673, -4.8466, -5.2574, -5.0752, -5.1825, -5.0311, -4.9183, -5.011, -4.9973, -5.3375, -5.3037, -5.3327, -5.3801, -6.0754, -6.2777, -5.8363, -6.681, -6.8265, -6.7306, -6.4785, -5.7951, -5.9607, -6.758, -6.935, -7.0592, -6.8529, -5.8719, -6.7741, -5.4894, -6.982, -6.8071, -6.6436, -6.1816, -7.2986, -7.3314, -6.3344, -6.5636, -6.4628, -5.9038, -6.4562, -6.8078, -6.5389, -7.3738, -5.8781, -6.3631, -5.2951, -4.9336, -4.7175, -4.1474, -4.3845, -5.4924, -4.8952, -4.3325, -4.9759, -5.651, -5.4672, -5.0906, -5.3064, -4.9557, -5.0582, -5.0557, -5.1275, -4.9963, -5.7005, -5.0422, -4.8487, -5.3676, -5.2807, -4.811, -5.2373, -4.8506, -5.1118, -4.9606, -4.9629, -5.0791, -5.1034, -5.0739, -5.1413, -5.0702, -5.3473, -5.3291, -5.3197, -5.7995, -5.4748, -4.1458, -6.5486, -6.4849, -5.47, -6.7919, -6.9331, -6.9552, -6.5708, -6.9767, -6.5663, -6.1697, -6.871, -6.2424, -6.4444, -7.0265, -7.0173, -6.9148, -6.073, -7.172, -6.939, -6.6486, -7.0734, -6.7847, -6.2544, -6.8038, -6.9069, -7.2861, -7.038, -6.533, -6.25, -6.3588, -4.9183, -5.7303, -5.7203, -5.9363, -5.8634, -5.3391, -5.5358, -4.993, -6.3158, -5.8114, -4.7521, -4.4225, -5.0944, -5.9058, -4.9347, -4.9375, -5.2969, -5.0827, -4.5665, -4.8846, -5.0364, -4.9888, -4.6153, -5.2263, -4.9436, -4.8898, -4.9495, -5.1957, -5.3535, -4.9027, -5.3264, -5.0131, -5.2836, -5.2285, -5.3029, -5.2235, -5.2929, -5.2856, -5.3171, -5.8144, -6.8995, -6.2346, -6.9558, -6.5745, -6.3378, -6.7851, -5.9522, -6.8, -7.0554, -5.6447, -6.615, -6.0186, -6.8261, -6.3836, -6.7477, -5.6182, -6.1226, -6.8795, -7.1404, -6.6972, -6.1746, -6.9334, -6.5775, -7.0628, -6.8393, -6.8399, -6.7642, -7.2226, -6.6045, -6.3403, -6.3654, -6.1005, -6.0385, -5.3301, -6.5506, -5.0036, -5.5559, -5.3839, -5.8794, -4.6092, -5.2482, -4.9181, -5.0014, -5.2863, -4.815, -5.4239, -5.018, -4.6074, -4.9853, -4.8811, -4.6894, -5.0275, -4.9947, -5.3459, -4.6424, -4.8036, -5.3632, -4.9115, -5.1219, -4.8894, -5.2838, -5.0833, -4.9719, -5.1532, -5.0017, -4.9784, -5.1686, -5.1862, -5.1074, -5.2481, -5.2694, -5.1766, -6.1236, -6.2581, -5.6335, -5.6997, -6.6577, -6.6746, -6.9438, -5.8691, -6.6363, -5.9509, -5.652, -5.5816, -6.7742, -6.405, -6.0181, -6.7824, -6.6712, -5.4898, -6.7001, -5.6005, -6.5499, -6.2846, -6.203, -6.4146, -7.1287, -7.0091, -5.1126, -6.395, -6.9118, -5.9276, -5.6673, -5.0669, -5.5422, -5.7059, -5.9651, -5.071, -4.4434, -5.1486, -4.7848, -4.8376, -5.3459, -5.3277, -4.8426, -5.4217, -5.1777, -4.6109, -4.8228, -4.6722, -5.1632, -4.75, -5.0809, -5.2944, -5.0102, -4.7682, -5.045, -5.1412, -5.1034, -5.0544, -5.0045, -5.0094, -5.113, -5.1122, -5.2673, -5.2925, -5.2794], \"loglift\": [30.0, 29.0, 28.0, 27.0, 26.0, 25.0, 24.0, 23.0, 22.0, 21.0, 20.0, 19.0, 18.0, 17.0, 16.0, 15.0, 14.0, 13.0, 12.0, 11.0, 10.0, 9.0, 8.0, 7.0, 6.0, 5.0, 4.0, 3.0, 2.0, 1.0, 1.1379, 1.128, 1.1221, 1.1157, 1.0837, 1.0715, 1.0693, 1.0394, 1.0031, 0.9779, 0.9641, 0.9455, 0.9349, 0.9317, 0.9045, 0.8963, 0.8885, 0.8865, 0.8856, 0.8788, 0.8778, 0.8766, 0.8755, 0.8681, 0.8667, 0.8391, 0.8375, 0.8369, 0.8349, 0.8349, 0.8316, 0.8242, 0.6569, 0.7631, 0.8121, 0.5506, 0.6408, 0.6655, 0.6036, 0.3918, 0.3273, 0.3015, 0.4526, 0.288, 0.3011, 0.4501, 0.2411, 0.3495, 0.4071, 0.3053, 0.0535, 0.3175, 0.1628, 0.2066, 0.4364, 0.0413, 0.2675, 0.124, 0.0955, -0.0634, -0.2252, -0.1694, -0.32, 0.1784, 0.0132, -0.2012, -0.1479, 1.3544, 1.2972, 1.2059, 1.1558, 1.1216, 1.1023, 1.0962, 1.0913, 1.0881, 1.0857, 1.0024, 1.0, 0.9855, 0.9813, 0.9652, 0.9612, 0.9515, 0.9388, 0.9363, 0.9129, 0.8978, 0.8715, 0.8604, 0.8558, 0.8516, 0.8473, 0.8465, 0.8422, 0.8397, 0.8339, 0.8267, 0.8276, 0.7044, 0.6407, 0.6028, 0.4348, 0.457, 0.6581, 0.5218, 0.3448, 0.4998, 0.6579, 0.6052, 0.4848, 0.5444, 0.4343, 0.4197, 0.4019, 0.3214, 0.2358, 0.5716, 0.1398, 0.0054, 0.3489, 0.2882, -0.1179, 0.2366, -0.1482, 0.0875, -0.0845, -0.1189, -0.0017, -0.0051, -0.1062, -0.0098, -0.1822, 0.1886, 0.014, -0.5599, 1.3936, 1.3678, 1.2366, 1.1878, 1.1668, 1.1657, 1.1495, 1.1222, 1.1086, 1.088, 1.082, 1.0806, 1.072, 1.0701, 1.0579, 1.0474, 1.0464, 1.0435, 1.0279, 1.017, 1.0164, 1.0057, 0.9981, 0.9908, 0.9596, 0.9421, 0.9376, 0.9298, 0.9062, 0.9047, 0.9039, 0.8848, 0.8856, 0.7585, 0.8176, 0.8105, 0.8338, 0.7806, 0.6572, 0.696, 0.5517, 0.8663, 0.7175, 0.3794, 0.2705, 0.4386, 0.7219, 0.3529, 0.3404, 0.4725, 0.3663, 0.1108, 0.2521, 0.3265, 0.1932, -0.033, 0.3096, 0.0241, -0.0458, -0.0734, 0.1474, 0.2692, -0.2004, 0.1985, -0.1591, 0.0937, -0.1511, 0.014, -0.2569, -0.0278, -0.1239, -0.4292, 1.4176, 1.3261, 1.2991, 1.2741, 1.199, 1.191, 1.1808, 1.1707, 1.1703, 1.1643, 1.1528, 1.1486, 1.1475, 1.1335, 1.1334, 1.1132, 1.1083, 1.0987, 1.0847, 1.0782, 1.062, 1.0454, 1.0292, 1.0288, 1.0277, 1.0255, 1.0169, 0.998, 0.9939, 0.9858, 0.9803, 0.9642, 0.9201, 0.9024, 0.7656, 0.9658, 0.6267, 0.7439, 0.6575, 0.7825, 0.3574, 0.5665, 0.4257, 0.4562, 0.5224, 0.2833, 0.5559, 0.3593, 0.1525, 0.3316, 0.2556, 0.1522, 0.3259, 0.2833, 0.4876, 0.0507, 0.0844, 0.4396, 0.0562, 0.2212, -0.0454, 0.2968, 0.0483, -0.0959, 0.1247, -0.1476, -0.2761, 0.0635, -0.1088, -0.43, -0.0661, -0.0042, 1.6489, 1.5487, 1.4144, 1.3426, 1.3116, 1.2949, 1.2803, 1.2655, 1.2394, 1.2288, 1.2128, 1.2125, 1.1971, 1.1849, 1.1832, 1.181, 1.1681, 1.1658, 1.1612, 1.1535, 1.153, 1.1211, 1.1056, 1.1035, 1.0968, 1.0893, 1.0779, 1.0746, 1.048, 1.036, 1.0295, 1.0174, 0.9713, 0.9659, 0.9811, 1.0045, 0.6677, 0.4445, 0.6661, 0.5028, 0.4403, 0.6507, 0.6339, 0.3567, 0.6321, 0.445, 0.0664, 0.145, 0.0209, 0.3727, -0.0476, 0.2724, 0.4883, 0.1265, -0.1859, 0.137, 0.2361, 0.1288, 0.023, -0.1284, -0.1678, 0.0487, -0.2581, 0.1497, -0.0274, -0.4354]}, \"token.table\": {\"Topic\": [1, 2, 3, 4, 3, 4, 1, 2, 3, 4, 5, 1, 2, 3, 4, 5, 1, 2, 4, 5, 1, 2, 3, 4, 5, 1, 2, 3, 4, 5, 1, 2, 3, 4, 5, 1, 2, 3, 4, 5, 1, 2, 3, 4, 5, 1, 2, 3, 4, 5, 1, 2, 3, 4, 1, 2, 3, 4, 5, 2, 3, 4, 5, 1, 4, 1, 2, 3, 4, 5, 2, 3, 4, 1, 2, 3, 4, 5, 1, 3, 4, 5, 1, 2, 3, 5, 1, 2, 3, 4, 5, 1, 2, 4, 5, 1, 3, 4, 1, 2, 3, 1, 2, 3, 4, 5, 1, 4, 5, 1, 2, 4, 5, 2, 3, 4, 5, 1, 2, 3, 4, 5, 1, 2, 3, 4, 5, 1, 2, 3, 4, 5, 1, 3, 4, 1, 2, 3, 4, 5, 1, 2, 3, 4, 5, 1, 2, 3, 4, 5, 1, 2, 3, 4, 5, 1, 2, 3, 4, 5, 1, 2, 3, 4, 5, 1, 2, 3, 4, 5, 1, 2, 3, 1, 2, 4, 5, 1, 4, 5, 1, 2, 3, 4, 5, 1, 2, 3, 4, 5, 1, 5, 1, 2, 3, 4, 5, 1, 2, 3, 4, 5, 1, 2, 3, 4, 5, 1, 2, 3, 4, 5, 1, 3, 4, 5, 1, 2, 3, 1, 2, 3, 4, 5, 1, 2, 3, 4, 5, 1, 2, 3, 4, 5, 2, 3, 5, 1, 3, 4, 5, 1, 2, 3, 4, 5, 1, 2, 3, 4, 5, 1, 2, 3, 4, 5, 1, 2, 3, 4, 5, 2, 3, 5, 1, 4, 5, 1, 4, 1, 2, 3, 4, 5, 1, 2, 3, 4, 5, 1, 2, 3, 4, 5, 1, 2, 4, 2, 3, 5, 2, 4, 5, 1, 2, 3, 4, 5, 1, 2, 4, 3, 4, 1, 3, 4, 5, 1, 2, 3, 4, 1, 2, 3, 5, 1, 2, 3, 4, 5, 1, 2, 3, 4, 5, 1, 2, 3, 4, 5, 1, 2, 3, 4, 5, 1, 2, 3, 4, 5, 1, 2, 3, 4, 5, 1, 3, 4, 5, 1, 3, 5, 1, 2, 3, 4, 5, 1, 2, 3, 4, 5, 1, 2, 5, 1, 2, 3, 4, 5, 1, 2, 3, 4, 1, 2, 3, 4, 5, 1, 2, 3, 4, 5, 1, 2, 3, 4, 5, 1, 2, 3, 4, 5, 1, 2, 3, 4, 5, 1, 2, 3, 4, 5, 1, 2, 4, 5, 1, 3, 4, 5, 2, 4, 5, 1, 2, 3, 4, 5, 1, 2, 3, 4, 5, 1, 2, 3, 4, 5, 1, 2, 3, 4, 5, 2, 3, 4, 5, 1, 2, 3, 4, 5, 1, 4, 5, 1, 2, 3, 5, 1, 2, 3, 4, 5, 1, 2, 4, 5, 1, 2, 3, 4, 5, 1, 3, 2, 4, 5, 1, 2, 4, 5, 2, 3, 5, 2, 3, 4, 5, 1, 3, 4, 5, 2, 3, 1, 2, 3, 4, 5, 1, 2, 3, 4, 5, 1, 2, 3, 4, 5, 1, 2, 3, 4, 5, 1, 2, 3, 4, 5, 1, 2, 5, 1, 4, 5, 2, 4, 1, 2, 3, 4, 5, 1, 2, 3, 3, 4, 5, 1, 2, 4, 1, 2, 3, 4, 5, 1, 2, 3, 4, 5, 1, 2, 3, 4, 5, 1, 2, 3, 4, 5, 1, 2, 3, 4, 5, 1, 2, 5, 1, 2, 3, 4, 5, 2, 3, 1, 2, 3, 4, 5, 1, 2, 3, 4, 5, 1, 2, 3, 4, 5, 2, 3, 4, 1, 2, 3, 4, 5, 1, 2, 3, 4, 5, 1, 2, 3, 4, 5, 1, 2, 3, 4, 5, 1, 2, 3, 4, 5, 1, 2, 3, 4, 5, 1, 2, 3, 4, 5, 1, 2, 4, 5, 1, 2, 3, 4, 5, 1, 2, 3, 4, 5, 1, 2, 3, 4, 5, 1, 2, 1, 2, 3, 4, 5, 1, 2, 3, 4, 5, 4, 5, 1, 2, 3, 4, 5, 1, 2, 3, 4, 5, 2, 3, 5, 1, 2, 3, 4, 5, 1, 2, 3, 4, 5, 1, 2, 3, 4, 5, 1, 2, 3, 4, 5, 1, 2, 3, 4, 5, 1, 2, 3, 4, 5, 1, 2, 3, 1, 2, 3, 4, 5, 1, 2, 3, 4, 5, 1, 2, 3, 4, 5, 1, 2, 3, 4, 5, 1, 2, 3, 1, 2, 3, 4, 5, 1, 2, 3, 4, 5, 1, 2, 3, 4, 5, 1, 2, 3, 4, 5, 1, 3, 4, 5, 1, 4, 5, 1, 3, 1, 2, 3, 4, 5, 1, 3, 4, 2, 3, 4, 5, 1, 2, 3, 4, 2, 3, 4, 1, 2, 3, 4, 5, 1, 2, 4, 5, 1, 2, 3, 4, 5, 1, 2, 4, 5, 1, 2, 3, 4, 5, 1, 2, 5, 1, 2, 4, 5, 1, 2, 3, 4, 5, 1, 2, 3, 4, 5, 2, 4, 5, 2, 4, 5, 1, 2, 4, 5, 1, 2, 3, 4, 5, 2, 3, 5, 1, 2, 4, 5, 1, 2, 3, 4, 5, 1, 2, 3, 4, 5, 1, 2, 4, 5, 1, 2, 3, 4, 1, 2, 3, 1, 2, 3, 4, 5, 1, 3, 4, 1, 2, 3, 4, 1, 2, 3, 4, 5, 1, 2, 3, 4, 5, 1, 2, 3, 4, 5, 2, 4, 5, 1, 2, 3, 4, 5, 1, 3, 4, 5, 1, 2, 3, 4, 5, 1, 2, 3, 4, 5, 1, 2, 3, 4, 5, 1, 2, 3, 4, 5, 1, 2, 3, 4, 5, 1, 3, 4, 5, 1, 2, 3, 4, 1, 2, 3, 4, 5, 1, 2, 3, 4, 5, 1, 2, 3, 1, 2, 3, 4, 5, 1, 2, 3, 4, 5, 1, 3, 4, 5, 1, 3, 4, 1, 2, 3, 4, 5, 1, 2, 3, 4, 5, 1, 2, 4, 1, 3, 4, 3, 4, 5, 1, 2, 1, 2, 3, 4, 5, 1, 2, 4, 5, 1, 2, 3, 4, 5, 1, 2, 3, 4, 5, 1, 2, 4, 5, 1, 2, 5, 1, 2, 3, 4, 5, 1, 4, 5, 1, 2, 3, 4, 5, 1, 5, 1, 2, 3, 4, 5, 1, 3, 4, 5, 1, 2, 3, 5, 1, 2, 3, 4, 5, 1, 2, 5, 1, 2, 4, 5, 1, 2, 3, 4, 5, 1, 2, 3, 4, 5, 1, 2, 3, 4, 5, 1, 2, 3, 4, 5, 1, 2, 4, 1, 3, 4, 1, 4, 5, 1, 2, 3, 4, 5, 1, 2, 3, 4, 5, 1, 2, 3, 4, 5, 1, 2, 3, 4, 5, 1, 2, 3, 1, 2, 3, 4, 5], \"Freq\": [0.6778735336558581, 0.11297892227597636, 0.11297892227597636, 0.11297892227597636, 0.5229803463773386, 0.2614901731886693, 0.541651970639699, 0.2708259853198495, 0.06770649632996238, 0.06770649632996238, 0.06770649632996238, 0.06529487588734921, 0.5223590070987937, 0.06529487588734921, 0.19588462766204764, 0.13058975177469842, 0.07946395291513933, 0.8741034820665327, 0.07946395291513933, 0.07946395291513933, 0.19132535385888258, 0.09566267692944129, 0.09566267692944129, 0.38265070771776516, 0.22321291283536301, 0.5289662790878559, 0.031115663475756228, 0.12446265390302491, 0.2178096443302936, 0.09334699042726868, 0.24926629267370953, 0.17448640487159667, 0.2077219105614246, 0.24095741625125255, 0.12463314633685477, 0.46953613309461856, 0.2914362205414874, 0.09714540684716247, 0.06476360456477498, 0.08095450570596872, 0.29978888939174214, 0.18145116989500185, 0.1972295324945672, 0.17356198859521915, 0.1420052633960884, 0.636548036894176, 0.1273096073788352, 0.0636548036894176, 0.1273096073788352, 0.0636548036894176, 0.6142524507393087, 0.061425245073930865, 0.24570098029572346, 0.061425245073930865, 0.2713394396888828, 0.045223239948147136, 0.09044647989629427, 0.045223239948147136, 0.5426788793777656, 0.0382047821559406, 0.8023004252747526, 0.0382047821559406, 0.1146143464678218, 0.5621942489265519, 0.28109712446327595, 0.14581241023681688, 0.29162482047363375, 0.21385820168066477, 0.1944165469824225, 0.155533237585938, 0.6924869038471697, 0.11541448397452829, 0.11541448397452829, 0.15330324978217258, 0.13716606559457548, 0.2904693153767481, 0.17750902606356825, 0.24205776281395672, 0.17518770682532323, 0.08759385341266161, 0.08759385341266161, 0.7007508273012929, 0.22838874256254155, 0.05709718564063539, 0.5138746707657185, 0.22838874256254155, 0.22081941263645352, 0.09463689112990865, 0.09463689112990865, 0.09463689112990865, 0.47318445564954326, 0.6381622709273151, 0.12763245418546304, 0.12763245418546304, 0.12763245418546304, 0.11463935561958566, 0.687836133717514, 0.11463935561958566, 0.11388566166489411, 0.22777132332978822, 0.5694283083244706, 0.15623947428506377, 0.19095935745952236, 0.20831929904675167, 0.15623947428506377, 0.2777590653956689, 0.34708819132118734, 0.11569606377372911, 0.46278425509491644, 0.1050044674060347, 0.2100089348120694, 0.1050044674060347, 0.4200178696241388, 0.5511213903136681, 0.12247142006970403, 0.12247142006970403, 0.18370713010455605, 0.09567768422398126, 0.16401888724111074, 0.15035064663768485, 0.31436953387879557, 0.2870330526719438, 0.30811298622947497, 0.12324519449178999, 0.06162259724589499, 0.49298077796715994, 0.06162259724589499, 0.2542888446379948, 0.18936403324105996, 0.1298496227938697, 0.18936403324105996, 0.23264724083901653, 0.7105416577880624, 0.10150595111258034, 0.10150595111258034, 0.05424419015661861, 0.05424419015661861, 0.8136628523492792, 0.05424419015661861, 0.05424419015661861, 0.06209347263722284, 0.16853942572960484, 0.6918986951004831, 0.06209347263722284, 0.017740992182063667, 0.17475413475541346, 0.03495082695108269, 0.13980330780433076, 0.17475413475541346, 0.454360750364075, 0.1086136494341674, 0.1629204741512511, 0.23532957377402938, 0.3801477730195859, 0.1086136494341674, 0.21744034878394583, 0.031062906969135117, 0.6523210463518375, 0.09318872090740535, 0.031062906969135117, 0.11472396837600107, 0.3113936284491458, 0.3933393201462894, 0.08194569169714362, 0.09833483003657235, 0.5546694915769913, 0.13866737289424783, 0.1848898305256638, 0.04622245763141595, 0.0924449152628319, 0.170785874261524, 0.170785874261524, 0.597750559915334, 0.1516924661308515, 0.1516924661308515, 0.5562057091464555, 0.101128310753901, 0.15126488265249324, 0.45379464795747976, 0.15126488265249324, 0.19937731962923214, 0.049844329907308034, 0.09968865981461607, 0.14953298972192408, 0.4984432990730803, 0.09266595511275272, 0.29123585892579423, 0.14561792946289712, 0.21180789740057762, 0.23828388457564983, 0.7223039995909721, 0.1444607999181944, 0.12646135546581175, 0.12646135546581175, 0.21076892577635292, 0.42153785155270584, 0.12646135546581175, 0.3070474545760613, 0.10234915152535377, 0.5117457576267689, 0.05117457576267689, 0.10234915152535377, 0.38925964363938537, 0.1459723663647695, 0.08515054704611555, 0.20679418568342348, 0.1703010940922311, 0.15093753465327375, 0.15093753465327375, 0.15093753465327375, 0.45281260395982126, 0.15093753465327375, 0.2106715693812011, 0.10533578469060055, 0.5266789234530027, 0.10533578469060055, 0.08565322574883986, 0.5139193544930392, 0.34261290299535946, 0.25089530259972387, 0.14336874434269936, 0.03584218608567484, 0.07168437217134968, 0.5017906051994477, 0.2307518858635862, 0.2307518858635862, 0.1153759429317931, 0.1153759429317931, 0.4615037717271724, 0.1620517854499034, 0.23028411616565217, 0.23028411616565217, 0.2217550748261836, 0.1535227441104348, 0.2815577757073371, 0.46926295951222846, 0.09385259190244569, 0.11501916137406767, 0.5750958068703383, 0.11501916137406767, 0.11501916137406767, 0.4314658632540406, 0.09245697069729442, 0.4006468730216092, 0.06163798046486295, 0.030818990232431474, 0.18157452856953132, 0.544723585708594, 0.12104968571302088, 0.06052484285651044, 0.12104968571302088, 0.170054542540599, 0.396793932594731, 0.22673939005413202, 0.170054542540599, 0.056684847513533004, 0.24070077388446368, 0.20269538853428518, 0.10134769426714259, 0.1520215414007139, 0.29137462101803496, 0.7150429088482173, 0.15889842418849273, 0.07944921209424637, 0.7794043913819106, 0.07794043913819107, 0.07794043913819107, 0.3502332050801458, 0.5837220084669097, 0.14288859191397268, 0.1547959745734704, 0.42866577574191805, 0.1547959745734704, 0.11907382659497723, 0.4712237432516676, 0.13327540213178476, 0.10947622317968035, 0.20467293898809805, 0.08567704422757592, 0.1963082326423036, 0.22191365429129972, 0.20484337319196896, 0.26458935703962655, 0.11095682714564986, 0.23495187308019994, 0.11747593654009997, 0.5873796827004998, 0.5917309497640032, 0.1479327374410008, 0.1479327374410008, 0.2907662423857107, 0.5815324847714214, 0.0969220807952369, 0.12002573688550551, 0.2229049399302245, 0.274344541452584, 0.34293067681573003, 0.051439601522359504, 0.10577246001762439, 0.3173173800528732, 0.528862300088122, 0.1523202342915273, 0.6092809371661092, 0.1289002159830692, 0.644501079915346, 0.1289002159830692, 0.1289002159830692, 0.1032425073232037, 0.2064850146464074, 0.5162125366160185, 0.1032425073232037, 0.2182935586178478, 0.05457338965446195, 0.16372016896338587, 0.49116050689015756, 0.15513977988415825, 0.27925160379148484, 0.27925160379148484, 0.07239856394594052, 0.21719569183782156, 0.7338919644368908, 0.05645322803360698, 0.05645322803360698, 0.16935968410082095, 0.05645322803360698, 0.180496890013118, 0.180496890013118, 0.25946427939385713, 0.1466537231356584, 0.2256211125163975, 0.14798500092045477, 0.4603977806414149, 0.16442777880050533, 0.18087055668055585, 0.04932833364015159, 0.19917153338283453, 0.2560776857779301, 0.45524921916076466, 0.05690615239509558, 0.02845307619754779, 0.12389263404464172, 0.3221208485160685, 0.21061747787589094, 0.21061747787589094, 0.12389263404464172, 0.06964642292315842, 0.3482321146157922, 0.13929284584631685, 0.4178785375389506, 0.11479220500504275, 0.5739610250252137, 0.2295844100100855, 0.10885505782912873, 0.16328258674369311, 0.5442752891456437, 0.10885505782912873, 0.10885505782912873, 0.253759130495252, 0.3513587960703489, 0.1366395318051357, 0.19519933115019383, 0.06831976590256784, 0.12897788527198845, 0.6448894263599422, 0.12897788527198845, 0.05266732375171127, 0.26333661875855635, 0.05266732375171127, 0.15800197125513382, 0.47400591376540147, 0.1716053872848195, 0.08580269364240975, 0.686421549139278, 0.08580269364240975, 0.3654188749269545, 0.17052880829924544, 0.0730837749853909, 0.23143195412040451, 0.15834817913501362, 0.36401600366303893, 0.197737088409552, 0.16627891525348693, 0.13482074209742181, 0.13931476683400254, 0.3101009641797881, 0.20851616556916786, 0.18712989217745832, 0.16039705043782143, 0.12831764035025714, 0.03486656539058451, 0.5229984808587678, 0.03486656539058451, 0.2091993923435071, 0.17433282695292257, 0.23670445939582557, 0.3765752763115407, 0.15063011052461628, 0.16138940413351743, 0.07531505526230814, 0.18957600169554306, 0.17234181972322096, 0.1981930926817041, 0.24127854761250936, 0.1981930926817041, 0.23456252163148947, 0.11728126081574473, 0.46912504326297894, 0.11728126081574473, 0.14732725261110885, 0.44198175783332655, 0.14732725261110885, 0.14732725261110885, 0.1326067121967151, 0.3978201365901453, 0.3978201365901453, 0.2590457761498376, 0.35469344734362374, 0.19528066202064678, 0.06775043376226521, 0.12354490862530715, 0.2001022167589656, 0.41687961824784503, 0.13340147783931042, 0.13340147783931042, 0.11672629310939661, 0.1804029461264202, 0.16652579642438786, 0.25672726948759794, 0.2289729700835333, 0.16652579642438786, 0.33538199740170505, 0.16769099870085252, 0.19416852481151345, 0.18534268277462648, 0.12356178851641765, 0.6204855832337323, 0.20682852774457744, 0.10341426387228872, 0.10341426387228872, 0.1291767666615593, 0.1291767666615593, 0.5167070666462372, 0.1291767666615593, 0.1291767666615593, 0.14984604498673976, 0.14984604498673976, 0.599384179946959, 0.37553034154715387, 0.05364719164959341, 0.4828247248463407, 0.05364719164959341, 0.0983024231553402, 0.5898145389320413, 0.1966048463106804, 0.0491512115776701, 0.0491512115776701, 0.15142525067951532, 0.15142525067951532, 0.6057010027180613, 0.15142525067951532, 0.2240546751096265, 0.448109350219253, 0.11202733755481326, 0.06721640253288795, 0.15683827257673855, 0.6332930037972994, 0.25331720151891973, 0.15117790191845001, 0.30235580383690003, 0.45353370575535007, 0.09428078845368379, 0.5656847307221028, 0.09428078845368379, 0.09428078845368379, 0.2324041617769833, 0.11620208088849165, 0.5810104044424583, 0.08199595330223376, 0.08199595330223376, 0.4919757198134026, 0.32798381320893505, 0.7792244546060935, 0.07792244546060935, 0.07792244546060935, 0.07792244546060935, 0.8934923997380515, 0.06873018459523474, 0.711423112263549, 0.05472485478950377, 0.05472485478950377, 0.05472485478950377, 0.08208728218425565, 0.08197439512593374, 0.19673854830224097, 0.18034366927705422, 0.2459231853778012, 0.2787129434281747, 0.08760923178707962, 0.08760923178707962, 0.17521846357415924, 0.08760923178707962, 0.6132646225095574, 0.32778371519728144, 0.15803857697011783, 0.15803857697011783, 0.25169106702648397, 0.10535905131341189, 0.3406479430783952, 0.22385436259437397, 0.1751903707260318, 0.2043887658470371, 0.06812958861567904, 0.20570189942151254, 0.7199566479752939, 0.10285094971075627, 0.10621652256373287, 0.3186495676911986, 0.5310826128186643, 0.5984788129802847, 0.29923940649014236, 0.2877395950876209, 0.22888376881969844, 0.17656747880376736, 0.15694887004779323, 0.15040933379580185, 0.09339164861104045, 0.1867832972220809, 0.6537415402772832, 0.22876638840367375, 0.6100437024097967, 0.07625546280122458, 0.1919441693871279, 0.1919441693871279, 0.5758325081613838, 0.21379994505625488, 0.31000992033156954, 0.1496599615393784, 0.18172995329781663, 0.1496599615393784, 0.22853800812403222, 0.20509821241900328, 0.20509821241900328, 0.18751836564023158, 0.16993851886145986, 0.19345982765398848, 0.17733817534948945, 0.09672991382699424, 0.3063113937854818, 0.2418247845674856, 0.07985885279695103, 0.5590119695786572, 0.07985885279695103, 0.07985885279695103, 0.2395765583908531, 0.34801837336240327, 0.15660826801308148, 0.2784146986899226, 0.10440551200872097, 0.12180643067684115, 0.11593285780438362, 0.23186571560876723, 0.5796642890219181, 0.23418073959538763, 0.11709036979769381, 0.11709036979769381, 0.46836147919077525, 0.11709036979769381, 0.561969250798156, 0.280984625399078, 0.10937563421769332, 0.3554708112075033, 0.13671954277211665, 0.02734390855442333, 0.3828147197619266, 0.08732748528469378, 0.08732748528469378, 0.17465497056938756, 0.08732748528469378, 0.5676286543505096, 0.16529921580704662, 0.38569817021644215, 0.12856605673881405, 0.14693263627293032, 0.17448250557410477, 0.7227966733215493, 0.10325666761736418, 0.10325666761736418, 0.0399182605517884, 0.6786104293804027, 0.0798365211035768, 0.11975478165536518, 0.0399182605517884, 0.15972243535098496, 0.26136398511979353, 0.24684376372424946, 0.16698254604875698, 0.16698254604875698, 0.20017535934318548, 0.22778575373534898, 0.29681173971575775, 0.18637016214710372, 0.0966363803725723, 0.5889663877245198, 0.16062719665214176, 0.10708479776809451, 0.10708479776809451, 0.10708479776809451, 0.13844655731535488, 0.06922327865767744, 0.4845629506037421, 0.13844655731535488, 0.20766983597303232, 0.14519343812886282, 0.18667727759425218, 0.4148383946538937, 0.18667727759425218, 0.08296767893077875, 0.2940156621223611, 0.23318483547635535, 0.15207706661501436, 0.18249247993801723, 0.12166165329201149, 0.07457047309693646, 0.37285236548468226, 0.07457047309693646, 0.44742283858161874, 0.30065302846718545, 0.42445133430661475, 0.1237983058394293, 0.05305641678832684, 0.10611283357665369, 0.21658399216898927, 0.2578380859154634, 0.30940570309855614, 0.12376228123942244, 0.09282171092956684, 0.17066604825784662, 0.31288775513938544, 0.2939248608885136, 0.13274025975610293, 0.09481447125435923, 0.40812159389641234, 0.5441621251952165, 0.0469526156627112, 0.7042892349406681, 0.0939052313254224, 0.0469526156627112, 0.1408578469881336, 0.14945557034611948, 0.2038030504719811, 0.17662931040905028, 0.29891114069223895, 0.1630424403775849, 0.6119169588244875, 0.30595847941224374, 0.2294662835581684, 0.1147331417790842, 0.22064065726746962, 0.24711753613956597, 0.18533815210467447, 0.32951500021014674, 0.23013746046422948, 0.17260309534817211, 0.15168150803324215, 0.11506873023211474, 0.12961214821594907, 0.5184485928637963, 0.25922429643189815, 0.2271254733100249, 0.2595719694971713, 0.17304797966478086, 0.2379409720390737, 0.09733948856143924, 0.22162941515171086, 0.07915336255418244, 0.17413739761920138, 0.2532907601733838, 0.2849521051950568, 0.5896373162005528, 0.10720678476373686, 0.10720678476373686, 0.05360339238186843, 0.1608101771456053, 0.20411839840209386, 0.13607893226806256, 0.03401973306701564, 0.5443157290722502, 0.06803946613403128, 0.08641698073906236, 0.08641698073906236, 0.6049188651734365, 0.17283396147812471, 0.08641698073906236, 0.213734674511539, 0.29006848683708863, 0.14503424341854432, 0.18320114958131914, 0.1679343871162092, 0.11417902504755105, 0.5708951252377552, 0.2283580500951021, 0.17090565242015265, 0.256358478630229, 0.06836226096806106, 0.11963395669410685, 0.3930830005663511, 0.07106851295308084, 0.35534256476540416, 0.46194533419502537, 0.07106851295308084, 0.03553425647654042, 0.1961917194172973, 0.13079447961153154, 0.09809585970864865, 0.1961917194172973, 0.3923834388345946, 0.1758112751565087, 0.21576838314662433, 0.2796997559308093, 0.23175122634267056, 0.08790563757825436, 0.6072040120501596, 0.26986844980007096, 0.06746711245001774, 0.23513511793709832, 0.18288286950663205, 0.32657655269041436, 0.10450449686093259, 0.15675674529139888, 0.4448887026064532, 0.16477359355794563, 0.2142056716253293, 0.08238679677897282, 0.09886415613476737, 0.07810709328926295, 0.07810709328926295, 0.11716063993389442, 0.23432127986778883, 0.5076961063802091, 0.1460847479039787, 0.03652118697599468, 0.1826059348799734, 0.5478178046399201, 0.10956356092798403, 0.5551851087610361, 0.18506170292034538, 0.09253085146017269, 0.18506170292034538, 0.5684472388647266, 0.11368944777294532, 0.22737889554589064, 0.7209380365650079, 0.1441876073130016, 0.20260005196296368, 0.25662673248642065, 0.18909338183209945, 0.2701334026172849, 0.06753335065432123, 0.2292165476189983, 0.5730413690474957, 0.11460827380949914, 0.5433845305229151, 0.3260307183137491, 0.05433845305229152, 0.05433845305229152, 0.09413158353514305, 0.09413158353514305, 0.5647895012108582, 0.1882631670702861, 0.2360019988739534, 0.1180009994369767, 0.5900049971848835, 0.07588205289583105, 0.1517641057916621, 0.1517641057916621, 0.6070564231666484, 0.07588205289583105, 0.11668606532566161, 0.11668606532566161, 0.23337213065132323, 0.46674426130264646, 0.1566156314216465, 0.1879387577059758, 0.4385237679806102, 0.1566156314216465, 0.0626462525686586, 0.10396870934213008, 0.7277809653949106, 0.20793741868426016, 0.10396870934213008, 0.1118779939299335, 0.223755987859867, 0.447511975719734, 0.13984749241241687, 0.08390849544745012, 0.5649403793200909, 0.22597615172803637, 0.11298807586401818, 0.32276254002031307, 0.16138127001015654, 0.4841438100304696, 0.08069063500507827, 0.11903326559018054, 0.15871102078690738, 0.07935551039345369, 0.21822765358199767, 0.43645530716399533, 0.16235207050567246, 0.5411735683522415, 0.2164694273408966, 0.05411735683522415, 0.05411735683522415, 0.13306981754787256, 0.5322792701914902, 0.2661396350957451, 0.5955972811303294, 0.14889932028258235, 0.14889932028258235, 0.5808359679497338, 0.2420149866457224, 0.04840299732914448, 0.09680599465828896, 0.07511754863053896, 0.03755877431526948, 0.11267632294580844, 0.03755877431526948, 0.7887342606206591, 0.3443742269633052, 0.4591656359510736, 0.1147914089877684, 0.10618930200692676, 0.21237860401385353, 0.5309465100346338, 0.21237860401385353, 0.37350717657366267, 0.20916401888125108, 0.11952229650357205, 0.19422373181830457, 0.07470143531473253, 0.13014261561249835, 0.34704697496666226, 0.04338087187083278, 0.08676174374166556, 0.39042784683749504, 0.13212817306562707, 0.06606408653281354, 0.3303204326640677, 0.4624486057296947, 0.21119814052579575, 0.1583986053943468, 0.10559907026289787, 0.5279953513144894, 0.1284602972552019, 0.2569205945104038, 0.6423014862760095, 0.26640800787593205, 0.1776053385839547, 0.13320400393796603, 0.37741134449090374, 0.06660200196898301, 0.22484266418722815, 0.2997902189163042, 0.4496853283744563, 0.21938744017788905, 0.07312914672596302, 0.5850331738077041, 0.07312914672596302, 0.038612179743487254, 0.6177948758957961, 0.07722435948697451, 0.19306089871743629, 0.038612179743487254, 0.1721488232292737, 0.3442976464585474, 0.11476588215284912, 0.2773508818693854, 0.09563823512737427, 0.18259274047789698, 0.22824092559737122, 0.13694455535842273, 0.45648185119474244, 0.045648185119474244, 0.435208416164858, 0.435208416164858, 0.062172630880693996, 0.12908355365677532, 0.5937843468211665, 0.05163342146271013, 0.05163342146271013, 0.1549002643881304, 0.056397521852540634, 0.11279504370508127, 0.7331677840830283, 0.056397521852540634, 0.46806454909210826, 0.04680645490921082, 0.14041936472763247, 0.23403227454605413, 0.09361290981842164, 0.19590860076357328, 0.20481353716191752, 0.26269562375115507, 0.18255119616605692, 0.1513839187718521, 0.13928279642692745, 0.19499591499769842, 0.26463731321116213, 0.2924938724965476, 0.1253545167842347, 0.6453140199589472, 0.13828157570548869, 0.04609385856849623, 0.04609385856849623, 0.13828157570548869, 0.5702176143392824, 0.12396035094332226, 0.17354449132065117, 0.07437621056599336, 0.07437621056599336, 0.16739389744258634, 0.055797965814195445, 0.502181692327759, 0.22319186325678178, 0.09785833694083686, 0.29357501082251053, 0.5382208531746027, 0.04892916847041843, 0.3171166228006397, 0.13298439020671987, 0.24550964345855977, 0.21482093802623978, 0.08183654781951992, 0.19971036285628313, 0.532560967616755, 0.06657012095209437, 0.09985518142814157, 0.09985518142814157, 0.14674754854619096, 0.2934950970923819, 0.5869901941847638, 0.21597010403558564, 0.10230162822738267, 0.19323640887394505, 0.32963857984378864, 0.15913586613148417, 0.17210673183275946, 0.43982831468371864, 0.17210673183275946, 0.0956148510181997, 0.11473782122183965, 0.5556581173485524, 0.2778290586742762, 0.09260968622475874, 0.09260968622475874, 0.7111229078847715, 0.10158898684068164, 0.10158898684068164, 0.21423497615929712, 0.3797801850096631, 0.15580725538857973, 0.08764158115607609, 0.17528316231215219, 0.38689788361918476, 0.440633700788516, 0.10747163433866244, 0.06448298060319746, 0.010747163433866244, 0.5930343059685848, 0.25415755970082204, 0.08471918656694069, 0.2866182000484036, 0.19107880003226907, 0.4776970000806727, 0.6478255162025324, 0.12956510324050646, 0.2591302064810129, 0.34118833709339447, 0.5686472284889907, 0.20660678312912495, 0.36156187047596866, 0.10330339156456247, 0.20660678312912495, 0.12396406987747496, 0.47124401252631815, 0.08568072955023967, 0.042840364775119835, 0.4284036477511983, 0.11144697229850511, 0.22289394459701023, 0.11144697229850511, 0.501511375343273, 0.11144697229850511, 0.16983114408938763, 0.35753925071450027, 0.16983114408938763, 0.1519541815536626, 0.1519541815536626, 0.568287333427753, 0.11365746668555059, 0.11365746668555059, 0.11365746668555059, 0.6480497307859668, 0.09257853296942384, 0.2777355989082715, 0.34173550504281747, 0.20193461661621032, 0.19157899525127645, 0.16568994183894178, 0.0983784029668717, 0.42527081897474395, 0.060752974139249134, 0.42527081897474395, 0.18114264227460317, 0.12076176151640211, 0.6038088075820106, 0.060380880758201055, 0.060380880758201055, 0.41307114757060337, 0.5163389344632543, 0.16104609299515416, 0.08052304649757708, 0.08052304649757708, 0.16104609299515416, 0.48313827898546247, 0.19167856444071615, 0.09583928222035808, 0.47919641110179034, 0.19167856444071615, 0.5392177265706976, 0.17973924219023252, 0.059913080730077506, 0.17973924219023252, 0.27169348145969435, 0.18379264922273444, 0.11187378648340357, 0.1997746187203635, 0.23173855771562168, 0.5659229423597544, 0.22636917694390174, 0.11318458847195087, 0.7601753193254704, 0.050678354621698035, 0.10135670924339607, 0.050678354621698035, 0.19573977713177698, 0.065246592377259, 0.16311648094314748, 0.16311648094314748, 0.4241028504521835, 0.2806829897108159, 0.2511374118465195, 0.13295510038933386, 0.13295510038933386, 0.21420543951614898, 0.1878070820589104, 0.23997571596416328, 0.35474671055571966, 0.1356384481536575, 0.08346981424840462, 0.2375524581193009, 0.4103178822060652, 0.04319135602169107, 0.19436110209760982, 0.10797839005422767, 0.3749517534379434, 0.07499035068758868, 0.5249324548131208, 0.2561328026840782, 0.5122656053681564, 0.08537760089469272, 0.5977206520582236, 0.08538866457974623, 0.25616599373923865, 0.33385773624957654, 0.22702326064971204, 0.10683447559986449, 0.23370041537470357, 0.10015732087487296, 0.42683924809051466, 0.16362171176803061, 0.17784968670438112, 0.07825386214992769, 0.15650772429985538, 0.1395849299393752, 0.16750191592725025, 0.41875478981812564, 0.05583397197575008, 0.22333588790300032, 0.17970252125158317, 0.3243411359174916, 0.22353240448367662, 0.11395769640344298, 0.15778757963553644, 0.18658680738864863, 0.7463472295545945, 0.04664670184716216, 0.08747641283665619, 0.08747641283665619, 0.17495282567331238, 0.17495282567331238, 0.43738206418328096], \"Term\": [\"age\", \"age\", \"age\", \"age\", \"agree\", \"agree\", \"alone\", \"alone\", \"alone\", \"alone\", \"alone\", \"angry\", \"angry\", \"angry\", \"angry\", \"angry\", \"animate\", \"animate\", \"animate\", \"animate\", \"anymore\", \"anymore\", \"anymore\", \"anymore\", \"anymore\", \"anyone\", \"anyone\", \"anyone\", \"anyone\", \"anyone\", \"anything\", \"anything\", \"anything\", \"anything\", \"anything\", \"apartment\", \"apartment\", \"apartment\", \"apartment\", \"apartment\", \"ask\", \"ask\", \"ask\", \"ask\", \"ask\", \"aware\", \"aware\", \"aware\", \"aware\", \"aware\", \"bald\", \"bald\", \"bald\", \"bald\", \"ball\", \"ball\", \"ball\", \"ball\", \"ball\", \"bar\", \"bar\", \"bar\", \"bar\", \"baseball\", \"baseball\", \"believe\", \"believe\", \"believe\", \"believe\", \"believe\", \"belong\", \"belong\", \"belong\", \"big\", \"big\", \"big\", \"big\", \"big\", \"birthday\", \"birthday\", \"birthday\", \"birthday\", \"bite\", \"bite\", \"bite\", \"bite\", \"book\", \"book\", \"book\", \"book\", \"book\", \"boss\", \"boss\", \"boss\", \"boss\", \"bout\", \"bout\", \"bout\", \"boyfriend\", \"boyfriend\", \"boyfriend\", \"break\", \"break\", \"break\", \"break\", \"break\", \"bump\", \"bump\", \"bump\", \"bust\", \"bust\", \"bust\", \"bust\", \"busy\", \"busy\", \"busy\", \"busy\", \"buy\", \"buy\", \"buy\", \"buy\", \"buy\", \"cab\", \"cab\", \"cab\", \"cab\", \"cab\", \"call\", \"call\", \"call\", \"call\", \"call\", \"camera\", \"camera\", \"camera\", \"candy\", \"candy\", \"candy\", \"candy\", \"candy\", \"car\", \"car\", \"car\", \"car\", \"car\", \"card\", \"card\", \"card\", \"card\", \"card\", \"care\", \"care\", \"care\", \"care\", \"care\", \"chair\", \"chair\", \"chair\", \"chair\", \"chair\", \"change\", \"change\", \"change\", \"change\", \"change\", \"chinese\", \"chinese\", \"chinese\", \"chinese\", \"chinese\", \"chip\", \"chip\", \"chip\", \"christmas\", \"christmas\", \"christmas\", \"christmas\", \"cleaning\", \"cleaning\", \"cleaning\", \"clothe\", \"clothe\", \"clothe\", \"clothe\", \"clothe\", \"coffee\", \"coffee\", \"coffee\", \"coffee\", \"coffee\", \"control\", \"control\", \"conversation\", \"conversation\", \"conversation\", \"conversation\", \"conversation\", \"couch\", \"couch\", \"couch\", \"couch\", \"couch\", \"course\", \"course\", \"course\", \"course\", \"course\", \"crack\", \"crack\", \"crack\", \"crack\", \"crack\", \"crash\", \"crash\", \"crash\", \"crash\", \"cry\", \"cry\", \"cry\", \"dad\", \"dad\", \"dad\", \"dad\", \"dad\", \"damn\", \"damn\", \"damn\", \"damn\", \"damn\", \"day\", \"day\", \"day\", \"day\", \"day\", \"death\", \"death\", \"death\", \"disgusting\", \"disgusting\", \"disgusting\", \"disgusting\", \"doctor\", \"doctor\", \"doctor\", \"doctor\", \"doctor\", \"dog\", \"dog\", \"dog\", \"dog\", \"dog\", \"dollar\", \"dollar\", \"dollar\", \"dollar\", \"dollar\", \"door\", \"door\", \"door\", \"door\", \"door\", \"doubt\", \"doubt\", \"doubt\", \"dunno\", \"dunno\", \"dunno\", \"early\", \"early\", \"eat\", \"eat\", \"eat\", \"eat\", \"eat\", \"elaine\", \"elaine\", \"elaine\", \"elaine\", \"elaine\", \"even\", \"even\", \"even\", \"even\", \"even\", \"exact\", \"exact\", \"exact\", \"except\", \"except\", \"except\", \"exciting\", \"exciting\", \"exciting\", \"excuse\", \"excuse\", \"excuse\", \"excuse\", \"excuse\", \"expect\", \"expect\", \"expect\", \"expensive\", \"expensive\", \"fabulous\", \"fabulous\", \"fabulous\", \"fabulous\", \"fair\", \"fair\", \"fair\", \"fair\", \"fake\", \"fake\", \"fake\", \"fake\", \"feel\", \"feel\", \"feel\", \"feel\", \"feel\", \"fight\", \"fight\", \"fight\", \"fight\", \"fight\", \"find\", \"find\", \"find\", \"find\", \"find\", \"fine\", \"fine\", \"fine\", \"fine\", \"fine\", \"finger\", \"finger\", \"finger\", \"finger\", \"finger\", \"first\", \"first\", \"first\", \"first\", \"first\", \"fish\", \"fish\", \"fish\", \"fish\", \"flip\", \"flip\", \"flip\", \"free\", \"free\", \"free\", \"free\", \"free\", \"friend\", \"friend\", \"friend\", \"friend\", \"friend\", \"frustrated\", \"frustrated\", \"frustrated\", \"fun\", \"fun\", \"fun\", \"fun\", \"fun\", \"funeral\", \"funeral\", \"funeral\", \"funeral\", \"funny\", \"funny\", \"funny\", \"funny\", \"funny\", \"george\", \"george\", \"george\", \"george\", \"george\", \"give\", \"give\", \"give\", \"give\", \"give\", \"glass\", \"glass\", \"glass\", \"glass\", \"glass\", \"god\", \"god\", \"god\", \"god\", \"god\", \"great\", \"great\", \"great\", \"great\", \"great\", \"group\", \"group\", \"group\", \"group\", \"gun\", \"gun\", \"gun\", \"gun\", \"gut\", \"gut\", \"gut\", \"guy\", \"guy\", \"guy\", \"guy\", \"guy\", \"hand\", \"hand\", \"hand\", \"hand\", \"hand\", \"happen\", \"happen\", \"happen\", \"happen\", \"happen\", \"hear\", \"hear\", \"hear\", \"hear\", \"hear\", \"heart\", \"heart\", \"heart\", \"heart\", \"hip\", \"hip\", \"hip\", \"hip\", \"hip\", \"hook\", \"hook\", \"hook\", \"hospital\", \"hospital\", \"hospital\", \"hospital\", \"hot\", \"hot\", \"hot\", \"hot\", \"hot\", \"hurry\", \"hurry\", \"hurry\", \"hurry\", \"idea\", \"idea\", \"idea\", \"idea\", \"idea\", \"ignore\", \"ignore\", \"iim\", \"iim\", \"iim\", \"indicate\", \"indicate\", \"indicate\", \"indicate\", \"instead\", \"instead\", \"instead\", \"interrupt\", \"interrupt\", \"interrupt\", \"interrupt\", \"interview\", \"interview\", \"interview\", \"interview\", \"jerk\", \"jerk\", \"key\", \"key\", \"key\", \"key\", \"key\", \"kid\", \"kid\", \"kid\", \"kid\", \"kid\", \"kitchen\", \"kitchen\", \"kitchen\", \"kitchen\", \"kitchen\", \"kramer\", \"kramer\", \"kramer\", \"kramer\", \"kramer\", \"laugh\", \"laugh\", \"laugh\", \"laugh\", \"laugh\", \"laughter\", \"laughter\", \"laughter\", \"laundry\", \"laundry\", \"laundry\", \"learn\", \"learn\", \"leave\", \"leave\", \"leave\", \"leave\", \"leave\", \"left\", \"left\", \"left\", \"less\", \"less\", \"less\", \"letter\", \"letter\", \"letter\", \"listen\", \"listen\", \"listen\", \"listen\", \"listen\", \"little\", \"little\", \"little\", \"little\", \"little\", \"live\", \"live\", \"live\", \"live\", \"live\", \"lock\", \"lock\", \"lock\", \"lock\", \"lock\", \"love\", \"love\", \"love\", \"love\", \"love\", \"lovely\", \"lovely\", \"lovely\", \"low\", \"low\", \"low\", \"low\", \"low\", \"luck\", \"luck\", \"lunch\", \"lunch\", \"lunch\", \"lunch\", \"lunch\", \"machine\", \"machine\", \"machine\", \"machine\", \"machine\", \"man\", \"man\", \"man\", \"man\", \"man\", \"married\", \"married\", \"married\", \"marry\", \"marry\", \"marry\", \"marry\", \"marry\", \"maybe\", \"maybe\", \"maybe\", \"maybe\", \"maybe\", \"mean\", \"mean\", \"mean\", \"mean\", \"mean\", \"message\", \"message\", \"message\", \"message\", \"message\", \"middle\", \"middle\", \"middle\", \"middle\", \"middle\", \"might\", \"might\", \"might\", \"might\", \"might\", \"minute\", \"minute\", \"minute\", \"minute\", \"minute\", \"moment\", \"moment\", \"moment\", \"moment\", \"mother\", \"mother\", \"mother\", \"mother\", \"mother\", \"move\", \"move\", \"move\", \"move\", \"move\", \"much\", \"much\", \"much\", \"much\", \"much\", \"mutter\", \"mutter\", \"naked\", \"naked\", \"naked\", \"naked\", \"naked\", \"name\", \"name\", \"name\", \"name\", \"name\", \"napkin\", \"napkin\", \"need\", \"need\", \"need\", \"need\", \"need\", \"never\", \"never\", \"never\", \"never\", \"never\", \"newspaper\", \"newspaper\", \"newspaper\", \"nice\", \"nice\", \"nice\", \"nice\", \"nice\", \"night\", \"night\", \"night\", \"night\", \"night\", \"nod\", \"nod\", \"nod\", \"nod\", \"nod\", \"nose\", \"nose\", \"nose\", \"nose\", \"nose\", \"note\", \"note\", \"note\", \"note\", \"note\", \"nothing\", \"nothing\", \"nothing\", \"nothing\", \"nothing\", \"pack\", \"pack\", \"pack\", \"parent\", \"parent\", \"parent\", \"parent\", \"parent\", \"park\", \"park\", \"park\", \"park\", \"park\", \"pause\", \"pause\", \"pause\", \"pause\", \"pause\", \"people\", \"people\", \"people\", \"people\", \"people\", \"photo\", \"photo\", \"photo\", \"pick\", \"pick\", \"pick\", \"pick\", \"pick\", \"place\", \"place\", \"place\", \"place\", \"place\", \"plan\", \"plan\", \"plan\", \"plan\", \"plan\", \"plane\", \"plane\", \"plane\", \"plane\", \"plane\", \"player\", \"player\", \"player\", \"player\", \"plead\", \"plead\", \"plead\", \"plenty\", \"plenty\", \"point\", \"point\", \"point\", \"point\", \"point\", \"police\", \"police\", \"police\", \"pop\", \"pop\", \"pop\", \"pop\", \"possible\", \"possible\", \"possible\", \"possible\", \"possibly\", \"possibly\", \"possibly\", \"present\", \"present\", \"present\", \"present\", \"present\", \"prove\", \"prove\", \"prove\", \"prove\", \"pull\", \"pull\", \"pull\", \"pull\", \"pull\", \"queen\", \"queen\", \"queen\", \"queen\", \"question\", \"question\", \"question\", \"question\", \"question\", \"quiet\", \"quiet\", \"quiet\", \"quit\", \"quit\", \"quit\", \"quit\", \"read\", \"read\", \"read\", \"read\", \"read\", \"ready\", \"ready\", \"ready\", \"ready\", \"ready\", \"regular\", \"regular\", \"regular\", \"remove\", \"remove\", \"remove\", \"rest\", \"rest\", \"rest\", \"rest\", \"salad\", \"salad\", \"salad\", \"salad\", \"salad\", \"scared\", \"scared\", \"scared\", \"score\", \"score\", \"score\", \"score\", \"second\", \"second\", \"second\", \"second\", \"second\", \"sell\", \"sell\", \"sell\", \"sell\", \"sell\", \"serious\", \"serious\", \"serious\", \"serious\", \"seven\", \"seven\", \"seven\", \"seven\", \"seventyfive\", \"seventyfive\", \"seventyfive\", \"sex\", \"sex\", \"sex\", \"sex\", \"sex\", \"shed\", \"shed\", \"shed\", \"shoot\", \"shoot\", \"shoot\", \"shoot\", \"shout\", \"shout\", \"shout\", \"shout\", \"shout\", \"show\", \"show\", \"show\", \"show\", \"show\", \"six\", \"six\", \"six\", \"six\", \"six\", \"smart\", \"smart\", \"smart\", \"smile\", \"smile\", \"smile\", \"smile\", \"smile\", \"soda\", \"soda\", \"soda\", \"soda\", \"someone\", \"someone\", \"someone\", \"someone\", \"someone\", \"something\", \"something\", \"something\", \"something\", \"something\", \"sorry\", \"sorry\", \"sorry\", \"sorry\", \"sorry\", \"sort\", \"sort\", \"sort\", \"sort\", \"sort\", \"speak\", \"speak\", \"speak\", \"speak\", \"speak\", \"sport\", \"sport\", \"sport\", \"sport\", \"spot\", \"spot\", \"spot\", \"spot\", \"start\", \"start\", \"start\", \"start\", \"start\", \"step\", \"step\", \"step\", \"step\", \"step\", \"stomach\", \"stomach\", \"stomach\", \"stop\", \"stop\", \"stop\", \"stop\", \"stop\", \"story\", \"story\", \"story\", \"story\", \"story\", \"super\", \"super\", \"super\", \"super\", \"superman\", \"superman\", \"superman\", \"sure\", \"sure\", \"sure\", \"sure\", \"sure\", \"susan\", \"susan\", \"susan\", \"susan\", \"susan\", \"sweater\", \"sweater\", \"sweater\", \"sweetheart\", \"sweetheart\", \"sweetheart\", \"switch\", \"switch\", \"switch\", \"system\", \"system\", \"talk\", \"talk\", \"talk\", \"talk\", \"talk\", \"tape\", \"tape\", \"tape\", \"tape\", \"test\", \"test\", \"test\", \"test\", \"test\", \"thank\", \"thank\", \"thank\", \"thank\", \"thank\", \"thinkin\", \"thinkin\", \"thinkin\", \"thinkin\", \"throat\", \"throat\", \"throat\", \"time\", \"time\", \"time\", \"time\", \"time\", \"toe\", \"toe\", \"toe\", \"top\", \"top\", \"top\", \"top\", \"top\", \"towards\", \"towards\", \"town\", \"town\", \"town\", \"town\", \"town\", \"traffic\", \"traffic\", \"traffic\", \"traffic\", \"truth\", \"truth\", \"truth\", \"truth\", \"try\", \"try\", \"try\", \"try\", \"try\", \"vacation\", \"vacation\", \"vacation\", \"vandelay\", \"vandelay\", \"vandelay\", \"vandelay\", \"voice\", \"voice\", \"voice\", \"voice\", \"voice\", \"wait\", \"wait\", \"wait\", \"wait\", \"wait\", \"walk\", \"walk\", \"walk\", \"walk\", \"walk\", \"wear\", \"wear\", \"wear\", \"wear\", \"wear\", \"whisper\", \"whisper\", \"whisper\", \"white\", \"white\", \"white\", \"woah\", \"woah\", \"woah\", \"woman\", \"woman\", \"woman\", \"woman\", \"woman\", \"work\", \"work\", \"work\", \"work\", \"work\", \"yankee\", \"yankee\", \"yankee\", \"yankee\", \"yankee\", \"yes\", \"yes\", \"yes\", \"yes\", \"yes\", \"yknow\", \"yknow\", \"yknow\", \"york\", \"york\", \"york\", \"york\", \"york\"]}, \"R\": 30, \"lambda.step\": 0.01, \"plot.opts\": {\"xlab\": \"PC1\", \"ylab\": \"PC2\"}, \"topic.order\": [4, 5, 3, 1, 2]};\n",
       "\n",
       "function LDAvis_load_lib(url, callback){\n",
       "  var s = document.createElement('script');\n",
       "  s.src = url;\n",
       "  s.async = true;\n",
       "  s.onreadystatechange = s.onload = callback;\n",
       "  s.onerror = function(){console.warn(\"failed to load library \" + url);};\n",
       "  document.getElementsByTagName(\"head\")[0].appendChild(s);\n",
       "}\n",
       "\n",
       "if(typeof(LDAvis) !== \"undefined\"){\n",
       "   // already loaded: just create the visualization\n",
       "   !function(LDAvis){\n",
       "       new LDAvis(\"#\" + \"ldavis_el290611402825844125607313560287\", ldavis_el290611402825844125607313560287_data);\n",
       "   }(LDAvis);\n",
       "}else if(typeof define === \"function\" && define.amd){\n",
       "   // require.js is available: use it to load d3/LDAvis\n",
       "   require.config({paths: {d3: \"https://d3js.org/d3.v5\"}});\n",
       "   require([\"d3\"], function(d3){\n",
       "      window.d3 = d3;\n",
       "      LDAvis_load_lib(\"https://cdn.jsdelivr.net/gh/bmabey/pyLDAvis@3.2.2/pyLDAvis/js/ldavis.v3.0.0.js\", function(){\n",
       "        new LDAvis(\"#\" + \"ldavis_el290611402825844125607313560287\", ldavis_el290611402825844125607313560287_data);\n",
       "      });\n",
       "    });\n",
       "}else{\n",
       "    // require.js not available: dynamically load d3 & LDAvis\n",
       "    LDAvis_load_lib(\"https://d3js.org/d3.v5.js\", function(){\n",
       "         LDAvis_load_lib(\"https://cdn.jsdelivr.net/gh/bmabey/pyLDAvis@3.2.2/pyLDAvis/js/ldavis.v3.0.0.js\", function(){\n",
       "                 new LDAvis(\"#\" + \"ldavis_el290611402825844125607313560287\", ldavis_el290611402825844125607313560287_data);\n",
       "            })\n",
       "         });\n",
       "}\n",
       "</script>"
      ],
      "text/plain": [
       "<IPython.core.display.HTML object>"
      ]
     },
     "execution_count": 869,
     "metadata": {},
     "output_type": "execute_result"
    }
   ],
   "source": [
    "pyLDAvis.display(vis_data)"
   ]
  },
  {
   "cell_type": "code",
   "execution_count": null,
   "metadata": {},
   "outputs": [],
   "source": []
  }
 ],
 "metadata": {
  "kernelspec": {
   "display_name": "Python 3",
   "language": "python",
   "name": "python3"
  },
  "language_info": {
   "codemirror_mode": {
    "name": "ipython",
    "version": 3
   },
   "file_extension": ".py",
   "mimetype": "text/x-python",
   "name": "python",
   "nbconvert_exporter": "python",
   "pygments_lexer": "ipython3",
   "version": "3.8.5"
  }
 },
 "nbformat": 4,
 "nbformat_minor": 4
}
