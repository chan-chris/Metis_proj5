{
 "cells": [
  {
   "cell_type": "markdown",
   "metadata": {},
   "source": [
    "## pitchfork_review_anlaysis\n",
    "**Program:** 01_pitchfork_review_analysis.ipynb <br>\n",
    "**Created by:** Chris Chan<br>\n",
    "**Date:** Mar 16, 2021<br>\n",
    "**Purpose:** <br>\n",
    ". The purpose of the project is to develop a modern jazz artist recommender/discovery based on sub-genres or non-jazz artists somehow linked to the jazz album via pitchfork review text. Upon inspection of reviews (namely jazz reviews) there is high chance of other non-jazz artist referenced to shed light on some similarity. The idea is to take these links as features or search terms in a rec system that would link to the jazz artist. The jazz artists would be cmpared as well given various topics modeled from all of the reviews.\n",
    "\n",
    ". 1. bring in data, count vectorize, etc. <br>\n",
    ". 2. preprocessing - clean, lemmatize <br>\n",
    ". 3. explore:<br>\n",
    "    . Basic EDA\n",
    "    . try topic modeling<br>\n",
    "    . sentiment analysis<br>\n",
    "    . combining the two<br>"
   ]
  },
  {
   "cell_type": "code",
   "execution_count": 1,
   "metadata": {},
   "outputs": [],
   "source": [
    "import pandas as pd\n",
    "from sklearn.feature_extraction.text import CountVectorizer \n",
    "from sklearn.decomposition import NMF"
   ]
  },
  {
   "cell_type": "code",
   "execution_count": 2,
   "metadata": {},
   "outputs": [],
   "source": [
    "import glob\n",
    "import os\n",
    "from collections import defaultdict\n",
    "import re\n",
    "import numpy as np\n",
    "from sklearn.model_selection import train_test_split\n",
    "import pandas as pd"
   ]
  },
  {
   "cell_type": "code",
   "execution_count": 3,
   "metadata": {},
   "outputs": [],
   "source": [
    "import nltk\n",
    "import os\n",
    "import spacy\n",
    "import re\n",
    "import string\n",
    "import pickle\n",
    "from itertools import cycle\n",
    "import matplotlib.pyplot as plt\n",
    "from nltk import stem\n",
    "%matplotlib inline\n",
    "%config InlineBackend.figure_formats = ['retina']\n",
    "from nltk.tokenize import word_tokenize, sent_tokenize, MWETokenizer\n",
    "from gensim import corpora, models, similarities, matutils\n",
    "from sklearn.decomposition import TruncatedSVD, NMF\n",
    "from corextopic import corextopic, vis_topic\n",
    "from sklearn.feature_extraction.text import CountVectorizer\n",
    "from sklearn.feature_extraction.text import TfidfVectorizer\n",
    "from sklearn.manifold import TSNE\n",
    "import plotly.graph_objects as go\n",
    "import scattertext as st"
   ]
  },
  {
   "cell_type": "code",
   "execution_count": 4,
   "metadata": {},
   "outputs": [],
   "source": [
    "from nltk.sentiment.vader import SentimentIntensityAnalyzer\n",
    "from textblob import TextBlob"
   ]
  },
  {
   "cell_type": "markdown",
   "metadata": {},
   "source": [
    "### Read in data"
   ]
  },
  {
   "cell_type": "markdown",
   "metadata": {},
   "source": [
    "**We read through all the docments and build a list-of-list of words:**"
   ]
  },
  {
   "cell_type": "code",
   "execution_count": 950,
   "metadata": {},
   "outputs": [],
   "source": [
    "df = pd.read_csv('/Users/chrischan/Documents/02_Class/Metis/bootcamp/githubrepo/Metis_proj5/data/pitchfork_jazz_clean.csv')"
   ]
  },
  {
   "cell_type": "code",
   "execution_count": 951,
   "metadata": {},
   "outputs": [
    {
     "data": {
      "text/html": [
       "<div>\n",
       "<style scoped>\n",
       "    .dataframe tbody tr th:only-of-type {\n",
       "        vertical-align: middle;\n",
       "    }\n",
       "\n",
       "    .dataframe tbody tr th {\n",
       "        vertical-align: top;\n",
       "    }\n",
       "\n",
       "    .dataframe thead th {\n",
       "        text-align: right;\n",
       "    }\n",
       "</style>\n",
       "<table border=\"1\" class=\"dataframe\">\n",
       "  <thead>\n",
       "    <tr style=\"text-align: right;\">\n",
       "      <th></th>\n",
       "      <th>Unnamed: 0</th>\n",
       "      <th>artist</th>\n",
       "      <th>album</th>\n",
       "      <th>score</th>\n",
       "      <th>genre</th>\n",
       "      <th>review</th>\n",
       "      <th>othercat</th>\n",
       "      <th>othercat2</th>\n",
       "      <th>best</th>\n",
       "      <th>date</th>\n",
       "      <th>testing_formula</th>\n",
       "    </tr>\n",
       "  </thead>\n",
       "  <tbody>\n",
       "    <tr>\n",
       "      <th>0</th>\n",
       "      <td>0</td>\n",
       "      <td>Sam Gendel</td>\n",
       "      <td>Fresh Bread</td>\n",
       "      <td>6.5</td>\n",
       "      <td>Jazz</td>\n",
       "      <td>Fifty-two tracks deep, this archival compendiu...</td>\n",
       "      <td>['Skip to content', 'All Results', 'Home', 'Ne...</td>\n",
       "      <td>Sam Gendel, Jay Balfour,    Sam Gendel, cover...</td>\n",
       "      <td>0</td>\n",
       "      <td>March 4 2021</td>\n",
       "      <td>Skip to content, All Results, Home, News, Revi...</td>\n",
       "    </tr>\n",
       "    <tr>\n",
       "      <th>1</th>\n",
       "      <td>1</td>\n",
       "      <td>Femi Kuti / Made Kuti</td>\n",
       "      <td>Legacy +</td>\n",
       "      <td>7.8</td>\n",
       "      <td>Global</td>\n",
       "      <td>On the duo’s generation-spanning double album,...</td>\n",
       "      <td>['Skip to content', 'All Results', 'Home', 'Ne...</td>\n",
       "      <td>Femi Kuti, Made Kuti, Joey Akan, Global,    F...</td>\n",
       "      <td>0</td>\n",
       "      <td>February 20 2021</td>\n",
       "      <td>Skip to content, All Results, Home, News, Revi...</td>\n",
       "    </tr>\n",
       "    <tr>\n",
       "      <th>2</th>\n",
       "      <td>2</td>\n",
       "      <td>Archie Shepp / Jason Moran</td>\n",
       "      <td>Let My People Go</td>\n",
       "      <td>7.5</td>\n",
       "      <td>Jazz</td>\n",
       "      <td>These live sets between the saxophonist and pi...</td>\n",
       "      <td>['Skip to content', 'All Results', 'Home', 'Ne...</td>\n",
       "      <td>Archie Shepp, Jason Moran, Madison Bloom,    ...</td>\n",
       "      <td>0</td>\n",
       "      <td>February 15 2021</td>\n",
       "      <td>Skip to content, All Results, Home, News, Revi...</td>\n",
       "    </tr>\n",
       "    <tr>\n",
       "      <th>3</th>\n",
       "      <td>3</td>\n",
       "      <td>Patricia Brennan</td>\n",
       "      <td>Maquishti</td>\n",
       "      <td>7.4</td>\n",
       "      <td>Experimental</td>\n",
       "      <td>Challenging but never chaotic, contemplative y...</td>\n",
       "      <td>['Skip to content', 'All Results', 'Home', 'Ne...</td>\n",
       "      <td>Patricia Brennan, Daniel Felsenthal, Experime...</td>\n",
       "      <td>0</td>\n",
       "      <td>January 19 2021</td>\n",
       "      <td>Skip to content, All Results, Home, News, Revi...</td>\n",
       "    </tr>\n",
       "    <tr>\n",
       "      <th>4</th>\n",
       "      <td>4</td>\n",
       "      <td>Baldi/Gerycz Duo</td>\n",
       "      <td>After Commodore Perry Service Plaza</td>\n",
       "      <td>7.1</td>\n",
       "      <td>Jazz</td>\n",
       "      <td>The second album of improvisational jazz from ...</td>\n",
       "      <td>['Skip to content', 'All Results', 'Home', 'Ne...</td>\n",
       "      <td>Baldi/Gerycz Duo, Fred Thomas,  Experimental,...</td>\n",
       "      <td>0</td>\n",
       "      <td>January 6 2021</td>\n",
       "      <td>Skip to content, All Results, Home, News, Revi...</td>\n",
       "    </tr>\n",
       "  </tbody>\n",
       "</table>\n",
       "</div>"
      ],
      "text/plain": [
       "   Unnamed: 0                      artist  \\\n",
       "0           0                  Sam Gendel   \n",
       "1           1       Femi Kuti / Made Kuti   \n",
       "2           2  Archie Shepp / Jason Moran   \n",
       "3           3            Patricia Brennan   \n",
       "4           4            Baldi/Gerycz Duo   \n",
       "\n",
       "                                 album  score         genre  \\\n",
       "0                          Fresh Bread    6.5          Jazz   \n",
       "1                             Legacy +    7.8        Global   \n",
       "2                     Let My People Go    7.5          Jazz   \n",
       "3                            Maquishti    7.4  Experimental   \n",
       "4  After Commodore Perry Service Plaza    7.1          Jazz   \n",
       "\n",
       "                                              review  \\\n",
       "0  Fifty-two tracks deep, this archival compendiu...   \n",
       "1  On the duo’s generation-spanning double album,...   \n",
       "2  These live sets between the saxophonist and pi...   \n",
       "3  Challenging but never chaotic, contemplative y...   \n",
       "4  The second album of improvisational jazz from ...   \n",
       "\n",
       "                                            othercat  \\\n",
       "0  ['Skip to content', 'All Results', 'Home', 'Ne...   \n",
       "1  ['Skip to content', 'All Results', 'Home', 'Ne...   \n",
       "2  ['Skip to content', 'All Results', 'Home', 'Ne...   \n",
       "3  ['Skip to content', 'All Results', 'Home', 'Ne...   \n",
       "4  ['Skip to content', 'All Results', 'Home', 'Ne...   \n",
       "\n",
       "                                           othercat2  best              date  \\\n",
       "0   Sam Gendel, Jay Balfour,    Sam Gendel, cover...     0      March 4 2021   \n",
       "1   Femi Kuti, Made Kuti, Joey Akan, Global,    F...     0  February 20 2021   \n",
       "2   Archie Shepp, Jason Moran, Madison Bloom,    ...     0  February 15 2021   \n",
       "3   Patricia Brennan, Daniel Felsenthal, Experime...     0   January 19 2021   \n",
       "4   Baldi/Gerycz Duo, Fred Thomas,  Experimental,...     0    January 6 2021   \n",
       "\n",
       "                                     testing_formula  \n",
       "0  Skip to content, All Results, Home, News, Revi...  \n",
       "1  Skip to content, All Results, Home, News, Revi...  \n",
       "2  Skip to content, All Results, Home, News, Revi...  \n",
       "3  Skip to content, All Results, Home, News, Revi...  \n",
       "4  Skip to content, All Results, Home, News, Revi...  "
      ]
     },
     "execution_count": 951,
     "metadata": {},
     "output_type": "execute_result"
    }
   ],
   "source": [
    "df.head()"
   ]
  },
  {
   "cell_type": "code",
   "execution_count": 1153,
   "metadata": {},
   "outputs": [
    {
     "name": "stderr",
     "output_type": "stream",
     "text": [
      "/opt/anaconda3/lib/python3.8/site-packages/ipykernel/ipkernel.py:287: DeprecationWarning: `should_run_async` will not call `transform_cell` automatically in the future. Please pass the result to `transformed_cell` argument and any exception that happen during thetransform in `preprocessing_exc_tuple` in IPython 7.17 and above.\n",
      "  and should_run_async(code)\n"
     ]
    }
   ],
   "source": [
    "nonwords=['Skip to content', 'All Results', 'Home', 'News', 'Reviews', 'Albums', 'Tracks', 'Sunday Reviews', '8.0+ Reviews',\n",
    "          'Best New Music', 'Features', 'Lists & Guides', 'Longform', 'Rising', 'Photo Galleries', 'The Pitch', 'Video',\n",
    "          'Over/Under', 'Liner Notes', 'Under the Influences', 'On the Records', 'Critical Breakthroughs', 'Podcast', 'GRAMMYS 2021',\n",
    "          'Newsletter', 'Advertising', 'Masthead', 'Careers', 'Contact', 'Accessibility Help', 'More Pitchfork', 'Pitchfork Music Festival Chicago',\n",
    "          'Pitchfork Music Festival Paris', 'Pitchfork Music Festival Berlin', 'Pitchfork Radio', 'Home     ','GRAMMYS', \n",
    "          'Staff Picks', 'Bandcamp', 'Buy','8.0+ ','8.0+','Back to home', 'Sign','newsletter','here','pitchfork','Pitchfork']\n"
   ]
  },
  {
   "cell_type": "code",
   "execution_count": 953,
   "metadata": {},
   "outputs": [
    {
     "name": "stdout",
     "output_type": "stream",
     "text": [
      "<class 'pandas.core.frame.DataFrame'>\n",
      "RangeIndex: 624 entries, 0 to 623\n",
      "Data columns (total 11 columns):\n",
      " #   Column           Non-Null Count  Dtype  \n",
      "---  ------           --------------  -----  \n",
      " 0   Unnamed: 0       624 non-null    int64  \n",
      " 1   artist           624 non-null    object \n",
      " 2   album            623 non-null    object \n",
      " 3   score            615 non-null    float64\n",
      " 4   genre            615 non-null    object \n",
      " 5   review           624 non-null    object \n",
      " 6   othercat         624 non-null    object \n",
      " 7   othercat2        615 non-null    object \n",
      " 8   best             624 non-null    int64  \n",
      " 9   date             615 non-null    object \n",
      " 10  testing_formula  615 non-null    object \n",
      "dtypes: float64(1), int64(2), object(8)\n",
      "memory usage: 53.8+ KB\n"
     ]
    }
   ],
   "source": [
    "df.info()"
   ]
  },
  {
   "cell_type": "code",
   "execution_count": 954,
   "metadata": {},
   "outputs": [
    {
     "data": {
      "text/plain": [
       " Miles Davis, Dominique Leone                                                                                                                                                                                                        5\n",
       " NOMO, Joe Tangari, Global,  Pop/R&B                                                                                                                                                                                                 4\n",
       " Capillary Action, Joe Tangari,  Rock                                                                                                                                                                                                3\n",
       " John Zorn, Dominique Leone, Experimental                                                                                                                                                                                            3\n",
       " Alog, Mark Richardson, Electronic,  Rock                                                                                                                                                                                            3\n",
       "                                                                                                                                                                                                                                    ..\n",
       " Mungolian Jet Set, Tim Finney,  Pop/R&B, Mungolian Jet Set, We Gave It All Away… Now We Are Taking It Back, \"We Are the Shining\"                                                                                                    1\n",
       " Angel Bat Dawid, Tha Brothahood, Andy Cush,  Angel Bat Dawid, The Oracle, interview, an incendiary early 2020 performance of “Black Family,”, Sun Ra, Rashaan Roland Kirk, protesting, told a Guardian interviewer                  1\n",
       " José James, Seth Colter Walls,  SoundCloud, José James, Billie Holiday, most soulful tribute, interviews, striking quote, Jamie xx, Miles Davis, Louis Armstrong, wrote, Always There, Closer, the Weeknd, Prince, newly drilled    1\n",
       " Phonophani, Mark Richardson, Electronic                                                                                                                                                                                             1\n",
       " Fred Lonberg-Holm, Jim O’Rourke, Weasel Walter, David M. Pecoraro,  Experimental, Folk/Country                                                                                                                                      1\n",
       "Name: othercat2, Length: 583, dtype: int64"
      ]
     },
     "execution_count": 954,
     "metadata": {},
     "output_type": "execute_result"
    }
   ],
   "source": [
    "df.othercat2.value_counts()"
   ]
  },
  {
   "cell_type": "code",
   "execution_count": 955,
   "metadata": {},
   "outputs": [],
   "source": [
    "# pat = r'\\b(?:{})\\b'.format('|'.join(nonwords))\n",
    "# print(pat)\n",
    "# #df['test'] = df['othercat'].replace(\"'\",\"\")\n",
    "# df['othercat2'] = df['othercat'].str.replace(pat,'')\n",
    "# df.head()"
   ]
  },
  {
   "cell_type": "code",
   "execution_count": 956,
   "metadata": {},
   "outputs": [],
   "source": [
    "# import re\n",
    "# test=[re.sub('[^,a-zA-Z0-9]+', ' ', _) for _ in df['othercat2']]\n",
    "# test"
   ]
  },
  {
   "cell_type": "markdown",
   "metadata": {},
   "source": [
    "### Data Cleaning"
   ]
  },
  {
   "cell_type": "code",
   "execution_count": 957,
   "metadata": {},
   "outputs": [],
   "source": [
    "breaks = lambda x: re.sub(\"\\n\", \" \", x)\n",
    "alphanumeric = lambda x: re.sub(\"\\w*\\d\\w*\", \"\", x)\n",
    "punc_lower = lambda x: re.sub(\"[%s]\" % re.escape(string.punctuation), \"\", x.lower())\n",
    "#punc_lower = lambda x: re.sub(\"[%s]\" % re.escape(string.punctuation), \"\",x ) # x.lower())"
   ]
  },
  {
   "cell_type": "code",
   "execution_count": 958,
   "metadata": {},
   "outputs": [],
   "source": [
    "df[\"review_clean\"] = df[\"review\"].map(breaks).map(alphanumeric).map(punc_lower)\n",
    "df[\"othercat_clean\"] = df[\"othercat2\"].str.lower()\n",
    "df[\"artist_clean\"] = df[\"artist\"].str.lower()\n",
    "df[\"album_clean\"] = df[\"album\"].str.lower()"
   ]
  },
  {
   "cell_type": "code",
   "execution_count": 959,
   "metadata": {},
   "outputs": [
    {
     "data": {
      "text/html": [
       "<div>\n",
       "<style scoped>\n",
       "    .dataframe tbody tr th:only-of-type {\n",
       "        vertical-align: middle;\n",
       "    }\n",
       "\n",
       "    .dataframe tbody tr th {\n",
       "        vertical-align: top;\n",
       "    }\n",
       "\n",
       "    .dataframe thead th {\n",
       "        text-align: right;\n",
       "    }\n",
       "</style>\n",
       "<table border=\"1\" class=\"dataframe\">\n",
       "  <thead>\n",
       "    <tr style=\"text-align: right;\">\n",
       "      <th></th>\n",
       "      <th>Unnamed: 0</th>\n",
       "      <th>artist</th>\n",
       "      <th>album</th>\n",
       "      <th>score</th>\n",
       "      <th>genre</th>\n",
       "      <th>review</th>\n",
       "      <th>othercat</th>\n",
       "      <th>othercat2</th>\n",
       "      <th>best</th>\n",
       "      <th>date</th>\n",
       "      <th>testing_formula</th>\n",
       "      <th>review_clean</th>\n",
       "      <th>othercat_clean</th>\n",
       "      <th>artist_clean</th>\n",
       "      <th>album_clean</th>\n",
       "    </tr>\n",
       "  </thead>\n",
       "  <tbody>\n",
       "    <tr>\n",
       "      <th>0</th>\n",
       "      <td>0</td>\n",
       "      <td>Sam Gendel</td>\n",
       "      <td>Fresh Bread</td>\n",
       "      <td>6.5</td>\n",
       "      <td>Jazz</td>\n",
       "      <td>Fifty-two tracks deep, this archival compendiu...</td>\n",
       "      <td>['Skip to content', 'All Results', 'Home', 'Ne...</td>\n",
       "      <td>Sam Gendel, Jay Balfour,    Sam Gendel, cover...</td>\n",
       "      <td>0</td>\n",
       "      <td>March 4 2021</td>\n",
       "      <td>Skip to content, All Results, Home, News, Revi...</td>\n",
       "      <td>fiftytwo tracks deep this archival compendium ...</td>\n",
       "      <td>sam gendel, jay balfour,    sam gendel, cover...</td>\n",
       "      <td>sam gendel</td>\n",
       "      <td>fresh bread</td>\n",
       "    </tr>\n",
       "    <tr>\n",
       "      <th>1</th>\n",
       "      <td>1</td>\n",
       "      <td>Femi Kuti / Made Kuti</td>\n",
       "      <td>Legacy +</td>\n",
       "      <td>7.8</td>\n",
       "      <td>Global</td>\n",
       "      <td>On the duo’s generation-spanning double album,...</td>\n",
       "      <td>['Skip to content', 'All Results', 'Home', 'Ne...</td>\n",
       "      <td>Femi Kuti, Made Kuti, Joey Akan, Global,    F...</td>\n",
       "      <td>0</td>\n",
       "      <td>February 20 2021</td>\n",
       "      <td>Skip to content, All Results, Home, News, Revi...</td>\n",
       "      <td>on the duo’s generationspanning double album f...</td>\n",
       "      <td>femi kuti, made kuti, joey akan, global,    f...</td>\n",
       "      <td>femi kuti / made kuti</td>\n",
       "      <td>legacy +</td>\n",
       "    </tr>\n",
       "  </tbody>\n",
       "</table>\n",
       "</div>"
      ],
      "text/plain": [
       "   Unnamed: 0                 artist        album  score   genre  \\\n",
       "0           0             Sam Gendel  Fresh Bread    6.5    Jazz   \n",
       "1           1  Femi Kuti / Made Kuti     Legacy +    7.8  Global   \n",
       "\n",
       "                                              review  \\\n",
       "0  Fifty-two tracks deep, this archival compendiu...   \n",
       "1  On the duo’s generation-spanning double album,...   \n",
       "\n",
       "                                            othercat  \\\n",
       "0  ['Skip to content', 'All Results', 'Home', 'Ne...   \n",
       "1  ['Skip to content', 'All Results', 'Home', 'Ne...   \n",
       "\n",
       "                                           othercat2  best              date  \\\n",
       "0   Sam Gendel, Jay Balfour,    Sam Gendel, cover...     0      March 4 2021   \n",
       "1   Femi Kuti, Made Kuti, Joey Akan, Global,    F...     0  February 20 2021   \n",
       "\n",
       "                                     testing_formula  \\\n",
       "0  Skip to content, All Results, Home, News, Revi...   \n",
       "1  Skip to content, All Results, Home, News, Revi...   \n",
       "\n",
       "                                        review_clean  \\\n",
       "0  fiftytwo tracks deep this archival compendium ...   \n",
       "1  on the duo’s generationspanning double album f...   \n",
       "\n",
       "                                      othercat_clean           artist_clean  \\\n",
       "0   sam gendel, jay balfour,    sam gendel, cover...             sam gendel   \n",
       "1   femi kuti, made kuti, joey akan, global,    f...  femi kuti / made kuti   \n",
       "\n",
       "   album_clean  \n",
       "0  fresh bread  \n",
       "1     legacy +  "
      ]
     },
     "execution_count": 959,
     "metadata": {},
     "output_type": "execute_result"
    }
   ],
   "source": [
    "df.head(2)"
   ]
  },
  {
   "cell_type": "markdown",
   "metadata": {},
   "source": [
    "### Some EDA"
   ]
  },
  {
   "cell_type": "code",
   "execution_count": 960,
   "metadata": {},
   "outputs": [
    {
     "data": {
      "text/html": [
       "<div>\n",
       "<style scoped>\n",
       "    .dataframe tbody tr th:only-of-type {\n",
       "        vertical-align: middle;\n",
       "    }\n",
       "\n",
       "    .dataframe tbody tr th {\n",
       "        vertical-align: top;\n",
       "    }\n",
       "\n",
       "    .dataframe thead th {\n",
       "        text-align: right;\n",
       "    }\n",
       "</style>\n",
       "<table border=\"1\" class=\"dataframe\">\n",
       "  <thead>\n",
       "    <tr style=\"text-align: right;\">\n",
       "      <th></th>\n",
       "      <th>Unnamed: 0</th>\n",
       "      <th>score</th>\n",
       "      <th>best</th>\n",
       "    </tr>\n",
       "  </thead>\n",
       "  <tbody>\n",
       "    <tr>\n",
       "      <th>count</th>\n",
       "      <td>624.000000</td>\n",
       "      <td>615.000000</td>\n",
       "      <td>624.000000</td>\n",
       "    </tr>\n",
       "    <tr>\n",
       "      <th>mean</th>\n",
       "      <td>311.500000</td>\n",
       "      <td>7.428618</td>\n",
       "      <td>0.070513</td>\n",
       "    </tr>\n",
       "    <tr>\n",
       "      <th>std</th>\n",
       "      <td>180.277564</td>\n",
       "      <td>1.157300</td>\n",
       "      <td>0.256215</td>\n",
       "    </tr>\n",
       "    <tr>\n",
       "      <th>min</th>\n",
       "      <td>0.000000</td>\n",
       "      <td>1.000000</td>\n",
       "      <td>0.000000</td>\n",
       "    </tr>\n",
       "    <tr>\n",
       "      <th>25%</th>\n",
       "      <td>155.750000</td>\n",
       "      <td>7.000000</td>\n",
       "      <td>0.000000</td>\n",
       "    </tr>\n",
       "    <tr>\n",
       "      <th>50%</th>\n",
       "      <td>311.500000</td>\n",
       "      <td>7.600000</td>\n",
       "      <td>0.000000</td>\n",
       "    </tr>\n",
       "    <tr>\n",
       "      <th>75%</th>\n",
       "      <td>467.250000</td>\n",
       "      <td>8.000000</td>\n",
       "      <td>0.000000</td>\n",
       "    </tr>\n",
       "    <tr>\n",
       "      <th>max</th>\n",
       "      <td>623.000000</td>\n",
       "      <td>10.000000</td>\n",
       "      <td>1.000000</td>\n",
       "    </tr>\n",
       "  </tbody>\n",
       "</table>\n",
       "</div>"
      ],
      "text/plain": [
       "       Unnamed: 0       score        best\n",
       "count  624.000000  615.000000  624.000000\n",
       "mean   311.500000    7.428618    0.070513\n",
       "std    180.277564    1.157300    0.256215\n",
       "min      0.000000    1.000000    0.000000\n",
       "25%    155.750000    7.000000    0.000000\n",
       "50%    311.500000    7.600000    0.000000\n",
       "75%    467.250000    8.000000    0.000000\n",
       "max    623.000000   10.000000    1.000000"
      ]
     },
     "execution_count": 960,
     "metadata": {},
     "output_type": "execute_result"
    }
   ],
   "source": [
    "df.describe()"
   ]
  },
  {
   "cell_type": "code",
   "execution_count": 961,
   "metadata": {},
   "outputs": [],
   "source": [
    "df['revdate'] = pd.to_datetime(df['date'])"
   ]
  },
  {
   "cell_type": "code",
   "execution_count": 962,
   "metadata": {},
   "outputs": [],
   "source": [
    "df=df.drop(['testing_formula','date','othercat'],axis=1)"
   ]
  },
  {
   "cell_type": "code",
   "execution_count": 963,
   "metadata": {},
   "outputs": [
    {
     "data": {
      "text/html": [
       "<div>\n",
       "<style scoped>\n",
       "    .dataframe tbody tr th:only-of-type {\n",
       "        vertical-align: middle;\n",
       "    }\n",
       "\n",
       "    .dataframe tbody tr th {\n",
       "        vertical-align: top;\n",
       "    }\n",
       "\n",
       "    .dataframe thead th {\n",
       "        text-align: right;\n",
       "    }\n",
       "</style>\n",
       "<table border=\"1\" class=\"dataframe\">\n",
       "  <thead>\n",
       "    <tr style=\"text-align: right;\">\n",
       "      <th></th>\n",
       "      <th>Unnamed: 0</th>\n",
       "      <th>artist</th>\n",
       "      <th>album</th>\n",
       "      <th>score</th>\n",
       "      <th>genre</th>\n",
       "      <th>review</th>\n",
       "      <th>othercat2</th>\n",
       "      <th>best</th>\n",
       "      <th>review_clean</th>\n",
       "      <th>othercat_clean</th>\n",
       "      <th>artist_clean</th>\n",
       "      <th>album_clean</th>\n",
       "      <th>revdate</th>\n",
       "    </tr>\n",
       "  </thead>\n",
       "  <tbody>\n",
       "    <tr>\n",
       "      <th>0</th>\n",
       "      <td>0</td>\n",
       "      <td>Sam Gendel</td>\n",
       "      <td>Fresh Bread</td>\n",
       "      <td>6.5</td>\n",
       "      <td>Jazz</td>\n",
       "      <td>Fifty-two tracks deep, this archival compendiu...</td>\n",
       "      <td>Sam Gendel, Jay Balfour,    Sam Gendel, cover...</td>\n",
       "      <td>0</td>\n",
       "      <td>fiftytwo tracks deep this archival compendium ...</td>\n",
       "      <td>sam gendel, jay balfour,    sam gendel, cover...</td>\n",
       "      <td>sam gendel</td>\n",
       "      <td>fresh bread</td>\n",
       "      <td>2021-03-04</td>\n",
       "    </tr>\n",
       "    <tr>\n",
       "      <th>1</th>\n",
       "      <td>1</td>\n",
       "      <td>Femi Kuti / Made Kuti</td>\n",
       "      <td>Legacy +</td>\n",
       "      <td>7.8</td>\n",
       "      <td>Global</td>\n",
       "      <td>On the duo’s generation-spanning double album,...</td>\n",
       "      <td>Femi Kuti, Made Kuti, Joey Akan, Global,    F...</td>\n",
       "      <td>0</td>\n",
       "      <td>on the duo’s generationspanning double album f...</td>\n",
       "      <td>femi kuti, made kuti, joey akan, global,    f...</td>\n",
       "      <td>femi kuti / made kuti</td>\n",
       "      <td>legacy +</td>\n",
       "      <td>2021-02-20</td>\n",
       "    </tr>\n",
       "  </tbody>\n",
       "</table>\n",
       "</div>"
      ],
      "text/plain": [
       "   Unnamed: 0                 artist        album  score   genre  \\\n",
       "0           0             Sam Gendel  Fresh Bread    6.5    Jazz   \n",
       "1           1  Femi Kuti / Made Kuti     Legacy +    7.8  Global   \n",
       "\n",
       "                                              review  \\\n",
       "0  Fifty-two tracks deep, this archival compendiu...   \n",
       "1  On the duo’s generation-spanning double album,...   \n",
       "\n",
       "                                           othercat2  best  \\\n",
       "0   Sam Gendel, Jay Balfour,    Sam Gendel, cover...     0   \n",
       "1   Femi Kuti, Made Kuti, Joey Akan, Global,    F...     0   \n",
       "\n",
       "                                        review_clean  \\\n",
       "0  fiftytwo tracks deep this archival compendium ...   \n",
       "1  on the duo’s generationspanning double album f...   \n",
       "\n",
       "                                      othercat_clean           artist_clean  \\\n",
       "0   sam gendel, jay balfour,    sam gendel, cover...             sam gendel   \n",
       "1   femi kuti, made kuti, joey akan, global,    f...  femi kuti / made kuti   \n",
       "\n",
       "   album_clean    revdate  \n",
       "0  fresh bread 2021-03-04  \n",
       "1     legacy + 2021-02-20  "
      ]
     },
     "execution_count": 963,
     "metadata": {},
     "output_type": "execute_result"
    }
   ],
   "source": [
    "df.head(2)"
   ]
  },
  {
   "cell_type": "markdown",
   "metadata": {},
   "source": [
    "### Scores over time"
   ]
  },
  {
   "cell_type": "code",
   "execution_count": 964,
   "metadata": {},
   "outputs": [
    {
     "data": {
      "image/png": "[encoded data removed]",
      "text/plain": [
       "<Figure size 432x288 with 1 Axes>"
      ]
     },
     "metadata": {
      "image/png": {
       "height": 248,
       "width": 369
      },
      "needs_background": "light"
     },
     "output_type": "display_data"
    }
   ],
   "source": [
    "%matplotlib inline\n",
    "plt.scatter(y='score',x='revdate',data=df,c='best')\n",
    "plt.show()"
   ]
  },
  {
   "cell_type": "markdown",
   "metadata": {},
   "source": [
    "### Words per Review"
   ]
  },
  {
   "cell_type": "code",
   "execution_count": 996,
   "metadata": {},
   "outputs": [],
   "source": [
    "df['totalwords'] = [len(x.split()) for x in df['review_clean'].tolist()]"
   ]
  },
  {
   "cell_type": "code",
   "execution_count": 1001,
   "metadata": {},
   "outputs": [
    {
     "data": {
      "image/png": "[encoded data removed]",
      "text/plain": [
       "<Figure size 432x288 with 1 Axes>"
      ]
     },
     "metadata": {
      "image/png": {
       "height": 248,
       "width": 369
      },
      "needs_background": "light"
     },
     "output_type": "display_data"
    }
   ],
   "source": [
    "%matplotlib inline\n",
    "plt.hist(df['totalwords'],bins=50)\n",
    "plt.show()"
   ]
  },
  {
   "cell_type": "markdown",
   "metadata": {},
   "source": [
    "## Pre-processing"
   ]
  },
  {
   "cell_type": "markdown",
   "metadata": {},
   "source": [
    "### Stop Words"
   ]
  },
  {
   "cell_type": "code",
   "execution_count": 1154,
   "metadata": {},
   "outputs": [
    {
     "name": "stderr",
     "output_type": "stream",
     "text": [
      "/opt/anaconda3/lib/python3.8/site-packages/ipykernel/ipkernel.py:287: DeprecationWarning: `should_run_async` will not call `transform_cell` automatically in the future. Please pass the result to `transformed_cell` argument and any exception that happen during thetransform in `preprocessing_exc_tuple` in IPython 7.17 and above.\n",
      "  and should_run_async(code)\n"
     ]
    }
   ],
   "source": [
    "from sklearn.feature_extraction import text \n",
    "\n",
    "my_stop_words = nltk.corpus.stopwords.words('english')\n",
    "my_stop_words.extend(nonwords)"
   ]
  },
  {
   "cell_type": "markdown",
   "metadata": {},
   "source": [
    "### Lemmatize\n",
    "**Lemmatizing could be tricky since many common words can be used within artist names (tribe called quest becomes tribe call**"
   ]
  },
  {
   "cell_type": "code",
   "execution_count": 966,
   "metadata": {},
   "outputs": [],
   "source": [
    "nlp = spacy.load(\"en_core_web_sm\", disable=[\"parser\", \"ner\"])\n",
    "spacy_lemmatize = lambda x: \" \".join([token.lemma_ for token in nlp(x)])"
   ]
  },
  {
   "cell_type": "code",
   "execution_count": 967,
   "metadata": {},
   "outputs": [
    {
     "data": {
      "text/html": [
       "<div>\n",
       "<style scoped>\n",
       "    .dataframe tbody tr th:only-of-type {\n",
       "        vertical-align: middle;\n",
       "    }\n",
       "\n",
       "    .dataframe tbody tr th {\n",
       "        vertical-align: top;\n",
       "    }\n",
       "\n",
       "    .dataframe thead th {\n",
       "        text-align: right;\n",
       "    }\n",
       "</style>\n",
       "<table border=\"1\" class=\"dataframe\">\n",
       "  <thead>\n",
       "    <tr style=\"text-align: right;\">\n",
       "      <th></th>\n",
       "      <th>Unnamed: 0</th>\n",
       "      <th>artist</th>\n",
       "      <th>album</th>\n",
       "      <th>score</th>\n",
       "      <th>genre</th>\n",
       "      <th>review</th>\n",
       "      <th>othercat2</th>\n",
       "      <th>best</th>\n",
       "      <th>review_clean</th>\n",
       "      <th>othercat_clean</th>\n",
       "      <th>artist_clean</th>\n",
       "      <th>album_clean</th>\n",
       "      <th>revdate</th>\n",
       "      <th>review_lem</th>\n",
       "    </tr>\n",
       "  </thead>\n",
       "  <tbody>\n",
       "    <tr>\n",
       "      <th>0</th>\n",
       "      <td>0</td>\n",
       "      <td>Sam Gendel</td>\n",
       "      <td>Fresh Bread</td>\n",
       "      <td>6.5</td>\n",
       "      <td>Jazz</td>\n",
       "      <td>Fifty-two tracks deep, this archival compendiu...</td>\n",
       "      <td>Sam Gendel, Jay Balfour,    Sam Gendel, cover...</td>\n",
       "      <td>0</td>\n",
       "      <td>fiftytwo tracks deep this archival compendium ...</td>\n",
       "      <td>sam gendel, jay balfour,    sam gendel, cover...</td>\n",
       "      <td>sam gendel</td>\n",
       "      <td>fresh bread</td>\n",
       "      <td>2021-03-04</td>\n",
       "      <td>fiftytwo track deep this archival compendium m...</td>\n",
       "    </tr>\n",
       "    <tr>\n",
       "      <th>1</th>\n",
       "      <td>1</td>\n",
       "      <td>Femi Kuti / Made Kuti</td>\n",
       "      <td>Legacy +</td>\n",
       "      <td>7.8</td>\n",
       "      <td>Global</td>\n",
       "      <td>On the duo’s generation-spanning double album,...</td>\n",
       "      <td>Femi Kuti, Made Kuti, Joey Akan, Global,    F...</td>\n",
       "      <td>0</td>\n",
       "      <td>on the duo’s generationspanning double album f...</td>\n",
       "      <td>femi kuti, made kuti, joey akan, global,    f...</td>\n",
       "      <td>femi kuti / made kuti</td>\n",
       "      <td>legacy +</td>\n",
       "      <td>2021-02-20</td>\n",
       "      <td>on the duo ’s generationspanne double album fe...</td>\n",
       "    </tr>\n",
       "  </tbody>\n",
       "</table>\n",
       "</div>"
      ],
      "text/plain": [
       "   Unnamed: 0                 artist        album  score   genre  \\\n",
       "0           0             Sam Gendel  Fresh Bread    6.5    Jazz   \n",
       "1           1  Femi Kuti / Made Kuti     Legacy +    7.8  Global   \n",
       "\n",
       "                                              review  \\\n",
       "0  Fifty-two tracks deep, this archival compendiu...   \n",
       "1  On the duo’s generation-spanning double album,...   \n",
       "\n",
       "                                           othercat2  best  \\\n",
       "0   Sam Gendel, Jay Balfour,    Sam Gendel, cover...     0   \n",
       "1   Femi Kuti, Made Kuti, Joey Akan, Global,    F...     0   \n",
       "\n",
       "                                        review_clean  \\\n",
       "0  fiftytwo tracks deep this archival compendium ...   \n",
       "1  on the duo’s generationspanning double album f...   \n",
       "\n",
       "                                      othercat_clean           artist_clean  \\\n",
       "0   sam gendel, jay balfour,    sam gendel, cover...             sam gendel   \n",
       "1   femi kuti, made kuti, joey akan, global,    f...  femi kuti / made kuti   \n",
       "\n",
       "   album_clean    revdate                                         review_lem  \n",
       "0  fresh bread 2021-03-04  fiftytwo track deep this archival compendium m...  \n",
       "1     legacy + 2021-02-20  on the duo ’s generationspanne double album fe...  "
      ]
     },
     "execution_count": 967,
     "metadata": {},
     "output_type": "execute_result"
    }
   ],
   "source": [
    "df[\"review_lem\"] = df[\"review_clean\"].apply(spacy_lemmatize)\n",
    "df.head(2)"
   ]
  },
  {
   "cell_type": "markdown",
   "metadata": {},
   "source": [
    "**for future ref - everything that is capitalized could be a named entity**"
   ]
  },
  {
   "cell_type": "code",
   "execution_count": 968,
   "metadata": {},
   "outputs": [
    {
     "data": {
      "text/plain": [
       "'the minneapolis synthpop band team up with a berlinbased orchestra in an attempt to reckon with the trial of our time you have to admire poliça ’s willingness to break their own mold in   with two album \\' worth of hazy breakup song under their belt the minneapolis fivepiece abruptly pivot into political consciousness and trade some of their rock instinct in for a smattering of pop motif the result album united crusher falter at time but it be a goodfaith effort to engage with the national mood poliça read the room and respond accordingly poliça ’s late album be the product of another reinvention in merge with s t a r g a z e the berlinbase orchestral collective lead by conductor andré de ridder they ’ve more than double their lineup with all those extra body in the room the deep dark chasm that fracture their early work separate singer channy leaneagh ’s voice from producer ryan olson ’s rumble synth begin to fill in the result sound feel new to be sure but mostly in the sense that it ’ not fully ripe though challenging and in its good moment quite exciting music for the long emergency ultimately resemble a first draft its most compelling idea be knot up with its bad and the whole thing could use a thorough edit like its predecessor music for the long emergency posture as a political album its title nod to the turmoil of the trump era and its lead single \" how be this happen \" be a tenminute dirge that leaneagh write the day after the   election on the album it ’ sequence towards the end and it deliver some vivid moment largely courtesy of s t a r g a z e ’s string section they brood first hover on single sustained note as if unsure how to proceed then sink into snarl cluster chord as panic set in leaneagh meanwhile repeat the titular question that occupy many mind that november and issue an elegant call for resistance the song ’s lengthy outro heave and shudder in time with militant percussion it ’ an effective portrait of dystopian paranoia its close thematic analog on the record be \" curse \" the song that immediately precede it and easily the most jarring track of the bunch with its thrashing percussion and invective against unnamed political overlord deliver via a guest turn from minnesota rapper crescent moon \" curse \" steer far into rage against the machine territory — just with dramatic guitar sub out for dramatic string the song feel outdated and clumsy and some of leaneagh ’s lyric be so vague as to be meaningless \" curse with a curecure with a curse \" this be reinvention in the extreme the song be unrecognizable as poliça ’s to the extent that you might wonder if it ’ there by accident what ’ even more perturbing be that \" how be this happen \" and \" curse \" constitute a blip in an album that ’ actually by and large devoid of politic opener and standout \" fake like \" be an airy ode to a crush who play hard to get embellish with chirping pizzicato string \" marrow \" could be a stormy comeon or a conflicted kissoff — it ’ hard to tell — and it contain one of leaneagh ’s most forceful vocal performance though it ’ undermine by the laughable literality of the lyric \" marrowi can feel you in my bone \" on \" speak of ghost \" leaneagh reach for bygone love in a brassinfused séance nowhere in this sequence do poliça ’s claim that the album reflect on \" the strange and sudden darkening of our time \" feel particularly true in the same statement leaneagh seem interested in explore the implication of this personalpolitical contrast \" you can be go through tragedy neverending war but you still also be deal with human relationship and love and romantic trouble \" she be n’t wrong and if poliça have spend more time think through that conflict long emergency might have be a more coherent album but as the group continuously pingpong between sound and idea it become difficult to tell which of the tension that manifest — between electronic and acoustic between varied vocal style between the depth of the sound and shallowness of the lyric — be intentional piece of a conceptual framework and which be the unexpected byproduct of poliça and s t a r g a z e ’ experimental mode of write one of the most tangled song on the record be its close and title track another epic that stretch toward the tenminute mark for a song that purport to respond to emergency it land remarkably lightly leaneagh sing about be \" seep in deepmy madness \" but her delivery be carefree and the song ’s grandiose piano chord suggest triumph not crisis this uncertain resolution raise all sort of question what actually be the long emergency be it over be these song mean to be curative moment later leaneagh begin repeat the word \" lose as I amlost as I can be \" as a last word for this album it ’ all too apt'"
      ]
     },
     "execution_count": 968,
     "metadata": {},
     "output_type": "execute_result"
    }
   ],
   "source": [
    "df.review_lem[135]"
   ]
  },
  {
   "cell_type": "code",
   "execution_count": 969,
   "metadata": {},
   "outputs": [],
   "source": [
    "#df['review_clean']=df['review_clean'].str.replace('\"', '')\n",
    "df['review_clean2'] = df['review_clean'].map(lambda x: re.sub(r'\\W', ' ', x))"
   ]
  },
  {
   "cell_type": "code",
   "execution_count": 970,
   "metadata": {},
   "outputs": [
    {
     "data": {
      "text/plain": [
       "'the minneapolis synthpop band teams up with a berlinbased orchestra in an attempt to reckon with the trials of our time you have to admire poliça s willingness to break their own mold in  with two albums  worth of hazy breakup songs under their belts the minneapolis fivepiece abruptly pivoted into political consciousness and traded some of their rock instincts in for a smattering of pop motifs the resulting album united crushers faltered at times but it was a goodfaith effort to engage with the national mood poliça read the room and responded accordingly poliça s latest album is the product of another reinvention in merging with s t a r g a z e the berlinbased orchestral collective led by conductor andré de ridder they ve more than doubled their lineup with all those extra bodies in the room the deep dark chasms that fractured their earlier work separating singer channy leaneagh s voice from producer ryan olson s rumbling synths begin to fill in the resulting sound feels new to be sure but mostly in the sense that it s not fully ripe though challenging and in its best moments quite exciting music for the long emergency ultimately resembles a first draft its most compelling ideas are knotted up with its worst and the whole thing could use a thorough edit like its predecessor music for the long emergency postures as a political album its title nods to the turmoil of the trump era and its lead single  how is this happening  is a tenminute dirge that leaneagh wrote the day after the  election on the album it s sequenced towards the end and it delivers some vivid moments largely courtesy of s t a r g a z e s string section they brood first hovering on single sustained notes as if unsure how to proceed then sinking into snarling cluster chords as panic sets in leaneagh meanwhile repeats the titular question that occupied many minds that november and issues an elegant call for resistance the song s lengthy outro heaves and shudders in time with militant percussion it s an effective portrait of dystopian paranoia its closest thematic analog on the record is  cursed  the song that immediately precedes it and easily the most jarring track of the bunch with its thrashing percussion and invective against unnamed political overlords delivered via a guest turn from minnesota rapper crescent moon  cursed  steers far into rage against the machine territory just with dramatic guitar subbed out for dramatic strings the song feels outdated and clumsy and some of leaneagh s lyrics are so vague as to be meaningless  cursed with a curecured with a curse  this is reinvention in the extreme the song is unrecognizable as poliça s to the extent that you might wonder if it s there by accident what s even more perturbing is that  how is this happening  and  cursed  constitute a blip in an album that s actually by and large devoid of politics opener and standout  fake like  is an airy ode to a crush who plays hard to get embellished with chirping pizzicato strings  marrow  could be a stormy comeon or a conflicted kissoff it s hard to tell and it contains one of leaneagh s most forceful vocal performances though it s undermined by the laughable literality of the lyrics  marrowi can feel you in my bones  on  speaking of ghost  leaneagh reaches for bygone love in a brassinfused séance nowhere in this sequence does poliça s claim that the album reflects on  the strange and sudden darkening of our times  feel particularly true in the same statement leaneagh seemed interested in exploring the implications of this personalpolitical contrast  you can be going through tragedy neverending wars but you still also are dealing with human relationships and love and romantic troubles  she isn t wrong and if poliça had spent more time thinking through that conflict long emergency might have been a more coherent album but as the group continuously pingpongs between sounds and ideas it becomes difficult to tell which of the tensions that manifest between electronic and acoustic between varied vocal styles between the depth of the sound and shallowness of the lyrics are intentional pieces of a conceptual framework and which are the unexpected byproducts of poliça and s t a r g a z e s experimental mode of writing one of the most tangled songs on the record is its closer and title track another epic that stretches toward the tenminute mark for a song that purports to respond to emergency it lands remarkably lightly leaneagh sings about being  seeped in deepmy madness  but her delivery is carefree and the song s grandiose piano chords suggest triumph not crisis this uncertain resolution raises all sorts of questions what actually is the long emergency is it over were these songs meant to be curative moments later leaneagh begins repeating the words  lost as i amlost as i can be  as a last word for this album it s all too apt'"
      ]
     },
     "execution_count": 970,
     "metadata": {},
     "output_type": "execute_result"
    }
   ],
   "source": [
    "df.review_clean2[135]"
   ]
  },
  {
   "cell_type": "markdown",
   "metadata": {},
   "source": [
    "### Lets start with a basic approach:\n",
    "**1. TFIDF**<br>\n",
    "**2. Cosine Similarity**<br>\n",
    "**3. Check recommendations**"
   ]
  },
  {
   "cell_type": "code",
   "execution_count": 974,
   "metadata": {},
   "outputs": [],
   "source": [
    "from sklearn.feature_extraction.text import TfidfVectorizer\n",
    "from sklearn.metrics.pairwise import cosine_similarity"
   ]
  },
  {
   "cell_type": "code",
   "execution_count": 975,
   "metadata": {},
   "outputs": [
    {
     "data": {
      "text/plain": [
       "['i',\n",
       " 'me',\n",
       " 'my',\n",
       " 'myself',\n",
       " 'we',\n",
       " 'our',\n",
       " 'ours',\n",
       " 'ourselves',\n",
       " 'you',\n",
       " \"you're\",\n",
       " \"you've\",\n",
       " \"you'll\",\n",
       " \"you'd\",\n",
       " 'your',\n",
       " 'yours',\n",
       " 'yourself',\n",
       " 'yourselves',\n",
       " 'he',\n",
       " 'him',\n",
       " 'his',\n",
       " 'himself',\n",
       " 'she',\n",
       " \"she's\",\n",
       " 'her',\n",
       " 'hers',\n",
       " 'herself',\n",
       " 'it',\n",
       " \"it's\",\n",
       " 'its',\n",
       " 'itself',\n",
       " 'they',\n",
       " 'them',\n",
       " 'their',\n",
       " 'theirs',\n",
       " 'themselves',\n",
       " 'what',\n",
       " 'which',\n",
       " 'who',\n",
       " 'whom',\n",
       " 'this',\n",
       " 'that',\n",
       " \"that'll\",\n",
       " 'these',\n",
       " 'those',\n",
       " 'am',\n",
       " 'is',\n",
       " 'are',\n",
       " 'was',\n",
       " 'were',\n",
       " 'be',\n",
       " 'been',\n",
       " 'being',\n",
       " 'have',\n",
       " 'has',\n",
       " 'had',\n",
       " 'having',\n",
       " 'do',\n",
       " 'does',\n",
       " 'did',\n",
       " 'doing',\n",
       " 'a',\n",
       " 'an',\n",
       " 'the',\n",
       " 'and',\n",
       " 'but',\n",
       " 'if',\n",
       " 'or',\n",
       " 'because',\n",
       " 'as',\n",
       " 'until',\n",
       " 'while',\n",
       " 'of',\n",
       " 'at',\n",
       " 'by',\n",
       " 'for',\n",
       " 'with',\n",
       " 'about',\n",
       " 'against',\n",
       " 'between',\n",
       " 'into',\n",
       " 'through',\n",
       " 'during',\n",
       " 'before',\n",
       " 'after',\n",
       " 'above',\n",
       " 'below',\n",
       " 'to',\n",
       " 'from',\n",
       " 'up',\n",
       " 'down',\n",
       " 'in',\n",
       " 'out',\n",
       " 'on',\n",
       " 'off',\n",
       " 'over',\n",
       " 'under',\n",
       " 'again',\n",
       " 'further',\n",
       " 'then',\n",
       " 'once',\n",
       " 'here',\n",
       " 'there',\n",
       " 'when',\n",
       " 'where',\n",
       " 'why',\n",
       " 'how',\n",
       " 'all',\n",
       " 'any',\n",
       " 'both',\n",
       " 'each',\n",
       " 'few',\n",
       " 'more',\n",
       " 'most',\n",
       " 'other',\n",
       " 'some',\n",
       " 'such',\n",
       " 'no',\n",
       " 'nor',\n",
       " 'not',\n",
       " 'only',\n",
       " 'own',\n",
       " 'same',\n",
       " 'so',\n",
       " 'than',\n",
       " 'too',\n",
       " 'very',\n",
       " 's',\n",
       " 't',\n",
       " 'can',\n",
       " 'will',\n",
       " 'just',\n",
       " 'don',\n",
       " \"don't\",\n",
       " 'should',\n",
       " \"should've\",\n",
       " 'now',\n",
       " 'd',\n",
       " 'll',\n",
       " 'm',\n",
       " 'o',\n",
       " 're',\n",
       " 've',\n",
       " 'y',\n",
       " 'ain',\n",
       " 'aren',\n",
       " \"aren't\",\n",
       " 'couldn',\n",
       " \"couldn't\",\n",
       " 'didn',\n",
       " \"didn't\",\n",
       " 'doesn',\n",
       " \"doesn't\",\n",
       " 'hadn',\n",
       " \"hadn't\",\n",
       " 'hasn',\n",
       " \"hasn't\",\n",
       " 'haven',\n",
       " \"haven't\",\n",
       " 'isn',\n",
       " \"isn't\",\n",
       " 'ma',\n",
       " 'mightn',\n",
       " \"mightn't\",\n",
       " 'mustn',\n",
       " \"mustn't\",\n",
       " 'needn',\n",
       " \"needn't\",\n",
       " 'shan',\n",
       " \"shan't\",\n",
       " 'shouldn',\n",
       " \"shouldn't\",\n",
       " 'wasn',\n",
       " \"wasn't\",\n",
       " 'weren',\n",
       " \"weren't\",\n",
       " 'won',\n",
       " \"won't\",\n",
       " 'wouldn',\n",
       " \"wouldn't\",\n",
       " 'Skip to content',\n",
       " 'All Results',\n",
       " 'Home',\n",
       " 'News',\n",
       " 'Reviews',\n",
       " 'Albums',\n",
       " 'Tracks',\n",
       " 'Sunday Reviews',\n",
       " '8.0+ Reviews',\n",
       " 'Best New Music',\n",
       " 'Features',\n",
       " 'Lists & Guides',\n",
       " 'Longform',\n",
       " 'Rising',\n",
       " 'Photo Galleries',\n",
       " 'The Pitch',\n",
       " 'Video',\n",
       " 'Over/Under',\n",
       " 'Liner Notes',\n",
       " 'Under the Influences',\n",
       " 'On the Records',\n",
       " 'Critical Breakthroughs',\n",
       " 'Podcast',\n",
       " 'GRAMMYS 2021',\n",
       " 'Newsletter',\n",
       " 'Advertising',\n",
       " 'Masthead',\n",
       " 'Careers',\n",
       " 'Contact',\n",
       " 'Accessibility Help',\n",
       " 'More Pitchfork',\n",
       " 'Pitchfork Music Festival Chicago',\n",
       " 'Pitchfork Music Festival Paris',\n",
       " 'Pitchfork Music Festival Berlin',\n",
       " 'Pitchfork Radio',\n",
       " 'Home     ',\n",
       " 'GRAMMYS',\n",
       " 'Staff Picks',\n",
       " 'Bandcamp',\n",
       " 'Buy',\n",
       " '8.0+ ',\n",
       " '8.0+',\n",
       " 'Back to home',\n",
       " 'Sign',\n",
       " 'newsletter',\n",
       " 'here',\n",
       " 'pitchfork',\n",
       " 'Pitchfork']"
      ]
     },
     "execution_count": 975,
     "metadata": {},
     "output_type": "execute_result"
    }
   ],
   "source": [
    "my_stop_words"
   ]
  },
  {
   "cell_type": "markdown",
   "metadata": {},
   "source": [
    "**TFIDF**"
   ]
  },
  {
   "cell_type": "code",
   "execution_count": 976,
   "metadata": {},
   "outputs": [],
   "source": [
    "tfidf = TfidfVectorizer(analyzer='word', stop_words=my_stop_words)"
   ]
  },
  {
   "cell_type": "markdown",
   "metadata": {},
   "source": [
    "**apply matrix to clean text (still contains caps)**"
   ]
  },
  {
   "cell_type": "code",
   "execution_count": 977,
   "metadata": {},
   "outputs": [
    {
     "name": "stderr",
     "output_type": "stream",
     "text": [
      "/opt/anaconda3/lib/python3.8/site-packages/sklearn/feature_extraction/text.py:383: UserWarning: Your stop_words may be inconsistent with your preprocessing. Tokenizing the stop words generated tokens ['2021', 'accessibility', 'advertising', 'albums', 'back', 'bandcamp', 'berlin', 'best', 'breakthroughs', 'buy', 'careers', 'chicago', 'contact', 'content', 'critical', 'features', 'festival', 'galleries', 'grammys', 'guides', 'help', 'home', 'influences', 'liner', 'lists', 'longform', 'masthead', 'music', 'new', 'news', 'notes', 'paris', 'photo', 'picks', 'pitch', 'podcast', 'radio', 'records', 'results', 'reviews', 'rising', 'sign', 'skip', 'staff', 'sunday', 'tracks', 'video'] not in stop_words.\n",
      "  warnings.warn('Your stop_words may be inconsistent with '\n"
     ]
    }
   ],
   "source": [
    "rev_matrix= tfidf.fit_transform(df['review_clean2'])"
   ]
  },
  {
   "cell_type": "code",
   "execution_count": 978,
   "metadata": {},
   "outputs": [
    {
     "data": {
      "text/plain": [
       "(624, 33467)"
      ]
     },
     "execution_count": 978,
     "metadata": {},
     "output_type": "execute_result"
    }
   ],
   "source": [
    "rev_matrix.shape"
   ]
  },
  {
   "cell_type": "code",
   "execution_count": 979,
   "metadata": {},
   "outputs": [
    {
     "data": {
      "text/plain": [
       "<624x33467 sparse matrix of type '<class 'numpy.float64'>'\n",
       "\twith 203724 stored elements in Compressed Sparse Row format>"
      ]
     },
     "execution_count": 979,
     "metadata": {},
     "output_type": "execute_result"
    }
   ],
   "source": [
    "rev_matrix"
   ]
  },
  {
   "cell_type": "code",
   "execution_count": 980,
   "metadata": {},
   "outputs": [
    {
     "name": "stdout",
     "output_type": "stream",
     "text": [
      "Sparse Matrix\n",
      "<class 'scipy.sparse.csr.csr_matrix'>\n"
     ]
    }
   ],
   "source": [
    "# take a peek at the each review and words\n",
    "\n",
    "print('Sparse Matrix')\n",
    "# A compressed version; the \"sparse\" matrix.\n",
    "print(type(rev_matrix))\n",
    "#print(rev_matrix)[0][0]"
   ]
  },
  {
   "cell_type": "code",
   "execution_count": 981,
   "metadata": {},
   "outputs": [
    {
     "name": "stdout",
     "output_type": "stream",
     "text": [
      "Matrix\n",
      "<class 'numpy.ndarray'>\n",
      "[[0. 0. 0. ... 0. 0. 0.]\n",
      " [0. 0. 0. ... 0. 0. 0.]\n",
      " [0. 0. 0. ... 0. 0. 0.]\n",
      " ...\n",
      " [0. 0. 0. ... 0. 0. 0.]\n",
      " [0. 0. 0. ... 0. 0. 0.]\n",
      " [0. 0. 0. ... 0. 0. 0.]]\n"
     ]
    }
   ],
   "source": [
    "# change to array for dataframe \n",
    "\n",
    "print ('Matrix')\n",
    "rev_matrix_arr = rev_matrix.toarray()\n",
    "print(type(rev_matrix_arr))\n",
    "print(rev_matrix_arr)"
   ]
  },
  {
   "cell_type": "markdown",
   "metadata": {},
   "source": [
    "### doc word dataframe"
   ]
  },
  {
   "cell_type": "code",
   "execution_count": 982,
   "metadata": {},
   "outputs": [
    {
     "data": {
      "text/html": [
       "<div>\n",
       "<style scoped>\n",
       "    .dataframe tbody tr th:only-of-type {\n",
       "        vertical-align: middle;\n",
       "    }\n",
       "\n",
       "    .dataframe tbody tr th {\n",
       "        vertical-align: top;\n",
       "    }\n",
       "\n",
       "    .dataframe thead th {\n",
       "        text-align: right;\n",
       "    }\n",
       "</style>\n",
       "<table border=\"1\" class=\"dataframe\">\n",
       "  <thead>\n",
       "    <tr style=\"text-align: right;\">\n",
       "      <th></th>\n",
       "      <th>aa</th>\n",
       "      <th>aaahk</th>\n",
       "      <th>aaahs</th>\n",
       "      <th>aacm</th>\n",
       "      <th>aahs</th>\n",
       "      <th>aaly</th>\n",
       "      <th>aap</th>\n",
       "      <th>aaron</th>\n",
       "      <th>aarp</th>\n",
       "      <th>aarset</th>\n",
       "      <th>...</th>\n",
       "      <th>ólafur</th>\n",
       "      <th>órgãos</th>\n",
       "      <th>öyster</th>\n",
       "      <th>ørnes</th>\n",
       "      <th>øya</th>\n",
       "      <th>übergenre</th>\n",
       "      <th>überhip</th>\n",
       "      <th>überinfluence</th>\n",
       "      <th>風物詩</th>\n",
       "      <th>옛날이야기</th>\n",
       "    </tr>\n",
       "  </thead>\n",
       "  <tbody>\n",
       "    <tr>\n",
       "      <th>0</th>\n",
       "      <td>0.0</td>\n",
       "      <td>0.0</td>\n",
       "      <td>0.0</td>\n",
       "      <td>0.0</td>\n",
       "      <td>0.0</td>\n",
       "      <td>0.0</td>\n",
       "      <td>0.0</td>\n",
       "      <td>0.0</td>\n",
       "      <td>0.0</td>\n",
       "      <td>0.0</td>\n",
       "      <td>...</td>\n",
       "      <td>0.0</td>\n",
       "      <td>0.0</td>\n",
       "      <td>0.0</td>\n",
       "      <td>0.0</td>\n",
       "      <td>0.0</td>\n",
       "      <td>0.0</td>\n",
       "      <td>0.0</td>\n",
       "      <td>0.0</td>\n",
       "      <td>0.0</td>\n",
       "      <td>0.0</td>\n",
       "    </tr>\n",
       "    <tr>\n",
       "      <th>1</th>\n",
       "      <td>0.0</td>\n",
       "      <td>0.0</td>\n",
       "      <td>0.0</td>\n",
       "      <td>0.0</td>\n",
       "      <td>0.0</td>\n",
       "      <td>0.0</td>\n",
       "      <td>0.0</td>\n",
       "      <td>0.0</td>\n",
       "      <td>0.0</td>\n",
       "      <td>0.0</td>\n",
       "      <td>...</td>\n",
       "      <td>0.0</td>\n",
       "      <td>0.0</td>\n",
       "      <td>0.0</td>\n",
       "      <td>0.0</td>\n",
       "      <td>0.0</td>\n",
       "      <td>0.0</td>\n",
       "      <td>0.0</td>\n",
       "      <td>0.0</td>\n",
       "      <td>0.0</td>\n",
       "      <td>0.0</td>\n",
       "    </tr>\n",
       "    <tr>\n",
       "      <th>2</th>\n",
       "      <td>0.0</td>\n",
       "      <td>0.0</td>\n",
       "      <td>0.0</td>\n",
       "      <td>0.0</td>\n",
       "      <td>0.0</td>\n",
       "      <td>0.0</td>\n",
       "      <td>0.0</td>\n",
       "      <td>0.0</td>\n",
       "      <td>0.0</td>\n",
       "      <td>0.0</td>\n",
       "      <td>...</td>\n",
       "      <td>0.0</td>\n",
       "      <td>0.0</td>\n",
       "      <td>0.0</td>\n",
       "      <td>0.0</td>\n",
       "      <td>0.0</td>\n",
       "      <td>0.0</td>\n",
       "      <td>0.0</td>\n",
       "      <td>0.0</td>\n",
       "      <td>0.0</td>\n",
       "      <td>0.0</td>\n",
       "    </tr>\n",
       "    <tr>\n",
       "      <th>3</th>\n",
       "      <td>0.0</td>\n",
       "      <td>0.0</td>\n",
       "      <td>0.0</td>\n",
       "      <td>0.0</td>\n",
       "      <td>0.0</td>\n",
       "      <td>0.0</td>\n",
       "      <td>0.0</td>\n",
       "      <td>0.0</td>\n",
       "      <td>0.0</td>\n",
       "      <td>0.0</td>\n",
       "      <td>...</td>\n",
       "      <td>0.0</td>\n",
       "      <td>0.0</td>\n",
       "      <td>0.0</td>\n",
       "      <td>0.0</td>\n",
       "      <td>0.0</td>\n",
       "      <td>0.0</td>\n",
       "      <td>0.0</td>\n",
       "      <td>0.0</td>\n",
       "      <td>0.0</td>\n",
       "      <td>0.0</td>\n",
       "    </tr>\n",
       "    <tr>\n",
       "      <th>4</th>\n",
       "      <td>0.0</td>\n",
       "      <td>0.0</td>\n",
       "      <td>0.0</td>\n",
       "      <td>0.0</td>\n",
       "      <td>0.0</td>\n",
       "      <td>0.0</td>\n",
       "      <td>0.0</td>\n",
       "      <td>0.0</td>\n",
       "      <td>0.0</td>\n",
       "      <td>0.0</td>\n",
       "      <td>...</td>\n",
       "      <td>0.0</td>\n",
       "      <td>0.0</td>\n",
       "      <td>0.0</td>\n",
       "      <td>0.0</td>\n",
       "      <td>0.0</td>\n",
       "      <td>0.0</td>\n",
       "      <td>0.0</td>\n",
       "      <td>0.0</td>\n",
       "      <td>0.0</td>\n",
       "      <td>0.0</td>\n",
       "    </tr>\n",
       "    <tr>\n",
       "      <th>...</th>\n",
       "      <td>...</td>\n",
       "      <td>...</td>\n",
       "      <td>...</td>\n",
       "      <td>...</td>\n",
       "      <td>...</td>\n",
       "      <td>...</td>\n",
       "      <td>...</td>\n",
       "      <td>...</td>\n",
       "      <td>...</td>\n",
       "      <td>...</td>\n",
       "      <td>...</td>\n",
       "      <td>...</td>\n",
       "      <td>...</td>\n",
       "      <td>...</td>\n",
       "      <td>...</td>\n",
       "      <td>...</td>\n",
       "      <td>...</td>\n",
       "      <td>...</td>\n",
       "      <td>...</td>\n",
       "      <td>...</td>\n",
       "      <td>...</td>\n",
       "    </tr>\n",
       "    <tr>\n",
       "      <th>619</th>\n",
       "      <td>0.0</td>\n",
       "      <td>0.0</td>\n",
       "      <td>0.0</td>\n",
       "      <td>0.0</td>\n",
       "      <td>0.0</td>\n",
       "      <td>0.0</td>\n",
       "      <td>0.0</td>\n",
       "      <td>0.0</td>\n",
       "      <td>0.0</td>\n",
       "      <td>0.0</td>\n",
       "      <td>...</td>\n",
       "      <td>0.0</td>\n",
       "      <td>0.0</td>\n",
       "      <td>0.0</td>\n",
       "      <td>0.0</td>\n",
       "      <td>0.0</td>\n",
       "      <td>0.0</td>\n",
       "      <td>0.0</td>\n",
       "      <td>0.0</td>\n",
       "      <td>0.0</td>\n",
       "      <td>0.0</td>\n",
       "    </tr>\n",
       "    <tr>\n",
       "      <th>620</th>\n",
       "      <td>0.0</td>\n",
       "      <td>0.0</td>\n",
       "      <td>0.0</td>\n",
       "      <td>0.0</td>\n",
       "      <td>0.0</td>\n",
       "      <td>0.0</td>\n",
       "      <td>0.0</td>\n",
       "      <td>0.0</td>\n",
       "      <td>0.0</td>\n",
       "      <td>0.0</td>\n",
       "      <td>...</td>\n",
       "      <td>0.0</td>\n",
       "      <td>0.0</td>\n",
       "      <td>0.0</td>\n",
       "      <td>0.0</td>\n",
       "      <td>0.0</td>\n",
       "      <td>0.0</td>\n",
       "      <td>0.0</td>\n",
       "      <td>0.0</td>\n",
       "      <td>0.0</td>\n",
       "      <td>0.0</td>\n",
       "    </tr>\n",
       "    <tr>\n",
       "      <th>621</th>\n",
       "      <td>0.0</td>\n",
       "      <td>0.0</td>\n",
       "      <td>0.0</td>\n",
       "      <td>0.0</td>\n",
       "      <td>0.0</td>\n",
       "      <td>0.0</td>\n",
       "      <td>0.0</td>\n",
       "      <td>0.0</td>\n",
       "      <td>0.0</td>\n",
       "      <td>0.0</td>\n",
       "      <td>...</td>\n",
       "      <td>0.0</td>\n",
       "      <td>0.0</td>\n",
       "      <td>0.0</td>\n",
       "      <td>0.0</td>\n",
       "      <td>0.0</td>\n",
       "      <td>0.0</td>\n",
       "      <td>0.0</td>\n",
       "      <td>0.0</td>\n",
       "      <td>0.0</td>\n",
       "      <td>0.0</td>\n",
       "    </tr>\n",
       "    <tr>\n",
       "      <th>622</th>\n",
       "      <td>0.0</td>\n",
       "      <td>0.0</td>\n",
       "      <td>0.0</td>\n",
       "      <td>0.0</td>\n",
       "      <td>0.0</td>\n",
       "      <td>0.0</td>\n",
       "      <td>0.0</td>\n",
       "      <td>0.0</td>\n",
       "      <td>0.0</td>\n",
       "      <td>0.0</td>\n",
       "      <td>...</td>\n",
       "      <td>0.0</td>\n",
       "      <td>0.0</td>\n",
       "      <td>0.0</td>\n",
       "      <td>0.0</td>\n",
       "      <td>0.0</td>\n",
       "      <td>0.0</td>\n",
       "      <td>0.0</td>\n",
       "      <td>0.0</td>\n",
       "      <td>0.0</td>\n",
       "      <td>0.0</td>\n",
       "    </tr>\n",
       "    <tr>\n",
       "      <th>623</th>\n",
       "      <td>0.0</td>\n",
       "      <td>0.0</td>\n",
       "      <td>0.0</td>\n",
       "      <td>0.0</td>\n",
       "      <td>0.0</td>\n",
       "      <td>0.0</td>\n",
       "      <td>0.0</td>\n",
       "      <td>0.0</td>\n",
       "      <td>0.0</td>\n",
       "      <td>0.0</td>\n",
       "      <td>...</td>\n",
       "      <td>0.0</td>\n",
       "      <td>0.0</td>\n",
       "      <td>0.0</td>\n",
       "      <td>0.0</td>\n",
       "      <td>0.0</td>\n",
       "      <td>0.0</td>\n",
       "      <td>0.0</td>\n",
       "      <td>0.0</td>\n",
       "      <td>0.0</td>\n",
       "      <td>0.0</td>\n",
       "    </tr>\n",
       "  </tbody>\n",
       "</table>\n",
       "<p>624 rows × 33467 columns</p>\n",
       "</div>"
      ],
      "text/plain": [
       "      aa  aaahk  aaahs  aacm  aahs  aaly  aap  aaron  aarp  aarset  ...  \\\n",
       "0    0.0    0.0    0.0   0.0   0.0   0.0  0.0    0.0   0.0     0.0  ...   \n",
       "1    0.0    0.0    0.0   0.0   0.0   0.0  0.0    0.0   0.0     0.0  ...   \n",
       "2    0.0    0.0    0.0   0.0   0.0   0.0  0.0    0.0   0.0     0.0  ...   \n",
       "3    0.0    0.0    0.0   0.0   0.0   0.0  0.0    0.0   0.0     0.0  ...   \n",
       "4    0.0    0.0    0.0   0.0   0.0   0.0  0.0    0.0   0.0     0.0  ...   \n",
       "..   ...    ...    ...   ...   ...   ...  ...    ...   ...     ...  ...   \n",
       "619  0.0    0.0    0.0   0.0   0.0   0.0  0.0    0.0   0.0     0.0  ...   \n",
       "620  0.0    0.0    0.0   0.0   0.0   0.0  0.0    0.0   0.0     0.0  ...   \n",
       "621  0.0    0.0    0.0   0.0   0.0   0.0  0.0    0.0   0.0     0.0  ...   \n",
       "622  0.0    0.0    0.0   0.0   0.0   0.0  0.0    0.0   0.0     0.0  ...   \n",
       "623  0.0    0.0    0.0   0.0   0.0   0.0  0.0    0.0   0.0     0.0  ...   \n",
       "\n",
       "     ólafur  órgãos  öyster  ørnes  øya  übergenre  überhip  überinfluence  \\\n",
       "0       0.0     0.0     0.0    0.0  0.0        0.0      0.0            0.0   \n",
       "1       0.0     0.0     0.0    0.0  0.0        0.0      0.0            0.0   \n",
       "2       0.0     0.0     0.0    0.0  0.0        0.0      0.0            0.0   \n",
       "3       0.0     0.0     0.0    0.0  0.0        0.0      0.0            0.0   \n",
       "4       0.0     0.0     0.0    0.0  0.0        0.0      0.0            0.0   \n",
       "..      ...     ...     ...    ...  ...        ...      ...            ...   \n",
       "619     0.0     0.0     0.0    0.0  0.0        0.0      0.0            0.0   \n",
       "620     0.0     0.0     0.0    0.0  0.0        0.0      0.0            0.0   \n",
       "621     0.0     0.0     0.0    0.0  0.0        0.0      0.0            0.0   \n",
       "622     0.0     0.0     0.0    0.0  0.0        0.0      0.0            0.0   \n",
       "623     0.0     0.0     0.0    0.0  0.0        0.0      0.0            0.0   \n",
       "\n",
       "     風物詩  옛날이야기  \n",
       "0    0.0    0.0  \n",
       "1    0.0    0.0  \n",
       "2    0.0    0.0  \n",
       "3    0.0    0.0  \n",
       "4    0.0    0.0  \n",
       "..   ...    ...  \n",
       "619  0.0    0.0  \n",
       "620  0.0    0.0  \n",
       "621  0.0    0.0  \n",
       "622  0.0    0.0  \n",
       "623  0.0    0.0  \n",
       "\n",
       "[624 rows x 33467 columns]"
      ]
     },
     "execution_count": 982,
     "metadata": {},
     "output_type": "execute_result"
    }
   ],
   "source": [
    "pd.DataFrame(rev_matrix_arr, columns=tfidf.get_feature_names())"
   ]
  },
  {
   "cell_type": "markdown",
   "metadata": {},
   "source": [
    "### cosine similarity"
   ]
  },
  {
   "cell_type": "code",
   "execution_count": 983,
   "metadata": {},
   "outputs": [],
   "source": [
    "cosine_similarities = cosine_similarity(rev_matrix)"
   ]
  },
  {
   "cell_type": "code",
   "execution_count": 984,
   "metadata": {},
   "outputs": [
    {
     "data": {
      "text/plain": [
       "624"
      ]
     },
     "execution_count": 984,
     "metadata": {},
     "output_type": "execute_result"
    }
   ],
   "source": [
    "len(cosine_similarities)"
   ]
  },
  {
   "cell_type": "code",
   "execution_count": 985,
   "metadata": {},
   "outputs": [],
   "source": [
    "similarities = {}"
   ]
  },
  {
   "cell_type": "code",
   "execution_count": 986,
   "metadata": {},
   "outputs": [],
   "source": [
    "for i in range(len(cosine_similarities)):\n",
    "    \n",
    "    # Sort each element in cosine_similarities and get the indexes of the artists\n",
    "    similar_indices = cosine_similarities[i].argsort()[:-50:-1] \n",
    "    \n",
    "    # Store in similarities each name of the 10 most similar artists\n",
    "    # Keep the first one as the main search item - and then the remaining similar artists \n",
    "    similarities[df['album'].iloc[i]] = [(cosine_similarities[i][x], df['album'][x], df['artist'][x]) for x in similar_indices][0:]"
   ]
  },
  {
   "cell_type": "markdown",
   "metadata": {},
   "source": [
    "**Enter an album name to get the similarity scores of teh album**"
   ]
  },
  {
   "cell_type": "code",
   "execution_count": 987,
   "metadata": {},
   "outputs": [
    {
     "name": "stdout",
     "output_type": "stream",
     "text": [
      "[(0.9999999999999996, 'The Secret of Letting Go', 'Lamb'), (0.06846727156342053, 'Real Enemies', \"Darcy James Argue's Secret Society\"), (0.06781432016720734, 'Report from Iron Mountain', 'Date Course Pentagon Royal Garden'), (0.06581666187247741, 'Offering: Live at Temple University', 'John Coltrane'), (0.06393073100926769, 'Berlin Serengeti', 'Radio Citizen'), (0.061324277643448555, 'Lady Day: The Master Takes and Singles', 'Billie Holiday'), (0.059920291420570246, 'David Axelrod', 'David Axelrod'), (0.05901962290771342, '12 (+1) Imaginary Views', 'Ellery Eskelin'), (0.058826106747715726, 'Same As It Never Was', 'The Herbaliser'), (0.057904409452372685, 'The Golden Age of Apocalypse', 'Thundercat'), (0.0578411858991793, 'Day Breaks', 'Norah Jones'), (0.05752766695329272, 'Love In a Time of Madness', 'José James'), (0.056934887838134565, 'Madness, Love and Mysticism', 'John Zorn'), (0.055852345830604465, 'Miles at the Fillmore - Miles Davis 1970: The Bootleg Series Vol. 3', 'Miles Davis'), (0.05466323106755584, 'The Complete In a Silent Way Sessions', 'Miles Davis'), (0.0543568867467766, 'In a Space Outta Sound', 'Nightmares on Wax'), (0.05358046599434503, 'First Time Out: Live at Slugs 1967 / Duo Exchange: Complete Sessions', 'Rashied Ali / Frank Lowe / Rashied Ali Quintet'), (0.053358813100622945, 'Strange Liberation', 'Dave Douglas'), (0.05298877145310808, \"Live at the Fillmore East (March 7, 1970): It's About That Time\", 'Miles Davis'), (0.05289041159720285, 'Unsolved', 'Karate'), (0.05229210059308772, 'New Tones', 'NOMO'), (0.05196671008356125, 'Corridors and Parallels', 'David S. Ware Quartet'), (0.051953500909239114, 'The Choice', 'Kamasi Washington'), (0.051781188624628195, 'The Cherry Thing', 'The Thing / Neneh Cherry'), (0.05098085644775356, 'Out of Nowhere', 'Jimi Tenor'), (0.050684690943839074, 'A Tribute to Brother Weldon', 'Monk Hughes & The Outer Realm'), (0.04940018609809419, 'Remixed and Reimagined', 'Nina Simone'), (0.0492365335742371, 'Masses', 'Spring Heel Jack'), (0.04921242549646498, 'Get Up With It', 'Miles Davis'), (0.04915221575411712, 'Suite for Max Brown', 'Jeff Parker'), (0.048788623588690974, 'Daylight Ghosts', 'Craig Taborn'), (0.04839414950186028, \"I'm New Here\", 'Gil Scott-Heron'), (0.0483811646311443, 'Musipal', 'Wagon Christ'), (0.04810194076173, 'Recorded Live', 'Amon Tobin'), (0.047962722536814606, 'Paradise', 'Sonny & Linda Sharrock'), (0.04763771885123812, 'Straight from the Fridge', 'James Hardway'), (0.047571065944740185, 'Hotel Amour', 'Terranova'), (0.04745740874236126, 'Tauhid/Jewels of Thought/Deaf Dumb Blind (Summun Bukmun Umyun)', 'Pharoah Sanders'), (0.0473019163831582, 'Unemployed', 'Alog'), (0.04724455643388983, 'Way Out West', 'Sonny Rollins'), (0.0469262108452147, 'Let My People Go', 'Archie Shepp / Jason Moran'), (0.04689290447258978, 'Hummingbird, Go!', 'Theresa Andersson'), (0.04681238629581993, 'Play Pause Stop', 'Benevento/Russo Duo'), (0.04666600952046535, 'Disappeared', 'Spring Heel Jack'), (0.04665537431894347, 'Solid Steel Presents: Now, Listen!', 'DJ Food'), (0.046189712256562813, 'Ballads', 'Derek Bailey'), (0.0460582551914547, 'Sun Ra Plays Gershwin', 'Sun Ra'), (0.04597342472988752, 'Both Directions at Once: The Lost Album', 'John Coltrane'), (0.04576257849741176, 'Mars Is a Very Bad Place For Love', 'The Breathing Effect')]\n"
     ]
    }
   ],
   "source": [
    "print(similarities['The Secret of Letting Go'])\n",
    "#print(similarities.values()[0].keys()[0])"
   ]
  },
  {
   "cell_type": "code",
   "execution_count": 988,
   "metadata": {},
   "outputs": [
    {
     "name": "stdout",
     "output_type": "stream",
     "text": [
      "Dictionary limited by K is : {'Fresh Bread': [(1.0, 'Fresh Bread', 'Sam Gendel'), (0.46474001753483724, '4444', 'Sam Gendel'), (0.302710525424612, 'Satin Doll', 'Sam Gendel'), (0.21473989942773145, 'WILKES', 'Sam Wilkes'), (0.0765234820199772, 'Actual Presence', 'Carlos Niño & Friends'), (0.07470343177983821, 'Offering: Live at Temple University', 'John Coltrane'), (0.07354593125227041, 'Both Directions at Once: The Lost Album', 'John Coltrane'), (0.07349388835402751, 'Unemployed', 'Alog'), (0.07091052597952863, 'A Jackson in Your House/Message to Our Folks', 'Art Ensemble of Chicago'), (0.06982293347531608, '12 (+1) Imaginary Views', 'Ellery Eskelin'), (0.06750994357029944, 'Incommunicado', 'Kammerflimmer Kollektief'), (0.06741295621322788, 'Blobscape', 'Geoff Farina'), (0.06681916121647749, 'So Glossy and So Thin', 'Jackson / Baker / Kirshner'), (0.06578804928706278, 'Cannonball!', 'Sen Morimoto'), (0.06509202780966578, 'Sketches of Spain: Legacy Edition', 'Miles Davis'), (0.06429922620865813, 'David Axelrod', 'David Axelrod'), (0.06401354900005599, 'I Plan to Stay a Believer: The Inside Songs of Curtis Mayfield', 'William Parker'), (0.06380305090311135, 'Suite for Max Brown', 'Jeff Parker'), (0.06337662609592093, 'Way Out West', 'Sonny Rollins'), (0.06320989698949842, 'Some Other Time: the Lost Session from the Black Forest', 'Bill Evans'), (0.06280648899780832, 'Open, Coma', 'Tim Berne / Herb Robertson / Copenhagen Art Ensemble / Marc Ducret'), (0.06272467550122778, 'Twilight & Ghost Stories / Between Them, A Forest Grew, Trackless and Quiet', 'Chris Schlarb / I Heart Lung'), (0.06246727946627024, 'Lady Day: The Master Takes and Singles', 'Billie Holiday'), (0.062172719891859476, 'Aytche', 'Joseph Shabason'), (0.06208127586573535, 'Drown Out', 'Daedelus'), (0.061828433545176635, 'Innercity Griots', 'Freestyle Fellowship'), (0.06180620017866551, 'The North Borders', 'Bonobo'), (0.06126016193663067, 'Bitches Brew [Legacy Edition]', 'Miles Davis'), (0.060788947842629185, 'Hello, Summer', 'Pat Van Dyke'), (0.060481227139941265, 'Life and the Afterbirth', 'Skeletons'), (0.059746665581056825, 'Covered', 'Robert Glasper Trio'), (0.059616184427999194, '3 Compositions (EEMHM) 2011/Trillium J: The Non-Unconfessionables No. 380/Quintet (Tristano) 2014', 'Anthony Braxton'), (0.05943884231924378, 'LIVE', 'Angel Bat Dawid / Tha Brothahood'), (0.059431213145806114, 'My Garden', 'John Carroll Kirby'), (0.05941711474728731, 'Hysteria', 'Kammerflimmer Kollektief'), (0.059257881398962826, 'Ghil', 'Okkyung Lee'), (0.059190502455884204, 'The Edge of Heaven', 'Gary Lucas'), (0.058950689871554524, 'Pardon My French', 'Jahari Massamba Unit'), (0.05846902924434521, 'Home Boy, Sister Out', 'Don Cherry'), (0.05844480852708757, 'Lower East Suite Part One/Lower East Suite Part Two', 'Onyx Collective '), (0.0570003167585769, 'Wildling', 'Kammerflimmer Kollektief'), (0.0565865142341156, 'Master Sessions, Vol. 2', 'Up, Bustle and Out'), (0.05625431215086529, 'Of Snowdonia', 'Daedelus'), (0.056248147428481325, 'Sen Morimoto', 'Sen Morimoto'), (0.056141157660644966, 'This Is Our Music', 'Ornette Coleman'), (0.05611169386807272, 'Universal Beings', 'Makaya McCraven'), (0.056049349566660515, 'The Complete On the Corner Sessions', 'Miles Davis'), (0.055973049779761586, 'Exposure', 'Esperanza Spalding'), (0.05556715234568109, 'To Be Free: The Nina Simone Story', 'Nina Simone')]}\n"
     ]
    }
   ],
   "source": [
    "import itertools\n",
    "\n",
    "# Initialize limit  \n",
    "N = 1\n",
    "    \n",
    "# Using islice() + items()  \n",
    "# Get first N items in dictionary  \n",
    "out = dict(itertools.islice(similarities.items(), N))  \n",
    "        \n",
    "# printing result   \n",
    "print(\"Dictionary limited by K is : \" + str(out))"
   ]
  },
  {
   "cell_type": "markdown",
   "metadata": {},
   "source": [
    "### content based recommendation"
   ]
  },
  {
   "cell_type": "code",
   "execution_count": 989,
   "metadata": {},
   "outputs": [],
   "source": [
    "class ContentBasedRecommender:\n",
    "    def __init__(self, matrix):\n",
    "        self.matrix_similar = matrix\n",
    "\n",
    "    def _print_message(self, album, recom_album,artist):\n",
    "        rec_items = len(recom_album)        \n",
    "        \n",
    "        #print(f'The {rec_items} recommended albums for {album} are:')\n",
    "        #print(f\"{album} by {artist} \") # with {album[0][0]} similarity score\")  # if can add artist sim score        \n",
    "        #print(f'The {rec_items} recommended albums are:') # if can add artist search title\n",
    "        \n",
    "        for i in range(rec_items):\n",
    "            if i==0:\n",
    "                #print(f\"Matched Album Number {i+1}:\")\n",
    "                print(f\"{recom_album[i][1]} by {artist}\") # with {round(recom_album[i][0],3)} similarity score\")  # if can add artist sim score\n",
    "                print(\"--------------------\")\n",
    "            else:    \n",
    "                print(f\"Recommended album based on matched (above) {i}:\")            \n",
    "                print(f\"{recom_album[i][1]} by {recom_album[i][2]} with {round(recom_album[i][0], 3)} similarity score\") \n",
    "                print(\"--------------------\")\n",
    "        \n",
    "    def recommend(self, recommendation):\n",
    "        artist = recommendation['artist']\n",
    "        # Get album to find recommendations for\n",
    "        album = recommendation['album']\n",
    "        # Get number of albums to recommend\n",
    "        similar_albums = recommendation['similar_albums']\n",
    "        # Get the number of albums most similars from matrix similarities\n",
    "        recom_album = self.matrix_similar[album][:similar_albums]\n",
    "        # print each item\n",
    "        self._print_message(album=album, recom_album=recom_album,artist=artist)"
   ]
  },
  {
   "cell_type": "markdown",
   "metadata": {},
   "source": [
    "**instantiate rec function**"
   ]
  },
  {
   "cell_type": "code",
   "execution_count": 990,
   "metadata": {},
   "outputs": [],
   "source": [
    "recommedations = ContentBasedRecommender(similarities)"
   ]
  },
  {
   "cell_type": "code",
   "execution_count": 991,
   "metadata": {},
   "outputs": [],
   "source": [
    "def artsimrec(art,artmatch=1,simalb=0):\n",
    "    # get list of indeces containing the chosen word that's in the review text\n",
    "    _a= df.index[df['review_clean2'].str.contains(art,na=False)]\n",
    "    # get only # of keyword matches requested by user\n",
    "    a=_a[:artmatch]\n",
    "    \n",
    "    if a.empty:\n",
    "        return 'not found'\n",
    "    \n",
    "    # if the keyword shows up in more than one review get requested # of recs for each artist that is mentioned    \n",
    "    else: # len(a)>1:\n",
    "        print(f\"The number of reviews containing {art} are: {len(_a)}\") \n",
    "        print(f\"User requested {len(a)} Matches\")\n",
    "        print(f\"User requested {simalb} Recommended albums per Match\")\n",
    "        print(\"--------------------\")\n",
    "        \n",
    "        for k,j in enumerate(a):\n",
    "            print(f\"Matched Album Number {k+1}:\")\n",
    "            recommendation = {\n",
    "               \"artist\": df['artist'].iloc[j],\n",
    "               \"album\": df['album'].iloc[j],\n",
    "               \"similar_albums\": simalb+1 # add +1 to obtain the right number of similar albums\n",
    "            }\n",
    "            recommedations.recommend(recommendation)\n"
   ]
  },
  {
   "cell_type": "code",
   "execution_count": 994,
   "metadata": {},
   "outputs": [
    {
     "name": "stdout",
     "output_type": "stream",
     "text": [
      "The number of reviews containing ramones are: 1\n",
      "User requested 1 Matches\n",
      "User requested 3 Recommended albums per Match\n",
      "--------------------\n",
      "Matched Album Number 1:\n",
      "Piano Nights by Bohren & Der Club of Gore\n",
      "--------------------\n",
      "Recommended album based on matched (above) 1:\n",
      "Dolores by Bohren & Der Club of Gore with 0.27 similarity score\n",
      "--------------------\n",
      "Recommended album based on matched (above) 2:\n",
      "Geisterfaust by Bohren & Der Club of Gore with 0.234 similarity score\n",
      "--------------------\n",
      "Recommended album based on matched (above) 3:\n",
      "The Cellar Door Sessions 1970 by Miles Davis with 0.081 similarity score\n",
      "--------------------\n"
     ]
    }
   ],
   "source": [
    "artsimrec('ramones',10,3)"
   ]
  },
  {
   "cell_type": "markdown",
   "metadata": {},
   "source": [
    "## Topic Modeling"
   ]
  },
  {
   "cell_type": "markdown",
   "metadata": {},
   "source": [
    "### Get DF with Review only"
   ]
  },
  {
   "cell_type": "code",
   "execution_count": 1016,
   "metadata": {},
   "outputs": [
    {
     "data": {
      "text/plain": [
       "0    fiftytwo track deep this archival compendium m...\n",
       "1    on the duo ’s generationspanne double album fe...\n",
       "2    these live set between the saxophonist and pia...\n",
       "Name: review_lem, dtype: object"
      ]
     },
     "execution_count": 1016,
     "metadata": {},
     "output_type": "execute_result"
    }
   ],
   "source": [
    "df_rev = df['review_lem']\n",
    "df_rev.head(3)"
   ]
  },
  {
   "cell_type": "code",
   "execution_count": 1017,
   "metadata": {},
   "outputs": [],
   "source": [
    "# Import TfidfVectorizer and NMF\n",
    "from sklearn.feature_extraction.text import TfidfVectorizer\n",
    "from sklearn.decomposition import NMF    "
   ]
  },
  {
   "cell_type": "markdown",
   "metadata": {},
   "source": [
    "### Start with Genre Topics"
   ]
  },
  {
   "cell_type": "code",
   "execution_count": 1155,
   "metadata": {},
   "outputs": [
    {
     "name": "stderr",
     "output_type": "stream",
     "text": [
      "/opt/anaconda3/lib/python3.8/site-packages/ipykernel/ipkernel.py:287: DeprecationWarning: `should_run_async` will not call `transform_cell` automatically in the future. Please pass the result to `transformed_cell` argument and any exception that happen during thetransform in `preprocessing_exc_tuple` in IPython 7.17 and above.\n",
      "  and should_run_async(code)\n"
     ]
    }
   ],
   "source": [
    "# Makes sense to add words like 'jazz' to stopwords\n",
    "\n",
    "stopadd = ['band','time','get','take','work','detail','familiar','also','miles','mile','davis','coltrane','song','year','way','instrument','minute']\n",
    "my_stop_words.extend(stopadd)"
   ]
  },
  {
   "cell_type": "markdown",
   "metadata": {},
   "source": [
    "### NMF Model"
   ]
  },
  {
   "cell_type": "code",
   "execution_count": 1156,
   "metadata": {},
   "outputs": [
    {
     "name": "stderr",
     "output_type": "stream",
     "text": [
      "/opt/anaconda3/lib/python3.8/site-packages/ipykernel/ipkernel.py:287: DeprecationWarning: `should_run_async` will not call `transform_cell` automatically in the future. Please pass the result to `transformed_cell` argument and any exception that happen during thetransform in `preprocessing_exc_tuple` in IPython 7.17 and above.\n",
      "  and should_run_async(code)\n"
     ]
    }
   ],
   "source": [
    "# Create a function to model topics using NMF\n",
    "def nmf_it(data, mindf, maxdf, n_components, n_top_words, stop_list):\n",
    "    '''Fits an NMF model and prints top words for each topic.\n",
    "    \n",
    "    Parameters:\n",
    "        data: DataFrame/Series containing only raw texts\n",
    "        n_samples: number of texts to sample from data\n",
    "        n_features: length of TF-IDF vectors to calculate\n",
    "        n_components: number of topics to model\n",
    "        n_top_words: number of words to print for each topic, ranked by\n",
    "            frequency\n",
    "        stop_list: your list of stopwords to remove\n",
    "    '''\n",
    "    \n",
    "    # Get sample of data\n",
    "    #data_samples = data.sample(n_samples, random_state=1)\n",
    "    \n",
    "    # Instantiate and fit TfidfVectorizer\n",
    "    tfidf_vectorizer = TfidfVectorizer(max_df=maxdf, min_df=mindf,\n",
    "                                       # max_features=n_features,\n",
    "                                       stop_words=my_stop_words)\n",
    "\n",
    "    tfidf = tfidf_vectorizer.fit_transform(data) #(data_samples)\n",
    "    \n",
    "    # Fit the NMF model\n",
    "    nmf = NMF(n_components=n_components, random_state=1, alpha=.1, \n",
    "              l1_ratio=.5).fit(tfidf)\n",
    "\n",
    "    # View top words for each topic\n",
    "    print(\"\\nTopics in NMF model (Frobenius norm):\")\n",
    "    tfidf_feature_names = tfidf_vectorizer.get_feature_names()\n",
    "    \n",
    "    for topic_idx, topic in enumerate(nmf.components_):\n",
    "        message = \"Topic #{}: \".format(topic_idx+1)\n",
    "        message += \" \".join([tfidf_feature_names[i] for i in topic.argsort()[:-n_top_words - 1:-1]])\n",
    "        print(message)\n",
    "    \n",
    "    return tfidf, nmf"
   ]
  },
  {
   "cell_type": "code",
   "execution_count": 1157,
   "metadata": {},
   "outputs": [
    {
     "name": "stderr",
     "output_type": "stream",
     "text": [
      "/opt/anaconda3/lib/python3.8/site-packages/ipykernel/ipkernel.py:287: DeprecationWarning: `should_run_async` will not call `transform_cell` automatically in the future. Please pass the result to `transformed_cell` argument and any exception that happen during thetransform in `preprocessing_exc_tuple` in IPython 7.17 and above.\n",
      "  and should_run_async(code)\n",
      "/opt/anaconda3/lib/python3.8/site-packages/sklearn/feature_extraction/text.py:383: UserWarning: Your stop_words may be inconsistent with your preprocessing. Tokenizing the stop words generated tokens ['2021', 'accessibility', 'advertising', 'albums', 'back', 'bandcamp', 'berlin', 'best', 'breakthroughs', 'buy', 'careers', 'chicago', 'contact', 'content', 'critical', 'features', 'festival', 'galleries', 'grammys', 'guides', 'help', 'home', 'influences', 'liner', 'lists', 'longform', 'masthead', 'music', 'new', 'news', 'notes', 'paris', 'photo', 'picks', 'pitch', 'podcast', 'radio', 'records', 'results', 'reviews', 'rising', 'sign', 'skip', 'staff', 'sunday', 'tracks', 'video'] not in stop_words.\n",
      "  warnings.warn('Your stop_words may be inconsistent with '\n"
     ]
    },
    {
     "name": "stdout",
     "output_type": "stream",
     "text": [
      "\n",
      "Topics in NMF model (Frobenius norm):\n",
      "Topic #1: record track make new much come seem even feel play\n",
      "Topic #2: nt really bad disc ca even anyone probably know think\n",
      "Topic #3: jame singer love contemporary end last pop tribute true stay\n",
      "Topic #4: rap hiphop beat root flow production producer good underground say\n",
      "Topic #5: dj mix beat hiphop series cut break disc collaboration track\n",
      "Topic #6: jazz free modern player scene william tradition structure chord trumpet\n",
      "Topic #7: parker william brown quartet musician jazz freedom improvisation suite new\n",
      "Topic #8: group pianist ensemble composition saxophonist player composer performance jazz trumpeter\n",
      "Topic #9: vocal drum shine synth machine almost harmony experimental go pop\n",
      "Topic #10: black african people life child power south american experience man\n",
      "Topic #11: sun city space strange earth noise jazz world reissue vision\n",
      "Topic #12: blue kind singer world new love state john whose jazz\n",
      "Topic #13: duo session improvise pair collaboration return two instrumental let second\n",
      "Topic #14: guitar rock guitarist acoustic noise electric track instrumental play solo\n",
      "Topic #15: trio drummer cymbal loop live electronic pace hard moment able\n",
      "Topic #16: studio set live disc concert performance recording session play show\n",
      "Topic #17: sample hiphop beat loop producer artist break game since old\n",
      "Topic #18: film soundtrack score game full old original cut fun compose\n",
      "Topic #19: night mix late club series tour rare friend feel word\n",
      "Topic #20: chicago underground piece city scene musician star together bass horn\n"
     ]
    }
   ],
   "source": [
    "# View top 10 words for 20 topics\n",
    "tfidf, nmf = nmf_it(df_rev,0.08,0.80,20,10,my_stop_words)"
   ]
  },
  {
   "cell_type": "markdown",
   "metadata": {},
   "source": [
    "### Some ideas:\n",
    "- part of speech (POS) tagging: remove Named Entities to focus on genre\n",
    "- add specific terms to stoplist"
   ]
  },
  {
   "cell_type": "markdown",
   "metadata": {},
   "source": [
    "### POS tagging"
   ]
  },
  {
   "cell_type": "code",
   "execution_count": 1117,
   "metadata": {},
   "outputs": [],
   "source": [
    "# Let's create a function to pull out nouns from a string of text\n",
    "from nltk import word_tokenize, pos_tag\n",
    "\n",
    "def nouns(text):\n",
    "    '''Given a string of text, tokenize the text and pull out only the nouns.'''\n",
    "    is_noun = lambda pos: pos[:2] in ('NN','NNS','NNP','NNPS') # == 'NN'\n",
    "    tokenized = word_tokenize(text)\n",
    "    all_nouns = [word for (word, pos) in pos_tag(tokenized) if is_noun(pos)] \n",
    "    return ' '.join(all_nouns)"
   ]
  },
  {
   "cell_type": "code",
   "execution_count": 1066,
   "metadata": {},
   "outputs": [
    {
     "data": {
      "text/html": [
       "<div>\n",
       "<style scoped>\n",
       "    .dataframe tbody tr th:only-of-type {\n",
       "        vertical-align: middle;\n",
       "    }\n",
       "\n",
       "    .dataframe tbody tr th {\n",
       "        vertical-align: top;\n",
       "    }\n",
       "\n",
       "    .dataframe thead th {\n",
       "        text-align: right;\n",
       "    }\n",
       "</style>\n",
       "<table border=\"1\" class=\"dataframe\">\n",
       "  <thead>\n",
       "    <tr style=\"text-align: right;\">\n",
       "      <th></th>\n",
       "      <th>review_lem</th>\n",
       "    </tr>\n",
       "  </thead>\n",
       "  <tbody>\n",
       "    <tr>\n",
       "      <th>0</th>\n",
       "      <td>track deep compendium catchall fact chance hoo...</td>\n",
       "    </tr>\n",
       "    <tr>\n",
       "      <th>1</th>\n",
       "      <td>duo ’ s generationspanne album fela lead spiri...</td>\n",
       "    </tr>\n",
       "  </tbody>\n",
       "</table>\n",
       "</div>"
      ],
      "text/plain": [
       "                                          review_lem\n",
       "0  track deep compendium catchall fact chance hoo...\n",
       "1  duo ’ s generationspanne album fela lead spiri..."
      ]
     },
     "execution_count": 1066,
     "metadata": {},
     "output_type": "execute_result"
    }
   ],
   "source": [
    "df_genre_nouns = pd.DataFrame(df['review_lem'].apply(nouns))\n",
    "df_genre_nouns.head(2)"
   ]
  },
  {
   "cell_type": "code",
   "execution_count": 1158,
   "metadata": {},
   "outputs": [
    {
     "name": "stderr",
     "output_type": "stream",
     "text": [
      "/opt/anaconda3/lib/python3.8/site-packages/ipykernel/ipkernel.py:287: DeprecationWarning: `should_run_async` will not call `transform_cell` automatically in the future. Please pass the result to `transformed_cell` argument and any exception that happen during thetransform in `preprocessing_exc_tuple` in IPython 7.17 and above.\n",
      "  and should_run_async(code)\n",
      "/opt/anaconda3/lib/python3.8/site-packages/sklearn/feature_extraction/text.py:383: UserWarning: Your stop_words may be inconsistent with your preprocessing. Tokenizing the stop words generated tokens ['2021', 'accessibility', 'advertising', 'albums', 'back', 'bandcamp', 'berlin', 'best', 'breakthroughs', 'buy', 'careers', 'chicago', 'contact', 'content', 'critical', 'features', 'festival', 'galleries', 'grammys', 'guides', 'help', 'home', 'influences', 'liner', 'lists', 'longform', 'masthead', 'music', 'new', 'news', 'notes', 'paris', 'photo', 'picks', 'pitch', 'podcast', 'radio', 'records', 'results', 'reviews', 'rising', 'sign', 'skip', 'staff', 'sunday', 'tracks', 'video'] not in stop_words.\n",
      "  warnings.warn('Your stop_words may be inconsistent with '\n"
     ]
    },
    {
     "name": "stdout",
     "output_type": "stream",
     "text": [
      "\n",
      "Topics in NMF model (Frobenius norm):\n",
      "Topic #1: record track make new much come seem even feel play\n",
      "Topic #2: nt really bad disc ca even anyone probably know think\n",
      "Topic #3: jame singer love contemporary end last pop tribute true stay\n",
      "Topic #4: rap hiphop beat root flow production producer good underground say\n",
      "Topic #5: dj mix beat hiphop series cut break disc collaboration track\n",
      "Topic #6: jazz free modern player scene william tradition structure chord trumpet\n",
      "Topic #7: parker william brown quartet musician jazz freedom improvisation suite new\n",
      "Topic #8: group pianist ensemble composition saxophonist player composer performance jazz trumpeter\n",
      "Topic #9: vocal drum shine synth machine almost harmony experimental go pop\n",
      "Topic #10: black african people life child power south american experience man\n",
      "Topic #11: sun city space strange earth noise jazz world reissue vision\n",
      "Topic #12: blue kind singer world new love state john whose jazz\n",
      "Topic #13: duo session improvise pair collaboration return two instrumental let second\n",
      "Topic #14: guitar rock guitarist acoustic noise electric track instrumental play solo\n",
      "Topic #15: trio drummer cymbal loop live electronic pace hard moment able\n",
      "Topic #16: studio set live disc concert performance recording session play show\n",
      "Topic #17: sample hiphop beat loop producer artist break game since old\n",
      "Topic #18: film soundtrack score game full old original cut fun compose\n",
      "Topic #19: night mix late club series tour rare friend feel word\n",
      "Topic #20: chicago underground piece city scene musician star together bass horn\n"
     ]
    }
   ],
   "source": [
    "# View top 10 words for 20 topics\n",
    "tfidf, nmf = nmf_it(df['review_lem'],0.08,0.80,20,10,my_stop_words)"
   ]
  },
  {
   "cell_type": "code",
   "execution_count": 1070,
   "metadata": {},
   "outputs": [],
   "source": [
    "from sklearn.cluster import KMeans\n",
    "from yellowbrick.cluster import KElbowVisualizer\n",
    "from sklearn.feature_extraction.text import TfidfVectorizer\n",
    "from sklearn.decomposition import NMF"
   ]
  },
  {
   "cell_type": "code",
   "execution_count": 1159,
   "metadata": {},
   "outputs": [
    {
     "name": "stderr",
     "output_type": "stream",
     "text": [
      "/opt/anaconda3/lib/python3.8/site-packages/ipykernel/ipkernel.py:287: DeprecationWarning: `should_run_async` will not call `transform_cell` automatically in the future. Please pass the result to `transformed_cell` argument and any exception that happen during thetransform in `preprocessing_exc_tuple` in IPython 7.17 and above.\n",
      "  and should_run_async(code)\n",
      "/opt/anaconda3/lib/python3.8/site-packages/sklearn/feature_extraction/text.py:383: UserWarning: Your stop_words may be inconsistent with your preprocessing. Tokenizing the stop words generated tokens ['2021', 'accessibility', 'advertising', 'albums', 'back', 'bandcamp', 'berlin', 'best', 'breakthroughs', 'buy', 'careers', 'chicago', 'contact', 'content', 'critical', 'features', 'festival', 'galleries', 'grammys', 'guides', 'help', 'home', 'influences', 'liner', 'lists', 'longform', 'masthead', 'music', 'new', 'news', 'notes', 'paris', 'photo', 'picks', 'pitch', 'podcast', 'radio', 'records', 'results', 'reviews', 'rising', 'sign', 'skip', 'staff', 'sunday', 'tracks', 'video'] not in stop_words.\n",
      "  warnings.warn('Your stop_words may be inconsistent with '\n"
     ]
    }
   ],
   "source": [
    "# CHANGE PARAMS if you need to\n",
    "# Vectorize the text sample\n",
    "tfidf_vectorizer = TfidfVectorizer(max_df=0.8, min_df=0.08,\n",
    "                                   stop_words=my_stop_words)\n",
    "\n",
    "tfidf = tfidf_vectorizer.fit_transform(df['review_lem'])"
   ]
  },
  {
   "cell_type": "code",
   "execution_count": 1160,
   "metadata": {},
   "outputs": [
    {
     "name": "stderr",
     "output_type": "stream",
     "text": [
      "/opt/anaconda3/lib/python3.8/site-packages/ipykernel/ipkernel.py:287: DeprecationWarning: `should_run_async` will not call `transform_cell` automatically in the future. Please pass the result to `transformed_cell` argument and any exception that happen during thetransform in `preprocessing_exc_tuple` in IPython 7.17 and above.\n",
      "  and should_run_async(code)\n"
     ]
    }
   ],
   "source": [
    "# Instantiate the KMeans model and visualizer\n",
    "kmeans = KMeans(random_state=1)\n",
    "visualizer = KElbowVisualizer(kmeans, k=(5, 20), metric='silhouette')"
   ]
  },
  {
   "cell_type": "code",
   "execution_count": 1161,
   "metadata": {},
   "outputs": [
    {
     "name": "stderr",
     "output_type": "stream",
     "text": [
      "/opt/anaconda3/lib/python3.8/site-packages/ipykernel/ipkernel.py:287: DeprecationWarning: `should_run_async` will not call `transform_cell` automatically in the future. Please pass the result to `transformed_cell` argument and any exception that happen during thetransform in `preprocessing_exc_tuple` in IPython 7.17 and above.\n",
      "  and should_run_async(code)\n"
     ]
    },
    {
     "data": {
      "text/plain": [
       "<matplotlib.axes._subplots.AxesSubplot at 0x7fa2a7a86b80>"
      ]
     },
     "execution_count": 1161,
     "metadata": {},
     "output_type": "execute_result"
    },
    {
     "data": {
      "image/png": "[encoded data removed]",
      "text/plain": [
       "<Figure size 576x396 with 2 Axes>"
      ]
     },
     "metadata": {
      "image/png": {
       "height": 358,
       "width": 553
      }
     },
     "output_type": "display_data"
    }
   ],
   "source": [
    "# Fit the visualizer and plot the results\n",
    "visualizer.fit(tfidf)       \n",
    "visualizer.show(outpath='topics.png', dpi=300)"
   ]
  },
  {
   "cell_type": "markdown",
   "metadata": {},
   "source": [
    "### Try Nouns only @ k=13"
   ]
  },
  {
   "cell_type": "code",
   "execution_count": 1162,
   "metadata": {},
   "outputs": [
    {
     "name": "stdout",
     "output_type": "stream",
     "text": [
      "\n",
      "Topics in NMF model (Frobenius norm):\n",
      "Topic #1: piece player solo performance composition composer john saxophonist part note\n",
      "Topic #2: hiphop sample beat producer production break nothing artist mood funk\n",
      "Topic #3: guitar rock noise solo play thing start lead melody tone\n",
      "Topic #4: drum bass percussion beat rhythm funk groove title moment horn\n",
      "Topic #5: group moment debut member rock lead result percussion drummer saxophonist\n",
      "Topic #6: tune melody people theme label bit chord genre beat play\n",
      "Topic #7: piano pianist chord note kind hand melody line composition space\n",
      "Topic #8: trio drummer moment section line title tone feel bassist member\n",
      "Topic #9: life world man soul singer day love people thing career\n",
      "Topic #10: studio session recording version something kind set producer idea release\n",
      "Topic #11: mix series release set course funk bit start version head\n",
      "Topic #12: city york part home scene room man feel life beat\n",
      "Topic #13: voice word string production idea sense feature debut feel bit\n"
     ]
    },
    {
     "name": "stderr",
     "output_type": "stream",
     "text": [
      "/opt/anaconda3/lib/python3.8/site-packages/ipykernel/ipkernel.py:287: DeprecationWarning: `should_run_async` will not call `transform_cell` automatically in the future. Please pass the result to `transformed_cell` argument and any exception that happen during thetransform in `preprocessing_exc_tuple` in IPython 7.17 and above.\n",
      "  and should_run_async(code)\n",
      "/opt/anaconda3/lib/python3.8/site-packages/sklearn/feature_extraction/text.py:383: UserWarning: Your stop_words may be inconsistent with your preprocessing. Tokenizing the stop words generated tokens ['2021', 'accessibility', 'advertising', 'albums', 'back', 'bandcamp', 'berlin', 'best', 'breakthroughs', 'buy', 'careers', 'chicago', 'contact', 'content', 'critical', 'features', 'festival', 'galleries', 'grammys', 'guides', 'help', 'home', 'influences', 'liner', 'lists', 'longform', 'masthead', 'music', 'new', 'news', 'notes', 'paris', 'photo', 'picks', 'pitch', 'podcast', 'radio', 'records', 'results', 'reviews', 'rising', 'sign', 'skip', 'staff', 'sunday', 'tracks', 'video'] not in stop_words.\n",
      "  warnings.warn('Your stop_words may be inconsistent with '\n"
     ]
    }
   ],
   "source": [
    "tfidf, nmf = nmf_it(df_genre_nouns['review_lem'],0.15,0.65,13,10,my_stop_words)"
   ]
  },
  {
   "cell_type": "markdown",
   "metadata": {},
   "source": [
    "**See some topics/genres emerge. Try LDA and see if any better. We may have to resort to selecting key words to get subgenres**"
   ]
  },
  {
   "cell_type": "markdown",
   "metadata": {},
   "source": [
    "### LDA model"
   ]
  },
  {
   "cell_type": "code",
   "execution_count": 1123,
   "metadata": {},
   "outputs": [],
   "source": [
    "# Import countVectorizer and LDA\n",
    "from sklearn.feature_extraction.text import CountVectorizer\n",
    "from sklearn.decomposition import LatentDirichletAllocation    "
   ]
  },
  {
   "cell_type": "code",
   "execution_count": 1163,
   "metadata": {},
   "outputs": [
    {
     "name": "stderr",
     "output_type": "stream",
     "text": [
      "/opt/anaconda3/lib/python3.8/site-packages/ipykernel/ipkernel.py:287: DeprecationWarning: `should_run_async` will not call `transform_cell` automatically in the future. Please pass the result to `transformed_cell` argument and any exception that happen during thetransform in `preprocessing_exc_tuple` in IPython 7.17 and above.\n",
      "  and should_run_async(code)\n"
     ]
    }
   ],
   "source": [
    "def lda_it(data,mindf,maxdf,n_components,n_top_words,stop_list):\n",
    "    '''Fits an LDA model and prints top words for each topic.\n",
    "    \n",
    "    Parameters:\n",
    "        data: DataFrame/Series containing only raw texts\n",
    "        n_samples: number of texts to sample from data\n",
    "        n_features: length of TF-IDF vectors to calculate\n",
    "        n_components: number of topics to model\n",
    "        n_top_words: number of words to print for each topic, ranked by\n",
    "            frequency\n",
    "        stop_list: your list of stopwords to remove\n",
    "    '''\n",
    "        \n",
    "    \n",
    "    # Get sample of data\n",
    "    #data_samples = data.sample(n_samples, random_state=1)\n",
    "    \n",
    "    # Instantiate and fit TfidfVectorizer\n",
    "    count_vectorizer = CountVectorizer(max_df=maxdf, min_df=mindf,                                       \n",
    "                                       stop_words=my_stop_words)\n",
    "\n",
    "    counts = count_vectorizer.fit_transform(data)\n",
    "    \n",
    "    # Fit the LDA model\n",
    "    lda = LatentDirichletAllocation(n_components=n_components, \n",
    "                                    max_iter=5,                                    \n",
    "                                    random_state=42).fit(counts)\n",
    "\n",
    "    # View top words for each topic\n",
    "    print(\"\\nTopics in LDA model (Frobenius norm):\")\n",
    "    counts_feats = count_vectorizer.get_feature_names()\n",
    "    for topic_idx, topic in enumerate(lda.components_):\n",
    "        message = \"Topic #{}: \".format(topic_idx+1)\n",
    "        message += \" \".join([counts_feats[i] for i in topic.argsort()[:-n_top_words - 1:-1]])\n",
    "        print(message)\n",
    "    \n",
    "    return counts, lda"
   ]
  },
  {
   "cell_type": "code",
   "execution_count": 1164,
   "metadata": {},
   "outputs": [
    {
     "name": "stderr",
     "output_type": "stream",
     "text": [
      "/opt/anaconda3/lib/python3.8/site-packages/ipykernel/ipkernel.py:287: DeprecationWarning: `should_run_async` will not call `transform_cell` automatically in the future. Please pass the result to `transformed_cell` argument and any exception that happen during thetransform in `preprocessing_exc_tuple` in IPython 7.17 and above.\n",
      "  and should_run_async(code)\n",
      "/opt/anaconda3/lib/python3.8/site-packages/sklearn/feature_extraction/text.py:383: UserWarning: Your stop_words may be inconsistent with your preprocessing. Tokenizing the stop words generated tokens ['2021', 'accessibility', 'advertising', 'albums', 'back', 'bandcamp', 'berlin', 'best', 'breakthroughs', 'buy', 'careers', 'chicago', 'contact', 'content', 'critical', 'features', 'festival', 'galleries', 'grammys', 'guides', 'help', 'home', 'influences', 'liner', 'lists', 'longform', 'masthead', 'music', 'new', 'news', 'notes', 'paris', 'photo', 'picks', 'pitch', 'podcast', 'radio', 'records', 'results', 'reviews', 'rising', 'sign', 'skip', 'staff', 'sunday', 'tracks', 'video'] not in stop_words.\n",
      "  warnings.warn('Your stop_words may be inconsistent with '\n"
     ]
    },
    {
     "name": "stdout",
     "output_type": "stream",
     "text": [
      "\n",
      "Topics in LDA model (Frobenius norm):\n",
      "Topic #1: performance york part saxophonist show saxophone art solo idea musician\n",
      "Topic #2: guitar rock solo melody noise thing drum moment project play\n",
      "Topic #3: tune session thing release studio version solo bit man something\n",
      "Topic #4: life world man people voice release day name john home\n",
      "Topic #5: group piano composition note composer player pianist play solo set\n",
      "Topic #6: beat hiphop drum sample bass break producer rhythm production moment\n",
      "Topic #7: piece solo player chord moment john play melody place drum\n",
      "Topic #8: studio recording idea cover piece sense piano kind something note\n",
      "Topic #9: trio piece section piano composition part player release series material\n",
      "Topic #10: city part place feature percussion solo space groove composition scene\n",
      "Topic #11: thing bass rhythm piano section funk something title point label\n",
      "Topic #12: voice soul singer love pop day line artist man mix\n",
      "Topic #13: group percussion release bass sax something moment feel approach sense\n"
     ]
    },
    {
     "data": {
      "text/plain": [
       "(<624x130 sparse matrix of type '<class 'numpy.int64'>'\n",
       " \twith 19164 stored elements in Compressed Sparse Row format>,\n",
       " LatentDirichletAllocation(max_iter=5, n_components=13, random_state=42))"
      ]
     },
     "execution_count": 1164,
     "metadata": {},
     "output_type": "execute_result"
    }
   ],
   "source": [
    "lda_it(df_genre_nouns['review_lem'],0.15,0.65, 13, 10, my_stop_words)"
   ]
  },
  {
   "cell_type": "markdown",
   "metadata": {},
   "source": [
    "### Use Genre List from MusicBrainz to match keywords in reviews"
   ]
  },
  {
   "cell_type": "code",
   "execution_count": 1175,
   "metadata": {},
   "outputs": [
    {
     "name": "stdout",
     "output_type": "stream",
     "text": [
      "acid house,\n",
      "acid jazz,\n",
      "acid rock,\n",
      "acid techno,\n",
      "acoustic blues,\n",
      "acoustic rock,\n",
      "afoxê,\n",
      "afrobeat,\n",
      "alternative country,\n",
      "alternative dance,\n",
      "alternative folk,\n",
      "alternative hip hop,\n",
      "alternative metal,\n",
      "alternative pop,\n",
      "alternative punk,\n",
      "alternative rock,\n",
      "ambient,\n",
      "ambient dub,\n",
      "ambient house,\n",
      "ambient techno,\n",
      "americana,\n",
      "anarcho-punk,\n",
      "aor,\n",
      "arena rock,\n",
      "art pop,\n",
      "art punk,\n",
      "art rock,\n",
      "atmospheric black metal,\n",
      "audiobook,\n",
      "avant-garde,\n",
      "avant-garde jazz,\n",
      "avant-garde metal,\n",
      "avant-garde pop,\n",
      "avant-prog,\n",
      "bachata,\n",
      "ballad,\n",
      "barbershop,\n",
      "bardcore,\n",
      "baroque,\n",
      "bass house,\n",
      "beat music,\n",
      "bebop,\n",
      "bhangra,\n",
      "big band,\n",
      "big beat,\n",
      "black metal,\n",
      "blackened death metal,\n",
      "blackgaze,\n",
      "bleep techno,\n",
      "blue-eyed soul,\n",
      "bluegrass,\n",
      "blues,\n",
      "blues rock,\n",
      "bolero,\n",
      "bolero son,\n",
      "bongo flava,\n",
      "boogie rock,\n",
      "boogie-woogie,\n",
      "boom bap,\n",
      "bossa nova,\n",
      "bounce,\n",
      "breakbeat,\n",
      "breakbeat hardcore,\n",
      "breakcore,\n",
      "breaks,\n",
      "britpop,\n",
      "broken beat,\n",
      "brostep,\n",
      "brutal death metal,\n",
      "bubblegum pop,\n",
      "cajun,\n",
      "calypso,\n",
      "candombe,\n",
      "canterbury scene,\n",
      "cantopop,\n",
      "carnatic classical,\n",
      "celtic,\n",
      "celtic punk,\n",
      "chachachá,\n",
      "chamber pop,\n",
      "champeta,\n",
      "changüí,\n",
      "chanson,\n",
      "chicago blues,\n",
      "chillout,\n",
      "chiptune,\n",
      "chopped and screwed,\n",
      "christian rock,\n",
      "christmas music,\n",
      "chutney,\n",
      "city pop,\n",
      "classic blues,\n",
      "classic country,\n",
      "classic jazz,\n",
      "classic rock,\n",
      "classical,\n",
      "classical crossover,\n",
      "cloud rap,\n",
      "club,\n",
      "comedy,\n",
      "comedy rock,\n",
      "compas,\n",
      "complextro,\n",
      "conscious hip hop,\n",
      "contemporary christian,\n",
      "contemporary classical,\n",
      "contemporary folk,\n",
      "contemporary gospel,\n",
      "contemporary jazz,\n",
      "contemporary r&b,\n",
      "contra,\n",
      "cool jazz,\n",
      "country,\n",
      "country blues,\n",
      "country folk,\n",
      "country pop,\n",
      "country rock,\n",
      "coupé-décalé,\n",
      "cowpunk,\n",
      "crossover prog,\n",
      "crust punk,\n",
      "cumbia,\n",
      "cumbia villera,\n",
      "cyberpunk,\n",
      "d-beat,\n",
      "dance,\n",
      "dance-pop,\n",
      "dance-punk,\n",
      "dancehall,\n",
      "dansband,\n",
      "dark ambient,\n",
      "dark electro,\n",
      "dark folk,\n",
      "dark jazz,\n",
      "dark wave,\n",
      "death metal,\n",
      "death-doom metal,\n",
      "deathcore,\n",
      "deathgrind,\n",
      "deathrock,\n",
      "deep house,\n",
      "delta blues,\n",
      "depressive black metal,\n",
      "descarga,\n",
      "desert rock,\n",
      "detroit techno,\n",
      "digital hardcore,\n",
      "disco,\n",
      "djent,\n",
      "doo-wop,\n",
      "doom metal,\n",
      "downtempo,\n",
      "dream pop,\n",
      "drill,\n",
      "drill and bass,\n",
      "drone,\n",
      "drone metal,\n",
      "drum and bass,\n",
      "dub,\n",
      "dub techno,\n",
      "dubstep,\n",
      "dungeon synth,\n",
      "east coast hip hop,\n",
      "ebm,\n",
      "edm,\n",
      "electric blues,\n",
      "electro,\n",
      "electro house,\n",
      "electro swing,\n",
      "electro-funk,\n",
      "electro-industrial,\n",
      "electroclash,\n",
      "electronic,\n",
      "electronic rock,\n",
      "electronica,\n",
      "electronicore,\n",
      "electropop,\n",
      "electropunk,\n",
      "emo,\n",
      "emo pop,\n",
      "emo rap,\n",
      "emocore,\n",
      "enka,\n",
      "ethereal,\n",
      "euro house,\n",
      "eurobeat,\n",
      "eurodance,\n",
      "europop,\n",
      "exotica,\n",
      "experimental,\n",
      "experimental rock,\n",
      "extratone,\n",
      "fado,\n",
      "fidget house,\n",
      "filk,\n",
      "flamenco,\n",
      "folk,\n",
      "folk metal,\n",
      "folk pop,\n",
      "folk punk,\n",
      "folk rock,\n",
      "folktronica,\n",
      "footwork,\n",
      "freak folk,\n",
      "free improvisation,\n",
      "free jazz,\n",
      "french house,\n",
      "funk,\n",
      "funk carioca,\n",
      "funk metal,\n",
      "funk rock,\n",
      "funk soul,\n",
      "funktronica,\n",
      "funky house,\n",
      "fusion,\n",
      "future bass,\n",
      "future garage,\n",
      "future jazz,\n",
      "futurepop,\n",
      "g-funk,\n",
      "gabber,\n",
      "gagaku,\n",
      "gangsta rap,\n",
      "garage,\n",
      "garage house,\n",
      "garage punk,\n",
      "garage rock,\n",
      "ghetto house,\n",
      "ghettotech,\n",
      "glam,\n",
      "glam metal,\n",
      "glam rock,\n",
      "glitch,\n",
      "glitch hop,\n",
      "glitch pop,\n",
      "goa trance,\n",
      "goregrind,\n",
      "gospel,\n",
      "gothic,\n",
      "gothic country,\n",
      "gothic metal,\n",
      "gothic rock,\n",
      "grebo,\n",
      "grime,\n",
      "grindcore,\n",
      "groove metal,\n",
      "group sounds,\n",
      "grunge,\n",
      "guaguancó,\n",
      "guajira,\n",
      "guaracha,\n",
      "gypsy punk,\n",
      "happy hardcore,\n",
      "hard bop,\n",
      "hard house,\n",
      "hard rock,\n",
      "hard trance,\n",
      "hardbass,\n",
      "hardcore hip hop,\n",
      "hardcore punk,\n",
      "hardcore techno,\n",
      "hardstyle,\n",
      "harsh noise,\n",
      "harsh noise wall,\n",
      "hauntology,\n",
      "heavy metal,\n",
      "heavy psych,\n",
      "heavy rock,\n",
      "hi-nrg,\n",
      "hindustani classical,\n",
      "hip hop,\n",
      "hip house,\n",
      "honky tonk,\n",
      "hopepunk,\n",
      "horror punk,\n",
      "horrorcore,\n",
      "house,\n",
      "idm,\n",
      "illbient,\n",
      "indie,\n",
      "indie folk,\n",
      "indie pop,\n",
      "indie rock,\n",
      "indietronica,\n",
      "indorock,\n",
      "industrial,\n",
      "industrial hip hop,\n",
      "industrial metal,\n",
      "industrial musical,\n",
      "industrial rock,\n",
      "industrial techno,\n",
      "instrumental,\n",
      "instrumental jazz,\n",
      "instrumental rock,\n",
      "irish folk,\n",
      "italo-disco,\n",
      "j-pop,\n",
      "j-rock,\n",
      "jazz,\n",
      "jazz blues,\n",
      "jazz fusion,\n",
      "jazz rap,\n",
      "jazz rock,\n",
      "jazz-funk,\n",
      "joik,\n",
      "juke,\n",
      "jungle,\n",
      "k-pop,\n",
      "kawaii metal,\n",
      "kayōkyoku,\n",
      "kizomba,\n",
      "klezmer,\n",
      "krautrock,\n",
      "latin,\n",
      "latin jazz,\n",
      "latin pop,\n",
      "latin rock,\n",
      "leftfield,\n",
      "line dance,\n",
      "lo-fi,\n",
      "lo-fi hip hop,\n",
      "lounge,\n",
      "lovers rock,\n",
      "lowercase,\n",
      "luk krung,\n",
      "luk thung,\n",
      "madchester,\n",
      "mainstream rock,\n",
      "maloya,\n",
      "mambo,\n",
      "mandopop,\n",
      "martial industrial,\n",
      "maskanda,\n",
      "math rock,\n",
      "mathcore,\n",
      "medieval,\n",
      "melodic black metal,\n",
      "melodic death metal,\n",
      "melodic metalcore,\n",
      "melodic rock,\n",
      "melodic trance,\n",
      "mento,\n",
      "merengue,\n",
      "metal,\n",
      "metalcore,\n",
      "miami bass,\n",
      "microhouse,\n",
      "microsound,\n",
      "milonga,\n",
      "minyō,\n",
      "mincecore,\n",
      "minimal,\n",
      "minimal techno,\n",
      "minimal wave,\n",
      "modern blues,\n",
      "modern classical,\n",
      "modern country,\n",
      "motown,\n",
      "mpb,\n",
      "musical,\n",
      "musique concrète,\n",
      "neo soul,\n",
      "neo-progressive rock,\n",
      "neo-psychedelia,\n",
      "neo-rockabilly,\n",
      "neo-traditional country,\n",
      "neofolk,\n",
      "nerdcore,\n",
      "neue deutsche härte,\n",
      "neue deutsche welle,\n",
      "neurofunk,\n",
      "new age,\n",
      "new jack swing,\n",
      "new romantic,\n",
      "new wave,\n",
      "nightcore,\n",
      "no wave,\n",
      "noise,\n",
      "noise pop,\n",
      "noise rock,\n",
      "noisecore,\n",
      "non-music,\n",
      "norteño,\n",
      "northern soul,\n",
      "nu disco,\n",
      "nu jazz,\n",
      "nu metal,\n",
      "nueva canción,\n",
      "occult rock,\n",
      "oi,\n",
      "old school death metal,\n",
      "old-time,\n",
      "onkyo,\n",
      "opera,\n",
      "orchestral,\n",
      "outlaw country,\n",
      "p-funk,\n",
      "pachanga,\n",
      "pagode,\n",
      "phonk,\n",
      "plunderphonics,\n",
      "polka,\n",
      "pop,\n",
      "pop metal,\n",
      "pop punk,\n",
      "pop rap,\n",
      "pop rock,\n",
      "pop soul,\n",
      "pornogrind,\n",
      "post-bop,\n",
      "post-classical,\n",
      "post-grunge,\n",
      "post-hardcore,\n",
      "post-metal,\n",
      "post-punk,\n",
      "post-rock,\n",
      "power electronics,\n",
      "power metal,\n",
      "power noise,\n",
      "power pop,\n",
      "powerviolence,\n",
      "production music,\n",
      "progressive,\n",
      "progressive folk,\n",
      "progressive house,\n",
      "progressive metal,\n",
      "progressive rock,\n",
      "progressive trance,\n",
      "psy-trance,\n",
      "psychedelic,\n",
      "psychedelic folk,\n",
      "psychedelic pop,\n",
      "psychedelic rock,\n",
      "psychobilly,\n",
      "psytrance,\n",
      "punk,\n",
      "punk rock,\n",
      "qawwali,\n",
      "queercore,\n",
      "r&b,\n",
      "ragga,\n",
      "ragga hip-hop,\n",
      "ragga jungle,\n",
      "ragtime,\n",
      "raï,\n",
      "ranchera,\n",
      "rap metal,\n",
      "rap rock,\n",
      "rapcore,\n",
      "rave,\n",
      "red song,\n",
      "reggae,\n",
      "reggaeton,\n",
      "rhythmic noise,\n",
      "ritual ambient,\n",
      "rock,\n",
      "rock and roll,\n",
      "rockabilly,\n",
      "rocksteady,\n",
      "romantic classical,\n",
      "roots reggae,\n",
      "rumba,\n",
      "ryūkōka,\n",
      "salsa,\n",
      "samba,\n",
      "schlager,\n",
      "schranz,\n",
      "screamo,\n",
      "shibuya-kei,\n",
      "shoegaze,\n",
      "singer-songwriter,\n",
      "ska,\n",
      "ska punk,\n",
      "skacore,\n",
      "slow waltz,\n",
      "slowcore,\n",
      "sludge metal,\n",
      "smooth jazz,\n",
      "smooth soul,\n",
      "soca,\n",
      "soft rock,\n",
      "son cubano,\n",
      "son montuno,\n",
      "soul,\n",
      "soul jazz,\n",
      "southern rock,\n",
      "southern soul,\n",
      "space age pop,\n",
      "space rock,\n",
      "spectralism,\n",
      "speed garage,\n",
      "speed metal,\n",
      "speedcore,\n",
      "spoken word,\n",
      "steampunk,\n",
      "stoner metal,\n",
      "stoner rock,\n",
      "street punk,\n",
      "surf rock,\n",
      "swamp pop,\n",
      "swamp rock,\n",
      "swing,\n",
      "symphonic black metal,\n",
      "symphonic metal,\n",
      "symphonic prog,\n",
      "symphonic rock,\n",
      "symphony,\n",
      "synth-pop,\n",
      "synthwave,\n",
      "tango,\n",
      "tech house,\n",
      "tech trance,\n",
      "technical death metal,\n",
      "techno,\n",
      "teen pop,\n",
      "terrorcore,\n",
      "thrash metal,\n",
      "thrashcore,\n",
      "timba,\n",
      "traditional country,\n",
      "trance,\n",
      "trap,\n",
      "trap edm,\n",
      "tribal ambient,\n",
      "tribal house,\n",
      "trip hop,\n",
      "turntablism,\n",
      "uk drill,\n",
      "uk funky,\n",
      "uk garage,\n",
      "underground hip hop,\n",
      "vallenato,\n",
      "vaporwave,\n",
      "vaudeville,\n",
      "viking metal,\n",
      "visual kei,\n",
      "vocal house,\n",
      "vocal jazz,\n",
      "vocal trance,\n",
      "waltz,\n",
      "west coast hip hop,\n",
      "west coast swing,\n",
      "western swing,\n",
      "witch house,\n",
      "wonky,\n",
      "yacht rock,\n",
      "yé-yé,\n",
      "zamrock,\n",
      "zeuhl,\n",
      "zouk,\n",
      "zydeco,\n"
     ]
    },
    {
     "name": "stderr",
     "output_type": "stream",
     "text": [
      "/opt/anaconda3/lib/python3.8/site-packages/ipykernel/ipkernel.py:287: DeprecationWarning: `should_run_async` will not call `transform_cell` automatically in the future. Please pass the result to `transformed_cell` argument and any exception that happen during thetransform in `preprocessing_exc_tuple` in IPython 7.17 and above.\n",
      "  and should_run_async(code)\n"
     ]
    }
   ],
   "source": [
    "mbcsv = open('/Users/chrischan/Documents/02_Class/Metis/bootcamp/githubrepo/Metis_proj5/data/mbrainz_genres.csv', 'r')\n",
    "mbread = mbcsv.read()\n",
    "print(mbread)"
   ]
  },
  {
   "cell_type": "code",
   "execution_count": 1178,
   "metadata": {},
   "outputs": [
    {
     "name": "stdout",
     "output_type": "stream",
     "text": [
      "['acid house', 'acid jazz', 'acid rock', 'acid techno', 'acoustic blues', 'acoustic rock', 'afoxê', 'afrobeat', 'alternative country', 'alternative dance', 'alternative folk', 'alternative hip hop', 'alternative metal', 'alternative pop', 'alternative punk', 'alternative rock', 'ambient', 'ambient dub', 'ambient house', 'ambient techno', 'americana', 'anarcho-punk', 'aor', 'arena rock', 'art pop', 'art punk', 'art rock', 'atmospheric black metal', 'audiobook', 'avant-garde', 'avant-garde jazz', 'avant-garde metal', 'avant-garde pop', 'avant-prog', 'bachata', 'ballad', 'barbershop', 'bardcore', 'baroque', 'bass house', 'beat music', 'bebop', 'bhangra', 'big band', 'big beat', 'black metal', 'blackened death metal', 'blackgaze', 'bleep techno', 'blue-eyed soul', 'bluegrass', 'blues', 'blues rock', 'bolero', 'bolero son', 'bongo flava', 'boogie rock', 'boogie-woogie', 'boom bap', 'bossa nova', 'bounce', 'breakbeat', 'breakbeat hardcore', 'breakcore', 'breaks', 'britpop', 'broken beat', 'brostep', 'brutal death metal', 'bubblegum pop', 'cajun', 'calypso', 'candombe', 'canterbury scene', 'cantopop', 'carnatic classical', 'celtic', 'celtic punk', 'chachachá', 'chamber pop', 'champeta', 'changüí', 'chanson', 'chicago blues', 'chillout', 'chiptune', 'chopped and screwed', 'christian rock', 'christmas music', 'chutney', 'city pop', 'classic blues', 'classic country', 'classic jazz', 'classic rock', 'classical', 'classical crossover', 'cloud rap', 'club', 'comedy', 'comedy rock', 'compas', 'complextro', 'conscious hip hop', 'contemporary christian', 'contemporary classical', 'contemporary folk', 'contemporary gospel', 'contemporary jazz', 'contemporary r&b', 'contra', 'cool jazz', 'country', 'country blues', 'country folk', 'country pop', 'country rock', 'coupé-décalé', 'cowpunk', 'crossover prog', 'crust punk', 'cumbia', 'cumbia villera', 'cyberpunk', 'd-beat', 'dance', 'dance-pop', 'dance-punk', 'dancehall', 'dansband', 'dark ambient', 'dark electro', 'dark folk', 'dark jazz', 'dark wave', 'death metal', 'death-doom metal', 'deathcore', 'deathgrind', 'deathrock', 'deep house', 'delta blues', 'depressive black metal', 'descarga', 'desert rock', 'detroit techno', 'digital hardcore', 'disco', 'djent', 'doo-wop', 'doom metal', 'downtempo', 'dream pop', 'drill', 'drill and bass', 'drone', 'drone metal', 'drum and bass', 'dub', 'dub techno', 'dubstep', 'dungeon synth', 'east coast hip hop', 'ebm', 'edm', 'electric blues', 'electro', 'electro house', 'electro swing', 'electro-funk', 'electro-industrial', 'electroclash', 'electronic', 'electronic rock', 'electronica', 'electronicore', 'electropop', 'electropunk', 'emo', 'emo pop', 'emo rap', 'emocore', 'enka', 'ethereal', 'euro house', 'eurobeat', 'eurodance', 'europop', 'exotica', 'experimental', 'experimental rock', 'extratone', 'fado', 'fidget house', 'filk', 'flamenco', 'folk', 'folk metal', 'folk pop', 'folk punk', 'folk rock', 'folktronica', 'footwork', 'freak folk', 'free improvisation', 'free jazz', 'french house', 'funk', 'funk carioca', 'funk metal', 'funk rock', 'funk soul', 'funktronica', 'funky house', 'fusion', 'future bass', 'future garage', 'future jazz', 'futurepop', 'g-funk', 'gabber', 'gagaku', 'gangsta rap', 'garage', 'garage house', 'garage punk', 'garage rock', 'ghetto house', 'ghettotech', 'glam', 'glam metal', 'glam rock', 'glitch', 'glitch hop', 'glitch pop', 'goa trance', 'goregrind', 'gospel', 'gothic', 'gothic country', 'gothic metal', 'gothic rock', 'grebo', 'grime', 'grindcore', 'groove metal', 'group sounds', 'grunge', 'guaguancó', 'guajira', 'guaracha', 'gypsy punk', 'happy hardcore', 'hard bop', 'hard house', 'hard rock', 'hard trance', 'hardbass', 'hardcore hip hop', 'hardcore punk', 'hardcore techno', 'hardstyle', 'harsh noise', 'harsh noise wall', 'hauntology', 'heavy metal', 'heavy psych', 'heavy rock', 'hi-nrg', 'hindustani classical', 'hip hop', 'hip house', 'honky tonk', 'hopepunk', 'horror punk', 'horrorcore', 'house', 'idm', 'illbient', 'indie', 'indie folk', 'indie pop', 'indie rock', 'indietronica', 'indorock', 'industrial', 'industrial hip hop', 'industrial metal', 'industrial musical', 'industrial rock', 'industrial techno', 'instrumental', 'instrumental jazz', 'instrumental rock', 'irish folk', 'italo-disco', 'j-pop', 'j-rock', 'jazz', 'jazz blues', 'jazz fusion', 'jazz rap', 'jazz rock', 'jazz-funk', 'joik', 'juke', 'jungle', 'k-pop', 'kawaii metal', 'kayōkyoku', 'kizomba', 'klezmer', 'krautrock', 'latin', 'latin jazz', 'latin pop', 'latin rock', 'leftfield', 'line dance', 'lo-fi', 'lo-fi hip hop', 'lounge', 'lovers rock', 'lowercase', 'luk krung', 'luk thung', 'madchester', 'mainstream rock', 'maloya', 'mambo', 'mandopop', 'martial industrial', 'maskanda', 'math rock', 'mathcore', 'medieval', 'melodic black metal', 'melodic death metal', 'melodic metalcore', 'melodic rock', 'melodic trance', 'mento', 'merengue', 'metal', 'metalcore', 'miami bass', 'microhouse', 'microsound', 'milonga', 'minyō', 'mincecore', 'minimal', 'minimal techno', 'minimal wave', 'modern blues', 'modern classical', 'modern country', 'motown', 'mpb', 'musical', 'musique concrète', 'neo soul', 'neo-progressive rock', 'neo-psychedelia', 'neo-rockabilly', 'neo-traditional country', 'neofolk', 'nerdcore', 'neue deutsche härte', 'neue deutsche welle', 'neurofunk', 'new age', 'new jack swing', 'new romantic', 'new wave', 'nightcore', 'no wave', 'noise', 'noise pop', 'noise rock', 'noisecore', 'non-music', 'norteño', 'northern soul', 'nu disco', 'nu jazz', 'nu metal', 'nueva canción', 'occult rock', 'oi', 'old school death metal', 'old-time', 'onkyo', 'opera', 'orchestral', 'outlaw country', 'p-funk', 'pachanga', 'pagode', 'phonk', 'plunderphonics', 'polka', 'pop', 'pop metal', 'pop punk', 'pop rap', 'pop rock', 'pop soul', 'pornogrind', 'post-bop', 'post-classical', 'post-grunge', 'post-hardcore', 'post-metal', 'post-punk', 'post-rock', 'power electronics', 'power metal', 'power noise', 'power pop', 'powerviolence', 'production music', 'progressive', 'progressive folk', 'progressive house', 'progressive metal', 'progressive rock', 'progressive trance', 'psy-trance', 'psychedelic', 'psychedelic folk', 'psychedelic pop', 'psychedelic rock', 'psychobilly', 'psytrance', 'punk', 'punk rock', 'qawwali', 'queercore', 'r&b', 'ragga', 'ragga hip-hop', 'ragga jungle', 'ragtime', 'raï', 'ranchera', 'rap metal', 'rap rock', 'rapcore', 'rave', 'red song', 'reggae', 'reggaeton', 'rhythmic noise', 'ritual ambient', 'rock', 'rock and roll', 'rockabilly', 'rocksteady', 'romantic classical', 'roots reggae', 'rumba', 'ryūkōka', 'salsa', 'samba', 'schlager', 'schranz', 'screamo', 'shibuya-kei', 'shoegaze', 'singer-songwriter', 'ska', 'ska punk', 'skacore', 'slow waltz', 'slowcore', 'sludge metal', 'smooth jazz', 'smooth soul', 'soca', 'soft rock', 'son cubano', 'son montuno', 'soul', 'soul jazz', 'southern rock', 'southern soul', 'space age pop', 'space rock', 'spectralism', 'speed garage', 'speed metal', 'speedcore', 'spoken word', 'steampunk', 'stoner metal', 'stoner rock', 'street punk', 'surf rock', 'swamp pop', 'swamp rock', 'swing', 'symphonic black metal', 'symphonic metal', 'symphonic prog', 'symphonic rock', 'symphony', 'synth-pop', 'synthwave', 'tango', 'tech house', 'tech trance', 'technical death metal', 'techno', 'teen pop', 'terrorcore', 'thrash metal', 'thrashcore', 'timba', 'traditional country', 'trance', 'trap', 'trap edm', 'tribal ambient', 'tribal house', 'trip hop', 'turntablism', 'uk drill', 'uk funky', 'uk garage', 'underground hip hop', 'vallenato', 'vaporwave', 'vaudeville', 'viking metal', 'visual kei', 'vocal house', 'vocal jazz', 'vocal trance', 'waltz', 'west coast hip hop', 'west coast swing', 'western swing', 'witch house', 'wonky', 'yacht rock', 'yé-yé', 'zamrock', 'zeuhl', 'zouk', 'zydeco']\n"
     ]
    },
    {
     "name": "stderr",
     "output_type": "stream",
     "text": [
      "/opt/anaconda3/lib/python3.8/site-packages/ipykernel/ipkernel.py:287: DeprecationWarning: `should_run_async` will not call `transform_cell` automatically in the future. Please pass the result to `transformed_cell` argument and any exception that happen during thetransform in `preprocessing_exc_tuple` in IPython 7.17 and above.\n",
      "  and should_run_async(code)\n"
     ]
    }
   ],
   "source": [
    "_mblist = mbread.split(\",\")\n",
    "mbcsv.close()\n",
    "\n",
    "mblist = []\n",
    "for element in _mblist:\n",
    "    mblist.append(element.strip())\n",
    "\n",
    "mblist.pop() # last element was blank\n",
    "print(mblist)"
   ]
  },
  {
   "cell_type": "code",
   "execution_count": null,
   "metadata": {},
   "outputs": [],
   "source": []
  },
  {
   "cell_type": "code",
   "execution_count": null,
   "metadata": {},
   "outputs": [],
   "source": []
  },
  {
   "cell_type": "code",
   "execution_count": null,
   "metadata": {},
   "outputs": [],
   "source": []
  },
  {
   "cell_type": "code",
   "execution_count": null,
   "metadata": {},
   "outputs": [],
   "source": []
  },
  {
   "cell_type": "code",
   "execution_count": null,
   "metadata": {},
   "outputs": [],
   "source": []
  },
  {
   "cell_type": "code",
   "execution_count": null,
   "metadata": {},
   "outputs": [],
   "source": []
  },
  {
   "cell_type": "code",
   "execution_count": null,
   "metadata": {},
   "outputs": [],
   "source": []
  },
  {
   "cell_type": "code",
   "execution_count": null,
   "metadata": {},
   "outputs": [],
   "source": []
  },
  {
   "cell_type": "code",
   "execution_count": 1137,
   "metadata": {},
   "outputs": [],
   "source": [
    "from gensim.corpora.dictionary import Dictionary\n",
    "\n",
    "def vectorize_vis(data, min_df,max_df):\n",
    "    vec = CountVectorizer(stop_words=my_stop_words, min_df=min_df, max_df=max_df) #, ngram_range=(1, 3)\n",
    "    doc_word = vec.fit_transform(data)\n",
    "    feature_names = vec.get_feature_names()\n",
    "    id2word = dict((v, k) for k, v in vec.vocabulary_.items())\n",
    "    dictionary = Dictionary([feature_names])\n",
    "    \n",
    "    return doc_word, feature_names, id2word, dictionary"
   ]
  },
  {
   "cell_type": "code",
   "execution_count": 1138,
   "metadata": {},
   "outputs": [],
   "source": [
    "import pyLDAvis.gensim\n",
    "pyLDAvis.enable_notebook()\n",
    "\n",
    "def lda_vis(doc_word, feature_names, id2word, dictionary, num_topics):\n",
    "    corpus = matutils.Sparse2Corpus(doc_word.transpose())\n",
    "    model = models.LdaModel(corpus=corpus, num_topics=num_topics, id2word=id2word, passes=5, random_state=42)    \n",
    "    topics = model.print_topics(num_words=50)\n",
    "    for n, topic in topics:\n",
    "        print(\"\\nTopic \", n)\n",
    "        print(topic)\n",
    "\n",
    "    vis_data = pyLDAvis.gensim.prepare(model, corpus, dictionary)\n",
    "    return vis_data"
   ]
  },
  {
   "cell_type": "code",
   "execution_count": 1147,
   "metadata": {},
   "outputs": [
    {
     "name": "stderr",
     "output_type": "stream",
     "text": [
      "/opt/anaconda3/lib/python3.8/site-packages/ipykernel/ipkernel.py:287: DeprecationWarning: `should_run_async` will not call `transform_cell` automatically in the future. Please pass the result to `transformed_cell` argument and any exception that happen during thetransform in `preprocessing_exc_tuple` in IPython 7.17 and above.\n",
      "  and should_run_async(code)\n",
      "/opt/anaconda3/lib/python3.8/site-packages/sklearn/feature_extraction/text.py:383: UserWarning: Your stop_words may be inconsistent with your preprocessing. Tokenizing the stop words generated tokens ['2021', 'accessibility', 'advertising', 'albums', 'back', 'bandcamp', 'berlin', 'best', 'breakthroughs', 'buy', 'careers', 'chicago', 'contact', 'content', 'critical', 'features', 'festival', 'galleries', 'grammys', 'guides', 'help', 'home', 'influences', 'liner', 'lists', 'longform', 'masthead', 'music', 'new', 'news', 'notes', 'paris', 'photo', 'picks', 'pitch', 'podcast', 'radio', 'records', 'results', 'reviews', 'rising', 'sign', 'skip', 'staff', 'sunday', 'tracks', 'video'] not in stop_words.\n",
      "  warnings.warn('Your stop_words may be inconsistent with '\n"
     ]
    },
    {
     "name": "stdout",
     "output_type": "stream",
     "text": [
      "\n",
      "Topic  0\n",
      "0.027*\"track\" + 0.023*\"record\" + 0.021*\"thing\" + 0.020*\"sound\" + 0.018*\"guitar\" + 0.015*\"group\" + 0.014*\"rock\" + 0.014*\"percussion\" + 0.014*\"moment\" + 0.014*\"part\" + 0.013*\"voice\" + 0.013*\"place\" + 0.013*\"piece\" + 0.013*\"idea\" + 0.012*\"melody\" + 0.012*\"word\" + 0.011*\"project\" + 0.011*\"musician\" + 0.011*\"feel\" + 0.011*\"improvisation\" + 0.010*\"scene\" + 0.010*\"drum\" + 0.009*\"cover\" + 0.009*\"feature\" + 0.009*\"point\" + 0.009*\"player\" + 0.009*\"sense\" + 0.008*\"name\" + 0.008*\"city\" + 0.008*\"duo\" + 0.008*\"play\" + 0.007*\"folk\" + 0.007*\"solo\" + 0.007*\"harmony\" + 0.007*\"use\" + 0.007*\"horn\" + 0.007*\"something\" + 0.007*\"debut\" + 0.007*\"john\" + 0.007*\"star\" + 0.007*\"pop\" + 0.007*\"collaborator\" + 0.007*\"room\" + 0.006*\"note\" + 0.006*\"lead\" + 0.006*\"composition\" + 0.006*\"move\" + 0.006*\"share\" + 0.006*\"result\" + 0.006*\"line\"\n",
      "\n",
      "Topic  1\n",
      "0.050*\"track\" + 0.031*\"sound\" + 0.020*\"piano\" + 0.019*\"group\" + 0.016*\"pianist\" + 0.015*\"trio\" + 0.014*\"record\" + 0.014*\"moment\" + 0.014*\"sense\" + 0.014*\"solo\" + 0.012*\"approach\" + 0.011*\"string\" + 0.011*\"player\" + 0.011*\"line\" + 0.011*\"debut\" + 0.010*\"something\" + 0.010*\"composition\" + 0.010*\"drummer\" + 0.009*\"style\" + 0.009*\"feel\" + 0.009*\"title\" + 0.008*\"loop\" + 0.008*\"beat\" + 0.008*\"idea\" + 0.008*\"duo\" + 0.008*\"collaboration\" + 0.008*\"artist\" + 0.007*\"name\" + 0.007*\"tune\" + 0.007*\"tone\" + 0.007*\"voice\" + 0.007*\"performance\" + 0.007*\"rhythm\" + 0.007*\"saxophonist\" + 0.007*\"piece\" + 0.007*\"drum\" + 0.007*\"hand\" + 0.007*\"production\" + 0.007*\"session\" + 0.007*\"arrangement\" + 0.007*\"listener\" + 0.006*\"range\" + 0.006*\"material\" + 0.006*\"theme\" + 0.006*\"thing\" + 0.006*\"quartet\" + 0.006*\"point\" + 0.006*\"composer\" + 0.006*\"influence\" + 0.006*\"space\"\n",
      "\n",
      "Topic  2\n",
      "0.024*\"record\" + 0.022*\"sound\" + 0.018*\"piece\" + 0.015*\"composition\" + 0.014*\"track\" + 0.013*\"set\" + 0.012*\"piano\" + 0.012*\"play\" + 0.012*\"part\" + 0.012*\"studio\" + 0.012*\"performance\" + 0.011*\"composer\" + 0.011*\"john\" + 0.011*\"note\" + 0.011*\"group\" + 0.011*\"line\" + 0.010*\"place\" + 0.010*\"solo\" + 0.010*\"release\" + 0.010*\"blue\" + 0.009*\"recording\" + 0.009*\"saxophonist\" + 0.009*\"point\" + 0.009*\"york\" + 0.009*\"rhythm\" + 0.009*\"melody\" + 0.009*\"quartet\" + 0.009*\"series\" + 0.008*\"pianist\" + 0.008*\"moment\" + 0.008*\"thing\" + 0.008*\"decade\" + 0.008*\"session\" + 0.008*\"night\" + 0.007*\"story\" + 0.007*\"concert\" + 0.007*\"end\" + 0.007*\"career\" + 0.007*\"artist\" + 0.007*\"life\" + 0.007*\"bass\" + 0.007*\"member\" + 0.007*\"label\" + 0.006*\"title\" + 0.006*\"tune\" + 0.006*\"form\" + 0.006*\"theme\" + 0.006*\"chord\" + 0.006*\"day\" + 0.006*\"something\"\n",
      "\n",
      "Topic  3\n",
      "0.048*\"record\" + 0.024*\"solo\" + 0.023*\"sound\" + 0.019*\"piece\" + 0.019*\"melody\" + 0.017*\"track\" + 0.017*\"tone\" + 0.016*\"note\" + 0.016*\"guitar\" + 0.016*\"trumpet\" + 0.015*\"trio\" + 0.015*\"player\" + 0.013*\"tune\" + 0.012*\"theme\" + 0.011*\"guitarist\" + 0.011*\"composition\" + 0.010*\"bass\" + 0.009*\"label\" + 0.009*\"world\" + 0.009*\"title\" + 0.008*\"drummer\" + 0.008*\"space\" + 0.008*\"end\" + 0.008*\"part\" + 0.008*\"chord\" + 0.007*\"session\" + 0.007*\"style\" + 0.007*\"drum\" + 0.007*\"release\" + 0.007*\"people\" + 0.007*\"sax\" + 0.007*\"line\" + 0.007*\"john\" + 0.007*\"play\" + 0.007*\"group\" + 0.006*\"use\" + 0.006*\"moment\" + 0.006*\"texture\" + 0.006*\"improvisation\" + 0.006*\"piano\" + 0.006*\"rock\" + 0.006*\"history\" + 0.006*\"rhythm\" + 0.006*\"bassist\" + 0.006*\"something\" + 0.006*\"start\" + 0.006*\"studio\" + 0.006*\"series\" + 0.006*\"set\" + 0.005*\"thing\"\n",
      "\n",
      "Topic  4\n",
      "0.045*\"record\" + 0.041*\"track\" + 0.021*\"sound\" + 0.018*\"drum\" + 0.015*\"bass\" + 0.015*\"release\" + 0.014*\"beat\" + 0.013*\"something\" + 0.013*\"note\" + 0.013*\"piece\" + 0.012*\"studio\" + 0.012*\"version\" + 0.011*\"name\" + 0.010*\"moment\" + 0.010*\"cover\" + 0.009*\"guitar\" + 0.009*\"hand\" + 0.009*\"rhythm\" + 0.009*\"trio\" + 0.009*\"piano\" + 0.009*\"day\" + 0.009*\"collection\" + 0.009*\"life\" + 0.009*\"play\" + 0.009*\"title\" + 0.008*\"mark\" + 0.008*\"feature\" + 0.008*\"soul\" + 0.008*\"break\" + 0.008*\"series\" + 0.008*\"recording\" + 0.008*\"mix\" + 0.008*\"thing\" + 0.007*\"man\" + 0.007*\"dance\" + 0.007*\"radio\" + 0.007*\"end\" + 0.007*\"voice\" + 0.007*\"place\" + 0.007*\"disc\" + 0.007*\"space\" + 0.007*\"melody\" + 0.007*\"head\" + 0.007*\"tune\" + 0.006*\"arrangement\" + 0.006*\"sample\" + 0.006*\"funk\" + 0.006*\"people\" + 0.006*\"group\" + 0.006*\"idea\"\n",
      "\n",
      "Topic  5\n",
      "0.028*\"world\" + 0.023*\"sun\" + 0.022*\"space\" + 0.021*\"man\" + 0.020*\"life\" + 0.020*\"soundtrack\" + 0.019*\"sound\" + 0.019*\"record\" + 0.018*\"part\" + 0.017*\"voice\" + 0.016*\"city\" + 0.016*\"something\" + 0.016*\"film\" + 0.015*\"track\" + 0.013*\"piece\" + 0.013*\"night\" + 0.012*\"soul\" + 0.011*\"history\" + 0.011*\"story\" + 0.010*\"mix\" + 0.009*\"thing\" + 0.009*\"piano\" + 0.009*\"artist\" + 0.009*\"experience\" + 0.008*\"york\" + 0.008*\"people\" + 0.008*\"mind\" + 0.008*\"place\" + 0.008*\"blue\" + 0.008*\"saxophone\" + 0.008*\"act\" + 0.007*\"title\" + 0.007*\"number\" + 0.007*\"line\" + 0.007*\"age\" + 0.007*\"theme\" + 0.007*\"tenor\" + 0.007*\"debut\" + 0.007*\"name\" + 0.007*\"word\" + 0.007*\"love\" + 0.006*\"singer\" + 0.006*\"release\" + 0.006*\"star\" + 0.006*\"funk\" + 0.006*\"kind\" + 0.006*\"cut\" + 0.006*\"influence\" + 0.006*\"solo\" + 0.006*\"moment\"\n",
      "\n",
      "Topic  6\n",
      "0.038*\"beat\" + 0.037*\"track\" + 0.033*\"hiphop\" + 0.022*\"sample\" + 0.022*\"record\" + 0.022*\"thing\" + 0.020*\"sound\" + 0.020*\"house\" + 0.016*\"bass\" + 0.015*\"producer\" + 0.015*\"day\" + 0.013*\"man\" + 0.012*\"nothing\" + 0.012*\"production\" + 0.011*\"project\" + 0.011*\"anything\" + 0.010*\"drum\" + 0.010*\"line\" + 0.010*\"point\" + 0.010*\"hand\" + 0.009*\"style\" + 0.009*\"title\" + 0.009*\"part\" + 0.009*\"disc\" + 0.009*\"sort\" + 0.009*\"root\" + 0.009*\"end\" + 0.009*\"flow\" + 0.008*\"something\" + 0.008*\"genre\" + 0.008*\"look\" + 0.008*\"release\" + 0.007*\"use\" + 0.007*\"listen\" + 0.007*\"funk\" + 0.007*\"word\" + 0.007*\"everything\" + 0.007*\"guy\" + 0.007*\"cut\" + 0.007*\"tune\" + 0.007*\"dance\" + 0.007*\"label\" + 0.007*\"melody\" + 0.007*\"show\" + 0.006*\"people\" + 0.006*\"rock\" + 0.006*\"name\" + 0.006*\"bit\" + 0.006*\"turn\" + 0.006*\"artist\"\n",
      "\n",
      "Topic  7\n",
      "0.044*\"guitar\" + 0.041*\"track\" + 0.029*\"record\" + 0.021*\"sound\" + 0.016*\"rock\" + 0.014*\"drum\" + 0.014*\"moment\" + 0.012*\"line\" + 0.012*\"solo\" + 0.011*\"voice\" + 0.011*\"thing\" + 0.011*\"effect\" + 0.010*\"people\" + 0.010*\"sort\" + 0.010*\"play\" + 0.010*\"melody\" + 0.010*\"mix\" + 0.009*\"bit\" + 0.009*\"man\" + 0.009*\"film\" + 0.008*\"rhythm\" + 0.008*\"genre\" + 0.008*\"style\" + 0.008*\"love\" + 0.008*\"artist\" + 0.008*\"piano\" + 0.008*\"duo\" + 0.008*\"act\" + 0.008*\"world\" + 0.008*\"feel\" + 0.008*\"production\" + 0.008*\"tone\" + 0.007*\"groove\" + 0.007*\"pop\" + 0.007*\"feature\" + 0.006*\"something\" + 0.006*\"change\" + 0.006*\"sense\" + 0.006*\"decade\" + 0.006*\"start\" + 0.006*\"end\" + 0.006*\"debut\" + 0.006*\"title\" + 0.006*\"day\" + 0.006*\"lead\" + 0.006*\"musician\" + 0.006*\"chord\" + 0.006*\"room\" + 0.005*\"kind\" + 0.005*\"use\"\n",
      "\n",
      "Topic  8\n",
      "0.023*\"bass\" + 0.022*\"track\" + 0.020*\"sound\" + 0.019*\"record\" + 0.018*\"player\" + 0.016*\"release\" + 0.015*\"group\" + 0.014*\"fusion\" + 0.013*\"drum\" + 0.012*\"line\" + 0.012*\"drummer\" + 0.012*\"soul\" + 0.012*\"scene\" + 0.012*\"william\" + 0.011*\"voice\" + 0.010*\"world\" + 0.010*\"play\" + 0.009*\"end\" + 0.009*\"moment\" + 0.009*\"percussion\" + 0.009*\"city\" + 0.009*\"pop\" + 0.009*\"point\" + 0.009*\"solo\" + 0.008*\"composition\" + 0.008*\"piece\" + 0.008*\"life\" + 0.008*\"title\" + 0.008*\"artist\" + 0.008*\"place\" + 0.007*\"death\" + 0.007*\"tradition\" + 0.007*\"rock\" + 0.007*\"something\" + 0.007*\"performance\" + 0.007*\"studio\" + 0.007*\"jam\" + 0.007*\"genre\" + 0.006*\"people\" + 0.006*\"funk\" + 0.006*\"focus\" + 0.006*\"bassist\" + 0.006*\"feature\" + 0.006*\"section\" + 0.006*\"concert\" + 0.006*\"day\" + 0.006*\"space\" + 0.005*\"sax\" + 0.005*\"hiphop\" + 0.005*\"style\"\n",
      "\n",
      "Topic  9\n",
      "0.047*\"record\" + 0.026*\"sound\" + 0.023*\"group\" + 0.018*\"tune\" + 0.016*\"set\" + 0.016*\"kind\" + 0.014*\"track\" + 0.013*\"release\" + 0.013*\"something\" + 0.012*\"session\" + 0.012*\"play\" + 0.011*\"solo\" + 0.011*\"disc\" + 0.010*\"reissue\" + 0.010*\"voice\" + 0.010*\"thing\" + 0.010*\"performance\" + 0.010*\"day\" + 0.009*\"point\" + 0.009*\"version\" + 0.009*\"show\" + 0.009*\"month\" + 0.009*\"life\" + 0.009*\"moment\" + 0.008*\"piece\" + 0.008*\"john\" + 0.008*\"melody\" + 0.008*\"feature\" + 0.008*\"love\" + 0.008*\"form\" + 0.007*\"man\" + 0.007*\"people\" + 0.007*\"york\" + 0.007*\"idea\" + 0.007*\"career\" + 0.007*\"part\" + 0.007*\"noise\" + 0.007*\"piano\" + 0.007*\"artist\" + 0.007*\"player\" + 0.006*\"studio\" + 0.006*\"note\" + 0.006*\"world\" + 0.006*\"style\" + 0.006*\"funk\" + 0.006*\"title\" + 0.006*\"rhythm\" + 0.006*\"everything\" + 0.006*\"lp\" + 0.006*\"guy\"\n"
     ]
    }
   ],
   "source": [
    "doc_word, feature_names, id2word, dictionary = vectorize_vis(df_genre_nouns['review_lem'], 0.10,.75)\n",
    "vis_data = lda_vis(doc_word, feature_names, id2word, dictionary, 10)"
   ]
  },
  {
   "cell_type": "code",
   "execution_count": 1148,
   "metadata": {},
   "outputs": [
    {
     "name": "stderr",
     "output_type": "stream",
     "text": [
      "/opt/anaconda3/lib/python3.8/site-packages/ipykernel/ipkernel.py:287: DeprecationWarning: `should_run_async` will not call `transform_cell` automatically in the future. Please pass the result to `transformed_cell` argument and any exception that happen during thetransform in `preprocessing_exc_tuple` in IPython 7.17 and above.\n",
      "  and should_run_async(code)\n"
     ]
    },
    {
     "data": {
      "text/html": [
       "\n",
       "<link rel=\"stylesheet\" type=\"text/css\" href=\"https://cdn.jsdelivr.net/gh/bmabey/pyLDAvis@3.2.2/pyLDAvis/js/ldavis.v1.0.0.css\">\n",
       "\n",
       "\n",
       "<div id=\"ldavis_el346311403365717986881954732591\"></div>\n",
       "<script type=\"text/javascript\">\n",
       "\n",
       "var ldavis_el346311403365717986881954732591_data = {\"mdsDat\": {\"x\": [0.04548468977476491, 0.012956058206249656, 0.01478304765314752, 0.0369789521725495, -0.019854728382044745, -0.025910860354572567, 0.017446535024107923, 0.0059754026500919676, 0.023693154656253903, -0.11155225140054816], \"y\": [0.0022505080374774556, 0.011079706918549174, -0.049278208384092574, -0.01834169100970192, -0.0019760525352536793, -0.005167244437866222, -0.022880287497922175, 0.09048113194858222, 0.0011696177497403965, -0.0073374807895127], \"topics\": [1, 2, 3, 4, 5, 6, 7, 8, 9, 10], \"cluster\": [1, 1, 1, 1, 1, 1, 1, 1, 1, 1], \"Freq\": [14.44546631982973, 12.395586810620536, 10.319986587071508, 10.00345918741979, 9.91734673736677, 9.865376635552227, 9.396167177076041, 8.288695826470555, 8.041486143569267, 7.326428575023574]}, \"tinfo\": {\"Term\": [\"guitar\", \"beat\", \"hiphop\", \"track\", \"sun\", \"soundtrack\", \"house\", \"sample\", \"player\", \"film\", \"man\", \"bass\", \"group\", \"trio\", \"world\", \"space\", \"city\", \"record\", \"soul\", \"rock\", \"thing\", \"life\", \"pianist\", \"duo\", \"scene\", \"trumpet\", \"night\", \"production\", \"fusion\", \"solo\", \"blue\", \"concert\", \"composer\", \"quartet\", \"saxophonist\", \"run\", \"club\", \"recording\", \"liner\", \"bandleader\", \"story\", \"composition\", \"set\", \"john\", \"hour\", \"york\", \"night\", \"harmony\", \"performance\", \"studio\", \"pianist\", \"center\", \"death\", \"playing\", \"decade\", \"series\", \"stage\", \"art\", \"opening\", \"member\", \"place\", \"piece\", \"career\", \"play\", \"part\", \"piano\", \"note\", \"sound\", \"line\", \"record\", \"rhythm\", \"point\", \"release\", \"group\", \"solo\", \"track\", \"melody\", \"moment\", \"reissue\", \"month\", \"set\", \"disc\", \"lp\", \"tune\", \"kind\", \"one\", \"session\", \"direction\", \"group\", \"show\", \"concert\", \"noise\", \"fan\", \"audience\", \"run\", \"version\", \"guy\", \"form\", \"structure\", \"william\", \"career\", \"today\", \"love\", \"performance\", \"everything\", \"york\", \"day\", \"turn\", \"record\", \"release\", \"play\", \"something\", \"sound\", \"john\", \"point\", \"voice\", \"solo\", \"life\", \"thing\", \"track\", \"feature\", \"moment\", \"piece\", \"melody\", \"loop\", \"pianist\", \"string\", \"trio\", \"passage\", \"collaboration\", \"approach\", \"credit\", \"stretch\", \"duo\", \"energy\", \"sense\", \"piano\", \"range\", \"shift\", \"debut\", \"keyboard\", \"drummer\", \"opening\", \"arrangement\", \"club\", \"figure\", \"quality\", \"production\", \"influence\", \"track\", \"feel\", \"quartet\", \"saxophonist\", \"group\", \"sound\", \"player\", \"moment\", \"style\", \"solo\", \"composition\", \"line\", \"something\", \"title\", \"hand\", \"idea\", \"record\", \"artist\", \"name\", \"beat\", \"tone\", \"tune\", \"trumpet\", \"guitarist\", \"tone\", \"trio\", \"texture\", \"theme\", \"playing\", \"solo\", \"melody\", \"player\", \"statement\", \"passage\", \"sax\", \"note\", \"force\", \"chord\", \"start\", \"anyone\", \"edge\", \"label\", \"bassist\", \"tune\", \"piece\", \"history\", \"drummer\", \"stuff\", \"lead\", \"record\", \"improvisation\", \"attention\", \"composition\", \"guitar\", \"space\", \"sound\", \"bass\", \"end\", \"title\", \"track\", \"world\", \"session\", \"style\", \"people\", \"john\", \"part\", \"drum\", \"release\", \"radio\", \"mark\", \"collection\", \"break\", \"date\", \"couple\", \"dance\", \"version\", \"cover\", \"liner\", \"hand\", \"head\", \"root\", \"drum\", \"guy\", \"studio\", \"name\", \"arrangement\", \"soul\", \"recording\", \"beat\", \"bass\", \"trio\", \"noise\", \"release\", \"series\", \"note\", \"anything\", \"collaborator\", \"disc\", \"record\", \"track\", \"something\", \"mix\", \"sound\", \"day\", \"piece\", \"rhythm\", \"life\", \"moment\", \"feature\", \"title\", \"guitar\", \"piano\", \"play\", \"guitar\", \"opener\", \"sort\", \"film\", \"rock\", \"act\", \"effect\", \"duo\", \"lp\", \"genre\", \"eye\", \"make\", \"bit\", \"fall\", \"production\", \"today\", \"figure\", \"process\", \"mix\", \"start\", \"return\", \"shift\", \"change\", \"element\", \"lead\", \"sign\", \"groove\", \"people\", \"love\", \"case\", \"track\", \"drum\", \"moment\", \"line\", \"record\", \"voice\", \"sound\", \"feel\", \"pop\", \"solo\", \"man\", \"play\", \"style\", \"melody\", \"thing\", \"rhythm\", \"artist\", \"piano\", \"world\", \"harmony\", \"folk\", \"scene\", \"percussion\", \"improvisation\", \"star\", \"word\", \"share\", \"collaborator\", \"listen\", \"musician\", \"background\", \"duo\", \"rock\", \"center\", \"project\", \"feel\", \"thing\", \"lead\", \"idea\", \"cover\", \"place\", \"someone\", \"horn\", \"opener\", \"city\", \"room\", \"tradition\", \"move\", \"guitarist\", \"guitar\", \"part\", \"voice\", \"moment\", \"group\", \"melody\", \"track\", \"record\", \"sound\", \"piece\", \"feature\", \"drum\", \"sense\", \"point\", \"name\", \"player\", \"soundtrack\", \"sun\", \"film\", \"city\", \"space\", \"experience\", \"world\", \"tenor\", \"night\", \"man\", \"story\", \"history\", \"life\", \"mind\", \"soul\", \"age\", \"act\", \"star\", \"chorus\", \"cut\", \"blue\", \"century\", \"mix\", \"part\", \"number\", \"saxophone\", \"today\", \"voice\", \"york\", \"influence\", \"something\", \"piece\", \"sound\", \"artist\", \"record\", \"track\", \"people\", \"piano\", \"thing\", \"place\", \"william\", \"fusion\", \"scene\", \"tradition\", \"soul\", \"death\", \"jam\", \"bass\", \"player\", \"drummer\", \"keyboard\", \"concert\", \"couple\", \"city\", \"focus\", \"pop\", \"stretch\", \"return\", \"experience\", \"century\", \"percussion\", \"bandleader\", \"genre\", \"role\", \"rest\", \"bassist\", \"tenor\", \"mark\", \"age\", \"ground\", \"release\", \"drum\", \"line\", \"group\", \"end\", \"world\", \"voice\", \"sound\", \"track\", \"play\", \"record\", \"composition\", \"artist\", \"point\", \"life\", \"moment\", \"title\", \"solo\", \"piece\", \"place\", \"house\", \"hiphop\", \"sample\", \"beat\", \"flow\", \"root\", \"nothing\", \"producer\", \"listen\", \"anything\", \"production\", \"look\", \"cut\", \"sort\", \"eye\", \"day\", \"level\", \"project\", \"genre\", \"guy\", \"loop\", \"hand\", \"thing\", \"dance\", \"attention\", \"background\", \"disc\", \"anyone\", \"break\", \"case\", \"man\", \"bass\", \"everything\", \"track\", \"style\", \"sound\", \"record\", \"point\", \"drum\", \"line\", \"title\", \"end\", \"part\", \"something\"], \"Freq\": [447.0, 327.0, 212.0, 1115.0, 126.0, 104.0, 111.0, 183.0, 285.0, 123.0, 271.0, 365.0, 453.0, 220.0, 331.0, 247.0, 174.0, 1239.0, 171.0, 249.0, 414.0, 281.0, 182.0, 135.0, 147.0, 145.0, 159.0, 147.0, 121.0, 424.0, 58.88395579780744, 42.31894390142642, 66.91842308539572, 51.67888639394464, 55.71113014461114, 28.337960490952934, 29.333803347028876, 56.458123436397635, 24.05085530383313, 29.362610001462382, 42.734084645987714, 90.21197823195585, 76.36989703066354, 66.61662151033096, 27.762864799758532, 53.70507745609744, 45.712340949985155, 24.806430193606083, 70.00118250491863, 70.44912010929846, 50.90350028822708, 24.570454424406122, 28.196770974129887, 23.747991165316154, 47.42187691849906, 51.32088639713608, 22.61377178934593, 31.769075745845733, 21.177680932820664, 39.49655447099067, 62.48406058489679, 109.34622381628209, 40.62920237153946, 74.20048919246963, 73.83734415157666, 74.38488309850372, 66.52629802445335, 133.41589208565867, 65.89374840890977, 144.59771705822538, 53.58060094388992, 54.77379818389737, 60.7422450571924, 65.92683887178747, 62.0505235115141, 82.39461502741224, 51.81439678873755, 49.653897706224605, 53.890976325138, 46.156647702221264, 81.14357862393601, 55.79894944007675, 28.687749932608458, 94.33024071056825, 79.95462137907545, 27.254404265408485, 63.43348606388598, 28.320230324450346, 119.74075324887554, 47.09439016654426, 27.10304626839718, 36.47811707774582, 27.00051652774167, 22.828810261421044, 19.124721528787916, 47.69642937058521, 28.603292645361886, 38.83328503821617, 27.035516909828257, 21.543425008382265, 36.54659180894394, 18.06559825766399, 39.04547080558993, 51.04717548536382, 29.184516855600055, 37.61491566724213, 49.13641424099582, 28.344214955926148, 240.37931296704775, 69.40660947283554, 63.187415646081924, 64.75695495745937, 135.7735436155112, 40.240952081361115, 48.51962338486271, 52.22470667829483, 56.780874877988715, 44.398470559975024, 51.48754157327437, 69.80221672565709, 39.17112858373996, 44.37707730524931, 40.63263387829087, 39.55524979905904, 36.19118298580932, 69.38898716284372, 47.397126162060225, 64.47437092414827, 21.1940725266865, 33.44276769258567, 52.07275584635889, 20.842360724633892, 21.906255814836644, 33.65787836472365, 22.746242593555046, 58.506307291385745, 87.19793422626387, 27.879045881453283, 22.378108131859726, 45.615468354394345, 16.222577272298693, 43.27979099501082, 17.027545291311863, 28.46816010347905, 17.43552682658621, 21.095314829963883, 21.1355015036085, 29.052933437607532, 25.44354008631679, 213.52233466412582, 38.37887861778587, 25.9601177319788, 30.160640931566995, 83.22478925177144, 133.7875873194153, 47.235620361452774, 58.93335237622466, 38.70888997564693, 58.45590265106159, 43.57681719826533, 45.87807509217702, 43.69661212022787, 37.721073290727354, 29.358485600155934, 33.81128969788526, 60.48988730275983, 32.96762325257376, 32.135922715455884, 33.962631468294184, 31.201141572545104, 31.234518266050813, 64.79106603538408, 45.816654961662316, 69.54628125669292, 61.79565346962508, 26.44688992277623, 50.82287111542254, 21.413214006756764, 98.61212107409112, 78.0114399028477, 61.47174794306464, 19.51142069843586, 15.98258661454667, 29.63482483553921, 68.33795877118989, 19.70749823361473, 32.50306777809717, 24.383724764275577, 19.043154393654454, 14.566068746588957, 38.751516251411886, 24.523705457718997, 53.66058901092776, 80.86326624118635, 25.106434879817144, 34.925064895135556, 12.403340891798637, 21.03034773687555, 200.35015877833897, 25.605586397773575, 12.242420217460253, 43.8475802980449, 64.9613006831, 34.722283622777255, 94.10703154282893, 42.902775485931386, 34.62175854711781, 36.43228653460076, 71.98635638941796, 37.66195176741508, 30.641649866635976, 30.461196957482766, 29.793793641860013, 28.725659042139572, 32.50914025637409, 30.370483504090267, 30.057384897575584, 30.05645010183057, 33.84440094772164, 35.489183854875236, 31.952572718342832, 22.274283448071817, 19.536854493572395, 30.354559660868482, 47.56447447413034, 40.505158566910325, 15.579675615059127, 37.220261482826004, 27.27207276479387, 18.6593750948987, 72.78856035001422, 25.03644400267869, 49.63433451771116, 47.28715343465802, 26.58460799859982, 32.17891206845293, 31.629549186923143, 57.17914845569837, 62.97819515896447, 36.324226185166154, 24.293117649002948, 62.11333592167449, 31.74344931092959, 53.17297094634271, 21.7982860529432, 17.453366441828663, 28.06136844984995, 185.84640856585966, 167.61828822821764, 53.516329946204394, 31.315001166989468, 86.61716265702329, 35.55046093905048, 52.04397138574417, 36.4639617414668, 35.435136391596096, 40.649950634480305, 33.36299573473207, 35.12354856163104, 38.6981756786748, 36.069089293085106, 35.264885154529495, 180.70999954449246, 20.05887275395063, 41.542492062251135, 35.32011326911144, 67.6177956831187, 31.706462951376682, 43.58264568408979, 32.35868039872072, 21.991557100674424, 33.305266306011205, 17.800444426372433, 17.131487002383285, 37.36739369825554, 16.899220303844437, 30.925384349111877, 18.059238048887693, 21.60018232842837, 14.84936089472552, 39.81207956885004, 25.41440491253464, 18.763472405179506, 18.722460799152767, 26.18317774141351, 18.962900792243413, 24.002651604944216, 13.828607113498103, 30.68444211852891, 42.15070357509712, 32.45640855806252, 17.941084291759438, 167.11276923344417, 56.85138975938267, 55.88220125528959, 49.11594317987891, 119.073497200311, 46.58502905176294, 86.36095515975907, 31.412864079678922, 27.931857930067526, 48.12750542132739, 36.7317367206202, 41.41458000251547, 32.94941481069333, 40.983285943047264, 43.83757990747206, 34.48594071628035, 32.44601243293635, 32.40119298827964, 31.667105100742898, 28.58238388590287, 28.95559000378677, 40.96805404423347, 53.901497317939395, 41.0344192592251, 26.445055833389553, 46.48249995982126, 23.236490120021543, 26.097717016744713, 20.452986988159072, 42.20408616639919, 21.83541253896562, 30.890643108655677, 55.5160919918344, 19.73341330513235, 42.984604971765854, 41.451082515943554, 81.78449827535462, 25.15127426096075, 49.23971927996909, 35.53629909922174, 50.05183831678895, 15.082227183120816, 27.008378066912304, 12.440989661015607, 30.89821668778375, 25.75660221253414, 15.837099674247465, 23.833486043260226, 19.200536350434003, 70.09663230711513, 53.08414734606372, 50.35774980110907, 53.36976076528555, 58.77466988226404, 48.30003163294633, 104.99978091875913, 91.64783737706689, 77.86211909151959, 49.6966476410913, 35.372281275347724, 38.745026687840095, 33.37103392485271, 34.69298724730907, 32.95856123641261, 33.3914920463783, 67.50706923880296, 77.77707661627393, 53.66479790486243, 56.232169788862144, 76.57105723644405, 29.514557930391014, 95.37254882797701, 23.368523547356993, 43.48832990340131, 73.09227168692284, 36.30467589743693, 38.32231542462261, 69.42674752856739, 28.161532516469755, 40.82143083976792, 24.177953621843947, 25.978312249256742, 21.28146913914746, 15.845007134475154, 20.10691300397544, 26.361406534160242, 16.898255694999193, 35.26696000756729, 63.41005098736711, 24.79024344470642, 26.218713258949045, 14.33417293142522, 57.826979247503495, 29.07869331826686, 19.705282519911705, 54.341519190191526, 44.094128125657676, 64.51074791781807, 30.143027016850116, 64.30467248977851, 52.073489353913246, 28.403560437436052, 30.212169141545978, 30.64805942485394, 27.169761627825125, 39.72981069194669, 46.44447267952638, 39.971453608051284, 23.400395027196904, 40.8017483684956, 24.604596702131566, 22.35893550868487, 76.95884960205736, 59.85171789096793, 41.029322766094715, 14.714031260692044, 19.41413525652372, 13.672163913916183, 30.739933971160955, 20.151154089284507, 29.59751360840625, 14.407313274368375, 16.26705218550621, 16.00523110992092, 15.50400083410351, 31.06502602170665, 13.750115149777802, 21.77054050275557, 10.97126597757314, 14.876519691897098, 20.00835504628213, 11.268756460278697, 13.86299018307125, 14.630177411179975, 12.937450400463497, 52.24166116718202, 43.99250019567074, 41.424542598860896, 51.58929783109311, 31.58265971066975, 33.89028278148191, 35.382763001468284, 66.25618445580646, 72.22106196332912, 33.67344267284205, 65.11580946075658, 28.3998278461142, 26.611015251163806, 28.51148250780903, 27.62095057884016, 31.340313212980238, 27.60108529524125, 28.43642342810842, 27.96201642191774, 25.095284150350217, 61.292490412693475, 99.13284208442121, 67.71734365070998, 115.17736135649092, 26.629933350556527, 26.85015435589567, 37.71941192974974, 46.513440648378676, 21.715346305044207, 33.084298960234676, 35.04869120350187, 24.379275356717944, 20.854767816482035, 27.18128855503175, 14.844990982246165, 46.26079432513122, 12.961983961110016, 35.02062821405253, 25.3494140932546, 21.049546633084514, 14.553615521194388, 29.257025119485846, 67.52282010690419, 20.4505447611073, 12.361232052293278, 14.509466091007035, 27.240015480092243, 15.51292927296923, 18.45217712678301, 15.308148017283155, 39.46966149660339, 49.31975377513449, 21.093740026920184, 114.12933605332006, 28.739096469554834, 61.426026449005874, 67.58208877756654, 29.40265541363248, 31.349172888402634, 30.394713574311492, 28.22690578482051, 26.823926494218085, 27.913232244977955, 25.365544497640933], \"Total\": [447.0, 327.0, 212.0, 1115.0, 126.0, 104.0, 111.0, 183.0, 285.0, 123.0, 271.0, 365.0, 453.0, 220.0, 331.0, 247.0, 174.0, 1239.0, 171.0, 249.0, 414.0, 281.0, 182.0, 135.0, 147.0, 145.0, 159.0, 147.0, 121.0, 424.0, 142.672876315501, 105.5951366066525, 176.4598857853804, 139.74491109063706, 162.7533291672986, 83.10271099245466, 86.96835324048875, 169.45184229864978, 72.50321146679924, 92.2895332227537, 136.24130975888392, 288.610885052597, 251.74888302156728, 222.247420615779, 96.74833570563716, 187.3340959503774, 159.65879153392274, 86.81846486831283, 248.3892191918842, 252.46290817852974, 182.41996099343575, 88.65082039805854, 105.57672688312343, 89.83766783404802, 180.19472745593578, 195.4539179460802, 88.34243639726932, 126.09619736786836, 84.38346673201411, 161.71806465107224, 258.22827401008635, 468.5694592643187, 168.43639828974028, 354.28561160731925, 366.0106073218141, 371.116055474179, 328.13675189657647, 940.1172502943465, 351.6616297951254, 1239.3873899777109, 277.21873458688486, 300.17664539791116, 382.1953379413712, 453.86111131197686, 424.37039988560537, 1115.8602485575964, 354.9397083853662, 394.89206408896314, 110.11208870056942, 96.11772569446202, 251.74888302156728, 179.05839315450982, 93.37526082891007, 309.2583048777308, 266.14079958589565, 96.36697836646589, 226.95436877430419, 104.63229104520369, 453.86111131197686, 180.46477893027358, 105.5951366066525, 147.83308567698845, 112.71401113136386, 97.52490009504672, 83.10271099245466, 207.54994927092997, 125.0702397711582, 170.21235684884266, 120.61181810566717, 99.16158225408336, 168.43639828974028, 86.36733401385334, 187.33927777528646, 248.3892191918842, 144.3948876036267, 187.3340959503774, 248.52444014973776, 145.87455413662246, 1239.3873899777109, 382.1953379413712, 354.28561160731925, 377.9468568440621, 940.1172502943465, 222.247420615779, 300.17664539791116, 361.1545221574728, 424.37039988560537, 281.0001894250437, 414.4825139897128, 1115.8602485575964, 244.82909022296033, 394.89206408896314, 468.5694592643187, 354.9397083853662, 87.31823396264113, 182.41996099343575, 143.19938623720955, 220.10215180270797, 75.34063355262093, 120.82879568939788, 191.52628528903182, 78.85470891987545, 85.82776469709994, 135.18950842577493, 93.13059847383695, 246.3454335777902, 371.116055474179, 120.79922668629295, 97.9610884503964, 206.90204894558522, 76.70223865236255, 207.48196003563, 84.38346673201411, 141.4028075701902, 86.96835324048875, 105.35942169998584, 105.71554669521743, 147.2539733274678, 130.2270033898363, 1115.8602485575964, 205.1905259313524, 139.74491109063706, 162.7533291672986, 453.86111131197686, 940.1172502943465, 285.16569240887617, 394.89206408896314, 233.07751801997054, 424.37039988560537, 288.610885052597, 351.6616297951254, 377.9468568440621, 303.6312749100993, 176.42444405027896, 252.4596876191689, 1239.3873899777109, 258.9070034683024, 245.51188441226319, 327.754627272763, 238.86841781662397, 309.2583048777308, 145.39439950228655, 118.18992204533468, 238.86841781662397, 220.10215180270797, 105.74121519798548, 203.89856378258614, 89.83766783404802, 424.37039988560537, 354.9397083853662, 285.16569240887617, 91.77062926805903, 75.34063355262093, 142.1851730329125, 328.13675189657647, 98.06115335927332, 167.1064016624819, 130.91169597631983, 102.31222455016706, 79.33359663072741, 213.39790612570746, 140.41276907155543, 309.2583048777308, 468.5694592643187, 146.0484140654508, 207.48196003563, 74.84596547459425, 127.91590251078355, 1239.3873899777109, 159.03938541290486, 78.31879401731425, 288.610885052597, 447.96551307971976, 247.61458900585424, 940.1172502943465, 365.00118294595705, 270.3134021854951, 303.6312749100993, 1115.8602485575964, 331.30786178094667, 226.95436877430419, 233.07751801997054, 241.21249863119215, 222.247420615779, 366.0106073218141, 362.62749108799545, 382.1953379413712, 85.81170549151773, 100.182424776556, 114.9061538081253, 123.26677688073414, 86.69022836071017, 76.81580614124927, 126.12685366976169, 207.54994927092997, 183.0526912951166, 72.50321146679924, 176.42444405027896, 129.7840028636539, 92.2310030152009, 362.62749108799545, 125.0702397711582, 252.46290817852974, 245.51188441226319, 141.4028075701902, 171.34720495024447, 169.45184229864978, 327.754627272763, 365.00118294595705, 220.10215180270797, 147.83308567698845, 382.1953379413712, 195.4539179460802, 328.13675189657647, 135.80778165996136, 109.0845775467088, 179.05839315450982, 1239.3873899777109, 1115.8602485575964, 377.9468568440621, 203.26426271392663, 940.1172502943465, 248.52444014973776, 468.5694592643187, 277.21873458688486, 281.0001894250437, 394.89206408896314, 244.82909022296033, 303.6312749100993, 447.96551307971976, 371.116055474179, 354.28561160731925, 447.96551307971976, 67.6196696001102, 141.9829176737722, 123.73460898260201, 249.12197272917416, 122.83092280666435, 174.64867564638038, 135.18950842577493, 93.37526082891007, 146.2535549726684, 78.7145523550901, 79.53694096021138, 175.32159395923264, 80.43639560383079, 147.2539733274678, 86.36733401385334, 105.35942169998584, 75.36961133978113, 203.26426271392663, 130.91169597631983, 96.92597702716455, 97.9610884503964, 139.32618887064532, 101.01156018755232, 127.91590251078355, 73.8059233748088, 165.81358991034858, 241.21249863119215, 187.33927777528646, 103.78084607858706, 1115.8602485575964, 362.62749108799545, 394.89206408896314, 351.6616297951254, 1239.3873899777109, 361.1545221574728, 940.1172502943465, 205.1905259313524, 172.65844878241023, 424.37039988560537, 271.36236104965974, 354.28561160731925, 233.07751801997054, 354.9397083853662, 414.4825139897128, 277.21873458688486, 258.9070034683024, 371.116055474179, 331.30786178094667, 86.81846486831283, 89.10293120720645, 147.33864614909876, 199.29150062992284, 159.03938541290486, 103.31561846536593, 182.8013137654945, 92.67563153847065, 109.0845775467088, 86.09891143525479, 179.0597863145019, 94.42399757369711, 135.18950842577493, 249.12197272917416, 88.65082039805854, 196.35776197083558, 205.1905259313524, 414.4825139897128, 127.91590251078355, 252.4596876191689, 183.0526912951166, 258.22827401008635, 80.12896803963972, 145.53903805624017, 67.6196696001102, 174.31800052636507, 146.12870048828393, 90.15013580095813, 141.4746845860009, 118.18992204533468, 447.96551307971976, 366.0106073218141, 361.1545221574728, 394.89206408896314, 453.86111131197686, 354.9397083853662, 1115.8602485575964, 1239.3873899777109, 940.1172502943465, 468.5694592643187, 244.82909022296033, 362.62749108799545, 246.3454335777902, 300.17664539791116, 245.51188441226319, 285.16569240887617, 104.49781123005714, 126.98588878409703, 123.73460898260201, 174.31800052636507, 247.61458900585424, 98.1247585986717, 331.30786178094667, 81.2441412131451, 159.65879153392274, 271.36236104965974, 136.24130975888392, 146.0484140654508, 281.0001894250437, 116.0145528508128, 171.34720495024447, 106.74021942587535, 122.83092280666435, 103.31561846536593, 77.58050983026793, 105.76358325843154, 142.672876315501, 95.7995995595572, 203.26426271392663, 366.0106073218141, 146.45312144700887, 156.94216732326495, 86.36733401385334, 361.1545221574728, 187.3340959503774, 130.2270033898363, 377.9468568440621, 468.5694592643187, 940.1172502943465, 258.9070034683024, 1239.3873899777109, 1115.8602485575964, 241.21249863119215, 371.116055474179, 414.4825139897128, 258.22827401008635, 99.16158225408336, 121.85296566126188, 147.33864614909876, 90.15013580095813, 171.34720495024447, 105.57672688312343, 103.79550608266193, 365.00118294595705, 285.16569240887617, 207.48196003563, 76.70223865236255, 105.5951366066525, 76.81580614124927, 174.31800052636507, 115.44297208653738, 172.65844878241023, 85.82776469709994, 96.92597702716455, 98.1247585986717, 95.7995995595572, 199.29150062992284, 92.2895332227537, 146.2535549726684, 75.61314781526208, 103.95769838575674, 140.41276907155543, 81.2441412131451, 100.182424776556, 106.74021942587535, 94.44431433878314, 382.1953379413712, 362.62749108799545, 351.6616297951254, 453.86111131197686, 270.3134021854951, 331.30786178094667, 361.1545221574728, 940.1172502943465, 1115.8602485575964, 354.28561160731925, 1239.3873899777109, 288.610885052597, 258.9070034683024, 300.17664539791116, 281.0001894250437, 394.89206408896314, 303.6312749100993, 424.37039988560537, 468.5694592643187, 258.22827401008635, 111.2734177358021, 212.3137497582819, 183.66118519297942, 327.754627272763, 90.68497626198416, 92.2310030152009, 132.75780623165394, 174.34188940849725, 86.09891143525479, 135.80778165996136, 147.2539733274678, 115.15664473277525, 105.76358325843154, 141.9829176737722, 78.7145523550901, 248.52444014973776, 70.82039730162685, 196.35776197083558, 146.2535549726684, 125.0702397711582, 87.31823396264113, 176.42444405027896, 414.4825139897128, 126.12685366976169, 78.31879401731425, 94.42399757369711, 179.05839315450982, 102.31222455016706, 123.26677688073414, 103.78084607858706, 271.36236104965974, 365.00118294595705, 144.3948876036267, 1115.8602485575964, 233.07751801997054, 940.1172502943465, 1239.3873899777109, 300.17664539791116, 362.62749108799545, 351.6616297951254, 303.6312749100993, 270.3134021854951, 366.0106073218141, 377.9468568440621], \"Category\": [\"Default\", \"Default\", \"Default\", \"Default\", \"Default\", \"Default\", \"Default\", \"Default\", \"Default\", \"Default\", \"Default\", \"Default\", \"Default\", \"Default\", \"Default\", \"Default\", \"Default\", \"Default\", \"Default\", \"Default\", \"Default\", \"Default\", \"Default\", \"Default\", \"Default\", \"Default\", \"Default\", \"Default\", \"Default\", \"Default\", \"Topic1\", \"Topic1\", \"Topic1\", \"Topic1\", \"Topic1\", \"Topic1\", \"Topic1\", \"Topic1\", \"Topic1\", \"Topic1\", \"Topic1\", \"Topic1\", \"Topic1\", \"Topic1\", \"Topic1\", \"Topic1\", \"Topic1\", \"Topic1\", \"Topic1\", \"Topic1\", \"Topic1\", \"Topic1\", \"Topic1\", \"Topic1\", \"Topic1\", \"Topic1\", \"Topic1\", \"Topic1\", \"Topic1\", \"Topic1\", \"Topic1\", \"Topic1\", \"Topic1\", \"Topic1\", \"Topic1\", \"Topic1\", \"Topic1\", \"Topic1\", \"Topic1\", \"Topic1\", \"Topic1\", \"Topic1\", \"Topic1\", \"Topic1\", \"Topic1\", \"Topic1\", \"Topic1\", \"Topic1\", \"Topic2\", \"Topic2\", \"Topic2\", \"Topic2\", \"Topic2\", \"Topic2\", \"Topic2\", \"Topic2\", \"Topic2\", \"Topic2\", \"Topic2\", \"Topic2\", \"Topic2\", \"Topic2\", \"Topic2\", \"Topic2\", \"Topic2\", \"Topic2\", \"Topic2\", \"Topic2\", \"Topic2\", \"Topic2\", \"Topic2\", \"Topic2\", \"Topic2\", \"Topic2\", \"Topic2\", \"Topic2\", \"Topic2\", \"Topic2\", \"Topic2\", \"Topic2\", \"Topic2\", \"Topic2\", \"Topic2\", \"Topic2\", \"Topic2\", \"Topic2\", \"Topic2\", \"Topic2\", \"Topic2\", \"Topic2\", \"Topic2\", \"Topic2\", \"Topic2\", \"Topic2\", \"Topic3\", \"Topic3\", \"Topic3\", \"Topic3\", \"Topic3\", \"Topic3\", \"Topic3\", \"Topic3\", \"Topic3\", \"Topic3\", \"Topic3\", \"Topic3\", \"Topic3\", \"Topic3\", \"Topic3\", \"Topic3\", \"Topic3\", \"Topic3\", \"Topic3\", \"Topic3\", \"Topic3\", \"Topic3\", \"Topic3\", \"Topic3\", \"Topic3\", \"Topic3\", \"Topic3\", \"Topic3\", \"Topic3\", \"Topic3\", \"Topic3\", \"Topic3\", \"Topic3\", \"Topic3\", \"Topic3\", \"Topic3\", \"Topic3\", \"Topic3\", \"Topic3\", \"Topic3\", \"Topic3\", \"Topic3\", \"Topic3\", \"Topic3\", \"Topic3\", \"Topic3\", \"Topic3\", \"Topic4\", \"Topic4\", \"Topic4\", \"Topic4\", \"Topic4\", \"Topic4\", \"Topic4\", \"Topic4\", \"Topic4\", \"Topic4\", \"Topic4\", \"Topic4\", \"Topic4\", \"Topic4\", \"Topic4\", \"Topic4\", \"Topic4\", \"Topic4\", \"Topic4\", \"Topic4\", \"Topic4\", \"Topic4\", \"Topic4\", \"Topic4\", \"Topic4\", \"Topic4\", \"Topic4\", \"Topic4\", \"Topic4\", \"Topic4\", \"Topic4\", \"Topic4\", \"Topic4\", \"Topic4\", \"Topic4\", \"Topic4\", \"Topic4\", \"Topic4\", \"Topic4\", \"Topic4\", \"Topic4\", \"Topic4\", \"Topic4\", \"Topic4\", \"Topic4\", \"Topic4\", \"Topic5\", \"Topic5\", \"Topic5\", \"Topic5\", \"Topic5\", \"Topic5\", \"Topic5\", \"Topic5\", \"Topic5\", \"Topic5\", \"Topic5\", \"Topic5\", \"Topic5\", \"Topic5\", \"Topic5\", \"Topic5\", \"Topic5\", \"Topic5\", \"Topic5\", \"Topic5\", \"Topic5\", \"Topic5\", \"Topic5\", \"Topic5\", \"Topic5\", \"Topic5\", \"Topic5\", \"Topic5\", \"Topic5\", \"Topic5\", \"Topic5\", \"Topic5\", \"Topic5\", \"Topic5\", \"Topic5\", \"Topic5\", \"Topic5\", \"Topic5\", \"Topic5\", \"Topic5\", \"Topic5\", \"Topic5\", \"Topic5\", \"Topic5\", \"Topic5\", \"Topic6\", \"Topic6\", \"Topic6\", \"Topic6\", \"Topic6\", \"Topic6\", \"Topic6\", \"Topic6\", \"Topic6\", \"Topic6\", \"Topic6\", \"Topic6\", \"Topic6\", \"Topic6\", \"Topic6\", \"Topic6\", \"Topic6\", \"Topic6\", \"Topic6\", \"Topic6\", \"Topic6\", \"Topic6\", \"Topic6\", \"Topic6\", \"Topic6\", \"Topic6\", \"Topic6\", \"Topic6\", \"Topic6\", \"Topic6\", \"Topic6\", \"Topic6\", \"Topic6\", \"Topic6\", \"Topic6\", \"Topic6\", \"Topic6\", \"Topic6\", \"Topic6\", \"Topic6\", \"Topic6\", \"Topic6\", \"Topic6\", \"Topic6\", \"Topic6\", \"Topic6\", \"Topic6\", \"Topic6\", \"Topic6\", \"Topic7\", \"Topic7\", \"Topic7\", \"Topic7\", \"Topic7\", \"Topic7\", \"Topic7\", \"Topic7\", \"Topic7\", \"Topic7\", \"Topic7\", \"Topic7\", \"Topic7\", \"Topic7\", \"Topic7\", \"Topic7\", \"Topic7\", \"Topic7\", \"Topic7\", \"Topic7\", \"Topic7\", \"Topic7\", \"Topic7\", \"Topic7\", \"Topic7\", \"Topic7\", \"Topic7\", \"Topic7\", \"Topic7\", \"Topic7\", \"Topic7\", \"Topic7\", \"Topic7\", \"Topic7\", \"Topic7\", \"Topic7\", \"Topic7\", \"Topic7\", \"Topic7\", \"Topic7\", \"Topic7\", \"Topic7\", \"Topic7\", \"Topic7\", \"Topic7\", \"Topic7\", \"Topic8\", \"Topic8\", \"Topic8\", \"Topic8\", \"Topic8\", \"Topic8\", \"Topic8\", \"Topic8\", \"Topic8\", \"Topic8\", \"Topic8\", \"Topic8\", \"Topic8\", \"Topic8\", \"Topic8\", \"Topic8\", \"Topic8\", \"Topic8\", \"Topic8\", \"Topic8\", \"Topic8\", \"Topic8\", \"Topic8\", \"Topic8\", \"Topic8\", \"Topic8\", \"Topic8\", \"Topic8\", \"Topic8\", \"Topic8\", \"Topic8\", \"Topic8\", \"Topic8\", \"Topic8\", \"Topic8\", \"Topic8\", \"Topic8\", \"Topic8\", \"Topic8\", \"Topic8\", \"Topic9\", \"Topic9\", \"Topic9\", \"Topic9\", \"Topic9\", \"Topic9\", \"Topic9\", \"Topic9\", \"Topic9\", \"Topic9\", \"Topic9\", \"Topic9\", \"Topic9\", \"Topic9\", \"Topic9\", \"Topic9\", \"Topic9\", \"Topic9\", \"Topic9\", \"Topic9\", \"Topic9\", \"Topic9\", \"Topic9\", \"Topic9\", \"Topic9\", \"Topic9\", \"Topic9\", \"Topic9\", \"Topic9\", \"Topic9\", \"Topic9\", \"Topic9\", \"Topic9\", \"Topic9\", \"Topic9\", \"Topic9\", \"Topic9\", \"Topic9\", \"Topic9\", \"Topic9\", \"Topic9\", \"Topic9\", \"Topic9\", \"Topic9\", \"Topic9\", \"Topic9\", \"Topic9\", \"Topic9\", \"Topic9\", \"Topic9\", \"Topic10\", \"Topic10\", \"Topic10\", \"Topic10\", \"Topic10\", \"Topic10\", \"Topic10\", \"Topic10\", \"Topic10\", \"Topic10\", \"Topic10\", \"Topic10\", \"Topic10\", \"Topic10\", \"Topic10\", \"Topic10\", \"Topic10\", \"Topic10\", \"Topic10\", \"Topic10\", \"Topic10\", \"Topic10\", \"Topic10\", \"Topic10\", \"Topic10\", \"Topic10\", \"Topic10\", \"Topic10\", \"Topic10\", \"Topic10\", \"Topic10\", \"Topic10\", \"Topic10\", \"Topic10\", \"Topic10\", \"Topic10\", \"Topic10\", \"Topic10\", \"Topic10\", \"Topic10\", \"Topic10\", \"Topic10\", \"Topic10\", \"Topic10\"], \"logprob\": [30.0, 29.0, 28.0, 27.0, 26.0, 25.0, 24.0, 23.0, 22.0, 21.0, 20.0, 19.0, 18.0, 17.0, 16.0, 15.0, 14.0, 13.0, 12.0, 11.0, 10.0, 9.0, 8.0, 7.0, 6.0, 5.0, 4.0, 3.0, 2.0, 1.0, -4.6248, -4.9551, -4.4968, -4.7553, -4.6801, -5.3561, -5.3216, -4.6668, -5.5201, -5.3206, -4.9453, -4.1982, -4.3647, -4.5014, -5.3766, -4.7168, -4.878, -5.4892, -4.4518, -4.4454, -4.7704, -5.4988, -5.3611, -5.5328, -4.8412, -4.7622, -5.5818, -5.2418, -5.6474, -5.0241, -4.5654, -4.0058, -4.9958, -4.3935, -4.3985, -4.3911, -4.5027, -3.8068, -4.5123, -3.7264, -4.7191, -4.6971, -4.5937, -4.5118, -4.5724, -4.2888, -4.7527, -4.7952, -4.5603, -4.7152, -4.1511, -4.5255, -5.1908, -4.0005, -4.1658, -5.2421, -4.3973, -5.2037, -3.762, -4.6951, -5.2476, -4.9506, -5.2514, -5.4193, -5.5963, -4.6824, -5.1938, -4.888, -5.2501, -5.4772, -4.9487, -5.6533, -4.8826, -4.6145, -5.1736, -4.9199, -4.6527, -5.2029, -3.0651, -4.3073, -4.4012, -4.3766, -3.6363, -4.8524, -4.6653, -4.5917, -4.5081, -4.7541, -4.6059, -4.3016, -4.8793, -4.7546, -4.8427, -4.8696, -4.7752, -4.1243, -4.5055, -4.1978, -5.3103, -4.8542, -4.4114, -5.327, -5.2773, -4.8478, -5.2396, -4.2949, -3.8958, -5.0361, -5.2559, -4.5438, -5.5776, -4.5963, -5.5292, -5.0152, -5.5055, -5.315, -5.3131, -4.9949, -5.1276, -3.0003, -4.7165, -5.1075, -4.9575, -3.9425, -3.4678, -4.5089, -4.2876, -4.708, -4.2957, -4.5895, -4.538, -4.5868, -4.7338, -4.9844, -4.8432, -4.2615, -4.8685, -4.894, -4.8388, -4.9236, -4.9225, -4.1617, -4.5082, -4.0909, -4.209, -5.0577, -4.4045, -5.2689, -3.7417, -3.976, -4.2143, -5.3619, -5.5614, -4.9439, -4.1084, -5.3519, -4.8515, -5.139, -5.3862, -5.6542, -4.6757, -5.1332, -4.3502, -3.9401, -5.1097, -4.7797, -5.8149, -5.2869, -3.0328, -5.0901, -5.828, -4.5522, -4.1591, -4.7855, -3.7884, -4.5739, -4.7884, -4.7374, -4.0564, -4.7042, -4.9105, -4.9164, -4.9386, -4.9751, -4.8513, -4.9194, -4.9298, -4.9211, -4.8025, -4.755, -4.86, -5.2208, -5.3519, -4.9113, -4.4621, -4.6228, -5.5783, -4.7074, -5.0184, -5.3979, -4.0367, -5.1039, -4.4195, -4.468, -5.0439, -4.8529, -4.8701, -4.278, -4.1814, -4.7317, -5.134, -4.1953, -4.8665, -4.3507, -5.2424, -5.4647, -4.9898, -3.0993, -3.2025, -4.3442, -4.8801, -3.8627, -4.7533, -4.3721, -4.7279, -4.7565, -4.6192, -4.8168, -4.7654, -4.6684, -4.7388, -4.7613, -3.1221, -5.3203, -4.5923, -4.7545, -4.1051, -4.8625, -4.5443, -4.8421, -5.2283, -4.8133, -5.4397, -5.4781, -4.6982, -5.4917, -4.8874, -5.4253, -5.2463, -5.621, -4.6348, -5.0837, -5.3871, -5.3892, -5.0539, -5.3765, -5.1408, -5.6922, -4.8952, -4.5777, -4.8391, -5.4319, -3.2003, -4.2785, -4.2957, -4.4248, -3.5392, -4.4777, -3.8604, -4.8718, -4.9892, -4.4451, -4.7153, -4.5953, -4.824, -4.6058, -4.5385, -4.7784, -4.8394, -4.8408, -4.8637, -4.9175, -4.9045, -4.5574, -4.2831, -4.5558, -4.9952, -4.4312, -5.1245, -5.0084, -5.2521, -4.5277, -5.1867, -4.8398, -4.2536, -5.2879, -4.5094, -4.5457, -3.8662, -5.0453, -4.3735, -4.6997, -4.3572, -5.5567, -4.9741, -5.7492, -4.8395, -5.0216, -5.5079, -5.0992, -5.3153, -4.0204, -4.2984, -4.3511, -4.293, -4.1965, -4.3928, -3.6163, -3.7523, -3.9153, -4.3643, -4.7043, -4.6132, -4.7626, -4.7237, -4.775, -4.7619, -3.9326, -3.791, -4.1621, -4.1153, -3.8066, -4.7599, -3.587, -4.9934, -4.3723, -3.8531, -4.5529, -4.4988, -3.9046, -4.8069, -4.4356, -4.9594, -4.8876, -5.087, -5.382, -5.1438, -4.8729, -5.3176, -4.5819, -3.9952, -4.9344, -4.8784, -5.4822, -4.0874, -4.7748, -5.1639, -4.1495, -4.3585, -3.978, -4.7389, -3.9812, -4.1922, -4.7983, -4.7366, -4.7223, -4.8427, -4.4325, -4.2763, -4.4264, -4.9618, -4.4058, -4.9116, -5.0073, -3.7713, -4.0227, -4.4003, -5.4258, -5.1486, -5.4992, -4.689, -5.1113, -4.7269, -5.4468, -5.3254, -5.3416, -5.3735, -4.6785, -5.4935, -5.034, -5.7193, -5.4148, -5.1184, -5.6925, -5.4853, -5.4315, -5.5544, -4.1587, -4.3305, -4.3907, -4.1712, -4.6619, -4.5914, -4.5483, -3.921, -3.8348, -4.5978, -3.9384, -4.7682, -4.8332, -4.7642, -4.796, -4.6696, -4.7967, -4.7669, -4.7837, -4.8919, -3.9058, -3.425, -3.8061, -3.275, -4.7394, -4.7312, -4.3913, -4.1817, -4.9434, -4.5224, -4.4647, -4.8277, -4.9838, -4.7189, -5.3238, -4.1871, -5.4594, -4.4655, -4.7887, -4.9745, -5.3436, -4.6453, -3.809, -5.0034, -5.5069, -5.3466, -4.7167, -5.2798, -5.1062, -5.293, -4.3459, -4.1231, -4.9725, -3.2841, -4.6632, -3.9036, -3.8081, -4.6403, -4.5762, -4.6072, -4.6812, -4.7321, -4.6923, -4.788], \"loglift\": [30.0, 29.0, 28.0, 27.0, 26.0, 25.0, 24.0, 23.0, 22.0, 21.0, 20.0, 19.0, 18.0, 17.0, 16.0, 15.0, 14.0, 13.0, 12.0, 11.0, 10.0, 9.0, 8.0, 7.0, 6.0, 5.0, 4.0, 3.0, 2.0, 1.0, 1.0498, 1.0204, 0.9652, 0.94, 0.8627, 0.8589, 0.848, 0.8357, 0.8313, 0.7896, 0.7754, 0.7719, 0.7419, 0.73, 0.6864, 0.6854, 0.6841, 0.6821, 0.6683, 0.6584, 0.6584, 0.6516, 0.6146, 0.6043, 0.5998, 0.5976, 0.5721, 0.5562, 0.5524, 0.5251, 0.5159, 0.4796, 0.5127, 0.3715, 0.334, 0.3275, 0.339, -0.0177, 0.2602, -0.2136, 0.2912, 0.2336, 0.0955, 0.0055, 0.0121, -0.6711, 0.0105, -0.1387, 1.3733, 1.3543, 0.9556, 0.9219, 0.9077, 0.9005, 0.8853, 0.8249, 0.8131, 0.781, 0.7554, 0.7444, 0.7279, 0.6885, 0.6588, 0.6357, 0.6187, 0.6173, 0.6125, 0.6101, 0.5924, 0.5611, 0.5599, 0.5232, 0.5196, 0.5056, 0.4889, 0.4823, 0.4669, 0.4495, 0.4477, 0.3819, 0.3638, 0.3237, 0.1528, 0.3789, 0.2654, 0.1541, 0.0764, 0.2427, 0.0021, -0.6839, 0.2552, -0.0981, -0.3573, -0.1064, 1.3903, 1.3045, 1.1654, 1.0433, 1.0028, 0.9865, 0.9687, 0.9405, 0.9055, 0.8807, 0.8615, 0.8335, 0.8228, 0.8048, 0.7946, 0.7591, 0.7176, 0.7037, 0.6705, 0.6683, 0.6641, 0.6628, 0.6613, 0.648, 0.6383, 0.6174, 0.5947, 0.5878, 0.5854, 0.5748, 0.3213, 0.4732, 0.3689, 0.4758, 0.2888, 0.3805, 0.2344, 0.1136, 0.1855, 0.4778, 0.2606, -0.7488, 0.2101, 0.2377, 0.0041, 0.2356, -0.0216, 1.494, 1.3546, 1.0683, 1.032, 0.9164, 0.913, 0.8682, 0.8428, 0.7871, 0.7677, 0.7539, 0.7517, 0.7341, 0.7333, 0.6976, 0.6649, 0.6216, 0.6209, 0.6073, 0.5963, 0.5573, 0.5507, 0.5453, 0.5414, 0.5204, 0.5048, 0.4968, 0.4799, 0.4759, 0.4464, 0.4179, 0.3713, 0.3377, 0.0007, 0.1613, 0.2471, 0.1819, -0.4387, 0.1278, 0.2999, 0.2673, 0.2109, 0.2562, -0.1189, -0.1777, -0.2406, 1.2618, 1.2257, 1.136, 0.9608, 0.952, 0.9418, 0.8865, 0.8376, 0.8025, 0.7732, 0.7548, 0.7509, 0.7129, 0.7051, 0.7023, 0.6843, 0.6638, 0.6396, 0.6385, 0.6324, 0.5648, 0.5538, 0.5093, 0.505, 0.4939, 0.4932, 0.491, 0.4815, 0.4783, 0.4576, 0.4134, 0.4152, 0.3561, 0.4405, -0.0736, 0.3663, 0.1133, 0.2824, 0.2402, 0.0373, 0.3178, 0.1539, -0.138, -0.0202, 0.0037, 1.4083, 1.1009, 1.0871, 1.0625, 1.0121, 0.9619, 0.928, 0.8863, 0.8702, 0.8365, 0.8295, 0.7808, 0.7703, 0.7559, 0.7556, 0.7512, 0.7315, 0.6917, 0.6858, 0.6769, 0.6741, 0.6613, 0.6444, 0.6434, 0.6429, 0.6414, 0.629, 0.5717, 0.5631, 0.561, 0.4174, 0.4632, 0.3608, 0.3477, -0.0265, 0.2681, -0.0713, 0.4394, 0.4946, 0.1394, 0.3163, 0.1697, 0.3597, 0.1574, 0.0696, 0.2319, 0.2392, -0.1222, -0.0316, 1.2538, 1.2408, 1.0849, 1.0573, 1.0101, 1.0021, 0.9955, 0.9815, 0.9346, 0.9275, 0.9197, 0.9006, 0.8886, 0.8636, 0.8625, 0.8458, 0.7654, 0.7419, 0.7384, 0.7303, 0.7256, 0.7241, 0.6947, 0.6806, 0.672, 0.6347, 0.6291, 0.6257, 0.5838, 0.5475, 0.51, 0.4341, 0.3947, 0.3635, 0.3208, 0.3704, 0.0014, -0.2396, -0.1262, 0.1211, 0.4302, 0.1285, 0.3658, 0.207, 0.3568, 0.2201, 2.0533, 2.0, 1.6549, 1.3589, 1.3166, 1.2889, 1.245, 1.2442, 1.1897, 1.1785, 1.1678, 1.1524, 1.0922, 1.0745, 1.0558, 1.0053, 0.9367, 0.9103, 0.9018, 0.8301, 0.8016, 0.7552, 0.7387, 0.7372, 0.714, 0.7009, 0.6943, 0.6584, 0.6274, 0.6019, 0.5508, 0.1269, -0.1889, 0.3398, -0.4685, -0.5744, 0.3511, -0.018, -0.1142, 0.2385, 1.6059, 1.556, 1.216, 1.1718, 1.0856, 1.0641, 0.9854, 0.9639, 0.9594, 0.8998, 0.8694, 0.8269, 0.7945, 0.7852, 0.775, 0.7569, 0.7359, 0.7358, 0.7072, 0.6994, 0.6619, 0.6167, 0.6158, 0.5902, 0.5764, 0.5721, 0.5451, 0.5428, 0.5332, 0.5327, 0.5305, 0.4112, 0.3818, 0.3461, 0.3736, 0.2406, 0.1975, -0.1319, -0.2171, 0.1672, -0.4256, 0.2019, 0.2454, 0.1665, 0.2008, -0.0132, 0.1226, -0.1824, -0.2983, 0.1894, 2.0173, 1.8521, 1.6159, 1.5679, 1.3883, 1.3797, 1.3553, 1.2924, 1.2362, 1.2015, 1.1783, 1.0611, 0.9901, 0.9605, 0.9455, 0.9324, 0.9156, 0.8897, 0.8611, 0.8317, 0.822, 0.8169, 0.7991, 0.7944, 0.7675, 0.7407, 0.7307, 0.7273, 0.7145, 0.6998, 0.6858, 0.6121, 0.6901, 0.3336, 0.5206, -0.1145, -0.2953, 0.2904, 0.1655, 0.1653, 0.2381, 0.3034, 0.0401, -0.0877]}, \"token.table\": {\"Topic\": [1, 2, 3, 4, 5, 6, 7, 8, 9, 10, 1, 2, 3, 4, 5, 6, 7, 8, 9, 10, 1, 2, 3, 4, 5, 6, 7, 8, 9, 10, 1, 2, 3, 4, 5, 6, 7, 8, 9, 10, 1, 2, 3, 4, 5, 6, 7, 8, 9, 10, 1, 2, 3, 4, 5, 6, 7, 8, 9, 10, 1, 2, 3, 4, 5, 6, 7, 8, 9, 10, 1, 2, 3, 4, 5, 6, 7, 8, 9, 10, 1, 2, 3, 4, 5, 6, 7, 8, 9, 10, 1, 2, 3, 4, 5, 6, 7, 8, 9, 10, 1, 2, 3, 4, 5, 6, 7, 8, 9, 10, 1, 2, 3, 4, 5, 6, 7, 8, 9, 1, 2, 3, 4, 5, 6, 7, 8, 9, 10, 1, 2, 3, 4, 5, 6, 7, 8, 9, 10, 1, 2, 3, 4, 5, 6, 7, 8, 9, 10, 1, 2, 3, 4, 5, 6, 7, 8, 9, 10, 1, 2, 3, 4, 5, 6, 7, 8, 9, 10, 1, 2, 3, 4, 5, 6, 7, 8, 9, 10, 1, 2, 3, 4, 5, 6, 7, 8, 9, 10, 1, 2, 3, 4, 5, 6, 7, 8, 9, 10, 1, 2, 3, 4, 5, 6, 7, 8, 9, 10, 1, 2, 3, 4, 5, 6, 7, 8, 9, 10, 1, 2, 3, 4, 5, 6, 7, 8, 9, 10, 1, 2, 3, 4, 5, 6, 7, 8, 9, 10, 1, 2, 3, 4, 5, 6, 7, 8, 9, 10, 1, 2, 3, 4, 5, 6, 7, 8, 9, 10, 1, 2, 3, 4, 5, 6, 7, 8, 9, 10, 1, 2, 3, 4, 5, 6, 7, 8, 9, 10, 1, 2, 3, 4, 5, 6, 7, 8, 9, 10, 1, 2, 3, 4, 5, 6, 7, 8, 9, 10, 1, 2, 3, 4, 5, 6, 7, 8, 9, 10, 1, 2, 3, 4, 5, 6, 7, 8, 9, 10, 1, 2, 3, 4, 5, 6, 7, 9, 10, 1, 2, 3, 4, 5, 6, 7, 8, 9, 10, 1, 2, 3, 4, 5, 6, 7, 8, 9, 10, 1, 2, 3, 4, 5, 6, 7, 8, 9, 10, 1, 2, 3, 4, 5, 6, 7, 8, 9, 10, 1, 2, 3, 4, 5, 6, 7, 8, 9, 10, 1, 2, 3, 4, 5, 6, 7, 8, 9, 10, 1, 2, 3, 4, 5, 6, 7, 8, 9, 10, 1, 2, 3, 4, 5, 6, 7, 8, 9, 10, 1, 2, 3, 4, 5, 6, 7, 8, 9, 10, 1, 2, 3, 4, 5, 6, 7, 8, 9, 10, 1, 2, 3, 4, 5, 6, 7, 8, 9, 10, 1, 2, 3, 4, 5, 6, 7, 8, 9, 10, 1, 2, 3, 4, 5, 6, 7, 8, 9, 10, 1, 2, 3, 4, 5, 6, 7, 8, 9, 10, 1, 2, 3, 4, 5, 6, 7, 8, 9, 10, 1, 2, 3, 4, 5, 6, 7, 8, 9, 10, 1, 2, 3, 4, 5, 6, 7, 8, 9, 10, 1, 2, 3, 4, 5, 6, 7, 8, 9, 10, 1, 2, 3, 4, 5, 6, 7, 8, 9, 10, 1, 2, 3, 4, 5, 6, 7, 8, 9, 1, 2, 3, 4, 5, 6, 7, 8, 9, 10, 1, 2, 3, 4, 5, 6, 7, 8, 9, 10, 1, 2, 3, 4, 5, 6, 7, 8, 9, 10, 1, 2, 3, 4, 5, 6, 7, 8, 9, 10, 1, 2, 3, 4, 5, 6, 7, 8, 9, 10, 1, 2, 3, 4, 5, 6, 7, 8, 9, 10, 1, 2, 3, 4, 5, 6, 7, 8, 9, 10, 1, 2, 3, 4, 5, 6, 7, 8, 9, 10, 1, 2, 3, 4, 5, 6, 7, 8, 9, 10, 1, 2, 3, 4, 5, 6, 7, 8, 9, 10, 1, 2, 3, 4, 5, 6, 7, 8, 9, 10, 1, 2, 3, 4, 5, 6, 7, 8, 9, 10, 1, 2, 3, 4, 5, 6, 7, 8, 9, 10, 1, 2, 3, 4, 5, 6, 7, 8, 9, 10, 1, 2, 3, 4, 5, 6, 7, 8, 9, 10, 1, 2, 3, 4, 5, 6, 7, 8, 9, 10, 1, 2, 3, 4, 5, 6, 7, 8, 9, 10, 1, 2, 3, 4, 5, 6, 7, 8, 9, 10, 1, 2, 3, 4, 5, 6, 7, 8, 9, 10, 1, 2, 3, 4, 5, 6, 7, 8, 9, 10, 1, 2, 3, 4, 5, 6, 7, 8, 9, 10, 1, 2, 3, 4, 5, 6, 7, 8, 9, 10, 1, 2, 3, 4, 5, 6, 7, 8, 9, 10, 1, 2, 3, 4, 5, 6, 7, 8, 9, 1, 2, 3, 4, 5, 6, 7, 8, 9, 10, 1, 2, 3, 4, 5, 6, 7, 8, 9, 10, 1, 2, 3, 4, 5, 6, 7, 8, 9, 10, 1, 2, 3, 4, 5, 6, 7, 8, 9, 10, 1, 2, 3, 4, 5, 6, 7, 8, 9, 10, 1, 2, 3, 4, 5, 6, 7, 8, 9, 10, 1, 2, 3, 4, 5, 6, 7, 8, 9, 10, 1, 2, 3, 4, 5, 6, 7, 8, 9, 10, 1, 2, 3, 4, 5, 6, 7, 8, 9, 10, 1, 2, 3, 4, 5, 6, 7, 8, 9, 10, 1, 2, 3, 4, 5, 6, 7, 8, 9, 10, 1, 2, 3, 4, 5, 6, 7, 8, 9, 10, 1, 2, 3, 4, 5, 6, 7, 8, 9, 10, 1, 2, 3, 4, 5, 6, 7, 8, 9, 10, 1, 2, 3, 4, 5, 6, 7, 8, 9, 10, 1, 2, 3, 4, 5, 6, 7, 8, 9, 10, 1, 2, 3, 4, 5, 6, 7, 8, 9, 10, 1, 2, 3, 4, 5, 6, 7, 8, 9, 10, 1, 2, 3, 4, 5, 6, 7, 9, 10, 1, 2, 3, 4, 5, 6, 7, 8, 9, 10, 1, 2, 3, 4, 5, 6, 7, 8, 9, 10, 1, 2, 3, 4, 5, 6, 7, 8, 9, 10, 1, 2, 3, 4, 5, 6, 7, 8, 9, 10, 1, 2, 3, 4, 5, 6, 7, 8, 9, 10, 1, 2, 3, 4, 5, 6, 7, 8, 9, 10, 1, 2, 3, 4, 5, 6, 7, 8, 9, 10, 1, 2, 3, 4, 5, 6, 7, 8, 9, 10, 1, 2, 3, 4, 5, 6, 7, 8, 9, 10, 1, 2, 3, 4, 5, 6, 7, 8, 9, 10, 1, 2, 3, 4, 5, 6, 7, 8, 9, 10, 1, 2, 3, 4, 5, 6, 7, 8, 9, 10, 1, 2, 3, 4, 5, 6, 7, 8, 9, 10, 1, 2, 3, 4, 5, 6, 7, 8, 9, 1, 2, 3, 4, 5, 6, 7, 8, 9, 10, 1, 2, 3, 4, 5, 6, 7, 8, 9, 10, 1, 2, 3, 4, 5, 6, 7, 8, 9, 10, 1, 2, 3, 4, 5, 6, 7, 8, 9, 10, 1, 2, 3, 4, 5, 6, 7, 8, 9, 10, 1, 2, 3, 4, 5, 6, 7, 8, 9, 10, 1, 2, 3, 4, 5, 6, 7, 8, 9, 10, 1, 2, 3, 4, 5, 6, 7, 8, 9, 10, 1, 2, 3, 4, 5, 6, 7, 8, 9, 10, 1, 2, 3, 4, 5, 6, 7, 8, 9, 10, 1, 2, 3, 4, 5, 6, 7, 8, 9, 10, 1, 2, 3, 4, 5, 6, 7, 8, 9, 10, 1, 2, 3, 4, 5, 6, 7, 8, 9, 10, 1, 2, 3, 4, 5, 6, 7, 8, 9, 10, 1, 2, 3, 4, 5, 6, 7, 8, 9, 10, 1, 2, 3, 4, 5, 6, 7, 8, 9, 10, 1, 2, 3, 4, 5, 6, 7, 8, 9, 10, 1, 2, 3, 4, 5, 6, 7, 8, 9, 10, 1, 2, 3, 4, 5, 6, 7, 8, 9, 10, 1, 2, 3, 4, 5, 6, 7, 8, 9, 10, 1, 2, 3, 4, 5, 6, 7, 8, 9, 10, 1, 2, 3, 4, 5, 6, 7, 8, 9, 10, 1, 2, 3, 4, 5, 6, 7, 8, 9, 1, 2, 3, 4, 5, 6, 7, 8, 9, 10, 1, 2, 3, 4, 5, 6, 7, 8, 9, 10, 1, 2, 3, 4, 5, 6, 7, 8, 9, 10, 1, 2, 3, 4, 5, 6, 7, 8, 9, 10, 1, 2, 3, 4, 5, 6, 7, 8, 9, 10, 1, 2, 3, 4, 5, 6, 7, 8, 9, 10, 1, 2, 3, 4, 5, 6, 7, 8, 9, 10, 1, 2, 3, 4, 5, 6, 7, 8, 9, 10, 1, 2, 3, 4, 5, 6, 7, 8, 9, 1, 2, 3, 4, 5, 6, 7, 8, 9, 10, 1, 2, 3, 4, 5, 6, 7, 8, 9, 10, 1, 2, 3, 4, 5, 6, 7, 8, 9, 10, 1, 2, 3, 4, 5, 6, 7, 8, 9, 1, 2, 3, 4, 5, 6, 7, 8, 9, 10, 1, 2, 3, 4, 5, 6, 7, 8, 9, 1, 2, 3, 4, 5, 6, 7, 8, 9, 10, 1, 2, 3, 4, 5, 6, 7, 8, 9, 10, 1, 2, 3, 4, 5, 6, 7, 8, 9, 10, 1, 2, 3, 4, 5, 6, 7, 8, 9, 10, 1, 2, 3, 4, 5, 6, 7, 8, 9, 10, 1, 2, 3, 4, 5, 6, 7, 8, 9, 10, 1, 2, 3, 4, 5, 6, 7, 8, 9, 10, 1, 2, 3, 4, 5, 6, 7, 8, 9, 10, 1, 2, 3, 4, 5, 6, 7, 8, 9, 10, 1, 2, 3, 4, 5, 6, 7, 8, 9, 1, 2, 3, 4, 5, 6, 7, 8, 9, 1, 2, 3, 4, 5, 6, 7, 8, 9, 1, 2, 3, 4, 5, 6, 7, 8, 9, 10, 1, 2, 3, 4, 5, 6, 7, 8, 9, 10, 1, 2, 3, 4, 5, 6, 7, 8, 9, 10, 1, 2, 3, 4, 5, 6, 7, 8, 9, 10, 1, 2, 3, 4, 5, 6, 7, 8, 9, 10, 1, 2, 3, 4, 5, 6, 7, 8, 9, 10, 1, 2, 3, 4, 5, 6, 7, 8, 9, 10, 1, 2, 3, 4, 5, 6, 7, 8, 9, 10, 1, 2, 3, 4, 5, 6, 7, 8, 9, 10, 1, 2, 3, 4, 5, 6, 7, 8, 9, 10, 1, 2, 3, 4, 5, 6, 7, 8, 9, 10, 1, 2, 3, 4, 5, 6, 7, 8, 9, 10, 1, 2, 3, 4, 5, 6, 7, 8, 9, 10, 1, 2, 3, 4, 5, 6, 7, 8, 9, 10, 1, 2, 3, 4, 5, 6, 7, 8, 9, 10, 1, 2, 3, 4, 5, 6, 7, 8, 9, 10, 1, 2, 3, 4, 5, 6, 7, 8, 9, 1, 2, 3, 4, 5, 6, 7, 8, 9, 10, 1, 2, 3, 4, 5, 6, 7, 8, 9, 10, 1, 2, 3, 4, 5, 6, 7, 8, 9, 10, 1, 2, 3, 4, 5, 6, 7, 8, 9, 10, 1, 2, 3, 4, 5, 6, 7, 8, 9, 10, 1, 2, 3, 4, 5, 6, 7, 8, 9, 10, 1, 2, 3, 4, 5, 6, 7, 8, 9, 10, 1, 2, 3, 4, 5, 6, 7, 8, 9, 10, 1, 2, 3, 4, 5, 6, 7, 8, 9, 10, 1, 2, 3, 4, 5, 6, 7, 8, 9, 10, 1, 2, 3, 4, 5, 6, 7, 8, 9, 1, 2, 3, 4, 5, 6, 7, 8, 9, 1, 2, 3, 4, 5, 6, 7, 8, 9, 10, 1, 2, 3, 4, 5, 6, 7, 8, 9, 10, 1, 2, 3, 4, 5, 6, 7, 8, 9, 10, 1, 2, 3, 4, 5, 6, 7, 8, 9, 10, 1, 2, 3, 4, 5, 6, 8, 9, 1, 2, 3, 4, 5, 6, 7, 8, 9, 10, 1, 2, 3, 4, 5, 6, 7, 8, 9, 10, 1, 2, 3, 4, 5, 6, 7, 8, 9, 1, 2, 3, 4, 5, 6, 7, 8, 9, 10, 1, 2, 3, 4, 5, 6, 7, 8, 9, 10, 1, 2, 3, 4, 5, 6, 7, 8, 9, 10, 1, 2, 3, 4, 5, 6, 7, 8, 9, 10, 1, 2, 3, 4, 5, 6, 7, 8, 9, 10, 1, 2, 3, 4, 5, 6, 7, 8, 9, 10, 1, 2, 3, 4, 5, 6, 7, 8, 9, 10, 1, 2, 3, 4, 5, 6, 7, 8, 9, 10, 1, 2, 3, 4, 5, 6, 7, 8, 9, 10, 1, 2, 3, 4, 5, 6, 7, 8, 9, 10], \"Freq\": [0.07327145147452799, 0.14654290294905598, 0.008141272386058666, 0.11397781340482131, 0.03256508954423466, 0.2605207163538773, 0.048847634316351994, 0.2116730820375253, 0.07327145147452799, 0.03256508954423466, 0.08431685870994444, 0.03747415942664198, 0.10305393842326543, 0.12179101813658642, 0.07494831885328396, 0.08431685870994444, 0.06557977899662346, 0.22484495655985187, 0.1405280978499074, 0.07494831885328396, 0.19548006201539816, 0.1368360434107787, 0.019548006201539816, 0.18570605891462827, 0.10751403410846899, 0.07819202480615926, 0.07819202480615926, 0.029322009302309725, 0.019548006201539816, 0.15638404961231853, 0.11781357301057437, 0.08099683144476988, 0.05890678650528718, 0.05890678650528718, 0.16199366288953976, 0.13254026963689616, 0.08099683144476988, 0.03681674156580449, 0.022090044939482693, 0.2429904943343096, 0.15141524807540738, 0.12008795537015068, 0.27150320344555806, 0.046990939057885046, 0.09398187811577009, 0.05221215450876117, 0.09920309356664621, 0.0626545854105134, 0.06787580086138952, 0.04176972360700893, 0.09193593976942077, 0.11315192587005633, 0.19801587027259857, 0.035359976834392605, 0.19094387490572004, 0.10607993050317781, 0.09900793513629928, 0.07779194903566372, 0.06364795830190668, 0.028287981467514083, 0.2537745044495227, 0.19033087833714202, 0.06344362611238068, 0.07930453264047584, 0.06344362611238068, 0.05551317284833309, 0.13481770548880892, 0.06344362611238068, 0.07930453264047584, 0.023791359792142752, 0.15449562763526073, 0.13518367418085314, 0.1274588927990901, 0.04634868829057821, 0.05793586036322277, 0.12359650210820858, 0.06179825105410429, 0.11587172072644554, 0.10428454865380099, 0.07338542312674884, 0.05107330941683939, 0.10214661883367877, 0.12768327354209846, 0.15321992825051817, 0.08937829147946892, 0.06384163677104923, 0.08937829147946892, 0.10214661883367877, 0.05107330941683939, 0.15321992825051817, 0.21532962330167604, 0.23583720647326423, 0.07177654110055869, 0.07177654110055869, 0.09228412427214687, 0.06152274951476459, 0.020507583171588194, 0.05126895792897049, 0.10253791585794098, 0.07177654110055869, 0.08472422483231627, 0.05295264052019767, 0.11649580914443487, 0.042362112416158136, 0.158857921560593, 0.0635431686242372, 0.23299161828886975, 0.042362112416158136, 0.05295264052019767, 0.158857921560593, 0.3142284827685112, 0.07584825446136476, 0.1300255790766253, 0.04334185969220843, 0.06501278953831265, 0.08668371938441687, 0.05417732461526054, 0.08668371938441687, 0.1516965089227295, 0.10958868592467684, 0.057534060110455344, 0.052054625814221496, 0.1178078373690276, 0.172602180331366, 0.06027377725857226, 0.05479434296233842, 0.03013688862928613, 0.21095822040500292, 0.13424614025772913, 0.21365578215120712, 0.08546231286048285, 0.17804648512600593, 0.17804648512600593, 0.09258417226552308, 0.014243718810080474, 0.07121859405040237, 0.014243718810080474, 0.14243718810080475, 0.021365578215120713, 0.051868070151919805, 0.08848082555327497, 0.10373614030383961, 0.051868070151919805, 0.173910588156437, 0.057970196052145664, 0.05491913310203274, 0.02440850360090344, 0.04271488130158102, 0.35087223926298694, 0.1311874908309821, 0.1140760789834627, 0.10837227503428956, 0.01140760789834627, 0.09126086318677017, 0.211040746119406, 0.05133423554255821, 0.0798532552884239, 0.09696466713594329, 0.10837227503428956, 0.4135334025896401, 0.12616273299344952, 0.014018081443716614, 0.11214465154973291, 0.06308136649672476, 0.02102712216557492, 0.02102712216557492, 0.18223505876831597, 0.028036162887433227, 0.02102712216557492, 0.056787401902889036, 0.06489988788901604, 0.08112485986127005, 0.11357480380577807, 0.2595995515560642, 0.1460247477502861, 0.024337457958381013, 0.04867491591676203, 0.056787401902889036, 0.1460247477502861, 0.24341532125065257, 0.21966748503107672, 0.023747836219575862, 0.09499134487830345, 0.13061309920766723, 0.047495672439151725, 0.08311742676851551, 0.08905438582340948, 0.02968479527446983, 0.047495672439151725, 0.10599258356084662, 0.1541710306339587, 0.10599258356084662, 0.07708551531697935, 0.08672120473160178, 0.17344240946320355, 0.07708551531697935, 0.06744982590235694, 0.009635689414622419, 0.14453534121933628, 0.28200528644569095, 0.12408232603610402, 0.11280211457827638, 0.06768126874696583, 0.05640105728913819, 0.05640105728913819, 0.22560422915655276, 0.011280211457827637, 0.07896148020479346, 0.011280211457827637, 0.16701531189650784, 0.06263074196119044, 0.1043845699353174, 0.12526148392238087, 0.07306919895472218, 0.06263074196119044, 0.0521922849676587, 0.17745376889003958, 0.16701531189650784, 0.02087691398706348, 0.1866124395618055, 0.12201582586733437, 0.07895141673768695, 0.09330621978090275, 0.13637062891055018, 0.1866124395618055, 0.057419212172863235, 0.03588700760803952, 0.10048362130251066, 0.007177401521607904, 0.2154316031094492, 0.07779474556730111, 0.1077158015547246, 0.1974789695169951, 0.1316526463446634, 0.1436210687396328, 0.0418894783823929, 0.0239368447899388, 0.0538579007773623, 0.0119684223949694, 0.06444917687366443, 0.06444917687366443, 0.11600851837259599, 0.10311868299786309, 0.07733901224839732, 0.12889835374732886, 0.06444917687366443, 0.20623736599572617, 0.0902288476231302, 0.11600851837259599, 0.0688397065349831, 0.07457634874623169, 0.05162977990123732, 0.05736642211248591, 0.017209926633745775, 0.022946568844994367, 0.17783590854870632, 0.3212519638299211, 0.17783590854870632, 0.028683211056242955, 0.3334546294076411, 0.09198748397452168, 0.19547340344585856, 0.02299687099363042, 0.1149843549681521, 0.08048904847770648, 0.01149843549681521, 0.03449530649044563, 0.03449530649044563, 0.06899061298089126, 0.01655234572676859, 0.1572472844043016, 0.2731137044916817, 0.04138086431692147, 0.07448555577045865, 0.08276172863384294, 0.12414259295076442, 0.057933210043690064, 0.04138086431692147, 0.13241876581414871, 0.15584237829330905, 0.04583599361567913, 0.11917358340076575, 0.13750798084703741, 0.15584237829330905, 0.018334397446271654, 0.2383471668015315, 0.018334397446271654, 0.09167198723135826, 0.018334397446271654, 0.10443304907792894, 0.13054131134741118, 0.06962203271861929, 0.06091927862879188, 0.3045963931439594, 0.10443304907792894, 0.026108262269482235, 0.08702754089827411, 0.043513770449137054, 0.06091927862879188, 0.3796896937896064, 0.07367113461589377, 0.14734226923178753, 0.06233711390575627, 0.034002062130412514, 0.09067216568110002, 0.11900721745644378, 0.04533608284055001, 0.03966907248548126, 0.005667010355068751, 0.31183855031523927, 0.024254109468963055, 0.1524544023763392, 0.1524544023763392, 0.0762272011881696, 0.031183855031523926, 0.08315694675073047, 0.0381136005940848, 0.09701643787585222, 0.031183855031523926, 0.39774559084527, 0.25569359411481646, 0.009470133115363571, 0.066290931807545, 0.018940266230727143, 0.009470133115363571, 0.037880532461454286, 0.17993252919190786, 0.009470133115363571, 0.07810892447014318, 0.15621784894028637, 0.06509077039178598, 0.03905446223507159, 0.26036308156714394, 0.06509077039178598, 0.11716338670521477, 0.03905446223507159, 0.18225415709700077, 0.013018154078357198, 0.12564688253023015, 0.09286943491364838, 0.07101780316926053, 0.08194361904145445, 0.2239792253799755, 0.04370326348877571, 0.19666468569949067, 0.08194361904145445, 0.04370326348877571, 0.04370326348877571, 0.05072620335285765, 0.08877085586750089, 0.26631256760250266, 0.025363101676428825, 0.11413395754392971, 0.13949705922035854, 0.05072620335285765, 0.1014524067057153, 0.06340775419107206, 0.08877085586750089, 0.028365150910872133, 0.13237070425073663, 0.10400555333986448, 0.06618535212536832, 0.06618535212536832, 0.11346060364348853, 0.018910100607248088, 0.1891010060724809, 0.07564040242899235, 0.19855605637610493, 0.18235609095760819, 0.07928525693809052, 0.03171410277523621, 0.04757115416285431, 0.23785577081427156, 0.09514230832570862, 0.05549967985666336, 0.05549967985666336, 0.04757115416285431, 0.15857051387618104, 0.1153532547911964, 0.1499592312285553, 0.034605976437358923, 0.06921195287471785, 0.2537771605406321, 0.10381792931207676, 0.034605976437358923, 0.01153532547911964, 0.06921195287471785, 0.1384239057494357, 0.1448549687037208, 0.19716370740228667, 0.02414249478395347, 0.0362137421759302, 0.1448549687037208, 0.09656997913581387, 0.02816624391461238, 0.06437998609054259, 0.07645123348251932, 0.18509246001030993, 0.2652099646070372, 0.10418962895276462, 0.01894356890050266, 0.0663024911517593, 0.07577427560201064, 0.15154855120402128, 0.00947178445025133, 0.03788713780100532, 0.23679461125628323, 0.02841535335075399, 0.10149730322643133, 0.043498844239899144, 0.22232742611504006, 0.09666409831088699, 0.033832434408810445, 0.12083012288860873, 0.13049653271969744, 0.11116371305752003, 0.07733127864870959, 0.06766486881762089, 0.26082894135453116, 0.13873879859283572, 0.09989193498684172, 0.08324327915570144, 0.038846863605994, 0.14428835053654915, 0.077693727211988, 0.044396415549707434, 0.044396415549707434, 0.06659462332456115, 0.12424462725740837, 0.267603812554418, 0.028671837059401933, 0.12424462725740837, 0.12424462725740837, 0.05734367411880387, 0.09557279019800644, 0.05734367411880387, 0.038229116079202576, 0.07645823215840515, 0.17312787998298435, 0.3127471380337782, 0.027923851610158763, 0.061432473542349285, 0.1563735690168891, 0.016754310966095257, 0.016754310966095257, 0.03909339225422227, 0.044678162576254024, 0.15078879869485734, 0.05239536567675573, 0.07721422310258738, 0.0827295247527722, 0.0827295247527722, 0.20130851023174567, 0.15718609703026717, 0.10754838217860387, 0.03309180990110888, 0.1213366363040659, 0.0854871755778646, 0.11567270713983317, 0.11085301100900678, 0.20724693362553442, 0.16868936457892336, 0.038557569046611055, 0.07229544196239573, 0.0530166574390902, 0.028918176784958293, 0.19760754136388167, 0.004819696130826382, 0.007397023716149131, 0.19232261661987743, 0.25149880634907046, 0.014794047432298263, 0.007397023716149131, 0.2367047589167722, 0.2293077352006231, 0.014794047432298263, 0.03698511858074566, 0.007397023716149131, 0.15126000218868396, 0.07563000109434198, 0.06302500091195165, 0.18907500273585495, 0.07563000109434198, 0.13865500200629363, 0.06302500091195165, 0.012605000182390332, 0.1260500018239033, 0.11344500164151299, 0.12596717334716276, 0.09733827031371667, 0.13169295395385197, 0.040080464246824515, 0.040080464246824515, 0.2519343466943255, 0.05725780606689216, 0.09161248970702746, 0.0744351478869598, 0.08588670910033824, 0.20789699674976247, 0.02969957096425178, 0.17819742578551068, 0.02969957096425178, 0.06929899891658749, 0.1880972827735946, 0.10889842686892319, 0.02969957096425178, 0.07919885590467142, 0.07919885590467142, 0.1516757943502368, 0.09618465007575992, 0.088785830839163, 0.12947933664044603, 0.11098228854895376, 0.09248524045746145, 0.040693505801283045, 0.07028878274767071, 0.11838110778555067, 0.09988405969405838, 0.1395889236516833, 0.03221282853500384, 0.24696501876836277, 0.09663848560501151, 0.05368804755833973, 0.07516326658167562, 0.1610641426750192, 0.12885131414001535, 0.07516326658167562, 0.03462726473893815, 0.20083813548584126, 0.1177327001123897, 0.09003088832123919, 0.09695634126902682, 0.07617998242566393, 0.11080724716460208, 0.08310543537345155, 0.04847817063451341, 0.14543451190354023, 0.22420437323040518, 0.05095553937054663, 0.05095553937054663, 0.05095553937054663, 0.010191107874109326, 0.07133775511876528, 0.061146647244655954, 0.3057332362232798, 0.16305772598574922, 0.010191107874109326, 0.06352065597025114, 0.07622478716430137, 0.05081652477620091, 0.05081652477620091, 0.10163304955240182, 0.2286743614929041, 0.06352065597025114, 0.0889289183583516, 0.10163304955240182, 0.19056196791075342, 0.22377929623617732, 0.12432183124232073, 0.08702528186962451, 0.06216091562116036, 0.09945746499385658, 0.21134711311194523, 0.06216091562116036, 0.012432183124232072, 0.012432183124232072, 0.11188964811808866, 0.20405626389424097, 0.2395443097888916, 0.11533614915761448, 0.09759212621028916, 0.12420816063127713, 0.08872011473662651, 0.07097609178930121, 0.017744022947325303, 0.026616034420987953, 0.017744022947325303, 0.09802756681464503, 0.15929479607379818, 0.09394308486403483, 0.0857741209628144, 0.1347879043701369, 0.11028101266647566, 0.14295686827135734, 0.07352067511098377, 0.08168963901220419, 0.020422409753051048, 0.06822927099803709, 0.06335575164103445, 0.1851937355661007, 0.05848223228403179, 0.07310279035503975, 0.15107910006708214, 0.19981429363710862, 0.034114635499018546, 0.07797630971204239, 0.07797630971204239, 0.10440452142308482, 0.08542188116434213, 0.1993177227167983, 0.10440452142308482, 0.06643924090559943, 0.20880904284616963, 0.07593056103497078, 0.047456600646856736, 0.08542188116434213, 0.009491320129371348, 0.03232725292373478, 0.09698175877120432, 0.04849087938560216, 0.008081813230933694, 0.008081813230933694, 0.2828634630826793, 0.04849087938560216, 0.43641791447041944, 0.03232725292373478, 0.008081813230933694, 0.033081554670457834, 0.07719029423106828, 0.15438058846213656, 0.06616310934091567, 0.11027184890152611, 0.07719029423106828, 0.11027184890152611, 0.04410873956061045, 0.011027184890152612, 0.2977339920341205, 0.20789485549635126, 0.12993428468521953, 0.06063599951976911, 0.09528514210249432, 0.08662285645681302, 0.11260971339385693, 0.04331142822840651, 0.06063599951976911, 0.17324571291362603, 0.017324571291362605, 0.11222975343813629, 0.08978380275050904, 0.01122297534381363, 0.08978380275050904, 0.056114876719068146, 0.02244595068762726, 0.32546628497059527, 0.11222975343813629, 0.08978380275050904, 0.08978380275050904, 0.1529657717265825, 0.081581744920844, 0.0917794630359495, 0.20395436230210998, 0.10197718115105499, 0.11217489926616049, 0.040790872460422, 0.07138402680573849, 0.13257033549637148, 0.0101977181151055, 0.21150050834423176, 0.22912555070625107, 0.1292503106548083, 0.05875014120673104, 0.06462515532740415, 0.08812521181009657, 0.05287512708605794, 0.08812521181009657, 0.05287512708605794, 0.017625042362019314, 0.07385950724432125, 0.11489256682449972, 0.12309917874053541, 0.05744628341224986, 0.03282644766414278, 0.11489256682449972, 0.024619835748107083, 0.024619835748107083, 0.37750414813764194, 0.04103305958017847, 0.034187203182407366, 0.18461089718499976, 0.02051232190944442, 0.05469952509185178, 0.04102464381888884, 0.2256355410038886, 0.061536965728333254, 0.06837440636481473, 0.1504236940025924, 0.17093601591203683, 0.06633955640154365, 0.1568025878581941, 0.12061737527553393, 0.07237042516532036, 0.10855563774798054, 0.18695693167707758, 0.09046303145665044, 0.042216081346436875, 0.10252476898420383, 0.04824695011021357, 0.15882374820566955, 0.09529424892340173, 0.15882374820566955, 0.04235299952151188, 0.03176474964113391, 0.03176474964113391, 0.1058824988037797, 0.11647074868415767, 0.1376472484449136, 0.12705899856453565, 0.1454189362230523, 0.26439806586009507, 0.18287532888656577, 0.061692882034022185, 0.0572862476030206, 0.01762653772400634, 0.12999571571454674, 0.015423220508505546, 0.1145724952060412, 0.013219903293004754, 0.044646294002638566, 0.04018166460237471, 0.033484720501978926, 0.14510045550857534, 0.08706027330514521, 0.404048960723879, 0.15626202900923497, 0.02455546170145121, 0.03571703520211085, 0.033484720501978926, 0.17768012396137234, 0.02538287485162462, 0.05076574970324924, 0.38920408105824417, 0.03384383313549949, 0.08460958283874874, 0.1607582073936226, 0.008460958283874873, 0.06768766627099898, 0.008460958283874873, 0.007995507179243489, 0.2318697081980612, 0.015991014358486978, 0.11993260768865234, 0.19988767948108724, 0.12792811486789582, 0.0719595646131914, 0.03997753589621745, 0.015991014358486978, 0.1679056507641133, 0.07368593433852708, 0.07368593433852708, 0.1643763150628681, 0.10202667831488364, 0.20972150542503862, 0.10202667831488364, 0.04534519036217051, 0.022672595181085255, 0.04534519036217051, 0.1643763150628681, 0.2879571763670351, 0.034554861164044215, 0.09214629643745124, 0.02303657410936281, 0.04607314821872562, 0.06910972232808843, 0.33403032458576076, 0.04607314821872562, 0.06910972232808843, 0.17721752675607422, 0.10787153802543648, 0.04623065915375849, 0.06164087887167799, 0.20803796619191323, 0.06934598873063774, 0.11557664788439623, 0.09246131830751698, 0.03852554929479874, 0.09246131830751698, 0.009420021088021806, 0.07065015816016354, 0.09891022142422896, 0.04239009489609813, 0.09420021088021806, 0.03768008435208722, 0.023550052720054514, 0.07065015816016354, 0.08478018979219626, 0.4662910438570794, 0.21225838156727617, 0.03423522283343164, 0.027388178266745312, 0.1711761141671582, 0.08216453480023594, 0.03423522283343164, 0.020541133700058986, 0.26018769353408044, 0.0479293119668043, 0.10955271306698125, 0.08245210467423097, 0.09619412211993614, 0.1511621919027568, 0.1511621919027568, 0.0755810959513784, 0.04122605233711549, 0.18551723551701968, 0.020613026168557744, 0.12367815701134646, 0.06871008722852581, 0.28941066319933134, 0.14470533159966567, 0.062016570685571, 0.04134438045704734, 0.13436923648540383, 0.07235266579983284, 0.08268876091409467, 0.0930248560283565, 0.010336095114261834, 0.07235266579983284, 0.10784246807707258, 0.07189497871804838, 0.06290810637829233, 0.008986872339756048, 0.05392123403853629, 0.03594748935902419, 0.017973744679512096, 0.03594748935902419, 0.06290810637829233, 0.548199212725119, 0.10298673917089113, 0.14655805189703738, 0.1346749666080884, 0.07922056859299317, 0.09902571074124147, 0.07922056859299317, 0.19409039305283327, 0.07129851173369386, 0.02376617057789795, 0.06337645487439454, 0.1383305144375568, 0.11946726246879907, 0.075453007875031, 0.16348151706256717, 0.05658975590627324, 0.01886325196875775, 0.2577977769063559, 0.02515100262501033, 0.11317951181254648, 0.031438753281262916, 0.1842935748752175, 0.053752292671938436, 0.19197247382835156, 0.015357797906268124, 0.08446788848447469, 0.09982568639074281, 0.03839449476567031, 0.15357797906268125, 0.06911009057820655, 0.09982568639074281, 0.08670895628980768, 0.14451492714967945, 0.048171642383226486, 0.03853731390658119, 0.13488059867303417, 0.03853731390658119, 0.14451492714967945, 0.12524627019638887, 0.21195522648619655, 0.019268656953290594, 0.3014658159557653, 0.1799795916153823, 0.04949438769423013, 0.13048520392115218, 0.022497448951922787, 0.01799795916153823, 0.12148622434038306, 0.08549030601730659, 0.07649132643653747, 0.01799795916153823, 0.10429943298341511, 0.026074858245853778, 0.20859886596683022, 0.11733686210634199, 0.10429943298341511, 0.06518714561463444, 0.052149716491707555, 0.03911228736878067, 0.1955614368439033, 0.10429943298341511, 0.11647969814562348, 0.3005927694080606, 0.07890560196961591, 0.07514819235201516, 0.07890560196961591, 0.08642042120481742, 0.07514819235201516, 0.07890560196961591, 0.04508891541120909, 0.06763337311681364, 0.18275718214885417, 0.11246595824544871, 0.11246595824544871, 0.18275718214885417, 0.11715203983900907, 0.014058244780681088, 0.056232979122724354, 0.0890355502776469, 0.04217473434204327, 0.09372163187120726, 0.06254109022391165, 0.07817636277988955, 0.054723453945922686, 0.16417036183776806, 0.08599399905787851, 0.18762327067173493, 0.19544090694972388, 0.054723453945922686, 0.10162927161385642, 0.01563527255597791, 0.169442709406042, 0.169442709406042, 0.18356293518987882, 0.0423606773515105, 0.05648090313534733, 0.028240451567673665, 0.05648090313534733, 0.05648090313534733, 0.05648090313534733, 0.18356293518987882, 0.14234865848967668, 0.15658352433864434, 0.021352298773451503, 0.05693946339587067, 0.12455507617846709, 0.07473304570708025, 0.021352298773451503, 0.24555143589469228, 0.09964406094277367, 0.05693946339587067, 0.18768041323829088, 0.054029209871629194, 0.1308075607418391, 0.08246563611985508, 0.06540378037091955, 0.13933848861630688, 0.06540378037091955, 0.07109106562056472, 0.11658934761772616, 0.08530927874467767, 0.33101981987363566, 0.06896246247367409, 0.013792492494734819, 0.12413243245261336, 0.2206798799157571, 0.04137747748420446, 0.09654744746314373, 0.055169969978939276, 0.04137747748420446, 0.09291638961098703, 0.06968729220824027, 0.04645819480549351, 0.08130184090961365, 0.06968729220824027, 0.011614548701373378, 0.23229097402746757, 0.11614548701373378, 0.023229097402746757, 0.2555200714302143, 0.16499265017741807, 0.15630882648386976, 0.05210294216128992, 0.060786765854838234, 0.05210294216128992, 0.02605147108064496, 0.060786765854838234, 0.11288970801612816, 0.09552206062903151, 0.20841176864515967, 0.011452361718949186, 0.03435708515684756, 0.4122850218821707, 0.0801665320326443, 0.09161889375159349, 0.022904723437898372, 0.10307125547054267, 0.03435708515684756, 0.03435708515684756, 0.1717854257842378, 0.1387856316558827, 0.20817844748382405, 0.026689544549208213, 0.074730724737783, 0.12277190492635778, 0.17081308511493257, 0.026689544549208213, 0.12277190492635778, 0.06405490691809972, 0.048041180188574784, 0.05354737385056858, 0.3105747683332978, 0.05354737385056858, 0.03212842431034115, 0.11780422247125089, 0.23560844494250177, 0.05354737385056858, 0.042837899080454864, 0.0642568486206823, 0.05354737385056858, 0.17601883893175557, 0.11315496788470002, 0.11315496788470002, 0.1005821936752889, 0.06286387104705557, 0.21373716155998893, 0.025145548418822224, 0.07543664525646668, 0.06286387104705557, 0.06286387104705557, 0.05896175113641488, 0.14003415894898533, 0.02211065667615558, 0.05527664169038895, 0.11423839282680383, 0.1363490495029594, 0.02948087556820744, 0.2690129895598929, 0.033165985014233366, 0.14371926839501126, 0.03992716296218109, 0.1497268611081791, 0.0698725351838169, 0.03992716296218109, 0.33938088517853926, 0.019963581481090543, 0.09981790740545272, 0.07985432592436217, 0.1397450703676338, 0.02994537222163582, 0.14650375478288952, 0.11269519598683808, 0.05634759799341904, 0.21975563217433425, 0.07888663719078666, 0.11551257588650904, 0.1352342351842057, 0.03380855879605142, 0.04507807839473523, 0.05634759799341904, 0.24116044230524014, 0.0927540162712462, 0.1298556227797447, 0.07420321301699696, 0.15459002711874367, 0.05565240976274772, 0.11130481952549544, 0.01855080325424924, 0.09893761735599595, 0.024734404338998987, 0.14653334070822044, 0.12929412415431216, 0.04309804138477072, 0.03447843310781658, 0.09481569104649558, 0.12929412415431216, 0.06895686621563316, 0.24134903175471603, 0.04309804138477072, 0.06895686621563316, 0.12791230319021846, 0.054116743657400115, 0.088554671439382, 0.04919703968854556, 0.15251082303449123, 0.19678815875418224, 0.03935763175083645, 0.17218963890990946, 0.044277335719691, 0.07379555953281834, 0.12661687723543558, 0.1114228519671833, 0.14940791513781396, 0.06837311370713521, 0.10382583933305717, 0.14181090250368783, 0.1342138898695617, 0.048114413349465514, 0.07850246388597006, 0.03798506317063067, 0.12484689908441518, 0.4785797798235915, 0.031211724771103795, 0.07282735779924218, 0.07282735779924218, 0.031211724771103795, 0.10403908257034598, 0.031211724771103795, 0.05201954128517299, 0.21912047438533389, 0.10602603599290349, 0.06361562159574209, 0.08482082879432279, 0.05654721919621519, 0.05654721919621519, 0.16964165758864558, 0.09895763359337659, 0.11309443839243039, 0.042410414397161394, 0.20105016732662317, 0.06701672244220773, 0.05584726870183977, 0.07260144931239171, 0.11727926427386352, 0.13403344488441546, 0.23455852854772705, 0.07260144931239171, 0.03909308809128784, 0.011169453740367954, 0.0651699612762241, 0.09368181933457215, 0.1303399225524482, 0.07331620643575212, 0.1914367612489083, 0.0651699612762241, 0.13441304513221222, 0.09368181933457215, 0.06924308385598811, 0.07738932901551612, 0.28811441924403125, 0.15658392350219089, 0.03758014164052581, 0.1064770679814898, 0.025053427760350543, 0.018790070820262905, 0.006263356940087636, 0.26932434842376834, 0.04384349858061345, 0.050106855520701085, 0.040586313764091, 0.24351788258454599, 0.054115085018788, 0.108230170037576, 0.162345255056364, 0.0879370131555305, 0.11499455566492449, 0.081172627528182, 0.081172627528182, 0.0202931568820455, 0.20418316330844083, 0.09447280690390546, 0.0700927277028976, 0.2072306732085668, 0.16151802470667706, 0.06399770790264563, 0.07618774750314956, 0.04876015840201572, 0.04876015840201572, 0.02438007920100786, 0.09792267866580912, 0.10545519240933289, 0.08285765117876155, 0.08285765117876155, 0.03766256871761889, 0.12805273363990421, 0.10545519240933289, 0.030130054974095113, 0.04519508246114267, 0.2862355222539036, 0.08193748198355717, 0.10242185247944646, 0.12290622297533577, 0.1365624699725953, 0.08193748198355717, 0.054624987989038115, 0.12290622297533577, 0.1707030874657441, 0.040968740991778586, 0.08193748198355717, 0.11414698464622419, 0.28017896231345935, 0.051884993021010996, 0.11414698464622419, 0.041507994416808795, 0.10376998604202199, 0.10376998604202199, 0.051884993021010996, 0.020753997208404398, 0.11414698464622419, 0.08873157818550213, 0.07394298182125178, 0.07394298182125178, 0.10352017454975249, 0.05915438545700142, 0.2957719272850071, 0.17746315637100427, 0.014788596364250355, 0.08873157818550213, 0.02957719272850071, 0.24886391627748616, 0.05925331339940147, 0.201461265557965, 0.10665596411892264, 0.05925331339940147, 0.09480530143904235, 0.023701325359760588, 0.047402650719521176, 0.09480530143904235, 0.05925331339940147, 0.20217993282073282, 0.10108996641036641, 0.054643225086684545, 0.0901613213930295, 0.057375386341018776, 0.05191106383235032, 0.14480454647971405, 0.17212615902305634, 0.04917890257801609, 0.07650051512135836, 0.1858227007106575, 0.10618440040609001, 0.27873405106598625, 0.21236880081218001, 0.026546100101522502, 0.03981915015228375, 0.09291135035532876, 0.013273050050761251, 0.03981915015228375, 0.013273050050761251, 0.08291444312999509, 0.15753744194699068, 0.029020055095498282, 0.12437166469499264, 0.10778877606899362, 0.1741203305729897, 0.041457221564997544, 0.11608022038199313, 0.08706016528649485, 0.08291444312999509, 0.0501777545374082, 0.09031995816733476, 0.1254443863435205, 0.03010665272244492, 0.07024885635237148, 0.0752666318061123, 0.27095987450200426, 0.06523108089863067, 0.15555103906596543, 0.07024885635237148, 0.2818157737591824, 0.20532292088169002, 0.12480412837906649, 0.08454473212775472, 0.07246691325236118, 0.032207517001049416, 0.07649285287749236, 0.020129698125655886, 0.09259661137801707, 0.008051879250262354, 0.279574667828348, 0.05481856231928392, 0.37824808000305904, 0.049336706087355534, 0.09319155594278267, 0.010963712463856785, 0.016445568695785177, 0.049336706087355534, 0.049336706087355534, 0.016445568695785177, 0.19939854099130633, 0.09700469561739228, 0.23442801440869798, 0.06736437195652241, 0.09700469561739228, 0.0862263961043487, 0.04041862317391345, 0.0808372463478269, 0.04850234780869614, 0.04311319805217435, 0.23262292888473, 0.08750036774563238, 0.06402465932607247, 0.1728665801803957, 0.1109760761651923, 0.04054895090651257, 0.10670776554345413, 0.09390283367823964, 0.059756348704334314, 0.032012329663036236, 0.24009764320996968, 0.07745085264837731, 0.03098034105935093, 0.04647051158902639, 0.1123037363401471, 0.05421559685386412, 0.1936271316209433, 0.10455865107530937, 0.09681356581047165, 0.038725426324188655, 0.2088710282765297, 0.17782263218136987, 0.05927421072712329, 0.07903228096949773, 0.09879035121187216, 0.11572583999105024, 0.08467744389589042, 0.04233872194794521, 0.09596776974867581, 0.03387097755835617, 0.11221546227979547, 0.12273566186852629, 0.1648164602234496, 0.2139107249708601, 0.024547132373705257, 0.010520199588730825, 0.11572219547603907, 0.014026932784974433, 0.2104039917746165, 0.010520199588730825, 0.26714851997642935, 0.08904950665880977, 0.07791831832645855, 0.23375495497937565, 0.07791831832645855, 0.05565594166175611, 0.08904950665880977, 0.03339356499705367, 0.06678712999410734, 0.1832254468934202, 0.1632372163232289, 0.08661566580416227, 0.06995880699566953, 0.06662743523397098, 0.06662743523397098, 0.11659801165944922, 0.059964691710573885, 0.09660978108925793, 0.09660978108925793, 0.0810849402315855, 0.11004384745715175, 0.0347506886706795, 0.023167125780453, 0.092668503121812, 0.162169880463171, 0.1505863175729445, 0.1042520660120385, 0.1737534433533975, 0.06370959589624575, 0.1592153626201099, 0.013267946885009159, 0.11941152196508242, 0.07960768131005495, 0.053071787540036636, 0.1990192032751374, 0.10614357508007327, 0.14594741573510076, 0.053071787540036636, 0.07960768131005495, 0.18354739706314294, 0.045886849265785734, 0.045886849265785734, 0.07456613005690182, 0.10898126700624113, 0.12045297932268756, 0.05735856158223217, 0.05162270542400895, 0.045886849265785734, 0.2695852394364912, 0.047536917624852064, 0.08149185878546068, 0.19693865873153, 0.013581976464243447, 0.04074592939273034, 0.21052063519577344, 0.03395494116060862, 0.06111889408909551, 0.08149185878546068, 0.23768458812426033, 0.1425968585044209, 0.08148391914538337, 0.09166940903855629, 0.050927449465864603, 0.06111293935903753, 0.09166940903855629, 0.21898803270321782, 0.025463724732932302, 0.06111293935903753, 0.17824607313052612, 0.13243085277099892, 0.15134954602399875, 0.19864627915649838, 0.11351215951799908, 0.05675607975899954, 0.0851341196384993, 0.09459346626499923, 0.047296733132499616, 0.09459346626499923, 0.02837803987949977, 0.37210657328532953, 0.08587074768122989, 0.18605328664266477, 0.15027380844215232, 0.028623582560409963, 0.03577947820051246, 0.05009126948071744, 0.021467686920307472, 0.05009126948071744, 0.021467686920307472, 0.06992053083705561, 0.1281876398679353, 0.04661368722470374, 0.011653421806175936, 0.3496026541852781, 0.15149448348028716, 0.08157395264323156, 0.1281876398679353, 0.03496026541852781, 0.24006776198419671, 0.12417298033665347, 0.2317895632950865, 0.04139099344555116, 0.008278198689110231, 0.09933838426932277, 0.107616582958433, 0.07450378820199208, 0.04139099344555116, 0.024834596067330694, 0.11699328327247842, 0.19364405507168841, 0.048411013767922104, 0.16137004589307366, 0.15007414268055852, 0.09601517730637883, 0.07423022111081388, 0.051638414685783576, 0.052445264915248944, 0.05486581560364505, 0.3304773748125028, 0.06491519862388448, 0.029506908465402035, 0.0885207253962061, 0.18884421417857303, 0.029506908465402035, 0.12392901555468855, 0.0826193437031257, 0.05311243523772367, 0.005901381693080407, 0.16346978985157437, 0.49040936955472314, 0.027244964975262395, 0.06357158494227892, 0.09989820490929545, 0.027244964975262395, 0.009081654991754132, 0.09081654991754132, 0.03632661996701653, 0.15960424930499129, 0.1805359541318754, 0.060178651377291795, 0.07849389310081538, 0.16222071240835179, 0.049712798963849746, 0.05232926206721026, 0.05756218827393128, 0.13605608137474667, 0.06279511448065231, 0.12505086397508328, 0.08657367505967303, 0.10581226951737815, 0.12505086397508328, 0.1442894584327884, 0.0961929722885256, 0.038477188915410236, 0.1442894584327884, 0.1442894584327884, 0.07222006127457631, 0.051585758053268795, 0.13412297093849887, 0.010317151610653759, 0.14444012254915262, 0.19602588060242143, 0.051585758053268795, 0.13412297093849887, 0.16507442577046014, 0.041268606442615034, 0.194792029768376, 0.10821779431576443, 0.10821779431576443, 0.09018149526313704, 0.12986135317891734, 0.12264683355786636, 0.07575245602103511, 0.04328711772630578, 0.0577161569684077, 0.06853793639998415, 0.09232425284703326, 0.06422556719793618, 0.02809868564909708, 0.10035244874677528, 0.02809868564909708, 0.27295866059122875, 0.22478948519277664, 0.016056391799484045, 0.09232425284703326, 0.07626786104754922, 0.22482862426960945, 0.14547734511562965, 0.05290085276931987, 0.13225213192329968, 0.07935127915397981, 0.039675639576989906, 0.06612606596164984, 0.026450426384659935, 0.14547734511562965, 0.06612606596164984, 0.20529847935248896, 0.06158954380574669, 0.06843282645082965, 0.05474626116066372, 0.01368656529016593, 0.1573955008369082, 0.1779253487721571, 0.05474626116066372, 0.07527610909591262, 0.12317908761149338, 0.054211705788084444, 0.08673872926093511, 0.032527023472850664, 0.032527023472850664, 0.20600448199472088, 0.043369364630467554, 0.08673872926093511, 0.054211705788084444, 0.10842341157616889, 0.292743211255656, 0.3369324498035, 0.22863273379523216, 0.07219981067217858, 0.09626641422957144, 0.06016650889348215, 0.01203330177869643, 0.04813320711478572, 0.03609990533608929, 0.06016650889348215, 0.03609990533608929, 0.0707825117557661, 0.05444808596597392, 0.11434098052854523, 0.03266885157958435, 0.1415650235115322, 0.08711693754555827, 0.0653377031591687, 0.021779234386389568, 0.04900327736937653, 0.37024698456862265, 0.0632977391947662, 0.0632977391947662, 0.070330821327518, 0.210992463982554, 0.0562646570620144, 0.1336285605222842, 0.140661642655036, 0.1125293141240288, 0.1265954783895324, 0.0210992463982554, 0.15292257274977916, 0.12743547729148264, 0.06371773864574132, 0.13380725115605677, 0.019115321593722395, 0.12743547729148264, 0.11469192956233437, 0.16566612047892743, 0.07646128637488958, 0.34407898312443164, 0.09830828089269475, 0.18432802667380266, 0.09216401333690133, 0.049154140446347375, 0.024577070223173687, 0.09216401333690133, 0.043009872890553955, 0.07373121066952106, 0.10180628363328932, 0.04750959902886835, 0.08144502690663145, 0.05429668460442097, 0.03393542787776311, 0.061083770179973594, 0.27827050859765745, 0.06787085575552622, 0.2714834230221049, 0.11772087502828613, 0.08118681036433525, 0.239501090574789, 0.06089010777325144, 0.07306812932790173, 0.10554285347363583, 0.13395823710115318, 0.07306812932790173, 0.07306812932790173, 0.036534064663950865, 0.2609310702795395, 0.035814068469740716, 0.08697702342651317, 0.11767479640057664, 0.16372145586167186, 0.05116295495677245, 0.0562792504524497, 0.09209331892219041, 0.0562792504524497, 0.08186072793083593, 0.20268391504613384, 0.27758884017187896, 0.12777898992038872, 0.13659133405282933, 0.044061720662203006, 0.008812344132440602, 0.039655548595982706, 0.05728023686086391, 0.07490492512574512, 0.030843204463542107, 0.3018881318869212, 0.3217491931952713, 0.031777698093360125, 0.09136088201841036, 0.051638759401710206, 0.023833273570020096, 0.02780548583169011, 0.059583183925050236, 0.059583183925050236, 0.031777698093360125, 0.12948387619045973, 0.10790323015871645, 0.08632258412697316, 0.04316129206348658, 0.03237096904761493, 0.0971129071428448, 0.24817742936504783, 0.12948387619045973, 0.03237096904761493, 0.07553226111110152, 0.061248809041542666, 0.183746427124628, 0.22457896648565645, 0.11228948324282823, 0.040832539361028444, 0.1939545619648851, 0.08166507872205689, 0.020416269680514222, 0.07145694388179978, 0.010208134840257111, 0.17731991909825176, 0.26043863117555727, 0.02216498988728147, 0.09420120702094624, 0.04432997977456294, 0.06649496966184441, 0.07203621713366477, 0.07203621713366477, 0.0831187120773055, 0.11082494943640735, 0.13549048020464396, 0.05419619208185758, 0.05419619208185758, 0.09484333614325077, 0.09484333614325077, 0.18968667228650155, 0.12194143218417956, 0.08129428812278637, 0.10839238416371516, 0.08129428812278637, 0.14609878544006114, 0.13431662532392716, 0.13667305734715396, 0.23328677029945244, 0.051841504510989435, 0.11310873711488603, 0.06833652867357698, 0.04477220844130905, 0.06598009665035019, 0.004712864046453585, 0.0998390494189618, 0.1497585741284427, 0.16223845530581293, 0.07487928706422135, 0.03743964353211068, 0.02495976235474045, 0.18719821766055336, 0.13727869295107248, 0.03743964353211068, 0.08735916824159157, 0.09525148667886214, 0.17198185094794555, 0.11641848371860929, 0.06350099111924143, 0.14287723001829322, 0.06879274037917822, 0.07143861500914661, 0.14287723001829322, 0.06085511648927304, 0.06614686574920982, 0.09156031030345158, 0.04225860475543919, 0.11268961268117116, 0.04930170554801239, 0.03521550396286599, 0.2958102332880743, 0.09156031030345158, 0.06338790713315878, 0.02817240317029279, 0.19016372139947635, 0.035016620211238754, 0.11088596400225606, 0.011672206737079586, 0.035016620211238754, 0.18675530779327337, 0.058361033685397926, 0.058361033685397926, 0.2392802381101315, 0.2392802381101315, 0.02334441347415917, 0.14147171531886932, 0.14466280664185133, 0.14253541242652998, 0.09998752812010313, 0.09254164836647842, 0.09147795125881776, 0.08296837439753238, 0.06914031199794365, 0.07020400910560433, 0.06488552356730097, 0.0191391568536962, 0.0382783137073924, 0.028708735280544302, 0.0095695784268481, 0.0382783137073924, 0.12440451954902532, 0.047847892134240504, 0.6507313330256709, 0.028708735280544302, 0.028708735280544302, 0.08884775363328799, 0.02423120553635127, 0.10096335640146363, 0.14134869896204907, 0.11307895916963927, 0.04846241107270254, 0.08884775363328799, 0.31096713771650797, 0.07673215086511236, 0.012115602768175636, 0.2603505284433262, 0.14715464651144522, 0.14715464651144522, 0.05659794096594047, 0.011319588193188094, 0.07923711735231666, 0.11319588193188095, 0.05659794096594047, 0.12451547012506904, 0.04839539340004173, 0.09679078680008346, 0.07743262944006678, 0.06775355076005843, 0.05807447208005008, 0.02903723604002504, 0.251656045680217, 0.20326065228017529, 0.09679078680008346, 0.06775355076005843, 0.14513600070872845, 0.07638736879406761, 0.030554947517627044, 0.18332968510576225, 0.12985852694991493, 0.19096842198516903, 0.09166484255288113, 0.053471158155847326, 0.053471158155847326, 0.04583242127644056, 0.2288313828453729, 0.15255425523024863, 0.02179346503289266, 0.2179346503289266, 0.09807059264801697, 0.06538039509867798, 0.05448366258223165, 0.01089673251644633, 0.13076079019735595, 0.02179346503289266, 0.31561646079372113, 0.051379423850140646, 0.02935967077150894, 0.04403950615726341, 0.06605925923589512, 0.08073909462164959, 0.022019753078631705, 0.26423703694358047, 0.02935967077150894, 0.08807901231452682, 0.11651241338151608, 0.1514661373959709, 0.25632730943933535, 0.10486117204336447, 0.011651241338151607, 0.023302482676303214, 0.10486117204336447, 0.034953724014454825, 0.16311737873412252, 0.034953724014454825, 0.16759848369911334, 0.06983270154129723, 0.32821369724409694, 0.03491635077064861, 0.07681597169542695, 0.07681597169542695, 0.06983270154129723, 0.09776578215781612, 0.041899620924778336, 0.02793308061651889, 0.08291061487224304, 0.2238586601550562, 0.10778379933391595, 0.13265698379558885, 0.12436592230836455, 0.04145530743612152, 0.10778379933391595, 0.04974636892334582, 0.10778379933391595, 0.016582122974448606, 0.27726845303746295, 0.12675129281712594, 0.07921955801070371, 0.09506346961284444, 0.19804889502675926, 0.007921955801070371, 0.07525858011016852, 0.031687823204281484, 0.08714151381177408, 0.019804889502675928, 0.013360773605618602, 0.1469685096618046, 0.133607736056186, 0.1603292832674232, 0.12024696245056742, 0.09352541523933021, 0.09352541523933021, 0.066803868028093, 0.09352541523933021, 0.09352541523933021, 0.07722752564431257, 0.13300296083187166, 0.16732630556267725, 0.12871254274052096, 0.04719459900485768, 0.14158379701457305, 0.07293710755296187, 0.03003292663945489, 0.07722752564431257, 0.12442212464917025, 0.023624672227168776, 0.11024847039345428, 0.007874890742389591, 0.04724934445433755, 0.03937445371194796, 0.031499562969558366, 0.07087401668150632, 0.6142414779063882, 0.04724934445433755, 0.24617159713129014, 0.07385147913938704, 0.03692573956969352, 0.13539437842220958, 0.04923431942625803, 0.012308579856564507, 0.024617159713129014, 0.28309733670098364, 0.13539437842220958, 0.04728525192980056, 0.10402755424556125, 0.12294165501748147, 0.24588331003496294, 0.08511345347364102, 0.0661993527017208, 0.16076985656132192, 0.009457050385960113, 0.11348460463152135, 0.04728525192980056, 0.17655837948121222, 0.05885279316040408, 0.13241878461090917, 0.25012437093171735, 0.05885279316040408, 0.08827918974060611, 0.02942639658020204, 0.11770558632080816, 0.0735659914505051, 0.009808798860067346, 0.11580705670297911, 0.1230449977469153, 0.06272882238078034, 0.053078234322198756, 0.07479205745400734, 0.10615646864439751, 0.19783705520092262, 0.07479205745400734, 0.028951764175744778, 0.16405999699588705, 0.1218583296827876, 0.09880405109415212, 0.1251517980525927, 0.11856486131298254, 0.11527139294317747, 0.08233670924512676, 0.07245630413571155, 0.08233670924512676, 0.09221711435454198, 0.09221711435454198, 0.12736296802024244, 0.20841212948766946, 0.06947070982922315, 0.05789225819101929, 0.06947070982922315, 0.20841212948766946, 0.16209832293485402, 0.09262761310563086, 0.1088465366734243, 0.07535529462006298, 0.12977856295677512, 0.2930483679669116, 0.07535529462006298, 0.12977856295677512, 0.03349124205336132, 0.05442326833671215, 0.06279607885005248, 0.03767764731003149, 0.0734859048039361, 0.06273186995457959, 0.19178028814685763, 0.06452420909613901, 0.15055648789099102, 0.14966031832021132, 0.0940978049318694, 0.046600817680544845, 0.06452420909613901, 0.10216333106888677, 0.16638910043483904, 0.11092606695655936, 0.11092606695655936, 0.03327782008696781, 0.03327782008696781, 0.03327782008696781, 0.17748170713049496, 0.07764824686959156, 0.25512995400008653, 0.031803414653912884, 0.018173379802235934, 0.29077407683577494, 0.28168738693465695, 0.16356041822012338, 0.09541024396173864, 0.04543344950558983, 0.013630034851676949, 0.03634675960447187, 0.018173379802235934, 0.11004550419253512, 0.06877844012033445, 0.061900596108301, 0.4470598607821739, 0.02751137604813378, 0.02751137604813378, 0.0756562841323679, 0.02751137604813378, 0.05502275209626756, 0.10316766018050168, 0.11964108777815498, 0.30395303381477207, 0.10023983030061633, 0.1746113172978478, 0.0873056586489239, 0.04850314369384661, 0.025868343303384857, 0.0452696007809235, 0.025868343303384857, 0.06790440117138526, 0.19880095038946494, 0.19194574520362132, 0.07540725704427981, 0.03427602592921809, 0.020565615557530857, 0.08911766741596704, 0.06855205185843619, 0.08226246223012343, 0.10282807778765428, 0.13024889853102875, 0.15417975341554088, 0.2312696301233113, 0.06263552482506347, 0.05781740753082783, 0.2312696301233113, 0.06745364211929913, 0.052999290236592174, 0.04818117294235652, 0.06745364211929913, 0.028908703765413914, 0.05537795811201134, 0.1439826910912295, 0.08583583507361758, 0.060915753923212475, 0.08029803926241644, 0.13013820156322664, 0.13844489528002835, 0.16059607852483287, 0.09691142669601985, 0.04707126439520964, 0.09076095596114181, 0.22186011457167995, 0.05042275331174544, 0.02016910132469818, 0.06050730397409453, 0.02016910132469818, 0.09076095596114181, 0.01008455066234909, 0.40338202649396354, 0.04033820264939636, 0.0875267232517021, 0.13676050508078452, 0.08205630304847072, 0.05470420203231381, 0.08205630304847072, 0.021881680812925526, 0.2516393293486435, 0.12581966467432176, 0.032822521219388286, 0.114878824267859, 0.0965869020674121, 0.09356856137780548, 0.04225676965449279, 0.11469694620505187, 0.07244017655055908, 0.0965869020674121, 0.04829345103370605, 0.28674236551262966, 0.10262358344662535, 0.04527511034409942, 0.28825505429777165, 0.20284614932065412, 0.09608501809925722, 0.09074696153818737, 0.021352226244279383, 0.016014169683209536, 0.08007084841604768, 0.15480364027102553, 0.037366395927488916, 0.010676113122139692], \"Term\": [\"act\", \"act\", \"act\", \"act\", \"act\", \"act\", \"act\", \"act\", \"act\", \"act\", \"age\", \"age\", \"age\", \"age\", \"age\", \"age\", \"age\", \"age\", \"age\", \"age\", \"anyone\", \"anyone\", \"anyone\", \"anyone\", \"anyone\", \"anyone\", \"anyone\", \"anyone\", \"anyone\", \"anyone\", \"anything\", \"anything\", \"anything\", \"anything\", \"anything\", \"anything\", \"anything\", \"anything\", \"anything\", \"anything\", \"approach\", \"approach\", \"approach\", \"approach\", \"approach\", \"approach\", \"approach\", \"approach\", \"approach\", \"approach\", \"arrangement\", \"arrangement\", \"arrangement\", \"arrangement\", \"arrangement\", \"arrangement\", \"arrangement\", \"arrangement\", \"arrangement\", \"arrangement\", \"art\", \"art\", \"art\", \"art\", \"art\", \"art\", \"art\", \"art\", \"art\", \"art\", \"artist\", \"artist\", \"artist\", \"artist\", \"artist\", \"artist\", \"artist\", \"artist\", \"artist\", \"artist\", \"attention\", \"attention\", \"attention\", \"attention\", \"attention\", \"attention\", \"attention\", \"attention\", \"attention\", \"attention\", \"audience\", \"audience\", \"audience\", \"audience\", \"audience\", \"audience\", \"audience\", \"audience\", \"audience\", \"audience\", \"background\", \"background\", \"background\", \"background\", \"background\", \"background\", \"background\", \"background\", \"background\", \"background\", \"bandleader\", \"bandleader\", \"bandleader\", \"bandleader\", \"bandleader\", \"bandleader\", \"bandleader\", \"bandleader\", \"bandleader\", \"bass\", \"bass\", \"bass\", \"bass\", \"bass\", \"bass\", \"bass\", \"bass\", \"bass\", \"bass\", \"bassist\", \"bassist\", \"bassist\", \"bassist\", \"bassist\", \"bassist\", \"bassist\", \"bassist\", \"bassist\", \"bassist\", \"beat\", \"beat\", \"beat\", \"beat\", \"beat\", \"beat\", \"beat\", \"beat\", \"beat\", \"beat\", \"bit\", \"bit\", \"bit\", \"bit\", \"bit\", \"bit\", \"bit\", \"bit\", \"bit\", \"bit\", \"blue\", \"blue\", \"blue\", \"blue\", \"blue\", \"blue\", \"blue\", \"blue\", \"blue\", \"blue\", \"break\", \"break\", \"break\", \"break\", \"break\", \"break\", \"break\", \"break\", \"break\", \"break\", \"career\", \"career\", \"career\", \"career\", \"career\", \"career\", \"career\", \"career\", \"career\", \"career\", \"case\", \"case\", \"case\", \"case\", \"case\", \"case\", \"case\", \"case\", \"case\", \"case\", \"center\", \"center\", \"center\", \"center\", \"center\", \"center\", \"center\", \"center\", \"center\", \"center\", \"century\", \"century\", \"century\", \"century\", \"century\", \"century\", \"century\", \"century\", \"century\", \"century\", \"change\", \"change\", \"change\", \"change\", \"change\", \"change\", \"change\", \"change\", \"change\", \"change\", \"chord\", \"chord\", \"chord\", \"chord\", \"chord\", \"chord\", \"chord\", \"chord\", \"chord\", \"chord\", \"chorus\", \"chorus\", \"chorus\", \"chorus\", \"chorus\", \"chorus\", \"chorus\", \"chorus\", \"chorus\", \"chorus\", \"city\", \"city\", \"city\", \"city\", \"city\", \"city\", \"city\", \"city\", \"city\", \"city\", \"club\", \"club\", \"club\", \"club\", \"club\", \"club\", \"club\", \"club\", \"club\", \"club\", \"collaboration\", \"collaboration\", \"collaboration\", \"collaboration\", \"collaboration\", \"collaboration\", \"collaboration\", \"collaboration\", \"collaboration\", \"collaboration\", \"collaborator\", \"collaborator\", \"collaborator\", \"collaborator\", \"collaborator\", \"collaborator\", \"collaborator\", \"collaborator\", \"collaborator\", \"collaborator\", \"collection\", \"collection\", \"collection\", \"collection\", \"collection\", \"collection\", \"collection\", \"collection\", \"collection\", \"collection\", \"composer\", \"composer\", \"composer\", \"composer\", \"composer\", \"composer\", \"composer\", \"composer\", \"composer\", \"composer\", \"composition\", \"composition\", \"composition\", \"composition\", \"composition\", \"composition\", \"composition\", \"composition\", \"composition\", \"composition\", \"concert\", \"concert\", \"concert\", \"concert\", \"concert\", \"concert\", \"concert\", \"concert\", \"concert\", \"couple\", \"couple\", \"couple\", \"couple\", \"couple\", \"couple\", \"couple\", \"couple\", \"couple\", \"couple\", \"cover\", \"cover\", \"cover\", \"cover\", \"cover\", \"cover\", \"cover\", \"cover\", \"cover\", \"cover\", \"credit\", \"credit\", \"credit\", \"credit\", \"credit\", \"credit\", \"credit\", \"credit\", \"credit\", \"credit\", \"cut\", \"cut\", \"cut\", \"cut\", \"cut\", \"cut\", \"cut\", \"cut\", \"cut\", \"cut\", \"dance\", \"dance\", \"dance\", \"dance\", \"dance\", \"dance\", \"dance\", \"dance\", \"dance\", \"dance\", \"date\", \"date\", \"date\", \"date\", \"date\", \"date\", \"date\", \"date\", \"date\", \"date\", \"day\", \"day\", \"day\", \"day\", \"day\", \"day\", \"day\", \"day\", \"day\", \"day\", \"death\", \"death\", \"death\", \"death\", \"death\", \"death\", \"death\", \"death\", \"death\", \"death\", \"debut\", \"debut\", \"debut\", \"debut\", \"debut\", \"debut\", \"debut\", \"debut\", \"debut\", \"debut\", \"decade\", \"decade\", \"decade\", \"decade\", \"decade\", \"decade\", \"decade\", \"decade\", \"decade\", \"decade\", \"direction\", \"direction\", \"direction\", \"direction\", \"direction\", \"direction\", \"direction\", \"direction\", \"direction\", \"direction\", \"disc\", \"disc\", \"disc\", \"disc\", \"disc\", \"disc\", \"disc\", \"disc\", \"disc\", \"disc\", \"drum\", \"drum\", \"drum\", \"drum\", \"drum\", \"drum\", \"drum\", \"drum\", \"drum\", \"drum\", \"drummer\", \"drummer\", \"drummer\", \"drummer\", \"drummer\", \"drummer\", \"drummer\", \"drummer\", \"drummer\", \"drummer\", \"duo\", \"duo\", \"duo\", \"duo\", \"duo\", \"duo\", \"duo\", \"duo\", \"duo\", \"duo\", \"edge\", \"edge\", \"edge\", \"edge\", \"edge\", \"edge\", \"edge\", \"edge\", \"edge\", \"edge\", \"effect\", \"effect\", \"effect\", \"effect\", \"effect\", \"effect\", \"effect\", \"effect\", \"effect\", \"effect\", \"element\", \"element\", \"element\", \"element\", \"element\", \"element\", \"element\", \"element\", \"element\", \"element\", \"end\", \"end\", \"end\", \"end\", \"end\", \"end\", \"end\", \"end\", \"end\", \"end\", \"energy\", \"energy\", \"energy\", \"energy\", \"energy\", \"energy\", \"energy\", \"energy\", \"energy\", \"everything\", \"everything\", \"everything\", \"everything\", \"everything\", \"everything\", \"everything\", \"everything\", \"everything\", \"everything\", \"experience\", \"experience\", \"experience\", \"experience\", \"experience\", \"experience\", \"experience\", \"experience\", \"experience\", \"experience\", \"eye\", \"eye\", \"eye\", \"eye\", \"eye\", \"eye\", \"eye\", \"eye\", \"eye\", \"eye\", \"fall\", \"fall\", \"fall\", \"fall\", \"fall\", \"fall\", \"fall\", \"fall\", \"fall\", \"fall\", \"fan\", \"fan\", \"fan\", \"fan\", \"fan\", \"fan\", \"fan\", \"fan\", \"fan\", \"fan\", \"feature\", \"feature\", \"feature\", \"feature\", \"feature\", \"feature\", \"feature\", \"feature\", \"feature\", \"feature\", \"feel\", \"feel\", \"feel\", \"feel\", \"feel\", \"feel\", \"feel\", \"feel\", \"feel\", \"feel\", \"figure\", \"figure\", \"figure\", \"figure\", \"figure\", \"figure\", \"figure\", \"figure\", \"figure\", \"figure\", \"film\", \"film\", \"film\", \"film\", \"film\", \"film\", \"film\", \"film\", \"film\", \"film\", \"flow\", \"flow\", \"flow\", \"flow\", \"flow\", \"flow\", \"flow\", \"flow\", \"flow\", \"flow\", \"focus\", \"focus\", \"focus\", \"focus\", \"focus\", \"focus\", \"focus\", \"focus\", \"focus\", \"focus\", \"folk\", \"folk\", \"folk\", \"folk\", \"folk\", \"folk\", \"folk\", \"folk\", \"folk\", \"folk\", \"force\", \"force\", \"force\", \"force\", \"force\", \"force\", \"force\", \"force\", \"force\", \"force\", \"form\", \"form\", \"form\", \"form\", \"form\", \"form\", \"form\", \"form\", \"form\", \"form\", \"fusion\", \"fusion\", \"fusion\", \"fusion\", \"fusion\", \"fusion\", \"fusion\", \"fusion\", \"fusion\", \"fusion\", \"genre\", \"genre\", \"genre\", \"genre\", \"genre\", \"genre\", \"genre\", \"genre\", \"genre\", \"genre\", \"groove\", \"groove\", \"groove\", \"groove\", \"groove\", \"groove\", \"groove\", \"groove\", \"groove\", \"groove\", \"ground\", \"ground\", \"ground\", \"ground\", \"ground\", \"ground\", \"ground\", \"ground\", \"ground\", \"ground\", \"group\", \"group\", \"group\", \"group\", \"group\", \"group\", \"group\", \"group\", \"group\", \"group\", \"guitar\", \"guitar\", \"guitar\", \"guitar\", \"guitar\", \"guitar\", \"guitar\", \"guitar\", \"guitar\", \"guitar\", \"guitarist\", \"guitarist\", \"guitarist\", \"guitarist\", \"guitarist\", \"guitarist\", \"guitarist\", \"guitarist\", \"guitarist\", \"guitarist\", \"guy\", \"guy\", \"guy\", \"guy\", \"guy\", \"guy\", \"guy\", \"guy\", \"guy\", \"guy\", \"hand\", \"hand\", \"hand\", \"hand\", \"hand\", \"hand\", \"hand\", \"hand\", \"hand\", \"hand\", \"harmony\", \"harmony\", \"harmony\", \"harmony\", \"harmony\", \"harmony\", \"harmony\", \"harmony\", \"harmony\", \"head\", \"head\", \"head\", \"head\", \"head\", \"head\", \"head\", \"head\", \"head\", \"head\", \"hiphop\", \"hiphop\", \"hiphop\", \"hiphop\", \"hiphop\", \"hiphop\", \"hiphop\", \"hiphop\", \"hiphop\", \"hiphop\", \"history\", \"history\", \"history\", \"history\", \"history\", \"history\", \"history\", \"history\", \"history\", \"history\", \"horn\", \"horn\", \"horn\", \"horn\", \"horn\", \"horn\", \"horn\", \"horn\", \"horn\", \"horn\", \"hour\", \"hour\", \"hour\", \"hour\", \"hour\", \"hour\", \"hour\", \"hour\", \"hour\", \"hour\", \"house\", \"house\", \"house\", \"house\", \"house\", \"house\", \"house\", \"house\", \"house\", \"house\", \"idea\", \"idea\", \"idea\", \"idea\", \"idea\", \"idea\", \"idea\", \"idea\", \"idea\", \"idea\", \"improvisation\", \"improvisation\", \"improvisation\", \"improvisation\", \"improvisation\", \"improvisation\", \"improvisation\", \"improvisation\", \"improvisation\", \"improvisation\", \"influence\", \"influence\", \"influence\", \"influence\", \"influence\", \"influence\", \"influence\", \"influence\", \"influence\", \"influence\", \"jam\", \"jam\", \"jam\", \"jam\", \"jam\", \"jam\", \"jam\", \"jam\", \"jam\", \"jam\", \"john\", \"john\", \"john\", \"john\", \"john\", \"john\", \"john\", \"john\", \"john\", \"john\", \"keyboard\", \"keyboard\", \"keyboard\", \"keyboard\", \"keyboard\", \"keyboard\", \"keyboard\", \"keyboard\", \"keyboard\", \"keyboard\", \"kind\", \"kind\", \"kind\", \"kind\", \"kind\", \"kind\", \"kind\", \"kind\", \"kind\", \"kind\", \"label\", \"label\", \"label\", \"label\", \"label\", \"label\", \"label\", \"label\", \"label\", \"label\", \"lead\", \"lead\", \"lead\", \"lead\", \"lead\", \"lead\", \"lead\", \"lead\", \"lead\", \"lead\", \"level\", \"level\", \"level\", \"level\", \"level\", \"level\", \"level\", \"level\", \"level\", \"level\", \"life\", \"life\", \"life\", \"life\", \"life\", \"life\", \"life\", \"life\", \"life\", \"life\", \"line\", \"line\", \"line\", \"line\", \"line\", \"line\", \"line\", \"line\", \"line\", \"line\", \"liner\", \"liner\", \"liner\", \"liner\", \"liner\", \"liner\", \"liner\", \"liner\", \"liner\", \"listen\", \"listen\", \"listen\", \"listen\", \"listen\", \"listen\", \"listen\", \"listen\", \"listen\", \"listen\", \"look\", \"look\", \"look\", \"look\", \"look\", \"look\", \"look\", \"look\", \"look\", \"look\", \"loop\", \"loop\", \"loop\", \"loop\", \"loop\", \"loop\", \"loop\", \"loop\", \"loop\", \"loop\", \"love\", \"love\", \"love\", \"love\", \"love\", \"love\", \"love\", \"love\", \"love\", \"love\", \"lp\", \"lp\", \"lp\", \"lp\", \"lp\", \"lp\", \"lp\", \"lp\", \"lp\", \"lp\", \"make\", \"make\", \"make\", \"make\", \"make\", \"make\", \"make\", \"make\", \"make\", \"make\", \"man\", \"man\", \"man\", \"man\", \"man\", \"man\", \"man\", \"man\", \"man\", \"man\", \"mark\", \"mark\", \"mark\", \"mark\", \"mark\", \"mark\", \"mark\", \"mark\", \"mark\", \"mark\", \"melody\", \"melody\", \"melody\", \"melody\", \"melody\", \"melody\", \"melody\", \"melody\", \"melody\", \"melody\", \"member\", \"member\", \"member\", \"member\", \"member\", \"member\", \"member\", \"member\", \"member\", \"member\", \"mind\", \"mind\", \"mind\", \"mind\", \"mind\", \"mind\", \"mind\", \"mind\", \"mind\", \"mind\", \"mix\", \"mix\", \"mix\", \"mix\", \"mix\", \"mix\", \"mix\", \"mix\", \"mix\", \"mix\", \"moment\", \"moment\", \"moment\", \"moment\", \"moment\", \"moment\", \"moment\", \"moment\", \"moment\", \"moment\", \"month\", \"month\", \"month\", \"month\", \"month\", \"month\", \"month\", \"month\", \"month\", \"move\", \"move\", \"move\", \"move\", \"move\", \"move\", \"move\", \"move\", \"move\", \"move\", \"musician\", \"musician\", \"musician\", \"musician\", \"musician\", \"musician\", \"musician\", \"musician\", \"musician\", \"musician\", \"name\", \"name\", \"name\", \"name\", \"name\", \"name\", \"name\", \"name\", \"name\", \"name\", \"night\", \"night\", \"night\", \"night\", \"night\", \"night\", \"night\", \"night\", \"night\", \"night\", \"noise\", \"noise\", \"noise\", \"noise\", \"noise\", \"noise\", \"noise\", \"noise\", \"noise\", \"noise\", \"note\", \"note\", \"note\", \"note\", \"note\", \"note\", \"note\", \"note\", \"note\", \"note\", \"nothing\", \"nothing\", \"nothing\", \"nothing\", \"nothing\", \"nothing\", \"nothing\", \"nothing\", \"nothing\", \"nothing\", \"number\", \"number\", \"number\", \"number\", \"number\", \"number\", \"number\", \"number\", \"number\", \"number\", \"one\", \"one\", \"one\", \"one\", \"one\", \"one\", \"one\", \"one\", \"one\", \"one\", \"opener\", \"opener\", \"opener\", \"opener\", \"opener\", \"opener\", \"opener\", \"opener\", \"opener\", \"opener\", \"opening\", \"opening\", \"opening\", \"opening\", \"opening\", \"opening\", \"opening\", \"opening\", \"opening\", \"opening\", \"part\", \"part\", \"part\", \"part\", \"part\", \"part\", \"part\", \"part\", \"part\", \"part\", \"passage\", \"passage\", \"passage\", \"passage\", \"passage\", \"passage\", \"passage\", \"passage\", \"passage\", \"passage\", \"people\", \"people\", \"people\", \"people\", \"people\", \"people\", \"people\", \"people\", \"people\", \"people\", \"percussion\", \"percussion\", \"percussion\", \"percussion\", \"percussion\", \"percussion\", \"percussion\", \"percussion\", \"percussion\", \"percussion\", \"performance\", \"performance\", \"performance\", \"performance\", \"performance\", \"performance\", \"performance\", \"performance\", \"performance\", \"performance\", \"pianist\", \"pianist\", \"pianist\", \"pianist\", \"pianist\", \"pianist\", \"pianist\", \"pianist\", \"pianist\", \"pianist\", \"piano\", \"piano\", \"piano\", \"piano\", \"piano\", \"piano\", \"piano\", \"piano\", \"piano\", \"piano\", \"piece\", \"piece\", \"piece\", \"piece\", \"piece\", \"piece\", \"piece\", \"piece\", \"piece\", \"piece\", \"place\", \"place\", \"place\", \"place\", \"place\", \"place\", \"place\", \"place\", \"place\", \"place\", \"play\", \"play\", \"play\", \"play\", \"play\", \"play\", \"play\", \"play\", \"play\", \"play\", \"player\", \"player\", \"player\", \"player\", \"player\", \"player\", \"player\", \"player\", \"player\", \"player\", \"playing\", \"playing\", \"playing\", \"playing\", \"playing\", \"playing\", \"playing\", \"playing\", \"playing\", \"point\", \"point\", \"point\", \"point\", \"point\", \"point\", \"point\", \"point\", \"point\", \"point\", \"pop\", \"pop\", \"pop\", \"pop\", \"pop\", \"pop\", \"pop\", \"pop\", \"pop\", \"pop\", \"process\", \"process\", \"process\", \"process\", \"process\", \"process\", \"process\", \"process\", \"process\", \"process\", \"producer\", \"producer\", \"producer\", \"producer\", \"producer\", \"producer\", \"producer\", \"producer\", \"producer\", \"producer\", \"production\", \"production\", \"production\", \"production\", \"production\", \"production\", \"production\", \"production\", \"production\", \"production\", \"project\", \"project\", \"project\", \"project\", \"project\", \"project\", \"project\", \"project\", \"project\", \"project\", \"quality\", \"quality\", \"quality\", \"quality\", \"quality\", \"quality\", \"quality\", \"quality\", \"quality\", \"quality\", \"quartet\", \"quartet\", \"quartet\", \"quartet\", \"quartet\", \"quartet\", \"quartet\", \"quartet\", \"quartet\", \"quartet\", \"radio\", \"radio\", \"radio\", \"radio\", \"radio\", \"radio\", \"radio\", \"radio\", \"radio\", \"range\", \"range\", \"range\", \"range\", \"range\", \"range\", \"range\", \"range\", \"range\", \"range\", \"record\", \"record\", \"record\", \"record\", \"record\", \"record\", \"record\", \"record\", \"record\", \"record\", \"recording\", \"recording\", \"recording\", \"recording\", \"recording\", \"recording\", \"recording\", \"recording\", \"recording\", \"recording\", \"reissue\", \"reissue\", \"reissue\", \"reissue\", \"reissue\", \"reissue\", \"reissue\", \"reissue\", \"reissue\", \"release\", \"release\", \"release\", \"release\", \"release\", \"release\", \"release\", \"release\", \"release\", \"release\", \"rest\", \"rest\", \"rest\", \"rest\", \"rest\", \"rest\", \"rest\", \"rest\", \"rest\", \"return\", \"return\", \"return\", \"return\", \"return\", \"return\", \"return\", \"return\", \"return\", \"return\", \"rhythm\", \"rhythm\", \"rhythm\", \"rhythm\", \"rhythm\", \"rhythm\", \"rhythm\", \"rhythm\", \"rhythm\", \"rhythm\", \"rock\", \"rock\", \"rock\", \"rock\", \"rock\", \"rock\", \"rock\", \"rock\", \"rock\", \"rock\", \"role\", \"role\", \"role\", \"role\", \"role\", \"role\", \"role\", \"role\", \"role\", \"role\", \"room\", \"room\", \"room\", \"room\", \"room\", \"room\", \"room\", \"room\", \"room\", \"room\", \"root\", \"root\", \"root\", \"root\", \"root\", \"root\", \"root\", \"root\", \"root\", \"root\", \"run\", \"run\", \"run\", \"run\", \"run\", \"run\", \"run\", \"run\", \"run\", \"run\", \"sample\", \"sample\", \"sample\", \"sample\", \"sample\", \"sample\", \"sample\", \"sample\", \"sample\", \"sample\", \"sax\", \"sax\", \"sax\", \"sax\", \"sax\", \"sax\", \"sax\", \"sax\", \"sax\", \"sax\", \"saxophone\", \"saxophone\", \"saxophone\", \"saxophone\", \"saxophone\", \"saxophone\", \"saxophone\", \"saxophone\", \"saxophone\", \"saxophonist\", \"saxophonist\", \"saxophonist\", \"saxophonist\", \"saxophonist\", \"saxophonist\", \"saxophonist\", \"saxophonist\", \"saxophonist\", \"scene\", \"scene\", \"scene\", \"scene\", \"scene\", \"scene\", \"scene\", \"scene\", \"scene\", \"sense\", \"sense\", \"sense\", \"sense\", \"sense\", \"sense\", \"sense\", \"sense\", \"sense\", \"sense\", \"series\", \"series\", \"series\", \"series\", \"series\", \"series\", \"series\", \"series\", \"series\", \"series\", \"session\", \"session\", \"session\", \"session\", \"session\", \"session\", \"session\", \"session\", \"session\", \"session\", \"set\", \"set\", \"set\", \"set\", \"set\", \"set\", \"set\", \"set\", \"set\", \"set\", \"share\", \"share\", \"share\", \"share\", \"share\", \"share\", \"share\", \"share\", \"share\", \"share\", \"shift\", \"shift\", \"shift\", \"shift\", \"shift\", \"shift\", \"shift\", \"shift\", \"shift\", \"shift\", \"show\", \"show\", \"show\", \"show\", \"show\", \"show\", \"show\", \"show\", \"show\", \"show\", \"sign\", \"sign\", \"sign\", \"sign\", \"sign\", \"sign\", \"sign\", \"sign\", \"sign\", \"sign\", \"solo\", \"solo\", \"solo\", \"solo\", \"solo\", \"solo\", \"solo\", \"solo\", \"solo\", \"solo\", \"someone\", \"someone\", \"someone\", \"someone\", \"someone\", \"someone\", \"someone\", \"someone\", \"someone\", \"someone\", \"something\", \"something\", \"something\", \"something\", \"something\", \"something\", \"something\", \"something\", \"something\", \"something\", \"sort\", \"sort\", \"sort\", \"sort\", \"sort\", \"sort\", \"sort\", \"sort\", \"sort\", \"sort\", \"soul\", \"soul\", \"soul\", \"soul\", \"soul\", \"soul\", \"soul\", \"soul\", \"soul\", \"soul\", \"sound\", \"sound\", \"sound\", \"sound\", \"sound\", \"sound\", \"sound\", \"sound\", \"sound\", \"sound\", \"soundtrack\", \"soundtrack\", \"soundtrack\", \"soundtrack\", \"soundtrack\", \"soundtrack\", \"soundtrack\", \"soundtrack\", \"soundtrack\", \"soundtrack\", \"space\", \"space\", \"space\", \"space\", \"space\", \"space\", \"space\", \"space\", \"space\", \"space\", \"stage\", \"stage\", \"stage\", \"stage\", \"stage\", \"stage\", \"stage\", \"stage\", \"stage\", \"star\", \"star\", \"star\", \"star\", \"star\", \"star\", \"star\", \"star\", \"star\", \"star\", \"start\", \"start\", \"start\", \"start\", \"start\", \"start\", \"start\", \"start\", \"start\", \"start\", \"statement\", \"statement\", \"statement\", \"statement\", \"statement\", \"statement\", \"statement\", \"statement\", \"statement\", \"statement\", \"story\", \"story\", \"story\", \"story\", \"story\", \"story\", \"story\", \"story\", \"story\", \"story\", \"stretch\", \"stretch\", \"stretch\", \"stretch\", \"stretch\", \"stretch\", \"stretch\", \"stretch\", \"stretch\", \"stretch\", \"string\", \"string\", \"string\", \"string\", \"string\", \"string\", \"string\", \"string\", \"string\", \"string\", \"structure\", \"structure\", \"structure\", \"structure\", \"structure\", \"structure\", \"structure\", \"structure\", \"structure\", \"structure\", \"studio\", \"studio\", \"studio\", \"studio\", \"studio\", \"studio\", \"studio\", \"studio\", \"studio\", \"studio\", \"stuff\", \"stuff\", \"stuff\", \"stuff\", \"stuff\", \"stuff\", \"stuff\", \"stuff\", \"stuff\", \"stuff\", \"style\", \"style\", \"style\", \"style\", \"style\", \"style\", \"style\", \"style\", \"style\", \"style\", \"sun\", \"sun\", \"sun\", \"sun\", \"sun\", \"sun\", \"sun\", \"sun\", \"sun\", \"tenor\", \"tenor\", \"tenor\", \"tenor\", \"tenor\", \"tenor\", \"tenor\", \"tenor\", \"tenor\", \"texture\", \"texture\", \"texture\", \"texture\", \"texture\", \"texture\", \"texture\", \"texture\", \"texture\", \"texture\", \"theme\", \"theme\", \"theme\", \"theme\", \"theme\", \"theme\", \"theme\", \"theme\", \"theme\", \"theme\", \"thing\", \"thing\", \"thing\", \"thing\", \"thing\", \"thing\", \"thing\", \"thing\", \"thing\", \"thing\", \"title\", \"title\", \"title\", \"title\", \"title\", \"title\", \"title\", \"title\", \"title\", \"title\", \"today\", \"today\", \"today\", \"today\", \"today\", \"today\", \"today\", \"today\", \"tone\", \"tone\", \"tone\", \"tone\", \"tone\", \"tone\", \"tone\", \"tone\", \"tone\", \"tone\", \"track\", \"track\", \"track\", \"track\", \"track\", \"track\", \"track\", \"track\", \"track\", \"track\", \"tradition\", \"tradition\", \"tradition\", \"tradition\", \"tradition\", \"tradition\", \"tradition\", \"tradition\", \"tradition\", \"trio\", \"trio\", \"trio\", \"trio\", \"trio\", \"trio\", \"trio\", \"trio\", \"trio\", \"trio\", \"trumpet\", \"trumpet\", \"trumpet\", \"trumpet\", \"trumpet\", \"trumpet\", \"trumpet\", \"trumpet\", \"trumpet\", \"trumpet\", \"tune\", \"tune\", \"tune\", \"tune\", \"tune\", \"tune\", \"tune\", \"tune\", \"tune\", \"tune\", \"turn\", \"turn\", \"turn\", \"turn\", \"turn\", \"turn\", \"turn\", \"turn\", \"turn\", \"turn\", \"version\", \"version\", \"version\", \"version\", \"version\", \"version\", \"version\", \"version\", \"version\", \"version\", \"voice\", \"voice\", \"voice\", \"voice\", \"voice\", \"voice\", \"voice\", \"voice\", \"voice\", \"voice\", \"william\", \"william\", \"william\", \"william\", \"william\", \"william\", \"william\", \"william\", \"william\", \"william\", \"word\", \"word\", \"word\", \"word\", \"word\", \"word\", \"word\", \"word\", \"word\", \"word\", \"world\", \"world\", \"world\", \"world\", \"world\", \"world\", \"world\", \"world\", \"world\", \"world\", \"york\", \"york\", \"york\", \"york\", \"york\", \"york\", \"york\", \"york\", \"york\", \"york\"]}, \"R\": 30, \"lambda.step\": 0.01, \"plot.opts\": {\"xlab\": \"PC1\", \"ylab\": \"PC2\"}, \"topic.order\": [3, 10, 2, 4, 5, 8, 1, 6, 9, 7]};\n",
       "\n",
       "function LDAvis_load_lib(url, callback){\n",
       "  var s = document.createElement('script');\n",
       "  s.src = url;\n",
       "  s.async = true;\n",
       "  s.onreadystatechange = s.onload = callback;\n",
       "  s.onerror = function(){console.warn(\"failed to load library \" + url);};\n",
       "  document.getElementsByTagName(\"head\")[0].appendChild(s);\n",
       "}\n",
       "\n",
       "if(typeof(LDAvis) !== \"undefined\"){\n",
       "   // already loaded: just create the visualization\n",
       "   !function(LDAvis){\n",
       "       new LDAvis(\"#\" + \"ldavis_el346311403365717986881954732591\", ldavis_el346311403365717986881954732591_data);\n",
       "   }(LDAvis);\n",
       "}else if(typeof define === \"function\" && define.amd){\n",
       "   // require.js is available: use it to load d3/LDAvis\n",
       "   require.config({paths: {d3: \"https://d3js.org/d3.v5\"}});\n",
       "   require([\"d3\"], function(d3){\n",
       "      window.d3 = d3;\n",
       "      LDAvis_load_lib(\"https://cdn.jsdelivr.net/gh/bmabey/pyLDAvis@3.2.2/pyLDAvis/js/ldavis.v3.0.0.js\", function(){\n",
       "        new LDAvis(\"#\" + \"ldavis_el346311403365717986881954732591\", ldavis_el346311403365717986881954732591_data);\n",
       "      });\n",
       "    });\n",
       "}else{\n",
       "    // require.js not available: dynamically load d3 & LDAvis\n",
       "    LDAvis_load_lib(\"https://d3js.org/d3.v5.js\", function(){\n",
       "         LDAvis_load_lib(\"https://cdn.jsdelivr.net/gh/bmabey/pyLDAvis@3.2.2/pyLDAvis/js/ldavis.v3.0.0.js\", function(){\n",
       "                 new LDAvis(\"#\" + \"ldavis_el346311403365717986881954732591\", ldavis_el346311403365717986881954732591_data);\n",
       "            })\n",
       "         });\n",
       "}\n",
       "</script>"
      ],
      "text/plain": [
       "<IPython.core.display.HTML object>"
      ]
     },
     "execution_count": 1148,
     "metadata": {},
     "output_type": "execute_result"
    }
   ],
   "source": [
    "pyLDAvis.display(vis_data)"
   ]
  },
  {
   "cell_type": "code",
   "execution_count": null,
   "metadata": {},
   "outputs": [],
   "source": []
  },
  {
   "cell_type": "code",
   "execution_count": null,
   "metadata": {},
   "outputs": [],
   "source": []
  },
  {
   "cell_type": "code",
   "execution_count": null,
   "metadata": {},
   "outputs": [],
   "source": []
  },
  {
   "cell_type": "code",
   "execution_count": null,
   "metadata": {},
   "outputs": [],
   "source": []
  },
  {
   "cell_type": "code",
   "execution_count": null,
   "metadata": {},
   "outputs": [],
   "source": []
  },
  {
   "cell_type": "code",
   "execution_count": null,
   "metadata": {},
   "outputs": [],
   "source": []
  },
  {
   "cell_type": "code",
   "execution_count": null,
   "metadata": {},
   "outputs": [],
   "source": []
  },
  {
   "cell_type": "code",
   "execution_count": null,
   "metadata": {},
   "outputs": [],
   "source": []
  },
  {
   "cell_type": "code",
   "execution_count": null,
   "metadata": {},
   "outputs": [],
   "source": []
  },
  {
   "cell_type": "code",
   "execution_count": null,
   "metadata": {},
   "outputs": [],
   "source": []
  },
  {
   "cell_type": "code",
   "execution_count": null,
   "metadata": {},
   "outputs": [],
   "source": []
  },
  {
   "cell_type": "code",
   "execution_count": null,
   "metadata": {},
   "outputs": [],
   "source": []
  },
  {
   "cell_type": "code",
   "execution_count": null,
   "metadata": {},
   "outputs": [],
   "source": []
  },
  {
   "cell_type": "code",
   "execution_count": null,
   "metadata": {},
   "outputs": [],
   "source": []
  },
  {
   "cell_type": "code",
   "execution_count": null,
   "metadata": {},
   "outputs": [],
   "source": []
  },
  {
   "cell_type": "code",
   "execution_count": null,
   "metadata": {},
   "outputs": [],
   "source": []
  },
  {
   "cell_type": "code",
   "execution_count": null,
   "metadata": {},
   "outputs": [],
   "source": []
  },
  {
   "cell_type": "code",
   "execution_count": null,
   "metadata": {},
   "outputs": [],
   "source": []
  },
  {
   "cell_type": "code",
   "execution_count": null,
   "metadata": {},
   "outputs": [],
   "source": []
  },
  {
   "cell_type": "code",
   "execution_count": null,
   "metadata": {},
   "outputs": [],
   "source": []
  },
  {
   "cell_type": "code",
   "execution_count": null,
   "metadata": {},
   "outputs": [],
   "source": []
  },
  {
   "cell_type": "code",
   "execution_count": null,
   "metadata": {},
   "outputs": [],
   "source": []
  },
  {
   "cell_type": "code",
   "execution_count": null,
   "metadata": {},
   "outputs": [],
   "source": []
  },
  {
   "cell_type": "code",
   "execution_count": null,
   "metadata": {},
   "outputs": [],
   "source": [
    "lsi = models.LsiModel(corpus_tfidf, id2word=dictionary, num_topics=500)\n",
    "\n",
    "index = similarities.MatrixSimilarity(lsi[corpus])\n",
    "\n",
    "text_input = 'Franconia Amber'\n",
    "\n",
    "def get_beer_keywords(text_input):\n",
    "    input_beer_keywords = []\n",
    "    for item in sorted(corpus_tfidf[beers[beers.name == text_input].index[0]], key = lambda x: -x[1])[:5]:\n",
    "        input_beer_keywords.append(dictionary[item[0]])\n",
    "    return input_beer_keywords\n",
    "\n",
    "beers['keywords'] = beers.name.map(get_beer_keywords)\n",
    "get_beer_keywords(text_input)\n",
    "\n",
    "def get_similar_beers(text_input):\n",
    "    try:\n",
    "        doc = documents[beers[beers.name == text_input].index[0]]\n",
    "        beer_name_inputted = 1\n",
    "    except IndexError:\n",
    "        doc = text_input\n",
    "        beer_name_inputted = 0\n",
    "    vec_bow = dictionary.doc2bow(doc.lower().split())\n",
    "    vec_lsi = lsi[vec_bow]\n",
    "\n",
    "    sims = index[vec_lsi]\n",
    "    similar_beers = []\n",
    "    for beer in sorted(enumerate(sims), key = lambda x: -x[1])[beer_name_inputted:beer_name_inputted+5]:\n",
    "        similar_beers.append((beer[0],beer[1]))\n",
    "\n",
    "    return similar_beers\n",
    "\n",
    "beers['similar_beers'] = beers.name.map(get_similar_beers)\n",
    "get_similar_beers(text_input)\n",
    "\n",
    "similar_beers = beers.similar_beers.iloc[0]\n",
    "\n",
    "def get_recs_from_input(text_input):\n",
    "    beer_name_inputted = True\n",
    "\n",
    "    similar_beer_ids = list(beers[beers.name == text_input].similar_beers)\n",
    "    similar_beers = [beer[0] for beer in similar_beer_ids[0]]\n",
    "    similar_beers = beers.iloc[similar_beers]\n",
    "    return (similar_beers ,beer_name_inputted)\n",
    "\n",
    "\n",
    "get_recs_from_input(text_input)[0]"
   ]
  },
  {
   "cell_type": "code",
   "execution_count": null,
   "metadata": {},
   "outputs": [],
   "source": []
  },
  {
   "cell_type": "code",
   "execution_count": null,
   "metadata": {},
   "outputs": [],
   "source": []
  },
  {
   "cell_type": "code",
   "execution_count": null,
   "metadata": {},
   "outputs": [],
   "source": []
  },
  {
   "cell_type": "code",
   "execution_count": null,
   "metadata": {},
   "outputs": [],
   "source": []
  },
  {
   "cell_type": "code",
   "execution_count": null,
   "metadata": {},
   "outputs": [],
   "source": []
  },
  {
   "cell_type": "code",
   "execution_count": null,
   "metadata": {},
   "outputs": [],
   "source": []
  },
  {
   "cell_type": "code",
   "execution_count": null,
   "metadata": {},
   "outputs": [],
   "source": []
  },
  {
   "cell_type": "code",
   "execution_count": null,
   "metadata": {},
   "outputs": [],
   "source": []
  },
  {
   "cell_type": "code",
   "execution_count": null,
   "metadata": {},
   "outputs": [],
   "source": []
  },
  {
   "cell_type": "code",
   "execution_count": null,
   "metadata": {},
   "outputs": [],
   "source": []
  },
  {
   "cell_type": "code",
   "execution_count": null,
   "metadata": {},
   "outputs": [],
   "source": []
  },
  {
   "cell_type": "markdown",
   "metadata": {},
   "source": [
    "### Topic Modeling"
   ]
  },
  {
   "cell_type": "code",
   "execution_count": 805,
   "metadata": {},
   "outputs": [],
   "source": [
    "def lsa(doc_word, feature_names, num_topics):\n",
    "    model = TruncatedSVD(num_topics)\n",
    "    doc_topic = model.fit_transform(doc_word)\n",
    "    for ix, topic in enumerate(model.components_):\n",
    "        print(\"\\nTopic \", ix)\n",
    "        print(\", \".join([feature_names[i] for i in topic.argsort()[:-21:-1]]))\n",
    "\n",
    "def nmf(doc_word, feature_names, num_topics):\n",
    "    model = NMF(num_topics)\n",
    "    doc_topic = model.fit_transform(doc_word)\n",
    "    for ix, topic in enumerate(model.components_):\n",
    "        print(\"\\nTopic \", ix)\n",
    "        print(\", \".join([feature_names[i] for i in topic.argsort()[:-75:-1]]))\n",
    "\n",
    "def lda(doc_word, feature_names, id2word, num_topics):\n",
    "    corpus = matutils.Sparse2Corpus(doc_word.transpose())\n",
    "    model = models.LdaModel(corpus=corpus, num_topics=num_topics, id2word=id2word, passes=5, random_state=42)\n",
    "    topics = model.print_topics(num_words=50)\n",
    "    for n, topic in topics:\n",
    "        print(\"\\nTopic \", n)\n",
    "        print(topic)\n",
    "        \n",
    "\n",
    "def corex(doc_word, feature_names, num_topics):\n",
    "    words = list(np.asarray(feature_names))\n",
    "    model = corextopic.Corex(n_hidden=num_topics, words=words, seed=1, max_iter=200)\n",
    "    model.fit(doc_word, words=words, docs=data) # where data = df[\"Lemmatized\"]\n",
    "    topics = model.get_topics()\n",
    "    for n,topic in enumerate(topics):\n",
    "        topic_words,_ = zip(*topic)\n",
    "        print('{}: '.format(n) + ','.join(topic_words))\n",
    "        \n",
    "def vectorize_2(data, min_df,max_df):\n",
    "    vec = CountVectorizer(stop_words=my_stop_words,  min_df=min_df , max_df=max_df) #ngram_range=(1, 3)\n",
    "    doc_word = vec.fit_transform(data)\n",
    "    feature_names = vec.get_feature_names()\n",
    "    id2word = dict((v, k) for k, v in vec.vocabulary_.items())\n",
    "    \n",
    "    return doc_word, feature_names, id2word        "
   ]
  },
  {
   "cell_type": "markdown",
   "metadata": {},
   "source": [
    "### NMF with min/max df"
   ]
  },
  {
   "cell_type": "code",
   "execution_count": 843,
   "metadata": {},
   "outputs": [
    {
     "name": "stderr",
     "output_type": "stream",
     "text": [
      "/opt/anaconda3/lib/python3.8/site-packages/ipykernel/ipkernel.py:287: DeprecationWarning: `should_run_async` will not call `transform_cell` automatically in the future. Please pass the result to `transformed_cell` argument and any exception that happen during thetransform in `preprocessing_exc_tuple` in IPython 7.17 and above.\n",
      "  and should_run_async(code)\n"
     ]
    }
   ],
   "source": [
    "data_grg = df_sent_grg[\"lemmatized\"]\n",
    "#data_pos = df_sent_grg_pos[\"lemmatized\"]"
   ]
  },
  {
   "cell_type": "code",
   "execution_count": 871,
   "metadata": {},
   "outputs": [
    {
     "name": "stdout",
     "output_type": "stream",
     "text": [
      "\n",
      "Topic  0\n",
      "hand, kramer, parent, leave, big, move, point, thank, happen, mean, maybe, walk, life, salad, much, even, laugh, apartment, eat, stop, need, play, door, man, kid, face, sorry, sit, check, father, hear, work, turn, table, god, dinner, hold, arm, use, dad, year, lunch, mother, find, please, ever, nice, money, wear, job, buy, kind, break, fine, mind, try, room, another, chuckle, anymore, clothe, shirt, shake, whole, place, pick, raise, head, heh, plan, live, may, help, people\n",
      "\n",
      "Topic  1\n",
      "car, bar, first, space, candy, move, dollar, park, big, people, maybe, pull, lot, even, pay, parking, walk, great, front, head, spot, door, sorry, start, leave, buy, kramer, need, help, turn, mean, hat, away, window, day, wait, stop, try, drive, name, nobody, anything, hear, sure, stand, coat, believe, kid, please, open, run, hospital, twenty, pick, wrong, might, change, excuse, fine, another, minute, doubt, ask, store, susan, father, chair, heh, bother, nice, listen, fall, much, elaine\n",
      "\n",
      "Topic  2\n",
      "show, nothing, idea, name, funny, kramer, tv, happen, life, susan, story, need, maybe, last, read, people, forget, water, mean, fine, meet, plane, kind, minute, nice, wait, toilet, eat, whole, always, write, day, might, store, start, god, bring, shop, jacket, nbc, great, else, old, paper, son, real, hear, money, nervous, meeting, ahead, lot, thank, actually, remember, business, many, sir, big, new, help, die, suit, pay, table, crazy, kill, married, anything, sport, soda, second, involve, writer\n",
      "\n",
      "Topic  3\n",
      "elaine, funny, laugh, friend, susan, love, work, try, sit, bald, mean, man, ever, fix, coffee, ask, day, every, woman, meet, bad, please, anything, door, start, nose, chuckle, kramer, great, stuff, course, people, find, speak, anyone, last, cup, boy, sex, everything, bathroom, happen, opposite, point, hear, world, open, always, whisper, turn, feel, lot, walk, new, stop, anyway, shout, live, sleep, lie, hair, cousin, phone, eye, wow, key, toast, nice, move, rest, together, suppose, movie, wear\n",
      "\n",
      "Topic  4\n",
      "woman, wait, coffee, ask, anything, believe, love, night, work, leave, minute, even, phone, sure, try, keep, great, happen, feel, day, listen, much, office, people, bad, second, maybe, man, thank, bathroom, god, hear, course, long, machine, pay, stand, start, hell, need, problem, must, boy, dollar, room, home, suppose, remember, ever, date, dead, find, always, nice, friend, break, away, mean, easy, first, change, pick, excuse, care, use, smile, ticket, meet, tomorrow, whole, buy, everything, ten, please\n"
     ]
    },
    {
     "name": "stderr",
     "output_type": "stream",
     "text": [
      "/opt/anaconda3/lib/python3.8/site-packages/ipykernel/ipkernel.py:287: DeprecationWarning: `should_run_async` will not call `transform_cell` automatically in the future. Please pass the result to `transformed_cell` argument and any exception that happen during thetransform in `preprocessing_exc_tuple` in IPython 7.17 and above.\n",
      "  and should_run_async(code)\n",
      "/opt/anaconda3/lib/python3.8/site-packages/sklearn/decomposition/_nmf.py:1076: ConvergenceWarning: Maximum number of iterations 200 reached. Increase it to improve convergence.\n",
      "  warnings.warn(\"Maximum number of iterations %d reached. Increase it to\"\n"
     ]
    }
   ],
   "source": [
    "doc_word, feature_names, id2word= vectorize_2(data_grg,.03,.55)\n",
    "nmf(doc_word, feature_names, 5)"
   ]
  },
  {
   "cell_type": "markdown",
   "metadata": {},
   "source": [
    "## LDA with min/max df"
   ]
  },
  {
   "cell_type": "code",
   "execution_count": 845,
   "metadata": {},
   "outputs": [
    {
     "name": "stderr",
     "output_type": "stream",
     "text": [
      "/opt/anaconda3/lib/python3.8/site-packages/ipykernel/ipkernel.py:287: DeprecationWarning: `should_run_async` will not call `transform_cell` automatically in the future. Please pass the result to `transformed_cell` argument and any exception that happen during thetransform in `preprocessing_exc_tuple` in IPython 7.17 and above.\n",
      "  and should_run_async(code)\n"
     ]
    }
   ],
   "source": [
    "from gensim.corpora.dictionary import Dictionary\n",
    "\n",
    "def vectorize_vis(data, min_df,max_df):\n",
    "    vec = CountVectorizer(stop_words=my_stop_words, min_df=min_df, max_df=max_df) #, ngram_range=(1, 3)\n",
    "    doc_word = vec.fit_transform(data)\n",
    "    feature_names = vec.get_feature_names()\n",
    "    id2word = dict((v, k) for k, v in vec.vocabulary_.items())\n",
    "    dictionary = Dictionary([feature_names])\n",
    "    \n",
    "    return doc_word, feature_names, id2word, dictionary"
   ]
  },
  {
   "cell_type": "code",
   "execution_count": 846,
   "metadata": {},
   "outputs": [
    {
     "name": "stderr",
     "output_type": "stream",
     "text": [
      "/opt/anaconda3/lib/python3.8/site-packages/ipykernel/ipkernel.py:287: DeprecationWarning: `should_run_async` will not call `transform_cell` automatically in the future. Please pass the result to `transformed_cell` argument and any exception that happen during thetransform in `preprocessing_exc_tuple` in IPython 7.17 and above.\n",
      "  and should_run_async(code)\n"
     ]
    }
   ],
   "source": [
    "import pyLDAvis.gensim\n",
    "pyLDAvis.enable_notebook()\n",
    "\n",
    "def lda_vis(doc_word, feature_names, id2word, dictionary, num_topics):\n",
    "    corpus = matutils.Sparse2Corpus(doc_word.transpose())\n",
    "    model = models.LdaModel(corpus=corpus, num_topics=num_topics, id2word=id2word, passes=5, random_state=42)    \n",
    "    topics = model.print_topics(num_words=50)\n",
    "    for n, topic in topics:\n",
    "        print(\"\\nTopic \", n)\n",
    "        print(topic)\n",
    "\n",
    "    vis_data = pyLDAvis.gensim.prepare(model, corpus, dictionary)\n",
    "    return vis_data"
   ]
  },
  {
   "cell_type": "code",
   "execution_count": 868,
   "metadata": {},
   "outputs": [
    {
     "name": "stderr",
     "output_type": "stream",
     "text": [
      "/opt/anaconda3/lib/python3.8/site-packages/ipykernel/ipkernel.py:287: DeprecationWarning: `should_run_async` will not call `transform_cell` automatically in the future. Please pass the result to `transformed_cell` argument and any exception that happen during thetransform in `preprocessing_exc_tuple` in IPython 7.17 and above.\n",
      "  and should_run_async(code)\n"
     ]
    },
    {
     "name": "stdout",
     "output_type": "stream",
     "text": [
      "\n",
      "Topic  0\n",
      "0.010*\"elaine\" + 0.010*\"kramer\" + 0.010*\"something\" + 0.009*\"talk\" + 0.008*\"call\" + 0.008*\"woman\" + 0.008*\"happen\" + 0.008*\"time\" + 0.007*\"little\" + 0.007*\"even\" + 0.007*\"give\" + 0.007*\"george\" + 0.007*\"anything\" + 0.007*\"people\" + 0.007*\"show\" + 0.007*\"never\" + 0.007*\"stop\" + 0.007*\"need\" + 0.007*\"great\" + 0.006*\"mean\" + 0.006*\"yes\" + 0.006*\"day\" + 0.006*\"try\" + 0.006*\"nothing\" + 0.006*\"leave\" + 0.005*\"maybe\" + 0.005*\"buy\" + 0.005*\"ask\" + 0.005*\"nice\" + 0.005*\"name\" + 0.005*\"big\" + 0.005*\"start\" + 0.005*\"hear\" + 0.005*\"care\" + 0.005*\"laugh\" + 0.005*\"sorry\" + 0.005*\"friend\" + 0.005*\"point\" + 0.005*\"believe\" + 0.005*\"excuse\" + 0.004*\"live\" + 0.004*\"funny\" + 0.004*\"meet\" + 0.004*\"lot\" + 0.004*\"minute\" + 0.004*\"phone\" + 0.004*\"wait\" + 0.004*\"first\" + 0.004*\"always\" + 0.004*\"guy\"\n",
      "\n",
      "Topic  1\n",
      "0.012*\"call\" + 0.010*\"yes\" + 0.009*\"something\" + 0.009*\"george\" + 0.008*\"guy\" + 0.008*\"big\" + 0.008*\"little\" + 0.008*\"try\" + 0.008*\"wait\" + 0.007*\"give\" + 0.007*\"talk\" + 0.007*\"happen\" + 0.006*\"maybe\" + 0.006*\"leave\" + 0.006*\"parent\" + 0.006*\"door\" + 0.006*\"great\" + 0.006*\"nothing\" + 0.006*\"never\" + 0.006*\"read\" + 0.006*\"work\" + 0.006*\"need\" + 0.006*\"buy\" + 0.006*\"feel\" + 0.006*\"salad\" + 0.006*\"find\" + 0.005*\"man\" + 0.005*\"time\" + 0.005*\"ask\" + 0.005*\"coffee\" + 0.005*\"kramer\" + 0.005*\"night\" + 0.005*\"elaine\" + 0.005*\"day\" + 0.005*\"sure\" + 0.005*\"kid\" + 0.005*\"thank\" + 0.005*\"head\" + 0.004*\"break\" + 0.004*\"believe\" + 0.004*\"sit\" + 0.004*\"woman\" + 0.004*\"anything\" + 0.004*\"book\" + 0.004*\"live\" + 0.004*\"play\" + 0.004*\"use\" + 0.004*\"stop\" + 0.004*\"lunch\" + 0.004*\"hear\"\n",
      "\n",
      "Topic  2\n",
      "0.016*\"car\" + 0.012*\"something\" + 0.010*\"yes\" + 0.010*\"guy\" + 0.009*\"mean\" + 0.008*\"happen\" + 0.008*\"time\" + 0.007*\"george\" + 0.007*\"eat\" + 0.007*\"big\" + 0.007*\"people\" + 0.007*\"little\" + 0.007*\"give\" + 0.007*\"maybe\" + 0.007*\"walk\" + 0.007*\"never\" + 0.006*\"love\" + 0.006*\"much\" + 0.006*\"move\" + 0.006*\"day\" + 0.005*\"kramer\" + 0.005*\"feel\" + 0.005*\"leave\" + 0.005*\"need\" + 0.005*\"work\" + 0.005*\"ask\" + 0.005*\"pick\" + 0.005*\"anything\" + 0.005*\"call\" + 0.005*\"start\" + 0.005*\"change\" + 0.005*\"even\" + 0.005*\"find\" + 0.005*\"great\" + 0.005*\"elaine\" + 0.005*\"believe\" + 0.004*\"sit\" + 0.004*\"hear\" + 0.004*\"chair\" + 0.004*\"bar\" + 0.004*\"talk\" + 0.004*\"might\" + 0.004*\"whole\" + 0.004*\"bad\" + 0.004*\"thank\" + 0.004*\"pay\" + 0.004*\"nothing\" + 0.004*\"sorry\" + 0.004*\"stand\" + 0.004*\"use\"\n",
      "\n",
      "Topic  3\n",
      "0.017*\"elaine\" + 0.013*\"george\" + 0.011*\"time\" + 0.011*\"guy\" + 0.011*\"never\" + 0.010*\"work\" + 0.010*\"give\" + 0.009*\"kramer\" + 0.008*\"woman\" + 0.008*\"call\" + 0.007*\"leave\" + 0.007*\"something\" + 0.007*\"yes\" + 0.007*\"talk\" + 0.007*\"love\" + 0.007*\"little\" + 0.006*\"ask\" + 0.006*\"hear\" + 0.006*\"wait\" + 0.006*\"susan\" + 0.006*\"laugh\" + 0.006*\"try\" + 0.005*\"course\" + 0.005*\"start\" + 0.005*\"funny\" + 0.005*\"anything\" + 0.005*\"mean\" + 0.005*\"minute\" + 0.005*\"apartment\" + 0.005*\"nothing\" + 0.005*\"place\" + 0.005*\"ever\" + 0.004*\"key\" + 0.004*\"please\" + 0.004*\"happen\" + 0.004*\"need\" + 0.004*\"friend\" + 0.004*\"meet\" + 0.004*\"second\" + 0.004*\"phone\" + 0.004*\"life\" + 0.004*\"hand\" + 0.004*\"even\" + 0.004*\"speak\" + 0.004*\"sit\" + 0.004*\"people\" + 0.004*\"new\" + 0.004*\"god\" + 0.004*\"sure\" + 0.004*\"maybe\"\n",
      "\n",
      "Topic  4\n",
      "0.016*\"guy\" + 0.013*\"yes\" + 0.012*\"talk\" + 0.009*\"hand\" + 0.008*\"something\" + 0.008*\"never\" + 0.008*\"george\" + 0.007*\"man\" + 0.007*\"susan\" + 0.007*\"thank\" + 0.007*\"give\" + 0.007*\"time\" + 0.007*\"sure\" + 0.007*\"nothing\" + 0.006*\"maybe\" + 0.006*\"show\" + 0.006*\"friend\" + 0.006*\"call\" + 0.006*\"little\" + 0.006*\"leave\" + 0.006*\"god\" + 0.006*\"woman\" + 0.006*\"wait\" + 0.006*\"much\" + 0.006*\"mean\" + 0.005*\"believe\" + 0.005*\"listen\" + 0.005*\"fine\" + 0.005*\"dollar\" + 0.005*\"elaine\" + 0.005*\"kramer\" + 0.005*\"day\" + 0.005*\"feel\" + 0.005*\"people\" + 0.005*\"first\" + 0.005*\"even\" + 0.004*\"move\" + 0.004*\"nice\" + 0.004*\"bad\" + 0.004*\"mother\" + 0.004*\"life\" + 0.004*\"happen\" + 0.004*\"minute\" + 0.004*\"try\" + 0.004*\"ask\" + 0.004*\"smile\" + 0.004*\"story\" + 0.004*\"ever\" + 0.004*\"walk\" + 0.004*\"laugh\"\n"
     ]
    }
   ],
   "source": [
    "doc_word, feature_names, id2word, dictionary = vectorize_vis(data_grg, 0.03,.65)\n",
    "\n",
    "vis_data = lda_vis(doc_word, feature_names, id2word, dictionary, 5)"
   ]
  },
  {
   "cell_type": "code",
   "execution_count": 869,
   "metadata": {},
   "outputs": [
    {
     "name": "stderr",
     "output_type": "stream",
     "text": [
      "/opt/anaconda3/lib/python3.8/site-packages/ipykernel/ipkernel.py:287: DeprecationWarning: `should_run_async` will not call `transform_cell` automatically in the future. Please pass the result to `transformed_cell` argument and any exception that happen during thetransform in `preprocessing_exc_tuple` in IPython 7.17 and above.\n",
      "  and should_run_async(code)\n"
     ]
    },
    {
     "data": {
      "text/html": [
       "\n",
       "<link rel=\"stylesheet\" type=\"text/css\" href=\"https://cdn.jsdelivr.net/gh/bmabey/pyLDAvis@3.2.2/pyLDAvis/js/ldavis.v1.0.0.css\">\n",
       "\n",
       "\n",
       "<div id=\"ldavis_el290611402825844125607313560287\"></div>\n",
       "<script type=\"text/javascript\">\n",
       "\n",
       "var ldavis_el290611402825844125607313560287_data = {\"mdsDat\": {\"x\": [-0.002029291038582472, 0.028472976065565602, 0.03513619583132491, -0.013338705424711073, -0.04824117543359697], \"y\": [-0.007178604301415315, -0.040218551285440045, 0.02838053592106512, 0.030106017941625065, -0.01108939827583483], \"topics\": [1, 2, 3, 4, 5], \"cluster\": [1, 1, 1, 1, 1], \"Freq\": [24.494846778546535, 22.96870339782518, 20.182368001435282, 17.54271074154857, 14.811371080644435]}, \"tinfo\": {\"Term\": [\"car\", \"salad\", \"elaine\", \"bar\", \"read\", \"susan\", \"parent\", \"buy\", \"big\", \"chair\", \"call\", \"dad\", \"lunch\", \"ball\", \"candy\", \"key\", \"book\", \"machine\", \"tape\", \"plan\", \"soda\", \"yknow\", \"card\", \"kid\", \"plane\", \"night\", \"stop\", \"jerk\", \"talk\", \"eat\", \"dunno\", \"vandelay\", \"control\", \"interview\", \"key\", \"fight\", \"plenty\", \"camera\", \"superman\", \"sort\", \"age\", \"throat\", \"aware\", \"ignore\", \"bald\", \"plead\", \"sweater\", \"message\", \"quiet\", \"rest\", \"thinkin\", \"boss\", \"player\", \"photo\", \"woah\", \"baseball\", \"nod\", \"alone\", \"super\", \"vacation\", \"speak\", \"chinese\", \"elaine\", \"anyone\", \"truth\", \"work\", \"apartment\", \"someone\", \"place\", \"george\", \"time\", \"never\", \"susan\", \"kramer\", \"woman\", \"course\", \"give\", \"love\", \"funny\", \"hear\", \"guy\", \"laugh\", \"leave\", \"ask\", \"second\", \"call\", \"start\", \"wait\", \"try\", \"little\", \"something\", \"talk\", \"yes\", \"minute\", \"anything\", \"mean\", \"nothing\", \"jerk\", \"animate\", \"yknow\", \"married\", \"belong\", \"laughter\", \"doubt\", \"marry\", \"naked\", \"queen\", \"pack\", \"frustrated\", \"heart\", \"shout\", \"luck\", \"smile\", \"system\", \"indicate\", \"lock\", \"hot\", \"except\", \"remove\", \"pop\", \"mutter\", \"busy\", \"glass\", \"dog\", \"cry\", \"angry\", \"learn\", \"step\", \"ready\", \"fine\", \"susan\", \"hand\", \"guy\", \"talk\", \"story\", \"man\", \"yes\", \"sure\", \"idea\", \"mother\", \"god\", \"dollar\", \"thank\", \"friend\", \"show\", \"much\", \"nothing\", \"wear\", \"maybe\", \"never\", \"first\", \"listen\", \"something\", \"believe\", \"george\", \"wait\", \"give\", \"time\", \"leave\", \"woman\", \"little\", \"mean\", \"call\", \"feel\", \"day\", \"elaine\", \"candy\", \"bar\", \"car\", \"left\", \"funeral\", \"chair\", \"bout\", \"seventyfive\", \"switch\", \"note\", \"fabulous\", \"chip\", \"boyfriend\", \"police\", \"top\", \"shoot\", \"agree\", \"hip\", \"flip\", \"spot\", \"stomach\", \"disgusting\", \"white\", \"newspaper\", \"possible\", \"free\", \"death\", \"fair\", \"gun\", \"scared\", \"middle\", \"couch\", \"bite\", \"eat\", \"finger\", \"question\", \"park\", \"pull\", \"change\", \"might\", \"walk\", \"hospital\", \"yankee\", \"mean\", \"something\", \"move\", \"doctor\", \"big\", \"people\", \"pick\", \"much\", \"yes\", \"happen\", \"love\", \"maybe\", \"guy\", \"feel\", \"little\", \"time\", \"give\", \"day\", \"find\", \"george\", \"start\", \"never\", \"need\", \"leave\", \"anything\", \"kramer\", \"ask\", \"work\", \"call\", \"soda\", \"expensive\", \"less\", \"napkin\", \"exciting\", \"present\", \"exact\", \"christmas\", \"possibly\", \"hurry\", \"plane\", \"letter\", \"seven\", \"early\", \"whisper\", \"expect\", \"nose\", \"sport\", \"group\", \"cleaning\", \"sweetheart\", \"test\", \"low\", \"interrupt\", \"regular\", \"score\", \"crash\", \"traffic\", \"crack\", \"quit\", \"cab\", \"smart\", \"six\", \"conversation\", \"care\", \"shed\", \"stop\", \"sex\", \"excuse\", \"anymore\", \"kramer\", \"buy\", \"even\", \"show\", \"name\", \"woman\", \"live\", \"need\", \"elaine\", \"anything\", \"happen\", \"talk\", \"great\", \"people\", \"sorry\", \"something\", \"call\", \"point\", \"little\", \"day\", \"time\", \"nice\", \"mean\", \"give\", \"try\", \"never\", \"george\", \"nothing\", \"leave\", \"yes\", \"maybe\", \"ask\", \"salad\", \"birthday\", \"kitchen\", \"machine\", \"ball\", \"lovely\", \"instead\", \"hook\", \"clothe\", \"laundry\", \"fun\", \"plan\", \"dad\", \"prove\", \"town\", \"fake\", \"bump\", \"towards\", \"book\", \"bust\", \"card\", \"york\", \"serious\", \"toe\", \"moment\", \"iim\", \"gut\", \"read\", \"fish\", \"damn\", \"tape\", \"voice\", \"parent\", \"lunch\", \"pause\", \"sell\", \"door\", \"call\", \"buy\", \"big\", \"try\", \"kid\", \"night\", \"wait\", \"break\", \"find\", \"yes\", \"little\", \"something\", \"feel\", \"george\", \"great\", \"coffee\", \"happen\", \"guy\", \"maybe\", \"need\", \"nothing\", \"leave\", \"give\", \"talk\", \"work\", \"never\", \"man\", \"ask\", \"time\"], \"Freq\": [112.0, 26.0, 210.0, 26.0, 50.0, 93.0, 58.0, 73.0, 123.0, 32.0, 184.0, 27.0, 36.0, 22.0, 18.0, 36.0, 31.0, 22.0, 23.0, 25.0, 17.0, 21.0, 28.0, 60.0, 27.0, 63.0, 87.0, 14.0, 193.0, 83.0, 9.805786517103186, 14.932660160703135, 5.207785907357239, 9.593336755506456, 26.458574580956327, 12.669066401199968, 4.948991976434918, 6.823482263679512, 6.574852539917687, 14.12983394702243, 5.685731263400373, 6.810511798291631, 9.801020843088823, 4.91006134974517, 19.705233388540602, 5.279908072455608, 7.0299964359829294, 11.101685517951855, 5.256227952257752, 12.186320056903627, 5.184461027423403, 4.611067577410275, 6.353365130344197, 8.649620714673315, 6.824374560090712, 6.0497423955532375, 10.558807766051535, 8.353953124062457, 6.095439020618036, 4.987284149658032, 22.694584406020436, 12.082332560405916, 99.25518150215566, 16.885168342703484, 9.209636012145168, 59.71329820472652, 28.713712503308845, 20.361689424775314, 27.18607866999505, 80.65081811164116, 65.62731574279277, 63.31098139133608, 35.83958884598427, 55.81633488576608, 49.5715578930554, 31.583301398551274, 58.304840487072866, 39.93288534708303, 30.215041774080554, 37.66083854759665, 64.8415802221291, 34.57146781562314, 44.078855308116914, 38.17214117421882, 25.36584713732837, 47.18366640432185, 31.290085525195643, 37.541668026271374, 33.723170848147866, 39.23420327127629, 43.91997899507696, 40.032260314483345, 40.58172749356449, 28.879237683337585, 29.872618131239562, 29.019213536031216, 27.67655079074197, 12.948434366815725, 10.576233536036076, 16.44439900580905, 7.066237086796528, 6.109115369191026, 6.724287529983013, 8.652069016240494, 17.13647498161517, 14.521639044055778, 6.542555948399277, 5.481373987654856, 4.840946011009624, 5.950303263448977, 15.869517726861037, 6.438151122976869, 23.264519753964663, 5.2296607278327345, 6.22896771018802, 7.335542403312459, 11.643117333595116, 3.8104243326846134, 3.6873179677450576, 9.993211459657957, 7.946643837528039, 8.789413416218201, 15.371438625907293, 8.847406844032426, 6.2249258354108, 8.145488470366786, 3.5343670394358737, 15.772445848491461, 9.71040743545808, 28.253226648043093, 40.559311114954006, 50.33912417625076, 89.0242197930315, 70.23237152153297, 23.19398497362138, 42.146508914800464, 73.97994220968552, 38.87901905068973, 19.793626017020696, 23.78777073826492, 34.664363962584346, 27.936743394072355, 39.6711137227189, 35.80687685021156, 35.89543089059345, 33.407710734476744, 38.091488208714, 18.837583618993925, 36.383619070207224, 44.15330367602638, 26.278378697191307, 28.664338557570307, 45.848897685423886, 29.935239328695335, 44.06759809509164, 33.9389825189514, 39.47826042827072, 39.385399601137244, 35.06416072104801, 34.22255636161144, 35.24777881686505, 32.95067462931401, 35.380562665402856, 26.81750866260856, 27.30974133989039, 27.567356431953325, 14.991691593422738, 20.74318074752278, 78.35402418507809, 7.087682635471553, 7.554144530871873, 20.843359478038273, 5.557232830583888, 4.825613735687628, 4.719795097290001, 6.932318254749908, 4.619601098085856, 6.963704916850473, 10.353363592748627, 5.134381767037144, 9.627626688133688, 7.8660959397612364, 4.395189690657631, 4.435732956534348, 4.914620395524817, 11.404210058809939, 3.8001619797403388, 4.797132733846511, 6.413692180965871, 4.19387375930311, 5.5975640633502595, 9.512493285392543, 5.491734189502492, 4.953731285552835, 3.3902253459090934, 4.344877344927863, 7.199140605574383, 9.55438999087851, 8.569885688924536, 36.1884514963615, 16.066648759308926, 16.227993280390038, 13.07447322907075, 14.064050192718987, 23.758381460249165, 19.515154113628288, 33.58303012116439, 8.946330310151941, 14.815068012504218, 42.731779453403895, 59.410525165189924, 30.342836926575586, 13.479829832483126, 35.598568469254765, 35.497578481621424, 24.78107937855814, 30.702491175877437, 51.443782063068866, 37.425849071850216, 32.15464141682347, 33.72333150839749, 48.99679090603947, 26.594727634982952, 35.28196155076866, 37.23433707905303, 35.07591607108186, 27.420124134699194, 23.41742299998133, 36.75537502515009, 24.062033616634647, 32.91265287218855, 25.114750353011676, 26.53497117318882, 24.632810616733003, 26.67005470214122, 24.880707283928274, 25.062855249254405, 24.28619640371745, 12.838024979317161, 4.337770663013541, 8.433967469277562, 4.100109701961373, 6.003458759723433, 7.606757880546712, 4.86347042859573, 11.185826431513991, 4.791420161156878, 3.7114078619160633, 15.21217356725381, 5.764920364489548, 10.467018527257283, 4.668068540747541, 7.266430108773176, 5.048522900139579, 15.620629195215505, 9.432802082151548, 4.4251579991629715, 3.4089457322054537, 5.31026572342229, 8.954761716703398, 4.193104203121372, 5.98530057985668, 3.6841630798369804, 4.60666367340378, 4.6041705984285555, 4.965880319376905, 3.14003744684801, 5.8261449371384355, 7.587379205759384, 7.399863708356124, 9.64411347436654, 10.2607794257914, 20.837507274879254, 6.1487817927960995, 28.88171367277912, 16.625837225553273, 19.746401843717745, 12.030768504304252, 42.846060645352566, 22.615327152972778, 31.46181689721863, 28.94587855141024, 21.769722997997455, 34.877900546475985, 18.97216634207093, 28.47015897933999, 42.92534623906042, 29.415874768555447, 32.64581816827655, 39.54633919216661, 28.200580348290632, 29.13996579044164, 20.509627349330945, 41.44807561404675, 35.27874773831402, 20.158381231327024, 31.66736286574644, 25.6604324315095, 32.37612334731272, 21.82480302728133, 26.67115247132443, 29.8120603408938, 24.868095342497377, 28.937032091715107, 29.61836173709357, 24.488260495709667, 24.061024170365307, 26.035701815968128, 22.617903363835083, 22.142113677161273, 20.511227902615676, 7.95673145799566, 6.955102123378545, 12.98911802120114, 12.157228806796052, 4.664121717540825, 4.585760477666744, 3.503748080013138, 10.262216219813094, 4.764904623212246, 9.456813036830587, 12.750739509969256, 13.68046018684308, 4.151278016388442, 6.00506892092156, 8.841428672214011, 4.117088210795421, 4.6017612745482195, 14.995721377503164, 4.470536219602599, 13.424278299593182, 5.195022923273516, 6.773133810332941, 7.349483435801147, 5.9477542618455175, 2.912023676526144, 3.282194063565139, 21.86652554717301, 6.065112185010054, 3.6175268497408397, 9.679147198365829, 12.557576432053878, 22.890952032052216, 14.230272616901955, 12.081876516754392, 9.322875022058549, 22.796614097340004, 42.700012145977944, 21.093790358309818, 30.349404611405003, 28.787521165003078, 17.31744499673547, 17.635273991063517, 28.646261203168336, 16.053469571572084, 20.488732662159702, 36.11368650813157, 29.218644985399013, 33.96705197136257, 20.789167592363746, 31.425536321903692, 22.571336949459393, 18.23274926894565, 24.225396757844003, 30.858893054417948, 23.395792586285232, 21.25067351834695, 22.06999415141156, 23.177030601279544, 24.364780988726437, 24.245698289512653, 21.858305481863532, 21.87611224062447, 18.732356719872595, 18.266243498024572, 18.508644090595126], \"Total\": [112.0, 26.0, 210.0, 26.0, 50.0, 93.0, 58.0, 73.0, 123.0, 32.0, 184.0, 27.0, 36.0, 22.0, 18.0, 36.0, 31.0, 22.0, 23.0, 25.0, 17.0, 21.0, 28.0, 60.0, 27.0, 63.0, 87.0, 14.0, 193.0, 83.0, 12.830310055438176, 19.732290194990824, 6.922293110423604, 12.833272802064599, 36.54646517917486, 17.71377890746466, 6.935408795772622, 9.851639130900798, 9.8435867026439, 21.694864154494326, 8.851208525049262, 10.801640163495275, 15.709733469278559, 7.895239596868135, 32.55990265228601, 8.79589108390383, 11.803701623242713, 18.67678738424897, 8.85049145543027, 20.659877593941452, 8.798366083300458, 7.834997817615397, 10.807206290870694, 14.82203645132788, 11.71115633347421, 10.672467766179288, 18.655535695876107, 14.769631485974067, 10.7980065667543, 8.83512511288423, 40.33547793266674, 21.634505200353768, 210.09128130270557, 32.138154495055204, 16.69084593571869, 140.56814191387696, 61.76308478937885, 42.7291492995858, 60.689336100953085, 222.51768929088018, 193.13181986089091, 191.1900822718906, 93.04780802428483, 170.84436292478892, 149.76438935242263, 82.20734032640992, 187.03585831604568, 114.93646043321584, 82.09756544731538, 113.30363673183494, 250.92090273034455, 102.74537307846083, 152.9160419739986, 126.75586502588621, 66.93311820494439, 184.82918535773413, 97.75583419822377, 135.38405030939322, 125.14102221861324, 170.64995149005546, 224.5945294311001, 193.6044857491481, 228.15484009041856, 98.63420128935516, 120.35321614571492, 144.87297585054762, 131.00354476404038, 14.549648104238221, 12.584322366493824, 21.437742871435976, 9.684604617550477, 8.664423784286015, 9.722807643607192, 12.586657232217146, 25.05119176479744, 21.298067975245505, 9.618278483281903, 8.758176027370522, 7.753267142589607, 9.669845943446916, 25.898563785917077, 10.67674074956645, 38.73460141401647, 8.792797624787513, 10.606614734572974, 12.522093230447451, 20.34537843324111, 6.7598289418447655, 6.715947380432575, 18.403173881996054, 14.701500949060035, 16.330340571389712, 28.680771644632465, 16.522141203584034, 11.674983531061521, 15.315137465384915, 6.6836117056190085, 30.04350858006181, 18.478359965819976, 60.8169743151044, 93.04780802428483, 119.93870127340644, 250.92090273034455, 193.6044857491481, 52.29313173377513, 108.89343855697027, 228.15484009041856, 102.6909816240352, 44.63196313626196, 56.54358476503906, 92.9429046506083, 70.56559513624934, 111.8758287938029, 102.4593674688938, 104.56069151298807, 105.46913216625923, 131.00354476404038, 46.30556167293249, 137.73894663987375, 191.1900822718906, 80.71504877680412, 93.54539354412657, 224.5945294311001, 102.87190216277337, 222.51768929088018, 135.38405030939322, 187.03585831604568, 193.13181986089091, 152.9160419739986, 149.76438935242263, 170.64995149005546, 144.87297585054762, 184.82918535773413, 96.6870006596657, 117.24647122677739, 210.09128130270557, 18.435154015807257, 26.174733726220353, 112.73326652057382, 10.707595538492114, 11.654645764008153, 32.192737176646894, 8.72300785882256, 7.7845063522885924, 7.718127605268375, 11.571799794990733, 7.757938901602369, 11.710570377368592, 17.5614732422151, 8.725373542072461, 16.561533840563893, 13.674438233872765, 7.648470975454089, 7.7413301621024555, 8.711392902994334, 20.437706817040628, 6.8144238858289015, 8.694203540119542, 11.712673927596418, 7.715326177094777, 10.623426935409627, 18.37305532591262, 10.655006747596719, 9.685932915881931, 6.787610454120404, 8.711453311863739, 14.446007461524529, 19.540953395246888, 17.513998085543324, 83.98151202458979, 35.145584718399775, 35.75323313810135, 28.141858002859756, 31.925293501124493, 61.01602044533458, 48.21154516492216, 95.84303106500451, 18.64030472520697, 35.8204857943591, 144.87297585054762, 224.5945294311001, 96.96007442514397, 32.44752642634212, 123.93735962542839, 125.13418141365172, 76.55172973700692, 105.46913216625923, 228.15484009041856, 144.12181484985337, 114.93646043321584, 137.73894663987375, 250.92090273034455, 96.6870006596657, 170.64995149005546, 193.13181986089091, 187.03585831604568, 117.24647122677739, 88.64418660530475, 222.51768929088018, 97.75583419822377, 191.1900822718906, 113.30640648742258, 152.9160419739986, 120.35321614571492, 170.84436292478892, 126.75586502588621, 140.56814191387696, 184.82918535773413, 17.731275544600038, 6.565115952264684, 13.113814581477316, 6.53683468371939, 10.317566356346155, 13.178346681958836, 8.512381594494919, 19.776855611353625, 8.474504493786862, 6.603918405368566, 27.381366346534644, 10.41969655231488, 18.93956068951014, 8.565721229411967, 13.33504898738266, 9.454256805915023, 29.394704480193745, 17.92180029160834, 8.526511337314616, 6.61091974861964, 10.466885911269294, 17.945754458390315, 8.540412005938474, 12.195723809857304, 7.514852116185136, 9.417144487255126, 9.493449950909543, 10.434134906193831, 6.625257278099517, 12.393011902026362, 16.227813248598757, 16.084247776468512, 21.90667596932313, 23.722662065021407, 55.24167571256044, 13.342663461334357, 87.97513935942425, 45.04369104996453, 58.32082503003013, 31.360192880790223, 170.84436292478892, 73.1623058895637, 117.16268691547273, 104.56069151298807, 73.60046851733559, 149.76438935242263, 62.02838152767578, 113.30640648742258, 210.09128130270557, 120.35321614571492, 144.12181484985337, 193.6044857491481, 116.04844391291549, 125.13418141365172, 71.79637583774637, 224.5945294311001, 184.82918535773413, 74.03749335040682, 170.64995149005546, 117.24647122677739, 193.13181986089091, 92.45990638546795, 144.87297585054762, 187.03585831604568, 125.14102221861324, 191.1900822718906, 222.51768929088018, 131.00354476404038, 152.9160419739986, 228.15484009041856, 137.73894663987375, 126.75586502588621, 26.624937001563733, 11.416326158057238, 11.414322207850672, 22.90229695129613, 22.112524470749946, 8.625682303866991, 8.605697870071769, 6.6735161417739945, 20.06246250796488, 9.414731115867328, 18.98710488336723, 25.60586901618744, 27.900083929302326, 8.570003600764828, 12.418804845269854, 18.32394883901516, 8.643336405599204, 9.683561835594697, 31.70011149121415, 9.523404334152445, 28.61162631143474, 11.43165303162682, 15.136817179835031, 16.460099512296228, 13.410133508205979, 6.614723364393763, 7.541096400282909, 50.40607741248897, 14.358239203516735, 8.667318113197748, 23.34247164442364, 30.652941818568884, 58.511815486453926, 36.57121651097072, 30.582330476639925, 23.05163443873409, 78.9361816057974, 184.82918535773413, 73.1623058895637, 123.93735962542839, 125.14102221861324, 60.994655615557946, 63.1685103280025, 135.38405030939322, 57.6038804609597, 88.64418660530475, 228.15484009041856, 170.64995149005546, 224.5945294311001, 96.6870006596657, 222.51768929088018, 116.04844391291549, 75.54014839088038, 144.12181484985337, 250.92090273034455, 137.73894663987375, 113.30640648742258, 131.00354476404038, 152.9160419739986, 187.03585831604568, 193.6044857491481, 140.56814191387696, 191.1900822718906, 108.89343855697027, 126.75586502588621, 193.13181986089091], \"Category\": [\"Default\", \"Default\", \"Default\", \"Default\", \"Default\", \"Default\", \"Default\", \"Default\", \"Default\", \"Default\", \"Default\", \"Default\", \"Default\", \"Default\", \"Default\", \"Default\", \"Default\", \"Default\", \"Default\", \"Default\", \"Default\", \"Default\", \"Default\", \"Default\", \"Default\", \"Default\", \"Default\", \"Default\", \"Default\", \"Default\", \"Topic1\", \"Topic1\", \"Topic1\", \"Topic1\", \"Topic1\", \"Topic1\", \"Topic1\", \"Topic1\", \"Topic1\", \"Topic1\", \"Topic1\", \"Topic1\", \"Topic1\", \"Topic1\", \"Topic1\", \"Topic1\", \"Topic1\", \"Topic1\", \"Topic1\", \"Topic1\", \"Topic1\", \"Topic1\", \"Topic1\", \"Topic1\", \"Topic1\", \"Topic1\", \"Topic1\", \"Topic1\", \"Topic1\", \"Topic1\", \"Topic1\", \"Topic1\", \"Topic1\", \"Topic1\", \"Topic1\", \"Topic1\", \"Topic1\", \"Topic1\", \"Topic1\", \"Topic1\", \"Topic1\", \"Topic1\", \"Topic1\", \"Topic1\", \"Topic1\", \"Topic1\", \"Topic1\", \"Topic1\", \"Topic1\", \"Topic1\", \"Topic1\", \"Topic1\", \"Topic1\", \"Topic1\", \"Topic1\", \"Topic1\", \"Topic1\", \"Topic1\", \"Topic1\", \"Topic1\", \"Topic1\", \"Topic1\", \"Topic1\", \"Topic1\", \"Topic1\", \"Topic1\", \"Topic1\", \"Topic2\", \"Topic2\", \"Topic2\", \"Topic2\", \"Topic2\", \"Topic2\", \"Topic2\", \"Topic2\", \"Topic2\", \"Topic2\", \"Topic2\", \"Topic2\", \"Topic2\", \"Topic2\", \"Topic2\", \"Topic2\", \"Topic2\", \"Topic2\", \"Topic2\", \"Topic2\", \"Topic2\", \"Topic2\", \"Topic2\", \"Topic2\", \"Topic2\", \"Topic2\", \"Topic2\", \"Topic2\", \"Topic2\", \"Topic2\", \"Topic2\", \"Topic2\", \"Topic2\", \"Topic2\", \"Topic2\", \"Topic2\", \"Topic2\", \"Topic2\", \"Topic2\", \"Topic2\", \"Topic2\", \"Topic2\", \"Topic2\", \"Topic2\", \"Topic2\", \"Topic2\", \"Topic2\", \"Topic2\", \"Topic2\", \"Topic2\", \"Topic2\", \"Topic2\", \"Topic2\", \"Topic2\", \"Topic2\", \"Topic2\", \"Topic2\", \"Topic2\", \"Topic2\", \"Topic2\", \"Topic2\", \"Topic2\", \"Topic2\", \"Topic2\", \"Topic2\", \"Topic2\", \"Topic2\", \"Topic2\", \"Topic2\", \"Topic3\", \"Topic3\", \"Topic3\", \"Topic3\", \"Topic3\", \"Topic3\", \"Topic3\", \"Topic3\", \"Topic3\", \"Topic3\", \"Topic3\", \"Topic3\", \"Topic3\", \"Topic3\", \"Topic3\", \"Topic3\", \"Topic3\", \"Topic3\", \"Topic3\", \"Topic3\", \"Topic3\", \"Topic3\", \"Topic3\", \"Topic3\", \"Topic3\", \"Topic3\", \"Topic3\", \"Topic3\", \"Topic3\", \"Topic3\", \"Topic3\", \"Topic3\", \"Topic3\", \"Topic3\", \"Topic3\", \"Topic3\", \"Topic3\", \"Topic3\", \"Topic3\", \"Topic3\", \"Topic3\", \"Topic3\", \"Topic3\", \"Topic3\", \"Topic3\", \"Topic3\", \"Topic3\", \"Topic3\", \"Topic3\", \"Topic3\", \"Topic3\", \"Topic3\", \"Topic3\", \"Topic3\", \"Topic3\", \"Topic3\", \"Topic3\", \"Topic3\", \"Topic3\", \"Topic3\", \"Topic3\", \"Topic3\", \"Topic3\", \"Topic3\", \"Topic3\", \"Topic3\", \"Topic3\", \"Topic3\", \"Topic3\", \"Topic3\", \"Topic3\", \"Topic3\", \"Topic4\", \"Topic4\", \"Topic4\", \"Topic4\", \"Topic4\", \"Topic4\", \"Topic4\", \"Topic4\", \"Topic4\", \"Topic4\", \"Topic4\", \"Topic4\", \"Topic4\", \"Topic4\", \"Topic4\", \"Topic4\", \"Topic4\", \"Topic4\", \"Topic4\", \"Topic4\", \"Topic4\", \"Topic4\", \"Topic4\", \"Topic4\", \"Topic4\", \"Topic4\", \"Topic4\", \"Topic4\", \"Topic4\", \"Topic4\", \"Topic4\", \"Topic4\", \"Topic4\", \"Topic4\", \"Topic4\", \"Topic4\", \"Topic4\", \"Topic4\", \"Topic4\", \"Topic4\", \"Topic4\", \"Topic4\", \"Topic4\", \"Topic4\", \"Topic4\", \"Topic4\", \"Topic4\", \"Topic4\", \"Topic4\", \"Topic4\", \"Topic4\", \"Topic4\", \"Topic4\", \"Topic4\", \"Topic4\", \"Topic4\", \"Topic4\", \"Topic4\", \"Topic4\", \"Topic4\", \"Topic4\", \"Topic4\", \"Topic4\", \"Topic4\", \"Topic4\", \"Topic4\", \"Topic4\", \"Topic4\", \"Topic4\", \"Topic4\", \"Topic4\", \"Topic4\", \"Topic5\", \"Topic5\", \"Topic5\", \"Topic5\", \"Topic5\", \"Topic5\", \"Topic5\", \"Topic5\", \"Topic5\", \"Topic5\", \"Topic5\", \"Topic5\", \"Topic5\", \"Topic5\", \"Topic5\", \"Topic5\", \"Topic5\", \"Topic5\", \"Topic5\", \"Topic5\", \"Topic5\", \"Topic5\", \"Topic5\", \"Topic5\", \"Topic5\", \"Topic5\", \"Topic5\", \"Topic5\", \"Topic5\", \"Topic5\", \"Topic5\", \"Topic5\", \"Topic5\", \"Topic5\", \"Topic5\", \"Topic5\", \"Topic5\", \"Topic5\", \"Topic5\", \"Topic5\", \"Topic5\", \"Topic5\", \"Topic5\", \"Topic5\", \"Topic5\", \"Topic5\", \"Topic5\", \"Topic5\", \"Topic5\", \"Topic5\", \"Topic5\", \"Topic5\", \"Topic5\", \"Topic5\", \"Topic5\", \"Topic5\", \"Topic5\", \"Topic5\", \"Topic5\", \"Topic5\", \"Topic5\", \"Topic5\", \"Topic5\", \"Topic5\", \"Topic5\", \"Topic5\"], \"logprob\": [30.0, 29.0, 28.0, 27.0, 26.0, 25.0, 24.0, 23.0, 22.0, 21.0, 20.0, 19.0, 18.0, 17.0, 16.0, 15.0, 14.0, 13.0, 12.0, 11.0, 10.0, 9.0, 8.0, 7.0, 6.0, 5.0, 4.0, 3.0, 2.0, 1.0, -6.4177, -5.9971, -7.0505, -6.4396, -5.4251, -6.1615, -7.1015, -6.7803, -6.8174, -6.0524, -6.9627, -6.7822, -6.4182, -7.1094, -5.7198, -7.0368, -6.7505, -6.2936, -7.0412, -6.2003, -7.055, -7.1722, -6.8517, -6.5431, -6.7802, -6.9006, -6.3437, -6.5779, -6.8931, -7.0938, -5.5785, -6.2089, -4.103, -5.8742, -6.4804, -4.6111, -5.3433, -5.687, -5.398, -4.3105, -4.5167, -4.5526, -5.1216, -4.6786, -4.7972, -5.248, -4.635, -5.0135, -5.2923, -5.072, -4.5287, -5.1576, -4.9147, -5.0586, -5.4673, -4.8466, -5.2574, -5.0752, -5.1825, -5.0311, -4.9183, -5.011, -4.9973, -5.3375, -5.3037, -5.3327, -5.3801, -6.0754, -6.2777, -5.8363, -6.681, -6.8265, -6.7306, -6.4785, -5.7951, -5.9607, -6.758, -6.935, -7.0592, -6.8529, -5.8719, -6.7741, -5.4894, -6.982, -6.8071, -6.6436, -6.1816, -7.2986, -7.3314, -6.3344, -6.5636, -6.4628, -5.9038, -6.4562, -6.8078, -6.5389, -7.3738, -5.8781, -6.3631, -5.2951, -4.9336, -4.7175, -4.1474, -4.3845, -5.4924, -4.8952, -4.3325, -4.9759, -5.651, -5.4672, -5.0906, -5.3064, -4.9557, -5.0582, -5.0557, -5.1275, -4.9963, -5.7005, -5.0422, -4.8487, -5.3676, -5.2807, -4.811, -5.2373, -4.8506, -5.1118, -4.9606, -4.9629, -5.0791, -5.1034, -5.0739, -5.1413, -5.0702, -5.3473, -5.3291, -5.3197, -5.7995, -5.4748, -4.1458, -6.5486, -6.4849, -5.47, -6.7919, -6.9331, -6.9552, -6.5708, -6.9767, -6.5663, -6.1697, -6.871, -6.2424, -6.4444, -7.0265, -7.0173, -6.9148, -6.073, -7.172, -6.939, -6.6486, -7.0734, -6.7847, -6.2544, -6.8038, -6.9069, -7.2861, -7.038, -6.533, -6.25, -6.3588, -4.9183, -5.7303, -5.7203, -5.9363, -5.8634, -5.3391, -5.5358, -4.993, -6.3158, -5.8114, -4.7521, -4.4225, -5.0944, -5.9058, -4.9347, -4.9375, -5.2969, -5.0827, -4.5665, -4.8846, -5.0364, -4.9888, -4.6153, -5.2263, -4.9436, -4.8898, -4.9495, -5.1957, -5.3535, -4.9027, -5.3264, -5.0131, -5.2836, -5.2285, -5.3029, -5.2235, -5.2929, -5.2856, -5.3171, -5.8144, -6.8995, -6.2346, -6.9558, -6.5745, -6.3378, -6.7851, -5.9522, -6.8, -7.0554, -5.6447, -6.615, -6.0186, -6.8261, -6.3836, -6.7477, -5.6182, -6.1226, -6.8795, -7.1404, -6.6972, -6.1746, -6.9334, -6.5775, -7.0628, -6.8393, -6.8399, -6.7642, -7.2226, -6.6045, -6.3403, -6.3654, -6.1005, -6.0385, -5.3301, -6.5506, -5.0036, -5.5559, -5.3839, -5.8794, -4.6092, -5.2482, -4.9181, -5.0014, -5.2863, -4.815, -5.4239, -5.018, -4.6074, -4.9853, -4.8811, -4.6894, -5.0275, -4.9947, -5.3459, -4.6424, -4.8036, -5.3632, -4.9115, -5.1219, -4.8894, -5.2838, -5.0833, -4.9719, -5.1532, -5.0017, -4.9784, -5.1686, -5.1862, -5.1074, -5.2481, -5.2694, -5.1766, -6.1236, -6.2581, -5.6335, -5.6997, -6.6577, -6.6746, -6.9438, -5.8691, -6.6363, -5.9509, -5.652, -5.5816, -6.7742, -6.405, -6.0181, -6.7824, -6.6712, -5.4898, -6.7001, -5.6005, -6.5499, -6.2846, -6.203, -6.4146, -7.1287, -7.0091, -5.1126, -6.395, -6.9118, -5.9276, -5.6673, -5.0669, -5.5422, -5.7059, -5.9651, -5.071, -4.4434, -5.1486, -4.7848, -4.8376, -5.3459, -5.3277, -4.8426, -5.4217, -5.1777, -4.6109, -4.8228, -4.6722, -5.1632, -4.75, -5.0809, -5.2944, -5.0102, -4.7682, -5.045, -5.1412, -5.1034, -5.0544, -5.0045, -5.0094, -5.113, -5.1122, -5.2673, -5.2925, -5.2794], \"loglift\": [30.0, 29.0, 28.0, 27.0, 26.0, 25.0, 24.0, 23.0, 22.0, 21.0, 20.0, 19.0, 18.0, 17.0, 16.0, 15.0, 14.0, 13.0, 12.0, 11.0, 10.0, 9.0, 8.0, 7.0, 6.0, 5.0, 4.0, 3.0, 2.0, 1.0, 1.1379, 1.128, 1.1221, 1.1157, 1.0837, 1.0715, 1.0693, 1.0394, 1.0031, 0.9779, 0.9641, 0.9455, 0.9349, 0.9317, 0.9045, 0.8963, 0.8885, 0.8865, 0.8856, 0.8788, 0.8778, 0.8766, 0.8755, 0.8681, 0.8667, 0.8391, 0.8375, 0.8369, 0.8349, 0.8349, 0.8316, 0.8242, 0.6569, 0.7631, 0.8121, 0.5506, 0.6408, 0.6655, 0.6036, 0.3918, 0.3273, 0.3015, 0.4526, 0.288, 0.3011, 0.4501, 0.2411, 0.3495, 0.4071, 0.3053, 0.0535, 0.3175, 0.1628, 0.2066, 0.4364, 0.0413, 0.2675, 0.124, 0.0955, -0.0634, -0.2252, -0.1694, -0.32, 0.1784, 0.0132, -0.2012, -0.1479, 1.3544, 1.2972, 1.2059, 1.1558, 1.1216, 1.1023, 1.0962, 1.0913, 1.0881, 1.0857, 1.0024, 1.0, 0.9855, 0.9813, 0.9652, 0.9612, 0.9515, 0.9388, 0.9363, 0.9129, 0.8978, 0.8715, 0.8604, 0.8558, 0.8516, 0.8473, 0.8465, 0.8422, 0.8397, 0.8339, 0.8267, 0.8276, 0.7044, 0.6407, 0.6028, 0.4348, 0.457, 0.6581, 0.5218, 0.3448, 0.4998, 0.6579, 0.6052, 0.4848, 0.5444, 0.4343, 0.4197, 0.4019, 0.3214, 0.2358, 0.5716, 0.1398, 0.0054, 0.3489, 0.2882, -0.1179, 0.2366, -0.1482, 0.0875, -0.0845, -0.1189, -0.0017, -0.0051, -0.1062, -0.0098, -0.1822, 0.1886, 0.014, -0.5599, 1.3936, 1.3678, 1.2366, 1.1878, 1.1668, 1.1657, 1.1495, 1.1222, 1.1086, 1.088, 1.082, 1.0806, 1.072, 1.0701, 1.0579, 1.0474, 1.0464, 1.0435, 1.0279, 1.017, 1.0164, 1.0057, 0.9981, 0.9908, 0.9596, 0.9421, 0.9376, 0.9298, 0.9062, 0.9047, 0.9039, 0.8848, 0.8856, 0.7585, 0.8176, 0.8105, 0.8338, 0.7806, 0.6572, 0.696, 0.5517, 0.8663, 0.7175, 0.3794, 0.2705, 0.4386, 0.7219, 0.3529, 0.3404, 0.4725, 0.3663, 0.1108, 0.2521, 0.3265, 0.1932, -0.033, 0.3096, 0.0241, -0.0458, -0.0734, 0.1474, 0.2692, -0.2004, 0.1985, -0.1591, 0.0937, -0.1511, 0.014, -0.2569, -0.0278, -0.1239, -0.4292, 1.4176, 1.3261, 1.2991, 1.2741, 1.199, 1.191, 1.1808, 1.1707, 1.1703, 1.1643, 1.1528, 1.1486, 1.1475, 1.1335, 1.1334, 1.1132, 1.1083, 1.0987, 1.0847, 1.0782, 1.062, 1.0454, 1.0292, 1.0288, 1.0277, 1.0255, 1.0169, 0.998, 0.9939, 0.9858, 0.9803, 0.9642, 0.9201, 0.9024, 0.7656, 0.9658, 0.6267, 0.7439, 0.6575, 0.7825, 0.3574, 0.5665, 0.4257, 0.4562, 0.5224, 0.2833, 0.5559, 0.3593, 0.1525, 0.3316, 0.2556, 0.1522, 0.3259, 0.2833, 0.4876, 0.0507, 0.0844, 0.4396, 0.0562, 0.2212, -0.0454, 0.2968, 0.0483, -0.0959, 0.1247, -0.1476, -0.2761, 0.0635, -0.1088, -0.43, -0.0661, -0.0042, 1.6489, 1.5487, 1.4144, 1.3426, 1.3116, 1.2949, 1.2803, 1.2655, 1.2394, 1.2288, 1.2128, 1.2125, 1.1971, 1.1849, 1.1832, 1.181, 1.1681, 1.1658, 1.1612, 1.1535, 1.153, 1.1211, 1.1056, 1.1035, 1.0968, 1.0893, 1.0779, 1.0746, 1.048, 1.036, 1.0295, 1.0174, 0.9713, 0.9659, 0.9811, 1.0045, 0.6677, 0.4445, 0.6661, 0.5028, 0.4403, 0.6507, 0.6339, 0.3567, 0.6321, 0.445, 0.0664, 0.145, 0.0209, 0.3727, -0.0476, 0.2724, 0.4883, 0.1265, -0.1859, 0.137, 0.2361, 0.1288, 0.023, -0.1284, -0.1678, 0.0487, -0.2581, 0.1497, -0.0274, -0.4354]}, \"token.table\": {\"Topic\": [1, 2, 3, 4, 3, 4, 1, 2, 3, 4, 5, 1, 2, 3, 4, 5, 1, 2, 4, 5, 1, 2, 3, 4, 5, 1, 2, 3, 4, 5, 1, 2, 3, 4, 5, 1, 2, 3, 4, 5, 1, 2, 3, 4, 5, 1, 2, 3, 4, 5, 1, 2, 3, 4, 1, 2, 3, 4, 5, 2, 3, 4, 5, 1, 4, 1, 2, 3, 4, 5, 2, 3, 4, 1, 2, 3, 4, 5, 1, 3, 4, 5, 1, 2, 3, 5, 1, 2, 3, 4, 5, 1, 2, 4, 5, 1, 3, 4, 1, 2, 3, 1, 2, 3, 4, 5, 1, 4, 5, 1, 2, 4, 5, 2, 3, 4, 5, 1, 2, 3, 4, 5, 1, 2, 3, 4, 5, 1, 2, 3, 4, 5, 1, 3, 4, 1, 2, 3, 4, 5, 1, 2, 3, 4, 5, 1, 2, 3, 4, 5, 1, 2, 3, 4, 5, 1, 2, 3, 4, 5, 1, 2, 3, 4, 5, 1, 2, 3, 4, 5, 1, 2, 3, 1, 2, 4, 5, 1, 4, 5, 1, 2, 3, 4, 5, 1, 2, 3, 4, 5, 1, 5, 1, 2, 3, 4, 5, 1, 2, 3, 4, 5, 1, 2, 3, 4, 5, 1, 2, 3, 4, 5, 1, 3, 4, 5, 1, 2, 3, 1, 2, 3, 4, 5, 1, 2, 3, 4, 5, 1, 2, 3, 4, 5, 2, 3, 5, 1, 3, 4, 5, 1, 2, 3, 4, 5, 1, 2, 3, 4, 5, 1, 2, 3, 4, 5, 1, 2, 3, 4, 5, 2, 3, 5, 1, 4, 5, 1, 4, 1, 2, 3, 4, 5, 1, 2, 3, 4, 5, 1, 2, 3, 4, 5, 1, 2, 4, 2, 3, 5, 2, 4, 5, 1, 2, 3, 4, 5, 1, 2, 4, 3, 4, 1, 3, 4, 5, 1, 2, 3, 4, 1, 2, 3, 5, 1, 2, 3, 4, 5, 1, 2, 3, 4, 5, 1, 2, 3, 4, 5, 1, 2, 3, 4, 5, 1, 2, 3, 4, 5, 1, 2, 3, 4, 5, 1, 3, 4, 5, 1, 3, 5, 1, 2, 3, 4, 5, 1, 2, 3, 4, 5, 1, 2, 5, 1, 2, 3, 4, 5, 1, 2, 3, 4, 1, 2, 3, 4, 5, 1, 2, 3, 4, 5, 1, 2, 3, 4, 5, 1, 2, 3, 4, 5, 1, 2, 3, 4, 5, 1, 2, 3, 4, 5, 1, 2, 4, 5, 1, 3, 4, 5, 2, 4, 5, 1, 2, 3, 4, 5, 1, 2, 3, 4, 5, 1, 2, 3, 4, 5, 1, 2, 3, 4, 5, 2, 3, 4, 5, 1, 2, 3, 4, 5, 1, 4, 5, 1, 2, 3, 5, 1, 2, 3, 4, 5, 1, 2, 4, 5, 1, 2, 3, 4, 5, 1, 3, 2, 4, 5, 1, 2, 4, 5, 2, 3, 5, 2, 3, 4, 5, 1, 3, 4, 5, 2, 3, 1, 2, 3, 4, 5, 1, 2, 3, 4, 5, 1, 2, 3, 4, 5, 1, 2, 3, 4, 5, 1, 2, 3, 4, 5, 1, 2, 5, 1, 4, 5, 2, 4, 1, 2, 3, 4, 5, 1, 2, 3, 3, 4, 5, 1, 2, 4, 1, 2, 3, 4, 5, 1, 2, 3, 4, 5, 1, 2, 3, 4, 5, 1, 2, 3, 4, 5, 1, 2, 3, 4, 5, 1, 2, 5, 1, 2, 3, 4, 5, 2, 3, 1, 2, 3, 4, 5, 1, 2, 3, 4, 5, 1, 2, 3, 4, 5, 2, 3, 4, 1, 2, 3, 4, 5, 1, 2, 3, 4, 5, 1, 2, 3, 4, 5, 1, 2, 3, 4, 5, 1, 2, 3, 4, 5, 1, 2, 3, 4, 5, 1, 2, 3, 4, 5, 1, 2, 4, 5, 1, 2, 3, 4, 5, 1, 2, 3, 4, 5, 1, 2, 3, 4, 5, 1, 2, 1, 2, 3, 4, 5, 1, 2, 3, 4, 5, 4, 5, 1, 2, 3, 4, 5, 1, 2, 3, 4, 5, 2, 3, 5, 1, 2, 3, 4, 5, 1, 2, 3, 4, 5, 1, 2, 3, 4, 5, 1, 2, 3, 4, 5, 1, 2, 3, 4, 5, 1, 2, 3, 4, 5, 1, 2, 3, 1, 2, 3, 4, 5, 1, 2, 3, 4, 5, 1, 2, 3, 4, 5, 1, 2, 3, 4, 5, 1, 2, 3, 1, 2, 3, 4, 5, 1, 2, 3, 4, 5, 1, 2, 3, 4, 5, 1, 2, 3, 4, 5, 1, 3, 4, 5, 1, 4, 5, 1, 3, 1, 2, 3, 4, 5, 1, 3, 4, 2, 3, 4, 5, 1, 2, 3, 4, 2, 3, 4, 1, 2, 3, 4, 5, 1, 2, 4, 5, 1, 2, 3, 4, 5, 1, 2, 4, 5, 1, 2, 3, 4, 5, 1, 2, 5, 1, 2, 4, 5, 1, 2, 3, 4, 5, 1, 2, 3, 4, 5, 2, 4, 5, 2, 4, 5, 1, 2, 4, 5, 1, 2, 3, 4, 5, 2, 3, 5, 1, 2, 4, 5, 1, 2, 3, 4, 5, 1, 2, 3, 4, 5, 1, 2, 4, 5, 1, 2, 3, 4, 1, 2, 3, 1, 2, 3, 4, 5, 1, 3, 4, 1, 2, 3, 4, 1, 2, 3, 4, 5, 1, 2, 3, 4, 5, 1, 2, 3, 4, 5, 2, 4, 5, 1, 2, 3, 4, 5, 1, 3, 4, 5, 1, 2, 3, 4, 5, 1, 2, 3, 4, 5, 1, 2, 3, 4, 5, 1, 2, 3, 4, 5, 1, 2, 3, 4, 5, 1, 3, 4, 5, 1, 2, 3, 4, 1, 2, 3, 4, 5, 1, 2, 3, 4, 5, 1, 2, 3, 1, 2, 3, 4, 5, 1, 2, 3, 4, 5, 1, 3, 4, 5, 1, 3, 4, 1, 2, 3, 4, 5, 1, 2, 3, 4, 5, 1, 2, 4, 1, 3, 4, 3, 4, 5, 1, 2, 1, 2, 3, 4, 5, 1, 2, 4, 5, 1, 2, 3, 4, 5, 1, 2, 3, 4, 5, 1, 2, 4, 5, 1, 2, 5, 1, 2, 3, 4, 5, 1, 4, 5, 1, 2, 3, 4, 5, 1, 5, 1, 2, 3, 4, 5, 1, 3, 4, 5, 1, 2, 3, 5, 1, 2, 3, 4, 5, 1, 2, 5, 1, 2, 4, 5, 1, 2, 3, 4, 5, 1, 2, 3, 4, 5, 1, 2, 3, 4, 5, 1, 2, 3, 4, 5, 1, 2, 4, 1, 3, 4, 1, 4, 5, 1, 2, 3, 4, 5, 1, 2, 3, 4, 5, 1, 2, 3, 4, 5, 1, 2, 3, 4, 5, 1, 2, 3, 1, 2, 3, 4, 5], \"Freq\": [0.6778735336558581, 0.11297892227597636, 0.11297892227597636, 0.11297892227597636, 0.5229803463773386, 0.2614901731886693, 0.541651970639699, 0.2708259853198495, 0.06770649632996238, 0.06770649632996238, 0.06770649632996238, 0.06529487588734921, 0.5223590070987937, 0.06529487588734921, 0.19588462766204764, 0.13058975177469842, 0.07946395291513933, 0.8741034820665327, 0.07946395291513933, 0.07946395291513933, 0.19132535385888258, 0.09566267692944129, 0.09566267692944129, 0.38265070771776516, 0.22321291283536301, 0.5289662790878559, 0.031115663475756228, 0.12446265390302491, 0.2178096443302936, 0.09334699042726868, 0.24926629267370953, 0.17448640487159667, 0.2077219105614246, 0.24095741625125255, 0.12463314633685477, 0.46953613309461856, 0.2914362205414874, 0.09714540684716247, 0.06476360456477498, 0.08095450570596872, 0.29978888939174214, 0.18145116989500185, 0.1972295324945672, 0.17356198859521915, 0.1420052633960884, 0.636548036894176, 0.1273096073788352, 0.0636548036894176, 0.1273096073788352, 0.0636548036894176, 0.6142524507393087, 0.061425245073930865, 0.24570098029572346, 0.061425245073930865, 0.2713394396888828, 0.045223239948147136, 0.09044647989629427, 0.045223239948147136, 0.5426788793777656, 0.0382047821559406, 0.8023004252747526, 0.0382047821559406, 0.1146143464678218, 0.5621942489265519, 0.28109712446327595, 0.14581241023681688, 0.29162482047363375, 0.21385820168066477, 0.1944165469824225, 0.155533237585938, 0.6924869038471697, 0.11541448397452829, 0.11541448397452829, 0.15330324978217258, 0.13716606559457548, 0.2904693153767481, 0.17750902606356825, 0.24205776281395672, 0.17518770682532323, 0.08759385341266161, 0.08759385341266161, 0.7007508273012929, 0.22838874256254155, 0.05709718564063539, 0.5138746707657185, 0.22838874256254155, 0.22081941263645352, 0.09463689112990865, 0.09463689112990865, 0.09463689112990865, 0.47318445564954326, 0.6381622709273151, 0.12763245418546304, 0.12763245418546304, 0.12763245418546304, 0.11463935561958566, 0.687836133717514, 0.11463935561958566, 0.11388566166489411, 0.22777132332978822, 0.5694283083244706, 0.15623947428506377, 0.19095935745952236, 0.20831929904675167, 0.15623947428506377, 0.2777590653956689, 0.34708819132118734, 0.11569606377372911, 0.46278425509491644, 0.1050044674060347, 0.2100089348120694, 0.1050044674060347, 0.4200178696241388, 0.5511213903136681, 0.12247142006970403, 0.12247142006970403, 0.18370713010455605, 0.09567768422398126, 0.16401888724111074, 0.15035064663768485, 0.31436953387879557, 0.2870330526719438, 0.30811298622947497, 0.12324519449178999, 0.06162259724589499, 0.49298077796715994, 0.06162259724589499, 0.2542888446379948, 0.18936403324105996, 0.1298496227938697, 0.18936403324105996, 0.23264724083901653, 0.7105416577880624, 0.10150595111258034, 0.10150595111258034, 0.05424419015661861, 0.05424419015661861, 0.8136628523492792, 0.05424419015661861, 0.05424419015661861, 0.06209347263722284, 0.16853942572960484, 0.6918986951004831, 0.06209347263722284, 0.017740992182063667, 0.17475413475541346, 0.03495082695108269, 0.13980330780433076, 0.17475413475541346, 0.454360750364075, 0.1086136494341674, 0.1629204741512511, 0.23532957377402938, 0.3801477730195859, 0.1086136494341674, 0.21744034878394583, 0.031062906969135117, 0.6523210463518375, 0.09318872090740535, 0.031062906969135117, 0.11472396837600107, 0.3113936284491458, 0.3933393201462894, 0.08194569169714362, 0.09833483003657235, 0.5546694915769913, 0.13866737289424783, 0.1848898305256638, 0.04622245763141595, 0.0924449152628319, 0.170785874261524, 0.170785874261524, 0.597750559915334, 0.1516924661308515, 0.1516924661308515, 0.5562057091464555, 0.101128310753901, 0.15126488265249324, 0.45379464795747976, 0.15126488265249324, 0.19937731962923214, 0.049844329907308034, 0.09968865981461607, 0.14953298972192408, 0.4984432990730803, 0.09266595511275272, 0.29123585892579423, 0.14561792946289712, 0.21180789740057762, 0.23828388457564983, 0.7223039995909721, 0.1444607999181944, 0.12646135546581175, 0.12646135546581175, 0.21076892577635292, 0.42153785155270584, 0.12646135546581175, 0.3070474545760613, 0.10234915152535377, 0.5117457576267689, 0.05117457576267689, 0.10234915152535377, 0.38925964363938537, 0.1459723663647695, 0.08515054704611555, 0.20679418568342348, 0.1703010940922311, 0.15093753465327375, 0.15093753465327375, 0.15093753465327375, 0.45281260395982126, 0.15093753465327375, 0.2106715693812011, 0.10533578469060055, 0.5266789234530027, 0.10533578469060055, 0.08565322574883986, 0.5139193544930392, 0.34261290299535946, 0.25089530259972387, 0.14336874434269936, 0.03584218608567484, 0.07168437217134968, 0.5017906051994477, 0.2307518858635862, 0.2307518858635862, 0.1153759429317931, 0.1153759429317931, 0.4615037717271724, 0.1620517854499034, 0.23028411616565217, 0.23028411616565217, 0.2217550748261836, 0.1535227441104348, 0.2815577757073371, 0.46926295951222846, 0.09385259190244569, 0.11501916137406767, 0.5750958068703383, 0.11501916137406767, 0.11501916137406767, 0.4314658632540406, 0.09245697069729442, 0.4006468730216092, 0.06163798046486295, 0.030818990232431474, 0.18157452856953132, 0.544723585708594, 0.12104968571302088, 0.06052484285651044, 0.12104968571302088, 0.170054542540599, 0.396793932594731, 0.22673939005413202, 0.170054542540599, 0.056684847513533004, 0.24070077388446368, 0.20269538853428518, 0.10134769426714259, 0.1520215414007139, 0.29137462101803496, 0.7150429088482173, 0.15889842418849273, 0.07944921209424637, 0.7794043913819106, 0.07794043913819107, 0.07794043913819107, 0.3502332050801458, 0.5837220084669097, 0.14288859191397268, 0.1547959745734704, 0.42866577574191805, 0.1547959745734704, 0.11907382659497723, 0.4712237432516676, 0.13327540213178476, 0.10947622317968035, 0.20467293898809805, 0.08567704422757592, 0.1963082326423036, 0.22191365429129972, 0.20484337319196896, 0.26458935703962655, 0.11095682714564986, 0.23495187308019994, 0.11747593654009997, 0.5873796827004998, 0.5917309497640032, 0.1479327374410008, 0.1479327374410008, 0.2907662423857107, 0.5815324847714214, 0.0969220807952369, 0.12002573688550551, 0.2229049399302245, 0.274344541452584, 0.34293067681573003, 0.051439601522359504, 0.10577246001762439, 0.3173173800528732, 0.528862300088122, 0.1523202342915273, 0.6092809371661092, 0.1289002159830692, 0.644501079915346, 0.1289002159830692, 0.1289002159830692, 0.1032425073232037, 0.2064850146464074, 0.5162125366160185, 0.1032425073232037, 0.2182935586178478, 0.05457338965446195, 0.16372016896338587, 0.49116050689015756, 0.15513977988415825, 0.27925160379148484, 0.27925160379148484, 0.07239856394594052, 0.21719569183782156, 0.7338919644368908, 0.05645322803360698, 0.05645322803360698, 0.16935968410082095, 0.05645322803360698, 0.180496890013118, 0.180496890013118, 0.25946427939385713, 0.1466537231356584, 0.2256211125163975, 0.14798500092045477, 0.4603977806414149, 0.16442777880050533, 0.18087055668055585, 0.04932833364015159, 0.19917153338283453, 0.2560776857779301, 0.45524921916076466, 0.05690615239509558, 0.02845307619754779, 0.12389263404464172, 0.3221208485160685, 0.21061747787589094, 0.21061747787589094, 0.12389263404464172, 0.06964642292315842, 0.3482321146157922, 0.13929284584631685, 0.4178785375389506, 0.11479220500504275, 0.5739610250252137, 0.2295844100100855, 0.10885505782912873, 0.16328258674369311, 0.5442752891456437, 0.10885505782912873, 0.10885505782912873, 0.253759130495252, 0.3513587960703489, 0.1366395318051357, 0.19519933115019383, 0.06831976590256784, 0.12897788527198845, 0.6448894263599422, 0.12897788527198845, 0.05266732375171127, 0.26333661875855635, 0.05266732375171127, 0.15800197125513382, 0.47400591376540147, 0.1716053872848195, 0.08580269364240975, 0.686421549139278, 0.08580269364240975, 0.3654188749269545, 0.17052880829924544, 0.0730837749853909, 0.23143195412040451, 0.15834817913501362, 0.36401600366303893, 0.197737088409552, 0.16627891525348693, 0.13482074209742181, 0.13931476683400254, 0.3101009641797881, 0.20851616556916786, 0.18712989217745832, 0.16039705043782143, 0.12831764035025714, 0.03486656539058451, 0.5229984808587678, 0.03486656539058451, 0.2091993923435071, 0.17433282695292257, 0.23670445939582557, 0.3765752763115407, 0.15063011052461628, 0.16138940413351743, 0.07531505526230814, 0.18957600169554306, 0.17234181972322096, 0.1981930926817041, 0.24127854761250936, 0.1981930926817041, 0.23456252163148947, 0.11728126081574473, 0.46912504326297894, 0.11728126081574473, 0.14732725261110885, 0.44198175783332655, 0.14732725261110885, 0.14732725261110885, 0.1326067121967151, 0.3978201365901453, 0.3978201365901453, 0.2590457761498376, 0.35469344734362374, 0.19528066202064678, 0.06775043376226521, 0.12354490862530715, 0.2001022167589656, 0.41687961824784503, 0.13340147783931042, 0.13340147783931042, 0.11672629310939661, 0.1804029461264202, 0.16652579642438786, 0.25672726948759794, 0.2289729700835333, 0.16652579642438786, 0.33538199740170505, 0.16769099870085252, 0.19416852481151345, 0.18534268277462648, 0.12356178851641765, 0.6204855832337323, 0.20682852774457744, 0.10341426387228872, 0.10341426387228872, 0.1291767666615593, 0.1291767666615593, 0.5167070666462372, 0.1291767666615593, 0.1291767666615593, 0.14984604498673976, 0.14984604498673976, 0.599384179946959, 0.37553034154715387, 0.05364719164959341, 0.4828247248463407, 0.05364719164959341, 0.0983024231553402, 0.5898145389320413, 0.1966048463106804, 0.0491512115776701, 0.0491512115776701, 0.15142525067951532, 0.15142525067951532, 0.6057010027180613, 0.15142525067951532, 0.2240546751096265, 0.448109350219253, 0.11202733755481326, 0.06721640253288795, 0.15683827257673855, 0.6332930037972994, 0.25331720151891973, 0.15117790191845001, 0.30235580383690003, 0.45353370575535007, 0.09428078845368379, 0.5656847307221028, 0.09428078845368379, 0.09428078845368379, 0.2324041617769833, 0.11620208088849165, 0.5810104044424583, 0.08199595330223376, 0.08199595330223376, 0.4919757198134026, 0.32798381320893505, 0.7792244546060935, 0.07792244546060935, 0.07792244546060935, 0.07792244546060935, 0.8934923997380515, 0.06873018459523474, 0.711423112263549, 0.05472485478950377, 0.05472485478950377, 0.05472485478950377, 0.08208728218425565, 0.08197439512593374, 0.19673854830224097, 0.18034366927705422, 0.2459231853778012, 0.2787129434281747, 0.08760923178707962, 0.08760923178707962, 0.17521846357415924, 0.08760923178707962, 0.6132646225095574, 0.32778371519728144, 0.15803857697011783, 0.15803857697011783, 0.25169106702648397, 0.10535905131341189, 0.3406479430783952, 0.22385436259437397, 0.1751903707260318, 0.2043887658470371, 0.06812958861567904, 0.20570189942151254, 0.7199566479752939, 0.10285094971075627, 0.10621652256373287, 0.3186495676911986, 0.5310826128186643, 0.5984788129802847, 0.29923940649014236, 0.2877395950876209, 0.22888376881969844, 0.17656747880376736, 0.15694887004779323, 0.15040933379580185, 0.09339164861104045, 0.1867832972220809, 0.6537415402772832, 0.22876638840367375, 0.6100437024097967, 0.07625546280122458, 0.1919441693871279, 0.1919441693871279, 0.5758325081613838, 0.21379994505625488, 0.31000992033156954, 0.1496599615393784, 0.18172995329781663, 0.1496599615393784, 0.22853800812403222, 0.20509821241900328, 0.20509821241900328, 0.18751836564023158, 0.16993851886145986, 0.19345982765398848, 0.17733817534948945, 0.09672991382699424, 0.3063113937854818, 0.2418247845674856, 0.07985885279695103, 0.5590119695786572, 0.07985885279695103, 0.07985885279695103, 0.2395765583908531, 0.34801837336240327, 0.15660826801308148, 0.2784146986899226, 0.10440551200872097, 0.12180643067684115, 0.11593285780438362, 0.23186571560876723, 0.5796642890219181, 0.23418073959538763, 0.11709036979769381, 0.11709036979769381, 0.46836147919077525, 0.11709036979769381, 0.561969250798156, 0.280984625399078, 0.10937563421769332, 0.3554708112075033, 0.13671954277211665, 0.02734390855442333, 0.3828147197619266, 0.08732748528469378, 0.08732748528469378, 0.17465497056938756, 0.08732748528469378, 0.5676286543505096, 0.16529921580704662, 0.38569817021644215, 0.12856605673881405, 0.14693263627293032, 0.17448250557410477, 0.7227966733215493, 0.10325666761736418, 0.10325666761736418, 0.0399182605517884, 0.6786104293804027, 0.0798365211035768, 0.11975478165536518, 0.0399182605517884, 0.15972243535098496, 0.26136398511979353, 0.24684376372424946, 0.16698254604875698, 0.16698254604875698, 0.20017535934318548, 0.22778575373534898, 0.29681173971575775, 0.18637016214710372, 0.0966363803725723, 0.5889663877245198, 0.16062719665214176, 0.10708479776809451, 0.10708479776809451, 0.10708479776809451, 0.13844655731535488, 0.06922327865767744, 0.4845629506037421, 0.13844655731535488, 0.20766983597303232, 0.14519343812886282, 0.18667727759425218, 0.4148383946538937, 0.18667727759425218, 0.08296767893077875, 0.2940156621223611, 0.23318483547635535, 0.15207706661501436, 0.18249247993801723, 0.12166165329201149, 0.07457047309693646, 0.37285236548468226, 0.07457047309693646, 0.44742283858161874, 0.30065302846718545, 0.42445133430661475, 0.1237983058394293, 0.05305641678832684, 0.10611283357665369, 0.21658399216898927, 0.2578380859154634, 0.30940570309855614, 0.12376228123942244, 0.09282171092956684, 0.17066604825784662, 0.31288775513938544, 0.2939248608885136, 0.13274025975610293, 0.09481447125435923, 0.40812159389641234, 0.5441621251952165, 0.0469526156627112, 0.7042892349406681, 0.0939052313254224, 0.0469526156627112, 0.1408578469881336, 0.14945557034611948, 0.2038030504719811, 0.17662931040905028, 0.29891114069223895, 0.1630424403775849, 0.6119169588244875, 0.30595847941224374, 0.2294662835581684, 0.1147331417790842, 0.22064065726746962, 0.24711753613956597, 0.18533815210467447, 0.32951500021014674, 0.23013746046422948, 0.17260309534817211, 0.15168150803324215, 0.11506873023211474, 0.12961214821594907, 0.5184485928637963, 0.25922429643189815, 0.2271254733100249, 0.2595719694971713, 0.17304797966478086, 0.2379409720390737, 0.09733948856143924, 0.22162941515171086, 0.07915336255418244, 0.17413739761920138, 0.2532907601733838, 0.2849521051950568, 0.5896373162005528, 0.10720678476373686, 0.10720678476373686, 0.05360339238186843, 0.1608101771456053, 0.20411839840209386, 0.13607893226806256, 0.03401973306701564, 0.5443157290722502, 0.06803946613403128, 0.08641698073906236, 0.08641698073906236, 0.6049188651734365, 0.17283396147812471, 0.08641698073906236, 0.213734674511539, 0.29006848683708863, 0.14503424341854432, 0.18320114958131914, 0.1679343871162092, 0.11417902504755105, 0.5708951252377552, 0.2283580500951021, 0.17090565242015265, 0.256358478630229, 0.06836226096806106, 0.11963395669410685, 0.3930830005663511, 0.07106851295308084, 0.35534256476540416, 0.46194533419502537, 0.07106851295308084, 0.03553425647654042, 0.1961917194172973, 0.13079447961153154, 0.09809585970864865, 0.1961917194172973, 0.3923834388345946, 0.1758112751565087, 0.21576838314662433, 0.2796997559308093, 0.23175122634267056, 0.08790563757825436, 0.6072040120501596, 0.26986844980007096, 0.06746711245001774, 0.23513511793709832, 0.18288286950663205, 0.32657655269041436, 0.10450449686093259, 0.15675674529139888, 0.4448887026064532, 0.16477359355794563, 0.2142056716253293, 0.08238679677897282, 0.09886415613476737, 0.07810709328926295, 0.07810709328926295, 0.11716063993389442, 0.23432127986778883, 0.5076961063802091, 0.1460847479039787, 0.03652118697599468, 0.1826059348799734, 0.5478178046399201, 0.10956356092798403, 0.5551851087610361, 0.18506170292034538, 0.09253085146017269, 0.18506170292034538, 0.5684472388647266, 0.11368944777294532, 0.22737889554589064, 0.7209380365650079, 0.1441876073130016, 0.20260005196296368, 0.25662673248642065, 0.18909338183209945, 0.2701334026172849, 0.06753335065432123, 0.2292165476189983, 0.5730413690474957, 0.11460827380949914, 0.5433845305229151, 0.3260307183137491, 0.05433845305229152, 0.05433845305229152, 0.09413158353514305, 0.09413158353514305, 0.5647895012108582, 0.1882631670702861, 0.2360019988739534, 0.1180009994369767, 0.5900049971848835, 0.07588205289583105, 0.1517641057916621, 0.1517641057916621, 0.6070564231666484, 0.07588205289583105, 0.11668606532566161, 0.11668606532566161, 0.23337213065132323, 0.46674426130264646, 0.1566156314216465, 0.1879387577059758, 0.4385237679806102, 0.1566156314216465, 0.0626462525686586, 0.10396870934213008, 0.7277809653949106, 0.20793741868426016, 0.10396870934213008, 0.1118779939299335, 0.223755987859867, 0.447511975719734, 0.13984749241241687, 0.08390849544745012, 0.5649403793200909, 0.22597615172803637, 0.11298807586401818, 0.32276254002031307, 0.16138127001015654, 0.4841438100304696, 0.08069063500507827, 0.11903326559018054, 0.15871102078690738, 0.07935551039345369, 0.21822765358199767, 0.43645530716399533, 0.16235207050567246, 0.5411735683522415, 0.2164694273408966, 0.05411735683522415, 0.05411735683522415, 0.13306981754787256, 0.5322792701914902, 0.2661396350957451, 0.5955972811303294, 0.14889932028258235, 0.14889932028258235, 0.5808359679497338, 0.2420149866457224, 0.04840299732914448, 0.09680599465828896, 0.07511754863053896, 0.03755877431526948, 0.11267632294580844, 0.03755877431526948, 0.7887342606206591, 0.3443742269633052, 0.4591656359510736, 0.1147914089877684, 0.10618930200692676, 0.21237860401385353, 0.5309465100346338, 0.21237860401385353, 0.37350717657366267, 0.20916401888125108, 0.11952229650357205, 0.19422373181830457, 0.07470143531473253, 0.13014261561249835, 0.34704697496666226, 0.04338087187083278, 0.08676174374166556, 0.39042784683749504, 0.13212817306562707, 0.06606408653281354, 0.3303204326640677, 0.4624486057296947, 0.21119814052579575, 0.1583986053943468, 0.10559907026289787, 0.5279953513144894, 0.1284602972552019, 0.2569205945104038, 0.6423014862760095, 0.26640800787593205, 0.1776053385839547, 0.13320400393796603, 0.37741134449090374, 0.06660200196898301, 0.22484266418722815, 0.2997902189163042, 0.4496853283744563, 0.21938744017788905, 0.07312914672596302, 0.5850331738077041, 0.07312914672596302, 0.038612179743487254, 0.6177948758957961, 0.07722435948697451, 0.19306089871743629, 0.038612179743487254, 0.1721488232292737, 0.3442976464585474, 0.11476588215284912, 0.2773508818693854, 0.09563823512737427, 0.18259274047789698, 0.22824092559737122, 0.13694455535842273, 0.45648185119474244, 0.045648185119474244, 0.435208416164858, 0.435208416164858, 0.062172630880693996, 0.12908355365677532, 0.5937843468211665, 0.05163342146271013, 0.05163342146271013, 0.1549002643881304, 0.056397521852540634, 0.11279504370508127, 0.7331677840830283, 0.056397521852540634, 0.46806454909210826, 0.04680645490921082, 0.14041936472763247, 0.23403227454605413, 0.09361290981842164, 0.19590860076357328, 0.20481353716191752, 0.26269562375115507, 0.18255119616605692, 0.1513839187718521, 0.13928279642692745, 0.19499591499769842, 0.26463731321116213, 0.2924938724965476, 0.1253545167842347, 0.6453140199589472, 0.13828157570548869, 0.04609385856849623, 0.04609385856849623, 0.13828157570548869, 0.5702176143392824, 0.12396035094332226, 0.17354449132065117, 0.07437621056599336, 0.07437621056599336, 0.16739389744258634, 0.055797965814195445, 0.502181692327759, 0.22319186325678178, 0.09785833694083686, 0.29357501082251053, 0.5382208531746027, 0.04892916847041843, 0.3171166228006397, 0.13298439020671987, 0.24550964345855977, 0.21482093802623978, 0.08183654781951992, 0.19971036285628313, 0.532560967616755, 0.06657012095209437, 0.09985518142814157, 0.09985518142814157, 0.14674754854619096, 0.2934950970923819, 0.5869901941847638, 0.21597010403558564, 0.10230162822738267, 0.19323640887394505, 0.32963857984378864, 0.15913586613148417, 0.17210673183275946, 0.43982831468371864, 0.17210673183275946, 0.0956148510181997, 0.11473782122183965, 0.5556581173485524, 0.2778290586742762, 0.09260968622475874, 0.09260968622475874, 0.7111229078847715, 0.10158898684068164, 0.10158898684068164, 0.21423497615929712, 0.3797801850096631, 0.15580725538857973, 0.08764158115607609, 0.17528316231215219, 0.38689788361918476, 0.440633700788516, 0.10747163433866244, 0.06448298060319746, 0.010747163433866244, 0.5930343059685848, 0.25415755970082204, 0.08471918656694069, 0.2866182000484036, 0.19107880003226907, 0.4776970000806727, 0.6478255162025324, 0.12956510324050646, 0.2591302064810129, 0.34118833709339447, 0.5686472284889907, 0.20660678312912495, 0.36156187047596866, 0.10330339156456247, 0.20660678312912495, 0.12396406987747496, 0.47124401252631815, 0.08568072955023967, 0.042840364775119835, 0.4284036477511983, 0.11144697229850511, 0.22289394459701023, 0.11144697229850511, 0.501511375343273, 0.11144697229850511, 0.16983114408938763, 0.35753925071450027, 0.16983114408938763, 0.1519541815536626, 0.1519541815536626, 0.568287333427753, 0.11365746668555059, 0.11365746668555059, 0.11365746668555059, 0.6480497307859668, 0.09257853296942384, 0.2777355989082715, 0.34173550504281747, 0.20193461661621032, 0.19157899525127645, 0.16568994183894178, 0.0983784029668717, 0.42527081897474395, 0.060752974139249134, 0.42527081897474395, 0.18114264227460317, 0.12076176151640211, 0.6038088075820106, 0.060380880758201055, 0.060380880758201055, 0.41307114757060337, 0.5163389344632543, 0.16104609299515416, 0.08052304649757708, 0.08052304649757708, 0.16104609299515416, 0.48313827898546247, 0.19167856444071615, 0.09583928222035808, 0.47919641110179034, 0.19167856444071615, 0.5392177265706976, 0.17973924219023252, 0.059913080730077506, 0.17973924219023252, 0.27169348145969435, 0.18379264922273444, 0.11187378648340357, 0.1997746187203635, 0.23173855771562168, 0.5659229423597544, 0.22636917694390174, 0.11318458847195087, 0.7601753193254704, 0.050678354621698035, 0.10135670924339607, 0.050678354621698035, 0.19573977713177698, 0.065246592377259, 0.16311648094314748, 0.16311648094314748, 0.4241028504521835, 0.2806829897108159, 0.2511374118465195, 0.13295510038933386, 0.13295510038933386, 0.21420543951614898, 0.1878070820589104, 0.23997571596416328, 0.35474671055571966, 0.1356384481536575, 0.08346981424840462, 0.2375524581193009, 0.4103178822060652, 0.04319135602169107, 0.19436110209760982, 0.10797839005422767, 0.3749517534379434, 0.07499035068758868, 0.5249324548131208, 0.2561328026840782, 0.5122656053681564, 0.08537760089469272, 0.5977206520582236, 0.08538866457974623, 0.25616599373923865, 0.33385773624957654, 0.22702326064971204, 0.10683447559986449, 0.23370041537470357, 0.10015732087487296, 0.42683924809051466, 0.16362171176803061, 0.17784968670438112, 0.07825386214992769, 0.15650772429985538, 0.1395849299393752, 0.16750191592725025, 0.41875478981812564, 0.05583397197575008, 0.22333588790300032, 0.17970252125158317, 0.3243411359174916, 0.22353240448367662, 0.11395769640344298, 0.15778757963553644, 0.18658680738864863, 0.7463472295545945, 0.04664670184716216, 0.08747641283665619, 0.08747641283665619, 0.17495282567331238, 0.17495282567331238, 0.43738206418328096], \"Term\": [\"age\", \"age\", \"age\", \"age\", \"agree\", \"agree\", \"alone\", \"alone\", \"alone\", \"alone\", \"alone\", \"angry\", \"angry\", \"angry\", \"angry\", \"angry\", \"animate\", \"animate\", \"animate\", \"animate\", \"anymore\", \"anymore\", \"anymore\", \"anymore\", \"anymore\", \"anyone\", \"anyone\", \"anyone\", \"anyone\", \"anyone\", \"anything\", \"anything\", \"anything\", \"anything\", \"anything\", \"apartment\", \"apartment\", \"apartment\", \"apartment\", \"apartment\", \"ask\", \"ask\", \"ask\", \"ask\", \"ask\", \"aware\", \"aware\", \"aware\", \"aware\", \"aware\", \"bald\", \"bald\", \"bald\", \"bald\", \"ball\", \"ball\", \"ball\", \"ball\", \"ball\", \"bar\", \"bar\", \"bar\", \"bar\", \"baseball\", \"baseball\", \"believe\", \"believe\", \"believe\", \"believe\", \"believe\", \"belong\", \"belong\", \"belong\", \"big\", \"big\", \"big\", \"big\", \"big\", \"birthday\", \"birthday\", \"birthday\", \"birthday\", \"bite\", \"bite\", \"bite\", \"bite\", \"book\", \"book\", \"book\", \"book\", \"book\", \"boss\", \"boss\", \"boss\", \"boss\", \"bout\", \"bout\", \"bout\", \"boyfriend\", \"boyfriend\", \"boyfriend\", \"break\", \"break\", \"break\", \"break\", \"break\", \"bump\", \"bump\", \"bump\", \"bust\", \"bust\", \"bust\", \"bust\", \"busy\", \"busy\", \"busy\", \"busy\", \"buy\", \"buy\", \"buy\", \"buy\", \"buy\", \"cab\", \"cab\", \"cab\", \"cab\", \"cab\", \"call\", \"call\", \"call\", \"call\", \"call\", \"camera\", \"camera\", \"camera\", \"candy\", \"candy\", \"candy\", \"candy\", \"candy\", \"car\", \"car\", \"car\", \"car\", \"car\", \"card\", \"card\", \"card\", \"card\", \"card\", \"care\", \"care\", \"care\", \"care\", \"care\", \"chair\", \"chair\", \"chair\", \"chair\", \"chair\", \"change\", \"change\", \"change\", \"change\", \"change\", \"chinese\", \"chinese\", \"chinese\", \"chinese\", \"chinese\", \"chip\", \"chip\", \"chip\", \"christmas\", \"christmas\", \"christmas\", \"christmas\", \"cleaning\", \"cleaning\", \"cleaning\", \"clothe\", \"clothe\", \"clothe\", \"clothe\", \"clothe\", \"coffee\", \"coffee\", \"coffee\", \"coffee\", \"coffee\", \"control\", \"control\", \"conversation\", \"conversation\", \"conversation\", \"conversation\", \"conversation\", \"couch\", \"couch\", \"couch\", \"couch\", \"couch\", \"course\", \"course\", \"course\", \"course\", \"course\", \"crack\", \"crack\", \"crack\", \"crack\", \"crack\", \"crash\", \"crash\", \"crash\", \"crash\", \"cry\", \"cry\", \"cry\", \"dad\", \"dad\", \"dad\", \"dad\", \"dad\", \"damn\", \"damn\", \"damn\", \"damn\", \"damn\", \"day\", \"day\", \"day\", \"day\", \"day\", \"death\", \"death\", \"death\", \"disgusting\", \"disgusting\", \"disgusting\", \"disgusting\", \"doctor\", \"doctor\", \"doctor\", \"doctor\", \"doctor\", \"dog\", \"dog\", \"dog\", \"dog\", \"dog\", \"dollar\", \"dollar\", \"dollar\", \"dollar\", \"dollar\", \"door\", \"door\", \"door\", \"door\", \"door\", \"doubt\", \"doubt\", \"doubt\", \"dunno\", \"dunno\", \"dunno\", \"early\", \"early\", \"eat\", \"eat\", \"eat\", \"eat\", \"eat\", \"elaine\", \"elaine\", \"elaine\", \"elaine\", \"elaine\", \"even\", \"even\", \"even\", \"even\", \"even\", \"exact\", \"exact\", \"exact\", \"except\", \"except\", \"except\", \"exciting\", \"exciting\", \"exciting\", \"excuse\", \"excuse\", \"excuse\", \"excuse\", \"excuse\", \"expect\", \"expect\", \"expect\", \"expensive\", \"expensive\", \"fabulous\", \"fabulous\", \"fabulous\", \"fabulous\", \"fair\", \"fair\", \"fair\", \"fair\", \"fake\", \"fake\", \"fake\", \"fake\", \"feel\", \"feel\", \"feel\", \"feel\", \"feel\", \"fight\", \"fight\", \"fight\", \"fight\", \"fight\", \"find\", \"find\", \"find\", \"find\", \"find\", \"fine\", \"fine\", \"fine\", \"fine\", \"fine\", \"finger\", \"finger\", \"finger\", \"finger\", \"finger\", \"first\", \"first\", \"first\", \"first\", \"first\", \"fish\", \"fish\", \"fish\", \"fish\", \"flip\", \"flip\", \"flip\", \"free\", \"free\", \"free\", \"free\", \"free\", \"friend\", \"friend\", \"friend\", \"friend\", \"friend\", \"frustrated\", \"frustrated\", \"frustrated\", \"fun\", \"fun\", \"fun\", \"fun\", \"fun\", \"funeral\", \"funeral\", \"funeral\", \"funeral\", \"funny\", \"funny\", \"funny\", \"funny\", \"funny\", \"george\", \"george\", \"george\", \"george\", \"george\", \"give\", \"give\", \"give\", \"give\", \"give\", \"glass\", \"glass\", \"glass\", \"glass\", \"glass\", \"god\", \"god\", \"god\", \"god\", \"god\", \"great\", \"great\", \"great\", \"great\", \"great\", \"group\", \"group\", \"group\", \"group\", \"gun\", \"gun\", \"gun\", \"gun\", \"gut\", \"gut\", \"gut\", \"guy\", \"guy\", \"guy\", \"guy\", \"guy\", \"hand\", \"hand\", \"hand\", \"hand\", \"hand\", \"happen\", \"happen\", \"happen\", \"happen\", \"happen\", \"hear\", \"hear\", \"hear\", \"hear\", \"hear\", \"heart\", \"heart\", \"heart\", \"heart\", \"hip\", \"hip\", \"hip\", \"hip\", \"hip\", \"hook\", \"hook\", \"hook\", \"hospital\", \"hospital\", \"hospital\", \"hospital\", \"hot\", \"hot\", \"hot\", \"hot\", \"hot\", \"hurry\", \"hurry\", \"hurry\", \"hurry\", \"idea\", \"idea\", \"idea\", \"idea\", \"idea\", \"ignore\", \"ignore\", \"iim\", \"iim\", \"iim\", \"indicate\", \"indicate\", \"indicate\", \"indicate\", \"instead\", \"instead\", \"instead\", \"interrupt\", \"interrupt\", \"interrupt\", \"interrupt\", \"interview\", \"interview\", \"interview\", \"interview\", \"jerk\", \"jerk\", \"key\", \"key\", \"key\", \"key\", \"key\", \"kid\", \"kid\", \"kid\", \"kid\", \"kid\", \"kitchen\", \"kitchen\", \"kitchen\", \"kitchen\", \"kitchen\", \"kramer\", \"kramer\", \"kramer\", \"kramer\", \"kramer\", \"laugh\", \"laugh\", \"laugh\", \"laugh\", \"laugh\", \"laughter\", \"laughter\", \"laughter\", \"laundry\", \"laundry\", \"laundry\", \"learn\", \"learn\", \"leave\", \"leave\", \"leave\", \"leave\", \"leave\", \"left\", \"left\", \"left\", \"less\", \"less\", \"less\", \"letter\", \"letter\", \"letter\", \"listen\", \"listen\", \"listen\", \"listen\", \"listen\", \"little\", \"little\", \"little\", \"little\", \"little\", \"live\", \"live\", \"live\", \"live\", \"live\", \"lock\", \"lock\", \"lock\", \"lock\", \"lock\", \"love\", \"love\", \"love\", \"love\", \"love\", \"lovely\", \"lovely\", \"lovely\", \"low\", \"low\", \"low\", \"low\", \"low\", \"luck\", \"luck\", \"lunch\", \"lunch\", \"lunch\", \"lunch\", \"lunch\", \"machine\", \"machine\", \"machine\", \"machine\", \"machine\", \"man\", \"man\", \"man\", \"man\", \"man\", \"married\", \"married\", \"married\", \"marry\", \"marry\", \"marry\", \"marry\", \"marry\", \"maybe\", \"maybe\", \"maybe\", \"maybe\", \"maybe\", \"mean\", \"mean\", \"mean\", \"mean\", \"mean\", \"message\", \"message\", \"message\", \"message\", \"message\", \"middle\", \"middle\", \"middle\", \"middle\", \"middle\", \"might\", \"might\", \"might\", \"might\", \"might\", \"minute\", \"minute\", \"minute\", \"minute\", \"minute\", \"moment\", \"moment\", \"moment\", \"moment\", \"mother\", \"mother\", \"mother\", \"mother\", \"mother\", \"move\", \"move\", \"move\", \"move\", \"move\", \"much\", \"much\", \"much\", \"much\", \"much\", \"mutter\", \"mutter\", \"naked\", \"naked\", \"naked\", \"naked\", \"naked\", \"name\", \"name\", \"name\", \"name\", \"name\", \"napkin\", \"napkin\", \"need\", \"need\", \"need\", \"need\", \"need\", \"never\", \"never\", \"never\", \"never\", \"never\", \"newspaper\", \"newspaper\", \"newspaper\", \"nice\", \"nice\", \"nice\", \"nice\", \"nice\", \"night\", \"night\", \"night\", \"night\", \"night\", \"nod\", \"nod\", \"nod\", \"nod\", \"nod\", \"nose\", \"nose\", \"nose\", \"nose\", \"nose\", \"note\", \"note\", \"note\", \"note\", \"note\", \"nothing\", \"nothing\", \"nothing\", \"nothing\", \"nothing\", \"pack\", \"pack\", \"pack\", \"parent\", \"parent\", \"parent\", \"parent\", \"parent\", \"park\", \"park\", \"park\", \"park\", \"park\", \"pause\", \"pause\", \"pause\", \"pause\", \"pause\", \"people\", \"people\", \"people\", \"people\", \"people\", \"photo\", \"photo\", \"photo\", \"pick\", \"pick\", \"pick\", \"pick\", \"pick\", \"place\", \"place\", \"place\", \"place\", \"place\", \"plan\", \"plan\", \"plan\", \"plan\", \"plan\", \"plane\", \"plane\", \"plane\", \"plane\", \"plane\", \"player\", \"player\", \"player\", \"player\", \"plead\", \"plead\", \"plead\", \"plenty\", \"plenty\", \"point\", \"point\", \"point\", \"point\", \"point\", \"police\", \"police\", \"police\", \"pop\", \"pop\", \"pop\", \"pop\", \"possible\", \"possible\", \"possible\", \"possible\", \"possibly\", \"possibly\", \"possibly\", \"present\", \"present\", \"present\", \"present\", \"present\", \"prove\", \"prove\", \"prove\", \"prove\", \"pull\", \"pull\", \"pull\", \"pull\", \"pull\", \"queen\", \"queen\", \"queen\", \"queen\", \"question\", \"question\", \"question\", \"question\", \"question\", \"quiet\", \"quiet\", \"quiet\", \"quit\", \"quit\", \"quit\", \"quit\", \"read\", \"read\", \"read\", \"read\", \"read\", \"ready\", \"ready\", \"ready\", \"ready\", \"ready\", \"regular\", \"regular\", \"regular\", \"remove\", \"remove\", \"remove\", \"rest\", \"rest\", \"rest\", \"rest\", \"salad\", \"salad\", \"salad\", \"salad\", \"salad\", \"scared\", \"scared\", \"scared\", \"score\", \"score\", \"score\", \"score\", \"second\", \"second\", \"second\", \"second\", \"second\", \"sell\", \"sell\", \"sell\", \"sell\", \"sell\", \"serious\", \"serious\", \"serious\", \"serious\", \"seven\", \"seven\", \"seven\", \"seven\", \"seventyfive\", \"seventyfive\", \"seventyfive\", \"sex\", \"sex\", \"sex\", \"sex\", \"sex\", \"shed\", \"shed\", \"shed\", \"shoot\", \"shoot\", \"shoot\", \"shoot\", \"shout\", \"shout\", \"shout\", \"shout\", \"shout\", \"show\", \"show\", \"show\", \"show\", \"show\", \"six\", \"six\", \"six\", \"six\", \"six\", \"smart\", \"smart\", \"smart\", \"smile\", \"smile\", \"smile\", \"smile\", \"smile\", \"soda\", \"soda\", \"soda\", \"soda\", \"someone\", \"someone\", \"someone\", \"someone\", \"someone\", \"something\", \"something\", \"something\", \"something\", \"something\", \"sorry\", \"sorry\", \"sorry\", \"sorry\", \"sorry\", \"sort\", \"sort\", \"sort\", \"sort\", \"sort\", \"speak\", \"speak\", \"speak\", \"speak\", \"speak\", \"sport\", \"sport\", \"sport\", \"sport\", \"spot\", \"spot\", \"spot\", \"spot\", \"start\", \"start\", \"start\", \"start\", \"start\", \"step\", \"step\", \"step\", \"step\", \"step\", \"stomach\", \"stomach\", \"stomach\", \"stop\", \"stop\", \"stop\", \"stop\", \"stop\", \"story\", \"story\", \"story\", \"story\", \"story\", \"super\", \"super\", \"super\", \"super\", \"superman\", \"superman\", \"superman\", \"sure\", \"sure\", \"sure\", \"sure\", \"sure\", \"susan\", \"susan\", \"susan\", \"susan\", \"susan\", \"sweater\", \"sweater\", \"sweater\", \"sweetheart\", \"sweetheart\", \"sweetheart\", \"switch\", \"switch\", \"switch\", \"system\", \"system\", \"talk\", \"talk\", \"talk\", \"talk\", \"talk\", \"tape\", \"tape\", \"tape\", \"tape\", \"test\", \"test\", \"test\", \"test\", \"test\", \"thank\", \"thank\", \"thank\", \"thank\", \"thank\", \"thinkin\", \"thinkin\", \"thinkin\", \"thinkin\", \"throat\", \"throat\", \"throat\", \"time\", \"time\", \"time\", \"time\", \"time\", \"toe\", \"toe\", \"toe\", \"top\", \"top\", \"top\", \"top\", \"top\", \"towards\", \"towards\", \"town\", \"town\", \"town\", \"town\", \"town\", \"traffic\", \"traffic\", \"traffic\", \"traffic\", \"truth\", \"truth\", \"truth\", \"truth\", \"try\", \"try\", \"try\", \"try\", \"try\", \"vacation\", \"vacation\", \"vacation\", \"vandelay\", \"vandelay\", \"vandelay\", \"vandelay\", \"voice\", \"voice\", \"voice\", \"voice\", \"voice\", \"wait\", \"wait\", \"wait\", \"wait\", \"wait\", \"walk\", \"walk\", \"walk\", \"walk\", \"walk\", \"wear\", \"wear\", \"wear\", \"wear\", \"wear\", \"whisper\", \"whisper\", \"whisper\", \"white\", \"white\", \"white\", \"woah\", \"woah\", \"woah\", \"woman\", \"woman\", \"woman\", \"woman\", \"woman\", \"work\", \"work\", \"work\", \"work\", \"work\", \"yankee\", \"yankee\", \"yankee\", \"yankee\", \"yankee\", \"yes\", \"yes\", \"yes\", \"yes\", \"yes\", \"yknow\", \"yknow\", \"yknow\", \"york\", \"york\", \"york\", \"york\", \"york\"]}, \"R\": 30, \"lambda.step\": 0.01, \"plot.opts\": {\"xlab\": \"PC1\", \"ylab\": \"PC2\"}, \"topic.order\": [4, 5, 3, 1, 2]};\n",
       "\n",
       "function LDAvis_load_lib(url, callback){\n",
       "  var s = document.createElement('script');\n",
       "  s.src = url;\n",
       "  s.async = true;\n",
       "  s.onreadystatechange = s.onload = callback;\n",
       "  s.onerror = function(){console.warn(\"failed to load library \" + url);};\n",
       "  document.getElementsByTagName(\"head\")[0].appendChild(s);\n",
       "}\n",
       "\n",
       "if(typeof(LDAvis) !== \"undefined\"){\n",
       "   // already loaded: just create the visualization\n",
       "   !function(LDAvis){\n",
       "       new LDAvis(\"#\" + \"ldavis_el290611402825844125607313560287\", ldavis_el290611402825844125607313560287_data);\n",
       "   }(LDAvis);\n",
       "}else if(typeof define === \"function\" && define.amd){\n",
       "   // require.js is available: use it to load d3/LDAvis\n",
       "   require.config({paths: {d3: \"https://d3js.org/d3.v5\"}});\n",
       "   require([\"d3\"], function(d3){\n",
       "      window.d3 = d3;\n",
       "      LDAvis_load_lib(\"https://cdn.jsdelivr.net/gh/bmabey/pyLDAvis@3.2.2/pyLDAvis/js/ldavis.v3.0.0.js\", function(){\n",
       "        new LDAvis(\"#\" + \"ldavis_el290611402825844125607313560287\", ldavis_el290611402825844125607313560287_data);\n",
       "      });\n",
       "    });\n",
       "}else{\n",
       "    // require.js not available: dynamically load d3 & LDAvis\n",
       "    LDAvis_load_lib(\"https://d3js.org/d3.v5.js\", function(){\n",
       "         LDAvis_load_lib(\"https://cdn.jsdelivr.net/gh/bmabey/pyLDAvis@3.2.2/pyLDAvis/js/ldavis.v3.0.0.js\", function(){\n",
       "                 new LDAvis(\"#\" + \"ldavis_el290611402825844125607313560287\", ldavis_el290611402825844125607313560287_data);\n",
       "            })\n",
       "         });\n",
       "}\n",
       "</script>"
      ],
      "text/plain": [
       "<IPython.core.display.HTML object>"
      ]
     },
     "execution_count": 869,
     "metadata": {},
     "output_type": "execute_result"
    }
   ],
   "source": [
    "pyLDAvis.display(vis_data)"
   ]
  },
  {
   "cell_type": "code",
   "execution_count": null,
   "metadata": {},
   "outputs": [],
   "source": []
  }
 ],
 "metadata": {
  "kernelspec": {
   "display_name": "Python 3",
   "language": "python",
   "name": "python3"
  },
  "language_info": {
   "codemirror_mode": {
    "name": "ipython",
    "version": 3
   },
   "file_extension": ".py",
   "mimetype": "text/x-python",
   "name": "python",
   "nbconvert_exporter": "python",
   "pygments_lexer": "ipython3",
   "version": "3.8.5"
  }
 },
 "nbformat": 4,
 "nbformat_minor": 4
}
