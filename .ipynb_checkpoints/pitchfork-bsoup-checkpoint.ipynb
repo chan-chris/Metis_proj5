{
 "cells": [
  {
   "cell_type": "code",
   "execution_count": 1,
   "metadata": {},
   "outputs": [
    {
     "name": "stdout",
     "output_type": "stream",
     "text": [
      "User-agent: *\n",
      "Allow: /\n",
      "Disallow: /search/\n",
      "Disallow: /search\n",
      "\n",
      "Sitemap: https://pitchfork.com/sitemap.xml\n",
      "Sitemap: https://pitchfork.com/branded-sitemap.xml\n",
      "Sitemap: https://pitchfork.com/feed/google-latest-news/sitemap-google-news\n",
      "Sitemap: https://pitchfork.com/feed/sitemap\n"
     ]
    }
   ],
   "source": [
    "import requests\n",
    "\n",
    "url = 'http://www.pitchfork.com/robots.txt'\n",
    "response  = requests.get(url)\n",
    "print(response.text)"
   ]
  },
  {
   "cell_type": "code",
   "execution_count": 57,
   "metadata": {},
   "outputs": [
    {
     "name": "stdout",
     "output_type": "stream",
     "text": [
      "<Response [200]>\n"
     ]
    }
   ],
   "source": [
    "test = requests.get(\"https://pitchfork.com/reviews/albums/?page=2\")\n",
    "print(test)"
   ]
  },
  {
   "cell_type": "code",
   "execution_count": 78,
   "metadata": {},
   "outputs": [
    {
     "name": "stdout",
     "output_type": "stream",
     "text": [
      "Mozilla/5.0 (Macintosh; Intel Mac OS X 10_8_4) AppleWebKit/537.36 (KHTML, like Gecko) Chrome/49.0.2656.18 Safari/537.36\n"
     ]
    }
   ],
   "source": [
    "import numpy as np\n",
    "import pandas as pd\n",
    "\n",
    "import requests\n",
    "from bs4 import BeautifulSoup\n",
    "\n",
    "## allows us to use reg expressions to search fields\n",
    "import re\n",
    "\n",
    "from selenium import webdriver\n",
    "from selenium.webdriver.support.ui import WebDriverWait\n",
    "from selenium.webdriver.common.keys import Keys\n",
    "from selenium.webdriver.common.by import By\n",
    "\n",
    "from selenium.webdriver.support import expected_conditions as EC\n",
    "\n",
    "import random\n",
    "import time\n",
    "import csv\n",
    "import os\n",
    "\n",
    "chromedriver = \"/Applications/chromedriver\" # path to the chromedriver executable\n",
    "os.environ[\"webdriver.chrome.driver\"] = chromedriver\n",
    "\n",
    "# user agent\n",
    "from selenium.webdriver.chrome.options import Options\n",
    "from fake_useragent import UserAgent\n",
    "\n",
    "options = Options()\n",
    "ua = UserAgent()\n",
    "userAgent = ua.random\n",
    "print(userAgent)\n",
    "options.add_argument(f'user-agent={userAgent}')\n"
   ]
  },
  {
   "cell_type": "markdown",
   "metadata": {},
   "source": [
    "### II. Selenium to scrape album contents"
   ]
  },
  {
   "cell_type": "code",
   "execution_count": 82,
   "metadata": {},
   "outputs": [],
   "source": [
    "# -*- coding: utf-8 -*-\n",
    "\"\"\"\n",
    "Created on Sun Dec  3 20:13:09 2017\n",
    "@author: Evan\n",
    "\"\"\"\n",
    "import requests \n",
    "from bs4 import BeautifulSoup\n",
    "import pandas as pd\n",
    "\n",
    "# driver = webdriver.Chrome(chromedriver,chrome_options=options)\n",
    "\n",
    "# #_url = \"https://www.discogs.com/sell/list?sort=price%2Cdesc&limit=100&year1=1900&year2=1970&format=Vinyl&price=over40&genre=Jazz&currency=USD&style=Hard+Bop&page=\"\n",
    "# # not just bebop\n",
    "# _url = \"https://pitchfork.com/reviews/albums/?genre=jazz/\"\n",
    "# url= _url + str(pagestart) \n",
    "\n",
    "# # starting url\n",
    "# driver.get(url)\n",
    "\n",
    "\n",
    "'''\n",
    "This function parses the HTML of the page and attempts to gather attributes like\n",
    "artist name, album, genre, date, and the review text itself, instead inputting a\n",
    "null value if the requested element is not found on the page. All of the data are\n",
    "put into a Pandas dataframe and returned for use in the gather function.\n",
    "VARIABLES\n",
    "album_link - A string that refers to the album section of a link to a Pitchfork \n",
    "review.\n",
    "e.g. '/reviews/albums/neil-young-promise-of-the-real-visitor/'\n",
    "'''\n",
    "def gather_info(album_link):\n",
    "    #page = requests.get(\"https://pitchfork.com\" + album_link) #request URL\n",
    "    page = requests.get(\"https://pitchfork.com\" + album_link) #request URL\n",
    "    soup = BeautifulSoup(page.content, 'html.parser') #parse with beautifulsoup\n",
    "    title = str(soup.find('title').string) #album and artist \n",
    "    try:\n",
    "        score = float((soup.find(class_=\"score\").string)) #score\n",
    "    except AttributeError:\n",
    "        score = None\n",
    "    try:\n",
    "        genre = soup.find(class_=\"genre-list__link\").string #genre\n",
    "    except AttributeError:\n",
    "        genre = None\n",
    "    sents = [element.text for element in soup.find_all('p')] #cleaned text output\n",
    "    string = \" \".join(sents)\n",
    "    try:\n",
    "        date = str(soup.find(class_=\"pub-date\").string) #date\n",
    "    except AttributeError:\n",
    "        date = None\n",
    "    #create dataframe with column labels\n",
    "    d = {'artist': [get_artist(title)], 'album': [get_album(title)], 'score': [score], 'genre': [genre], 'review': [string], 'best': [1 if \"Best new\" in string else 0], 'date': [date]}\n",
    "    df = pd.DataFrame(data=d)\n",
    "    return df\n"
   ]
  },
  {
   "cell_type": "code",
   "execution_count": 86,
   "metadata": {},
   "outputs": [],
   "source": [
    "'''\n",
    "This function starts at Pitchfork's album reviews page and searches through a\n",
    "requested number of pages from a given start page, adding each album link to the\n",
    "queue to be scraped by the gather_info function and returning them in a list.\n",
    "VARIABLES\n",
    "pages, startPage - Integers that refer to the number of pages to scrape and the\n",
    "page to start on, respectively, while scraping through Pitchfork's album reviews\n",
    "page.\n",
    ". \n",
    "'''\n",
    "def gather_links(pages, startPage):\n",
    "    pageList = [] #list of album review pages\n",
    "    linkList = [] #list of album links\n",
    "    \n",
    "    for x in range(startPage,(startPage+pages)): #check the first n pages after the requested one\n",
    "        #pageList.append(requests.get(\"https://pitchfork.com/reviews/albums/?genre=jazz&page=\" + str(x))) #add each page to list\n",
    "        pageList.append(requests.get(\"https://pitchfork.com/reviews/albums/?genre=jazz&page=\" + str(x))) #add each page to list\n",
    "        print('x',x,'pagelist',pageList)\n",
    "    for page in pageList:\n",
    "        print('page',page)\n",
    "        soup = BeautifulSoup(page.content, 'html.parser') #parse its contents\n",
    "        #print(soup)\n",
    "        links = soup.find_all(class_=\"review__link\") #gather its links (in raw html)\n",
    "        print('links',links)\n",
    "        for link in links: #for each link\n",
    "            linkList.append(link.get('href')) #append only the link itself\n",
    "        \n",
    "    return linkList\n"
   ]
  },
  {
   "cell_type": "code",
   "execution_count": 87,
   "metadata": {},
   "outputs": [],
   "source": [
    "'''\n",
    "This function retreives the artist name from the scraped title string.\n",
    "VARIABLES\n",
    "title - A string of a cleaned Pitchfork album review title.\n",
    "'''\n",
    "def get_artist(title):\n",
    "    str = ''\n",
    "    for character in title: #for each character in title\n",
    "        #add to string up until ':' \n",
    "        #if character is not ':':\n",
    "        if character != ':':\n",
    "            str += character\n",
    "        else:\n",
    "            break\n",
    "    return str\n"
   ]
  },
  {
   "cell_type": "code",
   "execution_count": 88,
   "metadata": {},
   "outputs": [],
   "source": [
    "'''\n",
    "This function retreives the album name from the scraped title string.\n",
    "VARIABLES\n",
    "title - A string of a cleaned Pitchfork album review title.\n",
    "'''          \n",
    "def get_album(title):\n",
    "    str = ''\n",
    "    #find ':' and index and start there\n",
    "    index = title.find(\":\")\n",
    "    title = title[index+2:]\n",
    "    #for each character afterwards, add it until '|'\n",
    "    for character in title:\n",
    "        #if character is '|':\n",
    "        if character == '|':\n",
    "            break\n",
    "        else:\n",
    "            str +=character\n",
    "    return str[:-14] #return just the title\n",
    "\n"
   ]
  },
  {
   "cell_type": "code",
   "execution_count": 89,
   "metadata": {},
   "outputs": [],
   "source": [
    "'''\n",
    "This function uses the other two to gather the requested number of pages starting\n",
    "from a given page, then adding them all into a single Pandas dataframe, which\n",
    "is then exported to a CSV file in the given location of the user's desktop.\n",
    "VARIABLES\n",
    "pages, startPages - Integers that refer to the number of pages to scrape and the\n",
    "page to start on, respectively, while scraping through Pitchfork's album reviews\n",
    "page.\n",
    "fileLocation - A string that gives a path in the user's desktop where the data\n",
    "should be saved. \n",
    "e.g. 'C:/Users/Evan/Documents'\n",
    "fileName - A string that gives the desired name of the .csv file. \n",
    "e.g. 'p4kReview'\n",
    "'''\n",
    "def gather(pages, startPage, fileLocation, fileName):\n",
    "    linkList = gather_links(pages, startPage) #gather links\n",
    "    #print(linkList)\n",
    "    first = True #special variable for first scrape\n",
    "    newDF = pd.DataFrame()\n",
    "#     global data\n",
    "#     data=0\n",
    "    for link in linkList: #for each link        \n",
    "        \n",
    "        data = gather_info(link) #gather info\n",
    "        #if first, newDF becomes the initial dataframe\n",
    "        if first:\n",
    "            newDF = data\n",
    "            first = False\n",
    "        #otherwise append it\n",
    "        else:\n",
    "            newDF = newDF.append(data, ignore_index = True)\n",
    "    #when scraping complete, export to .csv \n",
    "    data.to_csv(path_or_buf = fileLocation + \"/\" + fileName + \".csv\")\n",
    "    #return true if gather was successful\n",
    "    return True"
   ]
  },
  {
   "cell_type": "code",
   "execution_count": 92,
   "metadata": {},
   "outputs": [
    {
     "name": "stdout",
     "output_type": "stream",
     "text": [
      "page <Response [200]>\n",
      "links [<a class=\"review__link\" href=\"/reviews/albums/jyoti-mama-you-can-bet/\"><div class=\"review__artwork artwork\"><div class=\"review__artwork--with-notch\"><img alt=\"Image may contain: Human, Person, Advertisement, Poster, Hair, Brochure, Paper, and Flyer\" src=\"https://media.pitchfork.com/photos/5f4e5f8224167c1baabf781d/1:1/w_160/Mama,%20You%20Can%20Bet!_jyoti.jpg\"/></div></div><div class=\"review__title\"><ul class=\"artist-list review__title-artist\"><li>Jyoti</li></ul><h2 class=\"review__title-album\">Mama, You Can Bet!</h2></div></a>, <a class=\"review__link\" href=\"/reviews/albums/nubya-garcia-source/\"><div class=\"review__artwork artwork\"><div class=\"review__artwork--with-notch\"><img alt=\"Image may contain: Modern Art, Art, Skin, and Painting\" src=\"https://media.pitchfork.com/photos/5f43d022f6eb11025fede8d4/1:1/w_160/source_nubya%20garcia.jpg\"/></div></div><div class=\"review__title\"><ul class=\"artist-list review__title-artist\"><li>Nubya Garcia</li></ul><h2 class=\"review__title-album\">Source</h2></div></a>, <a class=\"review__link\" href=\"/reviews/albums/carlos-nino-and-friends-actual-presence/\"><div class=\"review__artwork artwork\"><div class=\"\"><img alt=\"\" src=\"https://media.pitchfork.com/photos/5f2830eb97c3394bd82870df/1:1/w_160/actual%20presence_carlos%20nino%20&amp;%20friends.jpg\"/></div></div><div class=\"review__title\"><ul class=\"artist-list review__title-artist\"><li>Carlos Niño &amp; Friends</li></ul><h2 class=\"review__title-album\">Actual Presence</h2></div></a>, <a class=\"review__link\" href=\"/reviews/albums/boldy-james-sterling-toles-manger-on-mcnichols/\"><div class=\"review__artwork artwork\"><div class=\"\"><img alt=\"Manger on McNichols\" src=\"https://media.pitchfork.com/photos/5f188c068fd5732600c34009/1:1/w_160/Boldy-James-Sterling-Toles-Manger-on-McNichols.jpg\"/></div></div><div class=\"review__title\"><ul class=\"artist-list review__title-artist\"><li>Boldy James</li><li>Sterling Toles</li></ul><h2 class=\"review__title-album\">Manger on McNichols</h2></div></a>, <a class=\"review__link\" href=\"/reviews/albums/kamaal-williams-wu-hen/\"><div class=\"review__artwork artwork\"><div class=\"\"><img alt=\"Image may contain: Outdoors, and Nature\" src=\"https://media.pitchfork.com/photos/5f10bbae220f3dd395f73ba8/1:1/w_160/Wu%20Hen_Kamaal%20Williams.jpg\"/></div></div><div class=\"review__title\"><ul class=\"artist-list review__title-artist\"><li>Kamaal Williams</li></ul><h2 class=\"review__title-album\">Wu Hen</h2></div></a>, <a class=\"review__link\" href=\"/reviews/albums/oneness-of-juju-african-rhythms-1970-1982/\"><div class=\"review__artwork artwork\"><div class=\"review__artwork--with-notch\"><img alt=\"\" src=\"https://media.pitchfork.com/photos/5f0df82a100081be06438995/1:1/w_160/African%20Rhythms%201970-82_Oneness%20of%20JuJu.jpg\"/></div></div><div class=\"review__title\"><ul class=\"artist-list review__title-artist\"><li>Oneness of Juju</li></ul><h2 class=\"review__title-album\">African Rhythms 1970-1982</h2></div></a>, <a class=\"review__link\" href=\"/reviews/albums/asher-gamedze-dialectic-soul/\"><div class=\"review__artwork artwork\"><div class=\"\"><img alt=\"\" src=\"https://media.pitchfork.com/photos/5f0c76af763b970f286312c1/1:1/w_160/dialectic%20soul_asher%20gamedze.jpg\"/></div></div><div class=\"review__title\"><ul class=\"artist-list review__title-artist\"><li>Asher Gamedze</li></ul><h2 class=\"review__title-album\">Dialectic Soul</h2></div></a>, <a class=\"review__link\" href=\"/reviews/albums/greg-foat-symphonie-pacifique/\"><div class=\"review__artwork artwork\"><div class=\"\"><img alt=\"\" src=\"https://media.pitchfork.com/photos/5f029af7464fe661509ab35e/1:1/w_160/Symphonie%20Pacifique_Greg%20Foat.jpg\"/></div></div><div class=\"review__title\"><ul class=\"artist-list review__title-artist\"><li>Greg Foat</li></ul><h2 class=\"review__title-album\">Symphonie Pacifique</h2></div></a>, <a class=\"review__link\" href=\"/reviews/albums/albert-ayler-new-grass/\"><div class=\"review__artwork artwork\"><div class=\"review__artwork--with-notch\"><img alt=\"\" src=\"https://media.pitchfork.com/photos/5efa1711f3cd35af1ec2e697/1:1/w_160/New%20Grass_Albert%20Ayler.jpg\"/></div></div><div class=\"review__title\"><ul class=\"artist-list review__title-artist\"><li>Albert Ayler</li></ul><h2 class=\"review__title-album\">New Grass</h2></div></a>, <a class=\"review__link\" href=\"/reviews/albums/quin-kirchner-the-shadows-and-the-light/\"><div class=\"review__artwork artwork\"><div class=\"\"><img alt=\"\" src=\"https://media.pitchfork.com/photos/5ef620dc8813ffa92664e873/1:1/w_160/The%20Shadows%20and%20the%20Light_Quin%20Kirchner.jpg\"/></div></div><div class=\"review__title\"><ul class=\"artist-list review__title-artist\"><li>Quin Kirchner</li></ul><h2 class=\"review__title-album\">The Shadows and the Light</h2></div></a>, <a class=\"review__link\" href=\"/reviews/albums/roy-ayers-adrian-younge-ali-shaheed-roy-ayers-jid-002/\"><div class=\"review__artwork artwork\"><div class=\"\"><img alt=\"\" src=\"https://media.pitchfork.com/photos/5ee909eea9d0807aa5683765/1:1/w_160/Roy%20Ayers%20JID%20002_Adrian%20Younge,%20Ali%20Shaheed%20Muhammad%20&amp;%20Roy%20Ayers.jpg\"/></div></div><div class=\"review__title\"><ul class=\"artist-list review__title-artist\"><li>Roy Ayers</li><li>Adrian Younge</li><li>Ali Shaheed Muhammad</li></ul><h2 class=\"review__title-album\">Roy Ayers JID 002</h2></div></a>, <a class=\"review__link\" href=\"/reviews/albums/ambrose-akinmusire-on-the-tender-spot-of-every-calloused-moment/\"><div class=\"review__artwork artwork\"><div class=\"\"><img alt=\"\" src=\"https://media.pitchfork.com/photos/5ee90263ca5f171c3b76ffb5/1:1/w_160/on%20the%20tender%20spot%20of%20every%20calloused%20moment%20_Ambrose%20Akinmusire.jpg\"/></div></div><div class=\"review__title\"><ul class=\"artist-list review__title-artist\"><li>Ambrose Akinmusire</li></ul><h2 class=\"review__title-album\">on the tender spot of every calloused moment</h2></div></a>]\n",
      "page <Response [200]>\n",
      "links [<a class=\"review__link\" href=\"/reviews/albums/kassa-overall-shades-of-flu-healthy-remixes-for-an-ill-moment/\"><div class=\"review__artwork artwork\"><div class=\"\"><img alt=\"Image may contain: Human, Person, Sport, Sports, Exercise, and Working Out\" src=\"https://media.pitchfork.com/photos/5ede56e49bcc962f72cc0d26/1:1/w_160/SHADES%20OF%20FLU_Kassa%20Overall.jpg\"/></div></div><div class=\"review__title\"><ul class=\"artist-list review__title-artist\"><li>Kassa Overall</li></ul><h2 class=\"review__title-album\">Shades of Flu: Healthy Remixes For an Ill Moment</h2></div></a>, <a class=\"review__link\" href=\"/reviews/albums/kamasi-washington-becoming-music-from-the-netflix-original-documentary/\"><div class=\"review__artwork artwork\"><div class=\"\"><img alt=\"Image may contain: Human, Person, Advertisement, Poster, Flyer, Brochure, Paper, Rashad Jennings, and Kaci Kullmann Five\" src=\"https://media.pitchfork.com/photos/5ebeada78b87698b3b0ba32b/1:1/w_160/Becoming_Kamasi%20Washington.jpg\"/></div></div><div class=\"review__title\"><ul class=\"artist-list review__title-artist\"><li>Kamasi Washington</li></ul><h2 class=\"review__title-album\">Becoming (Music From the Netflix Original Documentary)</h2></div></a>, <a class=\"review__link\" href=\"/reviews/albums/okkyung-lee-yeo-neun/\"><div class=\"review__artwork artwork\"><div class=\"\"><img alt=\"\" src=\"https://media.pitchfork.com/photos/5eb58190e5423e84f420e610/1:1/w_160/Yeo%E2%80%8B-%E2%80%8BNeun_Okkyung%20Lee.jpg\"/></div></div><div class=\"review__title\"><ul class=\"artist-list review__title-artist\"><li>Okkyung Lee</li></ul><h2 class=\"review__title-album\">Yeo​-​Neun</h2></div></a>, <a class=\"review__link\" href=\"/reviews/albums/archie-shepp-attica-blues/\"><div class=\"review__artwork artwork\"><div class=\"\"><img alt=\"\" src=\"https://media.pitchfork.com/photos/5eb1e1953707e26f99351b5a/1:1/w_160/Attica%20Blues_Archie%20Shepp.jpg\"/></div></div><div class=\"review__title\"><ul class=\"artist-list review__title-artist\"><li>Archie Shepp</li></ul><h2 class=\"review__title-album\">Attica Blues</h2></div></a>, <a class=\"review__link\" href=\"/reviews/albums/sven-wunder-eastern-flowers/\"><div class=\"review__artwork artwork\"><div class=\"\"><img alt=\"\" src=\"https://media.pitchfork.com/photos/5eb18fd17a1620531f133755/1:1/w_160/Eastern%20Flowers_Sven%20Wunder.jpg\"/></div></div><div class=\"review__title\"><ul class=\"artist-list review__title-artist\"><li>Sven Wunder</li></ul><h2 class=\"review__title-album\">Eastern Flowers</h2></div></a>, <a class=\"review__link\" href=\"/reviews/albums/tom-misch-yussef-dayes-what-kinda-music/\"><div class=\"review__artwork artwork\"><div class=\"\"><img alt=\"\" src=\"https://media.pitchfork.com/photos/5ea205f03577a40009ece414/1:1/w_160/What%20Kinda%20Music_Tom%20Misch%20and%20Yussef%20Dayes.jpg\"/></div></div><div class=\"review__title\"><ul class=\"artist-list review__title-artist\"><li>Tom Misch</li><li>Yussef Dayes</li></ul><h2 class=\"review__title-album\">What Kinda Music</h2></div></a>, <a class=\"review__link\" href=\"/reviews/albums/john-carroll-kirby-my-garden/\"><div class=\"review__artwork artwork\"><div class=\"\"><img alt=\"\" src=\"https://media.pitchfork.com/photos/5ea1b518f1e7bf00092972c0/1:1/w_160/My%20Garden_John%20Carroll%20Kirby.jpg\"/></div></div><div class=\"review__title\"><ul class=\"artist-list review__title-artist\"><li>John Carroll Kirby</li></ul><h2 class=\"review__title-album\">My Garden</h2></div></a>, <a class=\"review__link\" href=\"/reviews/albums/pharoah-sanders-live-in-paris-1975/\"><div class=\"review__artwork artwork\"><div class=\"review__artwork--with-notch\"><img alt=\"\" src=\"https://media.pitchfork.com/photos/5e909b2385f3a70008b09d24/1:1/w_160/liveinparis.jpg\"/></div></div><div class=\"review__title\"><ul class=\"artist-list review__title-artist\"><li>Pharoah Sanders</li></ul><h2 class=\"review__title-album\">Live in Paris (1975)</h2></div></a>, <a class=\"review__link\" href=\"/reviews/albums/nina-simone-fodder-on-my-wings/\"><div class=\"review__artwork artwork\"><div class=\"review__artwork--with-notch\"><img alt=\"\" src=\"https://media.pitchfork.com/photos/5e8c97a1ecfafc0008428b22/1:1/w_160/Fodder%20On%20My%20Wings_Nina%20Simone.jpg\"/></div></div><div class=\"review__title\"><ul class=\"artist-list review__title-artist\"><li>Nina Simone</li></ul><h2 class=\"review__title-album\">Fodder on My Wings</h2></div></a>, <a class=\"review__link\" href=\"/reviews/albums/thundercat-it-is-what-it-is/\"><div class=\"review__artwork artwork\"><div class=\"\"><img alt=\"Image may contain: Human, and Person\" src=\"https://media.pitchfork.com/photos/5e8b38abffd4cb0008aae7e9/1:1/w_160/It%20Is%20What%20It%20Is_Thundercat.jpg\"/></div></div><div class=\"review__title\"><ul class=\"artist-list review__title-artist\"><li>Thundercat</li></ul><h2 class=\"review__title-album\">It Is What It Is</h2></div></a>, <a class=\"review__link\" href=\"/reviews/albums/shabaka-and-the-ancestors-we-are-sent-here-by-history/\"><div class=\"review__artwork artwork\"><div class=\"\"><img alt=\"Image may contain: Nature, and Outdoors\" src=\"https://media.pitchfork.com/photos/5e7284725138f70008053491/1:1/w_160/History_Shabaka%20Ancestors.jpg\"/></div></div><div class=\"review__title\"><ul class=\"artist-list review__title-artist\"><li>Shabaka and the Ancestors</li></ul><h2 class=\"review__title-album\">We Are Sent Here by History</h2></div></a>, <a class=\"review__link\" href=\"/reviews/albums/irreversible-entanglements-who-sent-you/\"><div class=\"review__artwork artwork\"><div class=\"\"><img alt=\"Image may contain: Advertisement, Poster, City, Town, Urban, Building, Metropolis, Human, Person, Brochure, Flyer, and Paper\" src=\"https://media.pitchfork.com/photos/5e7115dc4b101700083a93d7/1:1/w_160/Who%20Sent%20You?_Irreversible%20Entanglements.jpg\"/></div></div><div class=\"review__title\"><ul class=\"artist-list review__title-artist\"><li>Irreversible Entanglements</li></ul><h2 class=\"review__title-album\">Who Sent You?</h2></div></a>]\n"
     ]
    },
    {
     "data": {
      "text/plain": [
       "True"
      ]
     },
     "execution_count": 92,
     "metadata": {},
     "output_type": "execute_result"
    }
   ],
   "source": [
    "gather(2,1,'/Users/chrischan/Documents/02_Class/Metis/bootcamp/githubrepo/Metis_proj5/data','pitchfork_jazz')"
   ]
  },
  {
   "cell_type": "code",
   "execution_count": null,
   "metadata": {},
   "outputs": [],
   "source": []
  }
 ],
 "metadata": {
  "kernelspec": {
   "display_name": "Python 3",
   "language": "python",
   "name": "python3"
  },
  "language_info": {
   "codemirror_mode": {
    "name": "ipython",
    "version": 3
   },
   "file_extension": ".py",
   "mimetype": "text/x-python",
   "name": "python",
   "nbconvert_exporter": "python",
   "pygments_lexer": "ipython3",
   "version": "3.8.5"
  }
 },
 "nbformat": 4,
 "nbformat_minor": 4
}
